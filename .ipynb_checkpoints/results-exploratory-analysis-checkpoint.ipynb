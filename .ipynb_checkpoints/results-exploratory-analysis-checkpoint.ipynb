{
 "cells": [
  {
   "cell_type": "markdown",
   "id": "0cb4dcc5",
   "metadata": {},
   "source": [
    "<h1>Results Table Exploratory Analysis</h1>"
   ]
  },
  {
   "cell_type": "markdown",
   "id": "c368fd38",
   "metadata": {},
   "source": [
    "This notebook is for the purpose of beginning work on analyzing the given Centaur results data. This will involve creating a cleaned table, with just the data needed to compare the accuracy of expert votes against qualifed read votes."
   ]
  },
  {
   "cell_type": "code",
   "execution_count": 1,
   "id": "415ba834",
   "metadata": {},
   "outputs": [],
   "source": [
    "from datascience import *\n",
    "import numpy as np\n",
    "import re"
   ]
  },
  {
   "cell_type": "code",
   "execution_count": 2,
   "id": "23ef8fba",
   "metadata": {},
   "outputs": [
    {
     "data": {
      "text/html": [
       "<table border=\"1\" class=\"dataframe\">\n",
       "    <thead>\n",
       "        <tr>\n",
       "            <th>Case ID</th> <th>Origin</th> <th>Origin Created At</th> <th>Content ID</th> <th>URL</th> <th>Labeling State</th> <th>Series</th> <th>Series Index</th> <th>Patch</th> <th>Qualified Reads</th> <th>Correct Label</th> <th>Majority Label</th> <th>Difficulty</th> <th>Agreement</th> <th>First Choice Answer</th> <th>First Choice Votes</th> <th>First Choice Weight</th> <th>Second Choice Answer</th> <th>Second Choice Votes</th> <th>Second Choice Weight</th> <th>Internal Notes</th> <th>Comments</th> <th>Explanation</th>\n",
       "        </tr>\n",
       "    </thead>\n",
       "    <tbody>\n",
       "        <tr>\n",
       "            <td>5888087</td> <td>https://centaur-customer-uploads.s3.us-east-1.amazonaws. ...</td> <td>Jul 26 2021 21:41:47 PM</td> <td>3264386   </td> <td>https://go.centaurlabs.com/problem/5888087</td> <td>Gold Standard </td> <td>nan   </td> <td>nan         </td> <td>nan  </td> <td>2              </td> <td>'no'         </td> <td>'no'          </td> <td>0         </td> <td>1        </td> <td>'no'               </td> <td>2                 </td> <td>1.54               </td> <td>'yes'               </td> <td>0                  </td> <td>0                   </td> <td>nan           </td> <td>[]      </td> <td>nan        </td>\n",
       "        </tr>\n",
       "        <tr>\n",
       "            <td>5888088</td> <td>https://centaur-customer-uploads.s3.us-east-1.amazonaws. ...</td> <td>Jul 26 2021 21:41:47 PM</td> <td>3264387   </td> <td>https://go.centaurlabs.com/problem/5888088</td> <td>Gold Standard </td> <td>nan   </td> <td>nan         </td> <td>nan  </td> <td>3              </td> <td>'no'         </td> <td>'no'          </td> <td>0         </td> <td>1        </td> <td>'no'               </td> <td>3                 </td> <td>2.34               </td> <td>'yes'               </td> <td>0                  </td> <td>0                   </td> <td>nan           </td> <td>[]      </td> <td>nan        </td>\n",
       "        </tr>\n",
       "        <tr>\n",
       "            <td>5888089</td> <td>https://centaur-customer-uploads.s3.us-east-1.amazonaws. ...</td> <td>Jul 26 2021 21:41:47 PM</td> <td>3264388   </td> <td>https://go.centaurlabs.com/problem/5888089</td> <td>Gold Standard </td> <td>nan   </td> <td>nan         </td> <td>nan  </td> <td>2              </td> <td>'no'         </td> <td>'no'          </td> <td>0         </td> <td>1        </td> <td>'no'               </td> <td>2                 </td> <td>1.7                </td> <td>'yes'               </td> <td>0                  </td> <td>0                   </td> <td>nan           </td> <td>[]      </td> <td>nan        </td>\n",
       "        </tr>\n",
       "    </tbody>\n",
       "</table>\n",
       "<p>... (30290 rows omitted)</p>"
      ],
      "text/plain": [
       "<IPython.core.display.HTML object>"
      ]
     },
     "metadata": {},
     "output_type": "display_data"
    }
   ],
   "source": [
    "results = Table.read_table('centaur-data/1345_customer_results.csv')\n",
    "results.show(3)"
   ]
  },
  {
   "cell_type": "markdown",
   "id": "bced74ac",
   "metadata": {},
   "source": [
    "<h2>Data Cleaning</h2>"
   ]
  },
  {
   "cell_type": "markdown",
   "id": "0de40080",
   "metadata": {},
   "source": [
    "We only want to use rows in the results table where the URL in the column Origin contains a vote number N in the form 'voteN'. So, we'll start by finding those, and eliminating the rest:"
   ]
  },
  {
   "cell_type": "code",
   "execution_count": 3,
   "id": "959a550b",
   "metadata": {},
   "outputs": [
    {
     "data": {
      "text/plain": [
       "'https://centaur-customer-uploads.s3.us-east-1.amazonaws.com/mgh-eeg/210721/jpg/B10_time178433_medoid_vote0.jpg'"
      ]
     },
     "execution_count": 3,
     "metadata": {},
     "output_type": "execute_result"
    }
   ],
   "source": [
    "sample_url = results.column(1).item(1)\n",
    "sample_url"
   ]
  },
  {
   "cell_type": "code",
   "execution_count": 4,
   "id": "6d49265c",
   "metadata": {},
   "outputs": [
    {
     "data": {
      "text/plain": [
       "['https://centaur-customer-uploads',\n",
       " 's3',\n",
       " 'us-east-1',\n",
       " 'amazonaws',\n",
       " 'com/mgh-eeg/210721/jpg/B10_time178433_medoid_vote0',\n",
       " 'jpg']"
      ]
     },
     "execution_count": 4,
     "metadata": {},
     "output_type": "execute_result"
    }
   ],
   "source": [
    "sample_split = sample_url.split('.')\n",
    "sample_split"
   ]
  },
  {
   "cell_type": "code",
   "execution_count": 5,
   "id": "126c8356",
   "metadata": {},
   "outputs": [
    {
     "data": {
      "text/plain": [
       "'vote0'"
      ]
     },
     "execution_count": 5,
     "metadata": {},
     "output_type": "execute_result"
    }
   ],
   "source": [
    "sample_split[-2].split('_')[-1]"
   ]
  },
  {
   "cell_type": "code",
   "execution_count": 6,
   "id": "e6e74913",
   "metadata": {},
   "outputs": [
    {
     "data": {
      "text/plain": [
       "<re.Match object; span=(101, 106), match='vote0'>"
      ]
     },
     "execution_count": 6,
     "metadata": {},
     "output_type": "execute_result"
    }
   ],
   "source": [
    "re.search('vote[0-8]', sample_url)"
   ]
  },
  {
   "cell_type": "code",
   "execution_count": 7,
   "id": "a65eb5c3",
   "metadata": {},
   "outputs": [
    {
     "data": {
      "text/plain": [
       "'vote0'"
      ]
     },
     "execution_count": 7,
     "metadata": {},
     "output_type": "execute_result"
    }
   ],
   "source": [
    "re.search('vote[0-8]', sample_url).group()"
   ]
  },
  {
   "cell_type": "code",
   "execution_count": 8,
   "id": "2837b5ef",
   "metadata": {},
   "outputs": [
    {
     "data": {
      "text/plain": [
       "'https://centaur-customer-uploads.s3.us-east-1.amazonaws.com/mgh-eeg/210721/jpg/B10_time178433_medoid_vote0.jpg'"
      ]
     },
     "execution_count": 8,
     "metadata": {},
     "output_type": "execute_result"
    }
   ],
   "source": [
    "re.search('vote[0-8]', sample_url).string"
   ]
  },
  {
   "cell_type": "code",
   "execution_count": 9,
   "id": "84af2831",
   "metadata": {},
   "outputs": [
    {
     "data": {
      "text/plain": [
       "array([ 1.,  1.,  1., ...,  1.,  1.,  1.])"
      ]
     },
     "execution_count": 9,
     "metadata": {},
     "output_type": "execute_result"
    }
   ],
   "source": [
    "origin_array = results.column('Origin')\n",
    "voteN_found_array = make_array()\n",
    "\n",
    "for url in origin_array:\n",
    "    '''\n",
    "    Find the URLs in the Origin column of the results table that contain \"voteN\", where N is a digit from 0-8.\n",
    "    Create a true/false array that maps to where \"voteN\" was found in the column.\n",
    "    '''\n",
    "    if re.search('vote[0-8]', url) == None:\n",
    "        voteN_found_array = np.append(voteN_found_array, 0)\n",
    "    else: \n",
    "        voteN_found_array = np.append(voteN_found_array, 1)\n",
    "        \n",
    "voteN_found_array"
   ]
  },
  {
   "cell_type": "markdown",
   "id": "70adddb6",
   "metadata": {},
   "source": [
    "Numbers below show how many \"voteN\"-containing URLs were found: 27,000 out of 30,293"
   ]
  },
  {
   "cell_type": "code",
   "execution_count": 10,
   "id": "4fff8faf",
   "metadata": {},
   "outputs": [
    {
     "data": {
      "text/plain": [
       "27000"
      ]
     },
     "execution_count": 10,
     "metadata": {},
     "output_type": "execute_result"
    }
   ],
   "source": [
    "np.count_nonzero(voteN_found_array)"
   ]
  },
  {
   "cell_type": "code",
   "execution_count": 11,
   "id": "e939d51a",
   "metadata": {},
   "outputs": [
    {
     "data": {
      "text/plain": [
       "30293"
      ]
     },
     "execution_count": 11,
     "metadata": {},
     "output_type": "execute_result"
    }
   ],
   "source": [
    "len(voteN_found_array)"
   ]
  },
  {
   "cell_type": "markdown",
   "id": "2785a89d",
   "metadata": {},
   "source": [
    "Pruning the results table to a version containing only the \"voteN\" rows:"
   ]
  },
  {
   "cell_type": "code",
   "execution_count": 12,
   "id": "6e574aa9",
   "metadata": {},
   "outputs": [
    {
     "data": {
      "text/plain": [
       "30293"
      ]
     },
     "execution_count": 12,
     "metadata": {},
     "output_type": "execute_result"
    }
   ],
   "source": [
    "results_voteN = results.with_column('voteN exists', voteN_found_array)\n",
    "results_voteN.num_rows"
   ]
  },
  {
   "cell_type": "code",
   "execution_count": 13,
   "id": "11a9c8f5",
   "metadata": {},
   "outputs": [
    {
     "data": {
      "text/plain": [
       "27000"
      ]
     },
     "execution_count": 13,
     "metadata": {},
     "output_type": "execute_result"
    }
   ],
   "source": [
    "results_voteN = results_voteN.where('voteN exists', 1)\n",
    "results_voteN.num_rows"
   ]
  },
  {
   "cell_type": "code",
   "execution_count": 14,
   "id": "44794bcf",
   "metadata": {},
   "outputs": [
    {
     "data": {
      "text/html": [
       "<table border=\"1\" class=\"dataframe\">\n",
       "    <thead>\n",
       "        <tr>\n",
       "            <th>Case ID</th> <th>Origin</th> <th>Origin Created At</th> <th>Content ID</th> <th>URL</th> <th>Labeling State</th> <th>Series</th> <th>Series Index</th> <th>Patch</th> <th>Qualified Reads</th> <th>Correct Label</th> <th>Majority Label</th> <th>Difficulty</th> <th>Agreement</th> <th>First Choice Answer</th> <th>First Choice Votes</th> <th>First Choice Weight</th> <th>Second Choice Answer</th> <th>Second Choice Votes</th> <th>Second Choice Weight</th> <th>Internal Notes</th> <th>Comments</th> <th>Explanation</th> <th>voteN exists</th>\n",
       "        </tr>\n",
       "    </thead>\n",
       "    <tbody>\n",
       "        <tr>\n",
       "            <td>5888087</td> <td>https://centaur-customer-uploads.s3.us-east-1.amazonaws. ...</td> <td>Jul 26 2021 21:41:47 PM</td> <td>3264386   </td> <td>https://go.centaurlabs.com/problem/5888087</td> <td>Gold Standard </td> <td>nan   </td> <td>nan         </td> <td>nan  </td> <td>2              </td> <td>'no'         </td> <td>'no'          </td> <td>0         </td> <td>1        </td> <td>'no'               </td> <td>2                 </td> <td>1.54               </td> <td>'yes'               </td> <td>0                  </td> <td>0                   </td> <td>nan           </td> <td>[]      </td> <td>nan        </td> <td>1           </td>\n",
       "        </tr>\n",
       "        <tr>\n",
       "            <td>5888088</td> <td>https://centaur-customer-uploads.s3.us-east-1.amazonaws. ...</td> <td>Jul 26 2021 21:41:47 PM</td> <td>3264387   </td> <td>https://go.centaurlabs.com/problem/5888088</td> <td>Gold Standard </td> <td>nan   </td> <td>nan         </td> <td>nan  </td> <td>3              </td> <td>'no'         </td> <td>'no'          </td> <td>0         </td> <td>1        </td> <td>'no'               </td> <td>3                 </td> <td>2.34               </td> <td>'yes'               </td> <td>0                  </td> <td>0                   </td> <td>nan           </td> <td>[]      </td> <td>nan        </td> <td>1           </td>\n",
       "        </tr>\n",
       "        <tr>\n",
       "            <td>5888089</td> <td>https://centaur-customer-uploads.s3.us-east-1.amazonaws. ...</td> <td>Jul 26 2021 21:41:47 PM</td> <td>3264388   </td> <td>https://go.centaurlabs.com/problem/5888089</td> <td>Gold Standard </td> <td>nan   </td> <td>nan         </td> <td>nan  </td> <td>2              </td> <td>'no'         </td> <td>'no'          </td> <td>0         </td> <td>1        </td> <td>'no'               </td> <td>2                 </td> <td>1.7                </td> <td>'yes'               </td> <td>0                  </td> <td>0                   </td> <td>nan           </td> <td>[]      </td> <td>nan        </td> <td>1           </td>\n",
       "        </tr>\n",
       "        <tr>\n",
       "            <td>5888090</td> <td>https://centaur-customer-uploads.s3.us-east-1.amazonaws. ...</td> <td>Jul 26 2021 21:41:47 PM</td> <td>3264389   </td> <td>https://go.centaurlabs.com/problem/5888090</td> <td>Gold Standard </td> <td>nan   </td> <td>nan         </td> <td>nan  </td> <td>1              </td> <td>'no'         </td> <td>'no'          </td> <td>0         </td> <td>1        </td> <td>'no'               </td> <td>1                 </td> <td>0.82               </td> <td>'yes'               </td> <td>0                  </td> <td>0                   </td> <td>nan           </td> <td>[]      </td> <td>nan        </td> <td>1           </td>\n",
       "        </tr>\n",
       "        <tr>\n",
       "            <td>5888091</td> <td>https://centaur-customer-uploads.s3.us-east-1.amazonaws. ...</td> <td>Jul 26 2021 21:41:47 PM</td> <td>3264390   </td> <td>https://go.centaurlabs.com/problem/5888091</td> <td>In Progress   </td> <td>nan   </td> <td>nan         </td> <td>nan  </td> <td>7              </td> <td>nan          </td> <td>'yes'         </td> <td>nan       </td> <td>0.571    </td> <td>'yes'              </td> <td>4                 </td> <td>3.28               </td> <td>'no'                </td> <td>3                  </td> <td>2.32                </td> <td>nan           </td> <td>[]      </td> <td>nan        </td> <td>1           </td>\n",
       "        </tr>\n",
       "    </tbody>\n",
       "</table>\n",
       "<p>... (26995 rows omitted)</p>"
      ],
      "text/plain": [
       "<IPython.core.display.HTML object>"
      ]
     },
     "metadata": {},
     "output_type": "display_data"
    }
   ],
   "source": [
    "results_voteN.show(5)"
   ]
  },
  {
   "cell_type": "markdown",
   "id": "fa5ae87a",
   "metadata": {},
   "source": [
    "<h2>Eliminating Unnecessary Information</h2>\n",
    "\n",
    "Now we'll trim the table down much more.\n",
    "\n",
    "The columns to be kept will be only the Case ID and the quantitative columns that relate to labelling votes and accuracy.\n",
    "\n",
    "<h3>Column Choice Reasons</h3>\n",
    "\n",
    "We will be dropping many columns in the next cell below, for the following reasons:\n",
    "\n",
    "- Origin Created At: Exactly when this data was created is not relevant for analyzing the labelling accuracy we're interested in.\n",
    "- Content ID: The exact media type of the content in a specific case is not relevant for analyzing the labelling accuracy.\n",
    "- URL: This is a reference to the case in Centaur's system. Not relevant for anayzing labelling accuracy.\n",
    "- Labelling State: This is not quantitative data pertaining to labelling accuracy.\n",
    "- Series, Series Index, and Patch: These all pertain to identifying the exact content used in a specific case. Not relevant for analyzing labelling accuracy.\n",
    "- Internal Notes, Comments, Explanation: None of these are quantitative information about the labelling accuracy.\n",
    "- voteN found: This was a column I had added temporarily just as an aid in data cleaning. It isn't needed anymore.\n",
    "\n",
    "And we will keep the following columns, for the following reasons:\n",
    "\n",
    "- Case ID: Keeping a primary key for organizing our table.\n",
    "- Origin --> Expert Yes Votes: This column contains an important piece of information, the number of expert yes votes. We will clean this data shortly, extracting these numbers and discarding the rest of the URLs, and renaming the column accordingly from Origin to Expert Yes Votes.\n",
    "- All the remaining columns to be seen below contain quantitative data about the expert votes and the qualified read votes. This could all be relevant data for the task of comparing the accuracy of expert labelling votes with the accuracy of qualified read labelling votes.\n"
   ]
  },
  {
   "cell_type": "code",
   "execution_count": 15,
   "id": "d29f7b02",
   "metadata": {
    "scrolled": false
   },
   "outputs": [
    {
     "data": {
      "text/html": [
       "<table border=\"1\" class=\"dataframe\">\n",
       "    <thead>\n",
       "        <tr>\n",
       "            <th>Case ID</th> <th>Origin</th> <th>Qualified Reads</th> <th>Correct Label</th> <th>Majority Label</th> <th>Difficulty</th> <th>Agreement</th> <th>First Choice Answer</th> <th>First Choice Votes</th> <th>First Choice Weight</th> <th>Second Choice Answer</th> <th>Second Choice Votes</th> <th>Second Choice Weight</th>\n",
       "        </tr>\n",
       "    </thead>\n",
       "    <tbody>\n",
       "        <tr>\n",
       "            <td>5888087</td> <td>https://centaur-customer-uploads.s3.us-east-1.amazonaws. ...</td> <td>2              </td> <td>'no'         </td> <td>'no'          </td> <td>0         </td> <td>1        </td> <td>'no'               </td> <td>2                 </td> <td>1.54               </td> <td>'yes'               </td> <td>0                  </td> <td>0                   </td>\n",
       "        </tr>\n",
       "        <tr>\n",
       "            <td>5888088</td> <td>https://centaur-customer-uploads.s3.us-east-1.amazonaws. ...</td> <td>3              </td> <td>'no'         </td> <td>'no'          </td> <td>0         </td> <td>1        </td> <td>'no'               </td> <td>3                 </td> <td>2.34               </td> <td>'yes'               </td> <td>0                  </td> <td>0                   </td>\n",
       "        </tr>\n",
       "        <tr>\n",
       "            <td>5888089</td> <td>https://centaur-customer-uploads.s3.us-east-1.amazonaws. ...</td> <td>2              </td> <td>'no'         </td> <td>'no'          </td> <td>0         </td> <td>1        </td> <td>'no'               </td> <td>2                 </td> <td>1.7                </td> <td>'yes'               </td> <td>0                  </td> <td>0                   </td>\n",
       "        </tr>\n",
       "    </tbody>\n",
       "</table>\n",
       "<p>... (26997 rows omitted)</p>"
      ],
      "text/plain": [
       "<IPython.core.display.HTML object>"
      ]
     },
     "metadata": {},
     "output_type": "display_data"
    }
   ],
   "source": [
    "results_trimmed = results_voteN.drop(2,3,4,5,6,7,8, \"Internal Notes\", \"Comments\", \"Explanation\", \"voteN exists\")\n",
    "results_trimmed.show(3)"
   ]
  },
  {
   "cell_type": "markdown",
   "id": "37667617",
   "metadata": {},
   "source": [
    "<h2>Data Cleaning, continued</h2>"
   ]
  },
  {
   "cell_type": "markdown",
   "id": "202e923c",
   "metadata": {},
   "source": [
    "We'll extract the the number of expert yes votes from the Origin URLs, and replace the column with just those numbers."
   ]
  },
  {
   "cell_type": "code",
   "execution_count": 16,
   "id": "5893fd21",
   "metadata": {},
   "outputs": [
    {
     "data": {
      "text/plain": [
       "array(['2', '0', '0', ..., '4', '5', '5'],\n",
       "      dtype='<U32')"
      ]
     },
     "execution_count": 16,
     "metadata": {},
     "output_type": "execute_result"
    }
   ],
   "source": [
    "expert_yes_votes = make_array()\n",
    "for url in results_trimmed.column('Origin'):\n",
    "    N = re.search('vote[0-8]', url).group()[-1]\n",
    "    expert_yes_votes = np.append(expert_yes_votes, N)\n",
    "\n",
    "expert_yes_votes"
   ]
  },
  {
   "cell_type": "code",
   "execution_count": 17,
   "id": "bb621172",
   "metadata": {},
   "outputs": [
    {
     "data": {
      "text/html": [
       "<table border=\"1\" class=\"dataframe\">\n",
       "    <thead>\n",
       "        <tr>\n",
       "            <th>Case ID</th> <th>Expert Yes Votes</th> <th>Qualified Reads</th> <th>Correct Label</th> <th>Majority Label</th> <th>Difficulty</th> <th>Agreement</th> <th>First Choice Answer</th> <th>First Choice Votes</th> <th>First Choice Weight</th> <th>Second Choice Answer</th> <th>Second Choice Votes</th> <th>Second Choice Weight</th>\n",
       "        </tr>\n",
       "    </thead>\n",
       "    <tbody>\n",
       "        <tr>\n",
       "            <td>5888087</td> <td>2               </td> <td>2              </td> <td>'no'         </td> <td>'no'          </td> <td>0         </td> <td>1        </td> <td>'no'               </td> <td>2                 </td> <td>1.54               </td> <td>'yes'               </td> <td>0                  </td> <td>0                   </td>\n",
       "        </tr>\n",
       "        <tr>\n",
       "            <td>5888088</td> <td>0               </td> <td>3              </td> <td>'no'         </td> <td>'no'          </td> <td>0         </td> <td>1        </td> <td>'no'               </td> <td>3                 </td> <td>2.34               </td> <td>'yes'               </td> <td>0                  </td> <td>0                   </td>\n",
       "        </tr>\n",
       "        <tr>\n",
       "            <td>5888089</td> <td>0               </td> <td>2              </td> <td>'no'         </td> <td>'no'          </td> <td>0         </td> <td>1        </td> <td>'no'               </td> <td>2                 </td> <td>1.7                </td> <td>'yes'               </td> <td>0                  </td> <td>0                   </td>\n",
       "        </tr>\n",
       "        <tr>\n",
       "            <td>5888090</td> <td>0               </td> <td>1              </td> <td>'no'         </td> <td>'no'          </td> <td>0         </td> <td>1        </td> <td>'no'               </td> <td>1                 </td> <td>0.82               </td> <td>'yes'               </td> <td>0                  </td> <td>0                   </td>\n",
       "        </tr>\n",
       "        <tr>\n",
       "            <td>5888091</td> <td>4               </td> <td>7              </td> <td>nan          </td> <td>'yes'         </td> <td>nan       </td> <td>0.571    </td> <td>'yes'              </td> <td>4                 </td> <td>3.28               </td> <td>'no'                </td> <td>3                  </td> <td>2.32                </td>\n",
       "        </tr>\n",
       "        <tr>\n",
       "            <td>5888092</td> <td>0               </td> <td>4              </td> <td>'no'         </td> <td>'no'          </td> <td>0         </td> <td>1        </td> <td>'no'               </td> <td>4                 </td> <td>3.3                </td> <td>'yes'               </td> <td>0                  </td> <td>0                   </td>\n",
       "        </tr>\n",
       "        <tr>\n",
       "            <td>5888093</td> <td>0               </td> <td>6              </td> <td>'no'         </td> <td>'no'          </td> <td>0         </td> <td>1        </td> <td>'no'               </td> <td>6                 </td> <td>4.94               </td> <td>'yes'               </td> <td>0                  </td> <td>0                   </td>\n",
       "        </tr>\n",
       "        <tr>\n",
       "            <td>5888094</td> <td>0               </td> <td>2              </td> <td>'no'         </td> <td>'no'          </td> <td>0         </td> <td>1        </td> <td>'no'               </td> <td>2                 </td> <td>1.56               </td> <td>'yes'               </td> <td>0                  </td> <td>0                   </td>\n",
       "        </tr>\n",
       "        <tr>\n",
       "            <td>5888095</td> <td>0               </td> <td>4              </td> <td>'no'         </td> <td>'no'          </td> <td>0         </td> <td>1        </td> <td>'no'               </td> <td>4                 </td> <td>3.34               </td> <td>'yes'               </td> <td>0                  </td> <td>0                   </td>\n",
       "        </tr>\n",
       "        <tr>\n",
       "            <td>5888096</td> <td>0               </td> <td>3              </td> <td>'no'         </td> <td>'no'          </td> <td>0         </td> <td>1        </td> <td>'no'               </td> <td>3                 </td> <td>2.56               </td> <td>'yes'               </td> <td>0                  </td> <td>0                   </td>\n",
       "        </tr>\n",
       "    </tbody>\n",
       "</table>\n",
       "<p>... (26990 rows omitted)</p>"
      ],
      "text/plain": [
       "Case ID | Expert Yes Votes | Qualified Reads | Correct Label | Majority Label | Difficulty | Agreement | First Choice Answer | First Choice Votes | First Choice Weight | Second Choice Answer | Second Choice Votes | Second Choice Weight\n",
       "5888087 | 2                | 2               | 'no'          | 'no'           | 0          | 1         | 'no'                | 2                  | 1.54                | 'yes'                | 0                   | 0\n",
       "5888088 | 0                | 3               | 'no'          | 'no'           | 0          | 1         | 'no'                | 3                  | 2.34                | 'yes'                | 0                   | 0\n",
       "5888089 | 0                | 2               | 'no'          | 'no'           | 0          | 1         | 'no'                | 2                  | 1.7                 | 'yes'                | 0                   | 0\n",
       "5888090 | 0                | 1               | 'no'          | 'no'           | 0          | 1         | 'no'                | 1                  | 0.82                | 'yes'                | 0                   | 0\n",
       "5888091 | 4                | 7               | nan           | 'yes'          | nan        | 0.571     | 'yes'               | 4                  | 3.28                | 'no'                 | 3                   | 2.32\n",
       "5888092 | 0                | 4               | 'no'          | 'no'           | 0          | 1         | 'no'                | 4                  | 3.3                 | 'yes'                | 0                   | 0\n",
       "5888093 | 0                | 6               | 'no'          | 'no'           | 0          | 1         | 'no'                | 6                  | 4.94                | 'yes'                | 0                   | 0\n",
       "5888094 | 0                | 2               | 'no'          | 'no'           | 0          | 1         | 'no'                | 2                  | 1.56                | 'yes'                | 0                   | 0\n",
       "5888095 | 0                | 4               | 'no'          | 'no'           | 0          | 1         | 'no'                | 4                  | 3.34                | 'yes'                | 0                   | 0\n",
       "5888096 | 0                | 3               | 'no'          | 'no'           | 0          | 1         | 'no'                | 3                  | 2.56                | 'yes'                | 0                   | 0\n",
       "... (26990 rows omitted)"
      ]
     },
     "execution_count": 17,
     "metadata": {},
     "output_type": "execute_result"
    }
   ],
   "source": [
    "results_trimmed = results_trimmed.with_column('Origin', expert_yes_votes).relabeled('Origin', 'Expert Yes Votes')\n",
    "results_trimmed"
   ]
  },
  {
   "cell_type": "markdown",
   "id": "b74486d2",
   "metadata": {},
   "source": [
    "It is a bit annoying for searching through this table that all the strings for yes and no actually contain single quotes around them. Let's clean that up:"
   ]
  },
  {
   "cell_type": "code",
   "execution_count": 18,
   "id": "80fb0d27",
   "metadata": {},
   "outputs": [],
   "source": [
    "def strip_quotes(str):\n",
    "    return str.strip(\"'\")"
   ]
  },
  {
   "cell_type": "code",
   "execution_count": 19,
   "id": "fdb711d1",
   "metadata": {},
   "outputs": [],
   "source": [
    "str1 = \"'blargh'\""
   ]
  },
  {
   "cell_type": "code",
   "execution_count": 20,
   "id": "921c7a02",
   "metadata": {},
   "outputs": [
    {
     "data": {
      "text/plain": [
       "'blargh'"
      ]
     },
     "execution_count": 20,
     "metadata": {},
     "output_type": "execute_result"
    }
   ],
   "source": [
    "strip_quotes(str1)"
   ]
  },
  {
   "cell_type": "code",
   "execution_count": 21,
   "id": "de19eada",
   "metadata": {},
   "outputs": [
    {
     "data": {
      "text/plain": [
       "\"'blargh'\""
      ]
     },
     "execution_count": 21,
     "metadata": {},
     "output_type": "execute_result"
    }
   ],
   "source": [
    "str1"
   ]
  },
  {
   "cell_type": "code",
   "execution_count": 22,
   "id": "18c592ab",
   "metadata": {},
   "outputs": [
    {
     "data": {
      "text/plain": [
       "array(['no', 'no', 'no', ..., 'nan', 'yes', 'yes'],\n",
       "      dtype='<U3')"
      ]
     },
     "execution_count": 22,
     "metadata": {},
     "output_type": "execute_result"
    }
   ],
   "source": [
    "results_trimmed.apply(strip_quotes, \"Correct Label\")"
   ]
  },
  {
   "cell_type": "code",
   "execution_count": 23,
   "id": "bf8dc631",
   "metadata": {},
   "outputs": [],
   "source": [
    "def fix_strings(table, list_of_columns):\n",
    "    new_table = table\n",
    "    for column_name in list_of_columns:\n",
    "        fixed_strings = table.apply(strip_quotes, column_name)\n",
    "        new_table = new_table.with_column(column_name, fixed_strings)\n",
    "    return new_table"
   ]
  },
  {
   "cell_type": "code",
   "execution_count": 24,
   "id": "f19b03b0",
   "metadata": {},
   "outputs": [
    {
     "data": {
      "text/html": [
       "<table border=\"1\" class=\"dataframe\">\n",
       "    <thead>\n",
       "        <tr>\n",
       "            <th>Case ID</th> <th>Expert Yes Votes</th> <th>Qualified Reads</th> <th>Correct Label</th> <th>Majority Label</th> <th>Difficulty</th> <th>Agreement</th> <th>First Choice Answer</th> <th>First Choice Votes</th> <th>First Choice Weight</th> <th>Second Choice Answer</th> <th>Second Choice Votes</th> <th>Second Choice Weight</th>\n",
       "        </tr>\n",
       "    </thead>\n",
       "    <tbody>\n",
       "        <tr>\n",
       "            <td>5888087</td> <td>2               </td> <td>2              </td> <td>no           </td> <td>no            </td> <td>0         </td> <td>1        </td> <td>no                 </td> <td>2                 </td> <td>1.54               </td> <td>yes                 </td> <td>0                  </td> <td>0                   </td>\n",
       "        </tr>\n",
       "        <tr>\n",
       "            <td>5888088</td> <td>0               </td> <td>3              </td> <td>no           </td> <td>no            </td> <td>0         </td> <td>1        </td> <td>no                 </td> <td>3                 </td> <td>2.34               </td> <td>yes                 </td> <td>0                  </td> <td>0                   </td>\n",
       "        </tr>\n",
       "        <tr>\n",
       "            <td>5888089</td> <td>0               </td> <td>2              </td> <td>no           </td> <td>no            </td> <td>0         </td> <td>1        </td> <td>no                 </td> <td>2                 </td> <td>1.7                </td> <td>yes                 </td> <td>0                  </td> <td>0                   </td>\n",
       "        </tr>\n",
       "        <tr>\n",
       "            <td>5888090</td> <td>0               </td> <td>1              </td> <td>no           </td> <td>no            </td> <td>0         </td> <td>1        </td> <td>no                 </td> <td>1                 </td> <td>0.82               </td> <td>yes                 </td> <td>0                  </td> <td>0                   </td>\n",
       "        </tr>\n",
       "        <tr>\n",
       "            <td>5888091</td> <td>4               </td> <td>7              </td> <td>nan          </td> <td>yes           </td> <td>nan       </td> <td>0.571    </td> <td>yes                </td> <td>4                 </td> <td>3.28               </td> <td>no                  </td> <td>3                  </td> <td>2.32                </td>\n",
       "        </tr>\n",
       "        <tr>\n",
       "            <td>5888092</td> <td>0               </td> <td>4              </td> <td>no           </td> <td>no            </td> <td>0         </td> <td>1        </td> <td>no                 </td> <td>4                 </td> <td>3.3                </td> <td>yes                 </td> <td>0                  </td> <td>0                   </td>\n",
       "        </tr>\n",
       "        <tr>\n",
       "            <td>5888093</td> <td>0               </td> <td>6              </td> <td>no           </td> <td>no            </td> <td>0         </td> <td>1        </td> <td>no                 </td> <td>6                 </td> <td>4.94               </td> <td>yes                 </td> <td>0                  </td> <td>0                   </td>\n",
       "        </tr>\n",
       "        <tr>\n",
       "            <td>5888094</td> <td>0               </td> <td>2              </td> <td>no           </td> <td>no            </td> <td>0         </td> <td>1        </td> <td>no                 </td> <td>2                 </td> <td>1.56               </td> <td>yes                 </td> <td>0                  </td> <td>0                   </td>\n",
       "        </tr>\n",
       "        <tr>\n",
       "            <td>5888095</td> <td>0               </td> <td>4              </td> <td>no           </td> <td>no            </td> <td>0         </td> <td>1        </td> <td>no                 </td> <td>4                 </td> <td>3.34               </td> <td>yes                 </td> <td>0                  </td> <td>0                   </td>\n",
       "        </tr>\n",
       "        <tr>\n",
       "            <td>5888096</td> <td>0               </td> <td>3              </td> <td>no           </td> <td>no            </td> <td>0         </td> <td>1        </td> <td>no                 </td> <td>3                 </td> <td>2.56               </td> <td>yes                 </td> <td>0                  </td> <td>0                   </td>\n",
       "        </tr>\n",
       "    </tbody>\n",
       "</table>\n",
       "<p>... (26990 rows omitted)</p>"
      ],
      "text/plain": [
       "Case ID | Expert Yes Votes | Qualified Reads | Correct Label | Majority Label | Difficulty | Agreement | First Choice Answer | First Choice Votes | First Choice Weight | Second Choice Answer | Second Choice Votes | Second Choice Weight\n",
       "5888087 | 2                | 2               | no            | no             | 0          | 1         | no                  | 2                  | 1.54                | yes                  | 0                   | 0\n",
       "5888088 | 0                | 3               | no            | no             | 0          | 1         | no                  | 3                  | 2.34                | yes                  | 0                   | 0\n",
       "5888089 | 0                | 2               | no            | no             | 0          | 1         | no                  | 2                  | 1.7                 | yes                  | 0                   | 0\n",
       "5888090 | 0                | 1               | no            | no             | 0          | 1         | no                  | 1                  | 0.82                | yes                  | 0                   | 0\n",
       "5888091 | 4                | 7               | nan           | yes            | nan        | 0.571     | yes                 | 4                  | 3.28                | no                   | 3                   | 2.32\n",
       "5888092 | 0                | 4               | no            | no             | 0          | 1         | no                  | 4                  | 3.3                 | yes                  | 0                   | 0\n",
       "5888093 | 0                | 6               | no            | no             | 0          | 1         | no                  | 6                  | 4.94                | yes                  | 0                   | 0\n",
       "5888094 | 0                | 2               | no            | no             | 0          | 1         | no                  | 2                  | 1.56                | yes                  | 0                   | 0\n",
       "5888095 | 0                | 4               | no            | no             | 0          | 1         | no                  | 4                  | 3.34                | yes                  | 0                   | 0\n",
       "5888096 | 0                | 3               | no            | no             | 0          | 1         | no                  | 3                  | 2.56                | yes                  | 0                   | 0\n",
       "... (26990 rows omitted)"
      ]
     },
     "execution_count": 24,
     "metadata": {},
     "output_type": "execute_result"
    }
   ],
   "source": [
    "results_trimmed = fix_strings(results_trimmed, ['Correct Label', 'Majority Label', 'First Choice Answer', 'Second Choice Answer'])\n",
    "results_trimmed"
   ]
  },
  {
   "cell_type": "markdown",
   "id": "55443048",
   "metadata": {},
   "source": [
    "Let's also do a check that the rest of the columns have data types that make sense, and fix anything else that might need fixing:"
   ]
  },
  {
   "cell_type": "code",
   "execution_count": 25,
   "id": "f0387a26",
   "metadata": {},
   "outputs": [],
   "source": [
    "def check_data_types(table):\n",
    "    data_types = list()\n",
    "    for i in np.arange(table.num_columns):\n",
    "        data_types.append( type(table.column(i).item(0) ) )\n",
    "    return data_types"
   ]
  },
  {
   "cell_type": "code",
   "execution_count": 26,
   "id": "0e818e1a",
   "metadata": {},
   "outputs": [
    {
     "data": {
      "text/plain": [
       "[int, str, int, str, str, float, float, str, int, float, str, int, float]"
      ]
     },
     "execution_count": 26,
     "metadata": {},
     "output_type": "execute_result"
    }
   ],
   "source": [
    "check_data_types(results_trimmed)"
   ]
  },
  {
   "cell_type": "markdown",
   "id": "67b501d0",
   "metadata": {},
   "source": [
    "Most of this is fine, but the 'Expert Yes Votes' are actually strings. They should be converted to ints:"
   ]
  },
  {
   "cell_type": "code",
   "execution_count": 27,
   "id": "de54a733",
   "metadata": {},
   "outputs": [
    {
     "data": {
      "text/plain": [
       "array([ 2.,  0.,  0., ...,  4.,  5.,  5.])"
      ]
     },
     "execution_count": 27,
     "metadata": {},
     "output_type": "execute_result"
    }
   ],
   "source": [
    "expert_yes_ints = make_array()\n",
    "for i in expert_yes_votes:\n",
    "    expert_yes_ints = np.append(expert_yes_ints, int(i))\n",
    "\n",
    "expert_yes_ints"
   ]
  },
  {
   "cell_type": "code",
   "execution_count": 28,
   "id": "ef9bbbfc",
   "metadata": {},
   "outputs": [
    {
     "data": {
      "text/plain": [
       "27000"
      ]
     },
     "execution_count": 28,
     "metadata": {},
     "output_type": "execute_result"
    }
   ],
   "source": [
    "results_trimmed.num_rows"
   ]
  },
  {
   "cell_type": "code",
   "execution_count": 29,
   "id": "2898f09a",
   "metadata": {},
   "outputs": [
    {
     "data": {
      "text/plain": [
       "27000"
      ]
     },
     "execution_count": 29,
     "metadata": {},
     "output_type": "execute_result"
    }
   ],
   "source": [
    "len(expert_yes_ints)"
   ]
  },
  {
   "cell_type": "code",
   "execution_count": 30,
   "id": "b61fead0",
   "metadata": {},
   "outputs": [
    {
     "data": {
      "text/html": [
       "<table border=\"1\" class=\"dataframe\">\n",
       "    <thead>\n",
       "        <tr>\n",
       "            <th>Case ID</th> <th>Expert Yes Votes</th> <th>Qualified Reads</th> <th>Correct Label</th> <th>Majority Label</th> <th>Difficulty</th> <th>Agreement</th> <th>First Choice Answer</th> <th>First Choice Votes</th> <th>First Choice Weight</th> <th>Second Choice Answer</th> <th>Second Choice Votes</th> <th>Second Choice Weight</th>\n",
       "        </tr>\n",
       "    </thead>\n",
       "    <tbody>\n",
       "        <tr>\n",
       "            <td>5888087</td> <td>2               </td> <td>2              </td> <td>no           </td> <td>no            </td> <td>0         </td> <td>1        </td> <td>no                 </td> <td>2                 </td> <td>1.54               </td> <td>yes                 </td> <td>0                  </td> <td>0                   </td>\n",
       "        </tr>\n",
       "        <tr>\n",
       "            <td>5888088</td> <td>0               </td> <td>3              </td> <td>no           </td> <td>no            </td> <td>0         </td> <td>1        </td> <td>no                 </td> <td>3                 </td> <td>2.34               </td> <td>yes                 </td> <td>0                  </td> <td>0                   </td>\n",
       "        </tr>\n",
       "        <tr>\n",
       "            <td>5888089</td> <td>0               </td> <td>2              </td> <td>no           </td> <td>no            </td> <td>0         </td> <td>1        </td> <td>no                 </td> <td>2                 </td> <td>1.7                </td> <td>yes                 </td> <td>0                  </td> <td>0                   </td>\n",
       "        </tr>\n",
       "        <tr>\n",
       "            <td>5888090</td> <td>0               </td> <td>1              </td> <td>no           </td> <td>no            </td> <td>0         </td> <td>1        </td> <td>no                 </td> <td>1                 </td> <td>0.82               </td> <td>yes                 </td> <td>0                  </td> <td>0                   </td>\n",
       "        </tr>\n",
       "        <tr>\n",
       "            <td>5888091</td> <td>4               </td> <td>7              </td> <td>nan          </td> <td>yes           </td> <td>nan       </td> <td>0.571    </td> <td>yes                </td> <td>4                 </td> <td>3.28               </td> <td>no                  </td> <td>3                  </td> <td>2.32                </td>\n",
       "        </tr>\n",
       "        <tr>\n",
       "            <td>5888092</td> <td>0               </td> <td>4              </td> <td>no           </td> <td>no            </td> <td>0         </td> <td>1        </td> <td>no                 </td> <td>4                 </td> <td>3.3                </td> <td>yes                 </td> <td>0                  </td> <td>0                   </td>\n",
       "        </tr>\n",
       "        <tr>\n",
       "            <td>5888093</td> <td>0               </td> <td>6              </td> <td>no           </td> <td>no            </td> <td>0         </td> <td>1        </td> <td>no                 </td> <td>6                 </td> <td>4.94               </td> <td>yes                 </td> <td>0                  </td> <td>0                   </td>\n",
       "        </tr>\n",
       "        <tr>\n",
       "            <td>5888094</td> <td>0               </td> <td>2              </td> <td>no           </td> <td>no            </td> <td>0         </td> <td>1        </td> <td>no                 </td> <td>2                 </td> <td>1.56               </td> <td>yes                 </td> <td>0                  </td> <td>0                   </td>\n",
       "        </tr>\n",
       "        <tr>\n",
       "            <td>5888095</td> <td>0               </td> <td>4              </td> <td>no           </td> <td>no            </td> <td>0         </td> <td>1        </td> <td>no                 </td> <td>4                 </td> <td>3.34               </td> <td>yes                 </td> <td>0                  </td> <td>0                   </td>\n",
       "        </tr>\n",
       "        <tr>\n",
       "            <td>5888096</td> <td>0               </td> <td>3              </td> <td>no           </td> <td>no            </td> <td>0         </td> <td>1        </td> <td>no                 </td> <td>3                 </td> <td>2.56               </td> <td>yes                 </td> <td>0                  </td> <td>0                   </td>\n",
       "        </tr>\n",
       "    </tbody>\n",
       "</table>\n",
       "<p>... (26990 rows omitted)</p>"
      ],
      "text/plain": [
       "Case ID | Expert Yes Votes | Qualified Reads | Correct Label | Majority Label | Difficulty | Agreement | First Choice Answer | First Choice Votes | First Choice Weight | Second Choice Answer | Second Choice Votes | Second Choice Weight\n",
       "5888087 | 2                | 2               | no            | no             | 0          | 1         | no                  | 2                  | 1.54                | yes                  | 0                   | 0\n",
       "5888088 | 0                | 3               | no            | no             | 0          | 1         | no                  | 3                  | 2.34                | yes                  | 0                   | 0\n",
       "5888089 | 0                | 2               | no            | no             | 0          | 1         | no                  | 2                  | 1.7                 | yes                  | 0                   | 0\n",
       "5888090 | 0                | 1               | no            | no             | 0          | 1         | no                  | 1                  | 0.82                | yes                  | 0                   | 0\n",
       "5888091 | 4                | 7               | nan           | yes            | nan        | 0.571     | yes                 | 4                  | 3.28                | no                   | 3                   | 2.32\n",
       "5888092 | 0                | 4               | no            | no             | 0          | 1         | no                  | 4                  | 3.3                 | yes                  | 0                   | 0\n",
       "5888093 | 0                | 6               | no            | no             | 0          | 1         | no                  | 6                  | 4.94                | yes                  | 0                   | 0\n",
       "5888094 | 0                | 2               | no            | no             | 0          | 1         | no                  | 2                  | 1.56                | yes                  | 0                   | 0\n",
       "5888095 | 0                | 4               | no            | no             | 0          | 1         | no                  | 4                  | 3.34                | yes                  | 0                   | 0\n",
       "5888096 | 0                | 3               | no            | no             | 0          | 1         | no                  | 3                  | 2.56                | yes                  | 0                   | 0\n",
       "... (26990 rows omitted)"
      ]
     },
     "execution_count": 30,
     "metadata": {},
     "output_type": "execute_result"
    }
   ],
   "source": [
    "results_trimmed = results_trimmed.with_column('Expert Yes Votes', expert_yes_ints)\n",
    "results_trimmed"
   ]
  },
  {
   "cell_type": "markdown",
   "id": "b728d92d",
   "metadata": {},
   "source": [
    "<h2>Cleaned Table</h2>"
   ]
  },
  {
   "cell_type": "markdown",
   "id": "800a1220",
   "metadata": {},
   "source": [
    "Now the strings are easy to handle, numbers are appropriate number types, and we can explore the data."
   ]
  },
  {
   "cell_type": "markdown",
   "id": "f9f573f7",
   "metadata": {},
   "source": [
    "Below, we can see that we have a remarkably neat set of data to work with. It contains exactly 12,000 cases where the expert vote favored 'yes', another 12,000 where the expert vote favored 'no', and 3,000 where the expert vote was split. (And we can also see confirmation that the number of expert yes votes fits as expected with the given \"correct label\".)"
   ]
  },
  {
   "cell_type": "code",
   "execution_count": 31,
   "id": "b0117268",
   "metadata": {},
   "outputs": [
    {
     "data": {
      "text/plain": [
       "12000"
      ]
     },
     "execution_count": 31,
     "metadata": {},
     "output_type": "execute_result"
    }
   ],
   "source": [
    "results_trimmed.where('Correct Label', 'yes').num_rows"
   ]
  },
  {
   "cell_type": "code",
   "execution_count": 32,
   "id": "fae8e627",
   "metadata": {},
   "outputs": [
    {
     "data": {
      "text/plain": [
       "12000"
      ]
     },
     "execution_count": 32,
     "metadata": {},
     "output_type": "execute_result"
    }
   ],
   "source": [
    "results_trimmed.where('Expert Yes Votes', are.above(4)).num_rows"
   ]
  },
  {
   "cell_type": "code",
   "execution_count": 33,
   "id": "31e540e5",
   "metadata": {},
   "outputs": [
    {
     "data": {
      "text/plain": [
       "12000"
      ]
     },
     "execution_count": 33,
     "metadata": {},
     "output_type": "execute_result"
    }
   ],
   "source": [
    "results_trimmed.where('Correct Label', 'no').num_rows"
   ]
  },
  {
   "cell_type": "code",
   "execution_count": 34,
   "id": "7118af07",
   "metadata": {},
   "outputs": [
    {
     "data": {
      "text/plain": [
       "12000"
      ]
     },
     "execution_count": 34,
     "metadata": {},
     "output_type": "execute_result"
    }
   ],
   "source": [
    "results_trimmed.where('Expert Yes Votes', are.below(4)).num_rows"
   ]
  },
  {
   "cell_type": "code",
   "execution_count": 35,
   "id": "9a21815c",
   "metadata": {},
   "outputs": [
    {
     "data": {
      "text/plain": [
       "3000"
      ]
     },
     "execution_count": 35,
     "metadata": {},
     "output_type": "execute_result"
    }
   ],
   "source": [
    "results_trimmed.where('Correct Label', 'nan').num_rows"
   ]
  },
  {
   "cell_type": "code",
   "execution_count": 37,
   "id": "98eb368c",
   "metadata": {},
   "outputs": [
    {
     "data": {
      "text/plain": [
       "3000"
      ]
     },
     "execution_count": 37,
     "metadata": {},
     "output_type": "execute_result"
    }
   ],
   "source": [
    "results_trimmed.where('Expert Yes Votes', 4).num_rows"
   ]
  },
  {
   "cell_type": "markdown",
   "id": "162f081a",
   "metadata": {},
   "source": [
    "<h2>Considering Expert Split-vote Cases</h2>"
   ]
  },
  {
   "cell_type": "markdown",
   "id": "1e54be97",
   "metadata": {},
   "source": [
    "In cases without an expert majority vote, and therefore by definition in this data lacking a \"correct\" label, it may still be useful to consider the qualified read vote independently.\n",
    "\n",
    "From the column explanations readme file: \"Agreement: Qualified Reads with the Majority Label divided by total Qualified Reads.\"\n",
    "\n",
    "So, we can look at the Agreement values as a way of considering the qualified read vote. We might ask the question: did the qualified reads tend to be evenly split (or approximately so), like the experts? "
   ]
  },
  {
   "cell_type": "code",
   "execution_count": 42,
   "id": "bb069fe4",
   "metadata": {},
   "outputs": [
    {
     "data": {
      "text/html": [
       "<table border=\"1\" class=\"dataframe\">\n",
       "    <thead>\n",
       "        <tr>\n",
       "            <th>Case ID</th> <th>Expert Yes Votes</th> <th>Qualified Reads</th> <th>Correct Label</th> <th>Majority Label</th> <th>Difficulty</th> <th>Agreement</th> <th>First Choice Answer</th> <th>First Choice Votes</th> <th>First Choice Weight</th> <th>Second Choice Answer</th> <th>Second Choice Votes</th> <th>Second Choice Weight</th>\n",
       "        </tr>\n",
       "    </thead>\n",
       "    <tbody>\n",
       "        <tr>\n",
       "            <td>5888091</td> <td>4               </td> <td>7              </td> <td>nan          </td> <td>yes           </td> <td>nan       </td> <td>0.571    </td> <td>yes                </td> <td>4                 </td> <td>3.28               </td> <td>no                  </td> <td>3                  </td> <td>2.32                </td>\n",
       "        </tr>\n",
       "        <tr>\n",
       "            <td>5888782</td> <td>4               </td> <td>5              </td> <td>nan          </td> <td>no            </td> <td>nan       </td> <td>1        </td> <td>no                 </td> <td>5                 </td> <td>3.94               </td> <td>yes                 </td> <td>0                  </td> <td>0                   </td>\n",
       "        </tr>\n",
       "        <tr>\n",
       "            <td>5891822</td> <td>4               </td> <td>5              </td> <td>nan          </td> <td>yes           </td> <td>nan       </td> <td>0.8      </td> <td>yes                </td> <td>4                 </td> <td>3.1                </td> <td>no                  </td> <td>1                  </td> <td>0.76                </td>\n",
       "        </tr>\n",
       "        <tr>\n",
       "            <td>5891960</td> <td>4               </td> <td>7              </td> <td>nan          </td> <td>no            </td> <td>nan       </td> <td>1        </td> <td>no                 </td> <td>7                 </td> <td>5.53               </td> <td>yes                 </td> <td>0                  </td> <td>0                   </td>\n",
       "        </tr>\n",
       "        <tr>\n",
       "            <td>5891979</td> <td>4               </td> <td>8              </td> <td>nan          </td> <td>no            </td> <td>nan       </td> <td>0.625    </td> <td>no                 </td> <td>5                 </td> <td>3.92               </td> <td>yes                 </td> <td>3                  </td> <td>2.38                </td>\n",
       "        </tr>\n",
       "        <tr>\n",
       "            <td>5892075</td> <td>4               </td> <td>8              </td> <td>nan          </td> <td>yes           </td> <td>nan       </td> <td>0.625    </td> <td>yes                </td> <td>5                 </td> <td>3.88               </td> <td>no                  </td> <td>3                  </td> <td>2.32                </td>\n",
       "        </tr>\n",
       "        <tr>\n",
       "            <td>5892087</td> <td>4               </td> <td>2              </td> <td>nan          </td> <td>yes           </td> <td>nan       </td> <td>0.5      </td> <td>yes                </td> <td>1                 </td> <td>0.84               </td> <td>no                  </td> <td>1                  </td> <td>0.88                </td>\n",
       "        </tr>\n",
       "        <tr>\n",
       "            <td>5892132</td> <td>4               </td> <td>11             </td> <td>nan          </td> <td>yes           </td> <td>nan       </td> <td>0.545    </td> <td>yes                </td> <td>6                 </td> <td>4.7                </td> <td>no                  </td> <td>5                  </td> <td>3.84                </td>\n",
       "        </tr>\n",
       "        <tr>\n",
       "            <td>5892139</td> <td>4               </td> <td>10             </td> <td>nan          </td> <td>yes           </td> <td>nan       </td> <td>0.7      </td> <td>yes                </td> <td>7                 </td> <td>5.64               </td> <td>no                  </td> <td>3                  </td> <td>2.38                </td>\n",
       "        </tr>\n",
       "        <tr>\n",
       "            <td>5892162</td> <td>4               </td> <td>8              </td> <td>nan          </td> <td>yes           </td> <td>nan       </td> <td>1        </td> <td>yes                </td> <td>8                 </td> <td>6.46               </td> <td>no                  </td> <td>0                  </td> <td>0                   </td>\n",
       "        </tr>\n",
       "    </tbody>\n",
       "</table>\n",
       "<p>... (2990 rows omitted)</p>"
      ],
      "text/plain": [
       "Case ID | Expert Yes Votes | Qualified Reads | Correct Label | Majority Label | Difficulty | Agreement | First Choice Answer | First Choice Votes | First Choice Weight | Second Choice Answer | Second Choice Votes | Second Choice Weight\n",
       "5888091 | 4                | 7               | nan           | yes            | nan        | 0.571     | yes                 | 4                  | 3.28                | no                   | 3                   | 2.32\n",
       "5888782 | 4                | 5               | nan           | no             | nan        | 1         | no                  | 5                  | 3.94                | yes                  | 0                   | 0\n",
       "5891822 | 4                | 5               | nan           | yes            | nan        | 0.8       | yes                 | 4                  | 3.1                 | no                   | 1                   | 0.76\n",
       "5891960 | 4                | 7               | nan           | no             | nan        | 1         | no                  | 7                  | 5.53                | yes                  | 0                   | 0\n",
       "5891979 | 4                | 8               | nan           | no             | nan        | 0.625     | no                  | 5                  | 3.92                | yes                  | 3                   | 2.38\n",
       "5892075 | 4                | 8               | nan           | yes            | nan        | 0.625     | yes                 | 5                  | 3.88                | no                   | 3                   | 2.32\n",
       "5892087 | 4                | 2               | nan           | yes            | nan        | 0.5       | yes                 | 1                  | 0.84                | no                   | 1                   | 0.88\n",
       "5892132 | 4                | 11              | nan           | yes            | nan        | 0.545     | yes                 | 6                  | 4.7                 | no                   | 5                   | 3.84\n",
       "5892139 | 4                | 10              | nan           | yes            | nan        | 0.7       | yes                 | 7                  | 5.64                | no                   | 3                   | 2.38\n",
       "5892162 | 4                | 8               | nan           | yes            | nan        | 1         | yes                 | 8                  | 6.46                | no                   | 0                   | 0\n",
       "... (2990 rows omitted)"
      ]
     },
     "execution_count": 42,
     "metadata": {},
     "output_type": "execute_result"
    }
   ],
   "source": [
    "results_split_vote = results_trimmed.where('Correct Label', 'nan')\n",
    "results_split_vote"
   ]
  },
  {
   "cell_type": "code",
   "execution_count": 43,
   "id": "d7955da0",
   "metadata": {},
   "outputs": [
    {
     "data": {
      "text/plain": [
       "0.82688333333333341"
      ]
     },
     "execution_count": 43,
     "metadata": {},
     "output_type": "execute_result"
    }
   ],
   "source": [
    "np.mean(results_split_vote.column('Agreement'))"
   ]
  },
  {
   "cell_type": "code",
   "execution_count": 44,
   "id": "a6c300b6",
   "metadata": {},
   "outputs": [
    {
     "data": {
      "text/plain": [
       "0.85699999999999998"
      ]
     },
     "execution_count": 44,
     "metadata": {},
     "output_type": "execute_result"
    }
   ],
   "source": [
    "np.median(results_split_vote.column('Agreement'))"
   ]
  },
  {
   "cell_type": "code",
   "execution_count": 46,
   "id": "034e4a0b",
   "metadata": {},
   "outputs": [
    {
     "data": {
      "text/plain": [
       "0.16040396832857831"
      ]
     },
     "execution_count": 46,
     "metadata": {},
     "output_type": "execute_result"
    }
   ],
   "source": [
    "np.std(results_split_vote.column('Agreement'))"
   ]
  },
  {
   "cell_type": "markdown",
   "id": "64dddddf",
   "metadata": {},
   "source": [
    "The mean and median of the Agreement values are both over 80%, with a standard deviation of 16%.\n",
    "\n",
    "This suggests, in a broad way, that these cases may still have value. This is worth looking further into."
   ]
  },
  {
   "cell_type": "code",
   "execution_count": null,
   "id": "e885f3ed",
   "metadata": {},
   "outputs": [],
   "source": []
  },
  {
   "cell_type": "markdown",
   "id": "9c2f6585",
   "metadata": {},
   "source": [
    "<h2>Create Expert Accuracy Column</h2>\n",
    "\n",
    "It will be necessary to have a number for expert accuracy in the cases where there was a majority vote, to compare against qualified read accuracy.\n",
    "\n",
    "As for qualified read accuracy for these cases, it appears that we already have those numbers! Defined in the column explanations readme file: \n",
    " \n",
    "\"Difficulty: Qualified Reads without the Correct Label divided by total Qualified Reads.\""
   ]
  },
  {
   "cell_type": "code",
   "execution_count": null,
   "id": "10b42335",
   "metadata": {},
   "outputs": [],
   "source": []
  }
 ],
 "metadata": {
  "kernelspec": {
   "display_name": "Python 3 (ipykernel)",
   "language": "python",
   "name": "python3"
  },
  "language_info": {
   "codemirror_mode": {
    "name": "ipython",
    "version": 3
   },
   "file_extension": ".py",
   "mimetype": "text/x-python",
   "name": "python",
   "nbconvert_exporter": "python",
   "pygments_lexer": "ipython3",
   "version": "3.9.7"
  }
 },
 "nbformat": 4,
 "nbformat_minor": 5
}
