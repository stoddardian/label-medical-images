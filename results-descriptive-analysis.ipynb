{
 "cells": [
  {
   "cell_type": "code",
   "execution_count": 77,
   "id": "0e876497",
   "metadata": {},
   "outputs": [],
   "source": [
    "from datascience import *\n",
    "import numpy as np\n",
    "import matplotlib\n",
    "%matplotlib inline\n",
    "import matplotlib.pyplot as plt\n",
    "plt.style.use('fivethirtyeight')"
   ]
  },
  {
   "cell_type": "code",
   "execution_count": 13,
   "id": "514231a9",
   "metadata": {},
   "outputs": [
    {
     "data": {
      "text/html": [
       "<table border=\"1\" class=\"dataframe\">\n",
       "    <thead>\n",
       "        <tr>\n",
       "            <th>Case ID</th> <th>Expert Yes Votes</th> <th>Qualified Reads</th> <th>Correct Label</th> <th>Majority Label</th> <th>Difficulty</th> <th>Agreement</th> <th>First Choice Answer</th> <th>First Choice Votes</th> <th>First Choice Weight</th> <th>Second Choice Answer</th> <th>Second Choice Votes</th> <th>Second Choice Weight</th>\n",
       "        </tr>\n",
       "    </thead>\n",
       "    <tbody>\n",
       "        <tr>\n",
       "            <td>5888087</td> <td>2               </td> <td>2              </td> <td>no           </td> <td>no            </td> <td>0         </td> <td>1        </td> <td>no                 </td> <td>2                 </td> <td>1.54               </td> <td>yes                 </td> <td>0                  </td> <td>0                   </td>\n",
       "        </tr>\n",
       "        <tr>\n",
       "            <td>5888088</td> <td>0               </td> <td>3              </td> <td>no           </td> <td>no            </td> <td>0         </td> <td>1        </td> <td>no                 </td> <td>3                 </td> <td>2.34               </td> <td>yes                 </td> <td>0                  </td> <td>0                   </td>\n",
       "        </tr>\n",
       "        <tr>\n",
       "            <td>5888089</td> <td>0               </td> <td>2              </td> <td>no           </td> <td>no            </td> <td>0         </td> <td>1        </td> <td>no                 </td> <td>2                 </td> <td>1.7                </td> <td>yes                 </td> <td>0                  </td> <td>0                   </td>\n",
       "        </tr>\n",
       "        <tr>\n",
       "            <td>5888090</td> <td>0               </td> <td>1              </td> <td>no           </td> <td>no            </td> <td>0         </td> <td>1        </td> <td>no                 </td> <td>1                 </td> <td>0.82               </td> <td>yes                 </td> <td>0                  </td> <td>0                   </td>\n",
       "        </tr>\n",
       "        <tr>\n",
       "            <td>5888091</td> <td>4               </td> <td>7              </td> <td>nan          </td> <td>yes           </td> <td>nan       </td> <td>0.571    </td> <td>yes                </td> <td>4                 </td> <td>3.28               </td> <td>no                  </td> <td>3                  </td> <td>2.32                </td>\n",
       "        </tr>\n",
       "        <tr>\n",
       "            <td>5888092</td> <td>0               </td> <td>4              </td> <td>no           </td> <td>no            </td> <td>0         </td> <td>1        </td> <td>no                 </td> <td>4                 </td> <td>3.3                </td> <td>yes                 </td> <td>0                  </td> <td>0                   </td>\n",
       "        </tr>\n",
       "        <tr>\n",
       "            <td>5888093</td> <td>0               </td> <td>6              </td> <td>no           </td> <td>no            </td> <td>0         </td> <td>1        </td> <td>no                 </td> <td>6                 </td> <td>4.94               </td> <td>yes                 </td> <td>0                  </td> <td>0                   </td>\n",
       "        </tr>\n",
       "        <tr>\n",
       "            <td>5888094</td> <td>0               </td> <td>2              </td> <td>no           </td> <td>no            </td> <td>0         </td> <td>1        </td> <td>no                 </td> <td>2                 </td> <td>1.56               </td> <td>yes                 </td> <td>0                  </td> <td>0                   </td>\n",
       "        </tr>\n",
       "        <tr>\n",
       "            <td>5888095</td> <td>0               </td> <td>4              </td> <td>no           </td> <td>no            </td> <td>0         </td> <td>1        </td> <td>no                 </td> <td>4                 </td> <td>3.34               </td> <td>yes                 </td> <td>0                  </td> <td>0                   </td>\n",
       "        </tr>\n",
       "        <tr>\n",
       "            <td>5888096</td> <td>0               </td> <td>3              </td> <td>no           </td> <td>no            </td> <td>0         </td> <td>1        </td> <td>no                 </td> <td>3                 </td> <td>2.56               </td> <td>yes                 </td> <td>0                  </td> <td>0                   </td>\n",
       "        </tr>\n",
       "    </tbody>\n",
       "</table>\n",
       "<p>... (26990 rows omitted)</p>"
      ],
      "text/plain": [
       "Case ID | Expert Yes Votes | Qualified Reads | Correct Label | Majority Label | Difficulty | Agreement | First Choice Answer | First Choice Votes | First Choice Weight | Second Choice Answer | Second Choice Votes | Second Choice Weight\n",
       "5888087 | 2                | 2               | no            | no             | 0          | 1         | no                  | 2                  | 1.54                | yes                  | 0                   | 0\n",
       "5888088 | 0                | 3               | no            | no             | 0          | 1         | no                  | 3                  | 2.34                | yes                  | 0                   | 0\n",
       "5888089 | 0                | 2               | no            | no             | 0          | 1         | no                  | 2                  | 1.7                 | yes                  | 0                   | 0\n",
       "5888090 | 0                | 1               | no            | no             | 0          | 1         | no                  | 1                  | 0.82                | yes                  | 0                   | 0\n",
       "5888091 | 4                | 7               | nan           | yes            | nan        | 0.571     | yes                 | 4                  | 3.28                | no                   | 3                   | 2.32\n",
       "5888092 | 0                | 4               | no            | no             | 0          | 1         | no                  | 4                  | 3.3                 | yes                  | 0                   | 0\n",
       "5888093 | 0                | 6               | no            | no             | 0          | 1         | no                  | 6                  | 4.94                | yes                  | 0                   | 0\n",
       "5888094 | 0                | 2               | no            | no             | 0          | 1         | no                  | 2                  | 1.56                | yes                  | 0                   | 0\n",
       "5888095 | 0                | 4               | no            | no             | 0          | 1         | no                  | 4                  | 3.34                | yes                  | 0                   | 0\n",
       "5888096 | 0                | 3               | no            | no             | 0          | 1         | no                  | 3                  | 2.56                | yes                  | 0                   | 0\n",
       "... (26990 rows omitted)"
      ]
     },
     "execution_count": 13,
     "metadata": {},
     "output_type": "execute_result"
    }
   ],
   "source": [
    "results = Table.read_table('results_trimmed.csv')\n",
    "results"
   ]
  },
  {
   "cell_type": "markdown",
   "id": "6b4d2b90",
   "metadata": {},
   "source": [
    "<h2>Creating an Expert Accuracy Rating</h2>\n",
    "\n",
    "It will be necessary to have a number for expert accuracy in the cases where there was a majority vote, to compare against crowd accuracy.\n",
    "\n",
    "As for crowd accuracy for these cases, it appears that we already have those numbers! Defined in the column explanations readme file: \n",
    " \n",
    "\"Agreement: Qualified Reads with the Majority Label divided by total Qualified Reads.\""
   ]
  },
  {
   "cell_type": "code",
   "execution_count": 14,
   "id": "35c959ce",
   "metadata": {},
   "outputs": [
    {
     "data": {
      "text/plain": [
       "array([ 2.,  0.,  0., ...,  4.,  5.,  5.])"
      ]
     },
     "execution_count": 14,
     "metadata": {},
     "output_type": "execute_result"
    }
   ],
   "source": [
    "expert_yes_votes = results.column(1)\n",
    "expert_yes_votes"
   ]
  },
  {
   "cell_type": "code",
   "execution_count": 41,
   "id": "221c0f2f",
   "metadata": {},
   "outputs": [],
   "source": [
    "def calc_expert_accuracy(num):\n",
    "    '''Calculate accuracy rating, from the number of Yes votes, based on a majority vote out of 8. \n",
    "    The case where (num < 4) means the majority vote was No.'''\n",
    "    if num > 4:\n",
    "        return num/8\n",
    "    elif num < 4:\n",
    "        return (8-num)/8\n",
    "    elif num == 4:\n",
    "        return None"
   ]
  },
  {
   "cell_type": "code",
   "execution_count": 42,
   "id": "4ab6a6ba",
   "metadata": {},
   "outputs": [
    {
     "data": {
      "text/plain": [
       "array([0, 1, 2, 3, 4, 5, 6, 7, 8])"
      ]
     },
     "execution_count": 42,
     "metadata": {},
     "output_type": "execute_result"
    }
   ],
   "source": [
    "arr1 = np.arange(0,9)\n",
    "arr1"
   ]
  },
  {
   "cell_type": "code",
   "execution_count": 43,
   "id": "c08c7a26",
   "metadata": {},
   "outputs": [
    {
     "data": {
      "text/plain": [
       "[1.0, 0.875, 0.75, 0.625, None, 0.625, 0.75, 0.875, 1.0]"
      ]
     },
     "execution_count": 43,
     "metadata": {},
     "output_type": "execute_result"
    }
   ],
   "source": [
    "[calc_expert_accuracy(value) for value in arr1]"
   ]
  },
  {
   "cell_type": "code",
   "execution_count": 44,
   "id": "5d7685bd",
   "metadata": {},
   "outputs": [
    {
     "data": {
      "text/plain": [
       "27000"
      ]
     },
     "execution_count": 44,
     "metadata": {},
     "output_type": "execute_result"
    }
   ],
   "source": [
    "len(expert_yes_votes)"
   ]
  },
  {
   "cell_type": "code",
   "execution_count": 48,
   "id": "cebd896d",
   "metadata": {},
   "outputs": [
    {
     "name": "stdout",
     "output_type": "stream",
     "text": [
      "27000\n"
     ]
    },
    {
     "data": {
      "text/plain": [
       "{0.625, 0.75, 0.875, 1.0, None}"
      ]
     },
     "execution_count": 48,
     "metadata": {},
     "output_type": "execute_result"
    }
   ],
   "source": [
    "expert_accuracy = [calc_expert_accuracy(value) for value in expert_yes_votes]\n",
    "print(len(expert_accuracy))\n",
    "set(expert_accuracy)"
   ]
  },
  {
   "cell_type": "code",
   "execution_count": 50,
   "id": "e81d64a0",
   "metadata": {},
   "outputs": [
    {
     "data": {
      "text/html": [
       "<table border=\"1\" class=\"dataframe\">\n",
       "    <thead>\n",
       "        <tr>\n",
       "            <th>Case ID</th> <th>Expert Yes Votes</th> <th>Qualified Reads</th> <th>Correct Label</th> <th>Majority Label</th> <th>Difficulty</th> <th>Agreement</th> <th>First Choice Answer</th> <th>First Choice Votes</th> <th>First Choice Weight</th> <th>Second Choice Answer</th> <th>Second Choice Votes</th> <th>Second Choice Weight</th> <th>Expert Accuracy</th>\n",
       "        </tr>\n",
       "    </thead>\n",
       "    <tbody>\n",
       "        <tr>\n",
       "            <td>5888087</td> <td>2               </td> <td>2              </td> <td>no           </td> <td>no            </td> <td>0         </td> <td>1        </td> <td>no                 </td> <td>2                 </td> <td>1.54               </td> <td>yes                 </td> <td>0                  </td> <td>0                   </td> <td>0.75           </td>\n",
       "        </tr>\n",
       "        <tr>\n",
       "            <td>5888088</td> <td>0               </td> <td>3              </td> <td>no           </td> <td>no            </td> <td>0         </td> <td>1        </td> <td>no                 </td> <td>3                 </td> <td>2.34               </td> <td>yes                 </td> <td>0                  </td> <td>0                   </td> <td>1              </td>\n",
       "        </tr>\n",
       "        <tr>\n",
       "            <td>5888089</td> <td>0               </td> <td>2              </td> <td>no           </td> <td>no            </td> <td>0         </td> <td>1        </td> <td>no                 </td> <td>2                 </td> <td>1.7                </td> <td>yes                 </td> <td>0                  </td> <td>0                   </td> <td>1              </td>\n",
       "        </tr>\n",
       "        <tr>\n",
       "            <td>5888090</td> <td>0               </td> <td>1              </td> <td>no           </td> <td>no            </td> <td>0         </td> <td>1        </td> <td>no                 </td> <td>1                 </td> <td>0.82               </td> <td>yes                 </td> <td>0                  </td> <td>0                   </td> <td>1              </td>\n",
       "        </tr>\n",
       "        <tr>\n",
       "            <td>5888091</td> <td>4               </td> <td>7              </td> <td>nan          </td> <td>yes           </td> <td>nan       </td> <td>0.571    </td> <td>yes                </td> <td>4                 </td> <td>3.28               </td> <td>no                  </td> <td>3                  </td> <td>2.32                </td> <td>None           </td>\n",
       "        </tr>\n",
       "        <tr>\n",
       "            <td>5888092</td> <td>0               </td> <td>4              </td> <td>no           </td> <td>no            </td> <td>0         </td> <td>1        </td> <td>no                 </td> <td>4                 </td> <td>3.3                </td> <td>yes                 </td> <td>0                  </td> <td>0                   </td> <td>1              </td>\n",
       "        </tr>\n",
       "        <tr>\n",
       "            <td>5888093</td> <td>0               </td> <td>6              </td> <td>no           </td> <td>no            </td> <td>0         </td> <td>1        </td> <td>no                 </td> <td>6                 </td> <td>4.94               </td> <td>yes                 </td> <td>0                  </td> <td>0                   </td> <td>1              </td>\n",
       "        </tr>\n",
       "        <tr>\n",
       "            <td>5888094</td> <td>0               </td> <td>2              </td> <td>no           </td> <td>no            </td> <td>0         </td> <td>1        </td> <td>no                 </td> <td>2                 </td> <td>1.56               </td> <td>yes                 </td> <td>0                  </td> <td>0                   </td> <td>1              </td>\n",
       "        </tr>\n",
       "        <tr>\n",
       "            <td>5888095</td> <td>0               </td> <td>4              </td> <td>no           </td> <td>no            </td> <td>0         </td> <td>1        </td> <td>no                 </td> <td>4                 </td> <td>3.34               </td> <td>yes                 </td> <td>0                  </td> <td>0                   </td> <td>1              </td>\n",
       "        </tr>\n",
       "        <tr>\n",
       "            <td>5888096</td> <td>0               </td> <td>3              </td> <td>no           </td> <td>no            </td> <td>0         </td> <td>1        </td> <td>no                 </td> <td>3                 </td> <td>2.56               </td> <td>yes                 </td> <td>0                  </td> <td>0                   </td> <td>1              </td>\n",
       "        </tr>\n",
       "    </tbody>\n",
       "</table>\n",
       "<p>... (26990 rows omitted)</p>"
      ],
      "text/plain": [
       "Case ID | Expert Yes Votes | Qualified Reads | Correct Label | Majority Label | Difficulty | Agreement | First Choice Answer | First Choice Votes | First Choice Weight | Second Choice Answer | Second Choice Votes | Second Choice Weight | Expert Accuracy\n",
       "5888087 | 2                | 2               | no            | no             | 0          | 1         | no                  | 2                  | 1.54                | yes                  | 0                   | 0                    | 0.75\n",
       "5888088 | 0                | 3               | no            | no             | 0          | 1         | no                  | 3                  | 2.34                | yes                  | 0                   | 0                    | 1\n",
       "5888089 | 0                | 2               | no            | no             | 0          | 1         | no                  | 2                  | 1.7                 | yes                  | 0                   | 0                    | 1\n",
       "5888090 | 0                | 1               | no            | no             | 0          | 1         | no                  | 1                  | 0.82                | yes                  | 0                   | 0                    | 1\n",
       "5888091 | 4                | 7               | nan           | yes            | nan        | 0.571     | yes                 | 4                  | 3.28                | no                   | 3                   | 2.32                 | None\n",
       "5888092 | 0                | 4               | no            | no             | 0          | 1         | no                  | 4                  | 3.3                 | yes                  | 0                   | 0                    | 1\n",
       "5888093 | 0                | 6               | no            | no             | 0          | 1         | no                  | 6                  | 4.94                | yes                  | 0                   | 0                    | 1\n",
       "5888094 | 0                | 2               | no            | no             | 0          | 1         | no                  | 2                  | 1.56                | yes                  | 0                   | 0                    | 1\n",
       "5888095 | 0                | 4               | no            | no             | 0          | 1         | no                  | 4                  | 3.34                | yes                  | 0                   | 0                    | 1\n",
       "5888096 | 0                | 3               | no            | no             | 0          | 1         | no                  | 3                  | 2.56                | yes                  | 0                   | 0                    | 1\n",
       "... (26990 rows omitted)"
      ]
     },
     "execution_count": 50,
     "metadata": {},
     "output_type": "execute_result"
    }
   ],
   "source": [
    "results_with_accuracy = results.with_column('Expert Accuracy', expert_accuracy)\n",
    "results_with_accuracy"
   ]
  },
  {
   "cell_type": "markdown",
   "id": "4ebc965d",
   "metadata": {},
   "source": [
    "<h3>Data Cleaning</h3>"
   ]
  },
  {
   "cell_type": "markdown",
   "id": "4b60489d",
   "metadata": {},
   "source": [
    "Before we can compare the expert accuracy score with the crowd agreement, some more issues need to be cleaned up in the data. First, we need just the rows where the correct label is defined."
   ]
  },
  {
   "cell_type": "code",
   "execution_count": 52,
   "id": "7f528e08",
   "metadata": {},
   "outputs": [
    {
     "data": {
      "text/html": [
       "<table border=\"1\" class=\"dataframe\">\n",
       "    <thead>\n",
       "        <tr>\n",
       "            <th>Case ID</th> <th>Expert Yes Votes</th> <th>Qualified Reads</th> <th>Correct Label</th> <th>Majority Label</th> <th>Difficulty</th> <th>Agreement</th> <th>First Choice Answer</th> <th>First Choice Votes</th> <th>First Choice Weight</th> <th>Second Choice Answer</th> <th>Second Choice Votes</th> <th>Second Choice Weight</th> <th>Expert Accuracy</th>\n",
       "        </tr>\n",
       "    </thead>\n",
       "    <tbody>\n",
       "        <tr>\n",
       "            <td>5888087</td> <td>2               </td> <td>2              </td> <td>no           </td> <td>no            </td> <td>0         </td> <td>1        </td> <td>no                 </td> <td>2                 </td> <td>1.54               </td> <td>yes                 </td> <td>0                  </td> <td>0                   </td> <td>0.75           </td>\n",
       "        </tr>\n",
       "        <tr>\n",
       "            <td>5888088</td> <td>0               </td> <td>3              </td> <td>no           </td> <td>no            </td> <td>0         </td> <td>1        </td> <td>no                 </td> <td>3                 </td> <td>2.34               </td> <td>yes                 </td> <td>0                  </td> <td>0                   </td> <td>1              </td>\n",
       "        </tr>\n",
       "        <tr>\n",
       "            <td>5888089</td> <td>0               </td> <td>2              </td> <td>no           </td> <td>no            </td> <td>0         </td> <td>1        </td> <td>no                 </td> <td>2                 </td> <td>1.7                </td> <td>yes                 </td> <td>0                  </td> <td>0                   </td> <td>1              </td>\n",
       "        </tr>\n",
       "        <tr>\n",
       "            <td>5888090</td> <td>0               </td> <td>1              </td> <td>no           </td> <td>no            </td> <td>0         </td> <td>1        </td> <td>no                 </td> <td>1                 </td> <td>0.82               </td> <td>yes                 </td> <td>0                  </td> <td>0                   </td> <td>1              </td>\n",
       "        </tr>\n",
       "        <tr>\n",
       "            <td>5888092</td> <td>0               </td> <td>4              </td> <td>no           </td> <td>no            </td> <td>0         </td> <td>1        </td> <td>no                 </td> <td>4                 </td> <td>3.3                </td> <td>yes                 </td> <td>0                  </td> <td>0                   </td> <td>1              </td>\n",
       "        </tr>\n",
       "        <tr>\n",
       "            <td>5888093</td> <td>0               </td> <td>6              </td> <td>no           </td> <td>no            </td> <td>0         </td> <td>1        </td> <td>no                 </td> <td>6                 </td> <td>4.94               </td> <td>yes                 </td> <td>0                  </td> <td>0                   </td> <td>1              </td>\n",
       "        </tr>\n",
       "        <tr>\n",
       "            <td>5888094</td> <td>0               </td> <td>2              </td> <td>no           </td> <td>no            </td> <td>0         </td> <td>1        </td> <td>no                 </td> <td>2                 </td> <td>1.56               </td> <td>yes                 </td> <td>0                  </td> <td>0                   </td> <td>1              </td>\n",
       "        </tr>\n",
       "        <tr>\n",
       "            <td>5888095</td> <td>0               </td> <td>4              </td> <td>no           </td> <td>no            </td> <td>0         </td> <td>1        </td> <td>no                 </td> <td>4                 </td> <td>3.34               </td> <td>yes                 </td> <td>0                  </td> <td>0                   </td> <td>1              </td>\n",
       "        </tr>\n",
       "        <tr>\n",
       "            <td>5888096</td> <td>0               </td> <td>3              </td> <td>no           </td> <td>no            </td> <td>0         </td> <td>1        </td> <td>no                 </td> <td>3                 </td> <td>2.56               </td> <td>yes                 </td> <td>0                  </td> <td>0                   </td> <td>1              </td>\n",
       "        </tr>\n",
       "        <tr>\n",
       "            <td>5888097</td> <td>0               </td> <td>4              </td> <td>no           </td> <td>no            </td> <td>0         </td> <td>1        </td> <td>no                 </td> <td>4                 </td> <td>3.16               </td> <td>yes                 </td> <td>0                  </td> <td>0                   </td> <td>1              </td>\n",
       "        </tr>\n",
       "    </tbody>\n",
       "</table>\n",
       "<p>... (23990 rows omitted)</p>"
      ],
      "text/plain": [
       "Case ID | Expert Yes Votes | Qualified Reads | Correct Label | Majority Label | Difficulty | Agreement | First Choice Answer | First Choice Votes | First Choice Weight | Second Choice Answer | Second Choice Votes | Second Choice Weight | Expert Accuracy\n",
       "5888087 | 2                | 2               | no            | no             | 0          | 1         | no                  | 2                  | 1.54                | yes                  | 0                   | 0                    | 0.75\n",
       "5888088 | 0                | 3               | no            | no             | 0          | 1         | no                  | 3                  | 2.34                | yes                  | 0                   | 0                    | 1\n",
       "5888089 | 0                | 2               | no            | no             | 0          | 1         | no                  | 2                  | 1.7                 | yes                  | 0                   | 0                    | 1\n",
       "5888090 | 0                | 1               | no            | no             | 0          | 1         | no                  | 1                  | 0.82                | yes                  | 0                   | 0                    | 1\n",
       "5888092 | 0                | 4               | no            | no             | 0          | 1         | no                  | 4                  | 3.3                 | yes                  | 0                   | 0                    | 1\n",
       "5888093 | 0                | 6               | no            | no             | 0          | 1         | no                  | 6                  | 4.94                | yes                  | 0                   | 0                    | 1\n",
       "5888094 | 0                | 2               | no            | no             | 0          | 1         | no                  | 2                  | 1.56                | yes                  | 0                   | 0                    | 1\n",
       "5888095 | 0                | 4               | no            | no             | 0          | 1         | no                  | 4                  | 3.34                | yes                  | 0                   | 0                    | 1\n",
       "5888096 | 0                | 3               | no            | no             | 0          | 1         | no                  | 3                  | 2.56                | yes                  | 0                   | 0                    | 1\n",
       "5888097 | 0                | 4               | no            | no             | 0          | 1         | no                  | 4                  | 3.16                | yes                  | 0                   | 0                    | 1\n",
       "... (23990 rows omitted)"
      ]
     },
     "execution_count": 52,
     "metadata": {},
     "output_type": "execute_result"
    }
   ],
   "source": [
    "correct_label_exists = results_with_accuracy.where('Correct Label', are.not_equal_to('nan'))\n",
    "correct_label_exists"
   ]
  },
  {
   "cell_type": "markdown",
   "id": "e9c304dd",
   "metadata": {},
   "source": [
    "And then, we will discover that there are some cases that have no crowd vote recorded. So we'll need to get rid of those too."
   ]
  },
  {
   "cell_type": "code",
   "execution_count": 54,
   "id": "8f7ddef3",
   "metadata": {},
   "outputs": [
    {
     "data": {
      "text/plain": [
       "{0.5,\n",
       " 0.54500000000000004,\n",
       " 0.66700000000000004,\n",
       " 0.75,\n",
       " 0.80000000000000004,\n",
       " 0.83299999999999996,\n",
       " 0.85699999999999998,\n",
       " 1.0,\n",
       " nan,\n",
       " nan,\n",
       " nan,\n",
       " nan,\n",
       " nan,\n",
       " nan,\n",
       " nan,\n",
       " nan,\n",
       " 0.875,\n",
       " nan,\n",
       " nan,\n",
       " nan,\n",
       " nan,\n",
       " nan,\n",
       " nan,\n",
       " nan,\n",
       " nan,\n",
       " nan,\n",
       " nan,\n",
       " nan,\n",
       " nan,\n",
       " nan,\n",
       " nan,\n",
       " nan,\n",
       " nan,\n",
       " 0.90900000000000003,\n",
       " nan,\n",
       " nan,\n",
       " nan,\n",
       " nan,\n",
       " nan,\n",
       " nan,\n",
       " nan,\n",
       " 0.71399999999999997,\n",
       " 0.77800000000000002,\n",
       " nan,\n",
       " nan,\n",
       " nan,\n",
       " nan,\n",
       " nan,\n",
       " nan,\n",
       " nan,\n",
       " nan,\n",
       " nan,\n",
       " nan,\n",
       " 0.58299999999999996,\n",
       " nan,\n",
       " nan,\n",
       " nan,\n",
       " nan,\n",
       " nan,\n",
       " nan,\n",
       " nan,\n",
       " nan,\n",
       " nan,\n",
       " nan,\n",
       " nan,\n",
       " nan,\n",
       " nan,\n",
       " nan,\n",
       " 0.57099999999999995,\n",
       " nan,\n",
       " nan,\n",
       " nan,\n",
       " nan,\n",
       " nan,\n",
       " nan,\n",
       " nan,\n",
       " nan,\n",
       " nan,\n",
       " 0.625,\n",
       " nan,\n",
       " nan,\n",
       " nan,\n",
       " nan,\n",
       " nan,\n",
       " nan,\n",
       " nan,\n",
       " nan,\n",
       " nan,\n",
       " nan,\n",
       " nan,\n",
       " nan,\n",
       " nan,\n",
       " nan,\n",
       " nan,\n",
       " nan,\n",
       " nan,\n",
       " nan,\n",
       " nan,\n",
       " nan,\n",
       " nan,\n",
       " 0.55600000000000005,\n",
       " nan,\n",
       " nan,\n",
       " nan,\n",
       " nan,\n",
       " nan,\n",
       " nan,\n",
       " nan,\n",
       " nan,\n",
       " nan,\n",
       " nan,\n",
       " nan,\n",
       " nan,\n",
       " nan,\n",
       " nan,\n",
       " nan,\n",
       " nan,\n",
       " 0.59999999999999998,\n",
       " 0.63600000000000001,\n",
       " 0.72699999999999998,\n",
       " 0.76900000000000002,\n",
       " 0.81799999999999995,\n",
       " 0.84599999999999997,\n",
       " 0.90000000000000002,\n",
       " nan,\n",
       " nan,\n",
       " nan,\n",
       " nan,\n",
       " nan,\n",
       " nan,\n",
       " nan,\n",
       " nan,\n",
       " nan,\n",
       " nan,\n",
       " nan,\n",
       " nan,\n",
       " nan,\n",
       " nan,\n",
       " nan,\n",
       " nan,\n",
       " nan,\n",
       " 0.69999999999999996,\n",
       " 0.88900000000000001,\n",
       " nan,\n",
       " nan,\n",
       " nan,\n",
       " nan,\n",
       " nan,\n",
       " nan,\n",
       " nan,\n",
       " nan,\n",
       " nan,\n",
       " nan,\n",
       " nan,\n",
       " nan,\n",
       " nan,\n",
       " nan,\n",
       " nan,\n",
       " 0.93799999999999994,\n",
       " nan,\n",
       " nan,\n",
       " nan,\n",
       " nan,\n",
       " nan,\n",
       " nan,\n",
       " nan,\n",
       " nan,\n",
       " nan,\n",
       " nan,\n",
       " nan,\n",
       " nan,\n",
       " nan,\n",
       " nan,\n",
       " nan,\n",
       " nan,\n",
       " nan,\n",
       " nan,\n",
       " nan,\n",
       " nan,\n",
       " nan,\n",
       " nan,\n",
       " nan,\n",
       " nan,\n",
       " 0.92900000000000005,\n",
       " nan,\n",
       " nan,\n",
       " nan,\n",
       " nan,\n",
       " nan,\n",
       " nan,\n",
       " nan,\n",
       " nan,\n",
       " nan,\n",
       " nan,\n",
       " 0.92300000000000004,\n",
       " nan,\n",
       " nan,\n",
       " nan,\n",
       " nan,\n",
       " nan,\n",
       " nan,\n",
       " nan,\n",
       " nan,\n",
       " nan,\n",
       " nan,\n",
       " nan,\n",
       " nan,\n",
       " nan,\n",
       " nan,\n",
       " 0.91700000000000004,\n",
       " nan,\n",
       " nan,\n",
       " nan,\n",
       " nan,\n",
       " nan,\n",
       " nan,\n",
       " nan,\n",
       " nan,\n",
       " nan,\n",
       " nan,\n",
       " nan,\n",
       " nan,\n",
       " nan,\n",
       " nan,\n",
       " nan,\n",
       " nan,\n",
       " nan,\n",
       " nan,\n",
       " nan,\n",
       " nan,\n",
       " nan,\n",
       " nan,\n",
       " nan,\n",
       " nan,\n",
       " nan,\n",
       " nan,\n",
       " nan,\n",
       " nan,\n",
       " nan,\n",
       " nan,\n",
       " nan,\n",
       " nan,\n",
       " nan,\n",
       " nan,\n",
       " nan,\n",
       " 0.64300000000000002,\n",
       " nan,\n",
       " nan,\n",
       " nan,\n",
       " nan,\n",
       " nan,\n",
       " nan,\n",
       " nan,\n",
       " nan,\n",
       " nan,\n",
       " nan,\n",
       " nan,\n",
       " nan,\n",
       " nan,\n",
       " nan,\n",
       " nan,\n",
       " nan,\n",
       " nan,\n",
       " nan,\n",
       " nan,\n",
       " nan,\n",
       " nan,\n",
       " nan,\n",
       " nan,\n",
       " nan,\n",
       " nan,\n",
       " nan,\n",
       " 0.69199999999999995}"
      ]
     },
     "execution_count": 54,
     "metadata": {},
     "output_type": "execute_result"
    }
   ],
   "source": [
    "set(correct_label_exists.column('Agreement'))"
   ]
  },
  {
   "cell_type": "code",
   "execution_count": 53,
   "id": "9a564b79",
   "metadata": {},
   "outputs": [
    {
     "data": {
      "text/plain": [
       "array([-0.25, 0.0, 0.0, ..., -0.042000000000000037, nan,\n",
       "       -0.17500000000000004], dtype=object)"
      ]
     },
     "execution_count": 53,
     "metadata": {},
     "output_type": "execute_result"
    }
   ],
   "source": [
    "experts_vs_crowd = correct_label_exists.column('Expert Accuracy') - correct_label_exists.column('Agreement')\n",
    "experts_vs_crowd"
   ]
  },
  {
   "cell_type": "code",
   "execution_count": 57,
   "id": "b52463cd",
   "metadata": {},
   "outputs": [
    {
     "data": {
      "text/html": [
       "<table border=\"1\" class=\"dataframe\">\n",
       "    <thead>\n",
       "        <tr>\n",
       "            <th>Case ID</th> <th>Expert Yes Votes</th> <th>Qualified Reads</th> <th>Correct Label</th> <th>Majority Label</th> <th>Difficulty</th> <th>Agreement</th> <th>First Choice Answer</th> <th>First Choice Votes</th> <th>First Choice Weight</th> <th>Second Choice Answer</th> <th>Second Choice Votes</th> <th>Second Choice Weight</th> <th>Expert Accuracy</th>\n",
       "        </tr>\n",
       "    </thead>\n",
       "    <tbody>\n",
       "        <tr>\n",
       "            <td>5888087</td> <td>2               </td> <td>2              </td> <td>no           </td> <td>no            </td> <td>0         </td> <td>1        </td> <td>no                 </td> <td>2                 </td> <td>1.54               </td> <td>yes                 </td> <td>0                  </td> <td>0                   </td> <td>0.75           </td>\n",
       "        </tr>\n",
       "        <tr>\n",
       "            <td>5888088</td> <td>0               </td> <td>3              </td> <td>no           </td> <td>no            </td> <td>0         </td> <td>1        </td> <td>no                 </td> <td>3                 </td> <td>2.34               </td> <td>yes                 </td> <td>0                  </td> <td>0                   </td> <td>1              </td>\n",
       "        </tr>\n",
       "        <tr>\n",
       "            <td>5888089</td> <td>0               </td> <td>2              </td> <td>no           </td> <td>no            </td> <td>0         </td> <td>1        </td> <td>no                 </td> <td>2                 </td> <td>1.7                </td> <td>yes                 </td> <td>0                  </td> <td>0                   </td> <td>1              </td>\n",
       "        </tr>\n",
       "        <tr>\n",
       "            <td>5888090</td> <td>0               </td> <td>1              </td> <td>no           </td> <td>no            </td> <td>0         </td> <td>1        </td> <td>no                 </td> <td>1                 </td> <td>0.82               </td> <td>yes                 </td> <td>0                  </td> <td>0                   </td> <td>1              </td>\n",
       "        </tr>\n",
       "        <tr>\n",
       "            <td>5888092</td> <td>0               </td> <td>4              </td> <td>no           </td> <td>no            </td> <td>0         </td> <td>1        </td> <td>no                 </td> <td>4                 </td> <td>3.3                </td> <td>yes                 </td> <td>0                  </td> <td>0                   </td> <td>1              </td>\n",
       "        </tr>\n",
       "        <tr>\n",
       "            <td>5888093</td> <td>0               </td> <td>6              </td> <td>no           </td> <td>no            </td> <td>0         </td> <td>1        </td> <td>no                 </td> <td>6                 </td> <td>4.94               </td> <td>yes                 </td> <td>0                  </td> <td>0                   </td> <td>1              </td>\n",
       "        </tr>\n",
       "        <tr>\n",
       "            <td>5888094</td> <td>0               </td> <td>2              </td> <td>no           </td> <td>no            </td> <td>0         </td> <td>1        </td> <td>no                 </td> <td>2                 </td> <td>1.56               </td> <td>yes                 </td> <td>0                  </td> <td>0                   </td> <td>1              </td>\n",
       "        </tr>\n",
       "        <tr>\n",
       "            <td>5888095</td> <td>0               </td> <td>4              </td> <td>no           </td> <td>no            </td> <td>0         </td> <td>1        </td> <td>no                 </td> <td>4                 </td> <td>3.34               </td> <td>yes                 </td> <td>0                  </td> <td>0                   </td> <td>1              </td>\n",
       "        </tr>\n",
       "        <tr>\n",
       "            <td>5888096</td> <td>0               </td> <td>3              </td> <td>no           </td> <td>no            </td> <td>0         </td> <td>1        </td> <td>no                 </td> <td>3                 </td> <td>2.56               </td> <td>yes                 </td> <td>0                  </td> <td>0                   </td> <td>1              </td>\n",
       "        </tr>\n",
       "        <tr>\n",
       "            <td>5888097</td> <td>0               </td> <td>4              </td> <td>no           </td> <td>no            </td> <td>0         </td> <td>1        </td> <td>no                 </td> <td>4                 </td> <td>3.16               </td> <td>yes                 </td> <td>0                  </td> <td>0                   </td> <td>1              </td>\n",
       "        </tr>\n",
       "        <tr>\n",
       "            <td>5888098</td> <td>0               </td> <td>1              </td> <td>no           </td> <td>no            </td> <td>0         </td> <td>1        </td> <td>no                 </td> <td>1                 </td> <td>0.82               </td> <td>yes                 </td> <td>0                  </td> <td>0                   </td> <td>1              </td>\n",
       "        </tr>\n",
       "        <tr>\n",
       "            <td>5888099</td> <td>0               </td> <td>5              </td> <td>no           </td> <td>no            </td> <td>0         </td> <td>1        </td> <td>no                 </td> <td>5                 </td> <td>4.05               </td> <td>yes                 </td> <td>0                  </td> <td>0                   </td> <td>1              </td>\n",
       "        </tr>\n",
       "        <tr>\n",
       "            <td>5888100</td> <td>0               </td> <td>7              </td> <td>no           </td> <td>no            </td> <td>0.143     </td> <td>0.857    </td> <td>no                 </td> <td>6                 </td> <td>4.92               </td> <td>yes                 </td> <td>1                  </td> <td>0.8                 </td> <td>1              </td>\n",
       "        </tr>\n",
       "        <tr>\n",
       "            <td>5888101</td> <td>1               </td> <td>3              </td> <td>no           </td> <td>no            </td> <td>0.333     </td> <td>0.667    </td> <td>no                 </td> <td>2                 </td> <td>1.6                </td> <td>yes                 </td> <td>1                  </td> <td>0.76                </td> <td>0.875          </td>\n",
       "        </tr>\n",
       "        <tr>\n",
       "            <td>5888102</td> <td>0               </td> <td>6              </td> <td>no           </td> <td>no            </td> <td>0         </td> <td>1        </td> <td>no                 </td> <td>6                 </td> <td>4.66               </td> <td>yes                 </td> <td>0                  </td> <td>0                   </td> <td>1              </td>\n",
       "        </tr>\n",
       "        <tr>\n",
       "            <td>5888103</td> <td>2               </td> <td>1              </td> <td>no           </td> <td>no            </td> <td>0         </td> <td>1        </td> <td>no                 </td> <td>1                 </td> <td>0.82               </td> <td>yes                 </td> <td>0                  </td> <td>0                   </td> <td>0.75           </td>\n",
       "        </tr>\n",
       "        <tr>\n",
       "            <td>5888104</td> <td>0               </td> <td>6              </td> <td>no           </td> <td>no            </td> <td>0         </td> <td>1        </td> <td>no                 </td> <td>6                 </td> <td>4.7                </td> <td>yes                 </td> <td>0                  </td> <td>0                   </td> <td>1              </td>\n",
       "        </tr>\n",
       "        <tr>\n",
       "            <td>5888105</td> <td>0               </td> <td>3              </td> <td>no           </td> <td>no            </td> <td>0         </td> <td>1        </td> <td>no                 </td> <td>3                 </td> <td>2.42               </td> <td>yes                 </td> <td>0                  </td> <td>0                   </td> <td>1              </td>\n",
       "        </tr>\n",
       "        <tr>\n",
       "            <td>5888106</td> <td>0               </td> <td>2              </td> <td>no           </td> <td>no            </td> <td>0         </td> <td>1        </td> <td>no                 </td> <td>2                 </td> <td>1.6                </td> <td>yes                 </td> <td>0                  </td> <td>0                   </td> <td>1              </td>\n",
       "        </tr>\n",
       "        <tr>\n",
       "            <td>5888107</td> <td>0               </td> <td>1              </td> <td>no           </td> <td>no            </td> <td>0         </td> <td>1        </td> <td>no                 </td> <td>1                 </td> <td>0.76               </td> <td>yes                 </td> <td>0                  </td> <td>0                   </td> <td>1              </td>\n",
       "        </tr>\n",
       "        <tr>\n",
       "            <td>5888108</td> <td>0               </td> <td>6              </td> <td>no           </td> <td>no            </td> <td>0         </td> <td>1        </td> <td>no                 </td> <td>6                 </td> <td>4.9                </td> <td>yes                 </td> <td>0                  </td> <td>0                   </td> <td>1              </td>\n",
       "        </tr>\n",
       "        <tr>\n",
       "            <td>5888109</td> <td>0               </td> <td>1              </td> <td>no           </td> <td>no            </td> <td>0         </td> <td>1        </td> <td>no                 </td> <td>1                 </td> <td>0.8                </td> <td>yes                 </td> <td>0                  </td> <td>0                   </td> <td>1              </td>\n",
       "        </tr>\n",
       "        <tr>\n",
       "            <td>5888110</td> <td>0               </td> <td>1              </td> <td>no           </td> <td>no            </td> <td>0         </td> <td>1        </td> <td>no                 </td> <td>1                 </td> <td>0.76               </td> <td>yes                 </td> <td>0                  </td> <td>0                   </td> <td>1              </td>\n",
       "        </tr>\n",
       "        <tr>\n",
       "            <td>5888111</td> <td>0               </td> <td>4              </td> <td>no           </td> <td>no            </td> <td>0         </td> <td>1        </td> <td>no                 </td> <td>4                 </td> <td>3.2                </td> <td>yes                 </td> <td>0                  </td> <td>0                   </td> <td>1              </td>\n",
       "        </tr>\n",
       "        <tr>\n",
       "            <td>5888112</td> <td>0               </td> <td>7              </td> <td>no           </td> <td>no            </td> <td>0         </td> <td>1        </td> <td>no                 </td> <td>7                 </td> <td>5.68               </td> <td>yes                 </td> <td>0                  </td> <td>0                   </td> <td>1              </td>\n",
       "        </tr>\n",
       "        <tr>\n",
       "            <td>5888113</td> <td>0               </td> <td>3              </td> <td>no           </td> <td>no            </td> <td>0.333     </td> <td>0.667    </td> <td>no                 </td> <td>2                 </td> <td>1.78               </td> <td>yes                 </td> <td>1                  </td> <td>0.76                </td> <td>1              </td>\n",
       "        </tr>\n",
       "        <tr>\n",
       "            <td>5888114</td> <td>0               </td> <td>5              </td> <td>no           </td> <td>no            </td> <td>0         </td> <td>1        </td> <td>no                 </td> <td>5                 </td> <td>4.02               </td> <td>yes                 </td> <td>0                  </td> <td>0                   </td> <td>1              </td>\n",
       "        </tr>\n",
       "        <tr>\n",
       "            <td>5888115</td> <td>0               </td> <td>3              </td> <td>no           </td> <td>no            </td> <td>0         </td> <td>1        </td> <td>no                 </td> <td>3                 </td> <td>2.38               </td> <td>yes                 </td> <td>0                  </td> <td>0                   </td> <td>1              </td>\n",
       "        </tr>\n",
       "        <tr>\n",
       "            <td>5888116</td> <td>0               </td> <td>5              </td> <td>no           </td> <td>no            </td> <td>0         </td> <td>1        </td> <td>no                 </td> <td>5                 </td> <td>3.98               </td> <td>yes                 </td> <td>0                  </td> <td>0                   </td> <td>1              </td>\n",
       "        </tr>\n",
       "        <tr>\n",
       "            <td>5888117</td> <td>0               </td> <td>0              </td> <td>no           </td> <td>nan           </td> <td>nan       </td> <td>nan      </td> <td>yes                </td> <td>0                 </td> <td>0                  </td> <td>no                  </td> <td>0                  </td> <td>0                   </td> <td>1              </td>\n",
       "        </tr>\n",
       "        <tr>\n",
       "            <td>5888118</td> <td>0               </td> <td>4              </td> <td>no           </td> <td>no            </td> <td>0         </td> <td>1        </td> <td>no                 </td> <td>4                 </td> <td>3.08               </td> <td>yes                 </td> <td>0                  </td> <td>0                   </td> <td>1              </td>\n",
       "        </tr>\n",
       "        <tr>\n",
       "            <td>5888119</td> <td>0               </td> <td>6              </td> <td>no           </td> <td>no            </td> <td>0         </td> <td>1        </td> <td>no                 </td> <td>6                 </td> <td>4.76               </td> <td>yes                 </td> <td>0                  </td> <td>0                   </td> <td>1              </td>\n",
       "        </tr>\n",
       "        <tr>\n",
       "            <td>5888120</td> <td>0               </td> <td>8              </td> <td>no           </td> <td>no            </td> <td>0         </td> <td>1        </td> <td>no                 </td> <td>8                 </td> <td>6.52               </td> <td>yes                 </td> <td>0                  </td> <td>0                   </td> <td>1              </td>\n",
       "        </tr>\n",
       "        <tr>\n",
       "            <td>5888121</td> <td>0               </td> <td>7              </td> <td>no           </td> <td>no            </td> <td>0.143     </td> <td>0.857    </td> <td>no                 </td> <td>6                 </td> <td>4.78               </td> <td>yes                 </td> <td>1                  </td> <td>0.78                </td> <td>1              </td>\n",
       "        </tr>\n",
       "        <tr>\n",
       "            <td>5888122</td> <td>0               </td> <td>4              </td> <td>no           </td> <td>no            </td> <td>0         </td> <td>1        </td> <td>no                 </td> <td>4                 </td> <td>3.28               </td> <td>yes                 </td> <td>0                  </td> <td>0                   </td> <td>1              </td>\n",
       "        </tr>\n",
       "        <tr>\n",
       "            <td>5888123</td> <td>1               </td> <td>2              </td> <td>no           </td> <td>yes           </td> <td>0.5       </td> <td>0.5      </td> <td>yes                </td> <td>1                 </td> <td>0.8                </td> <td>no                  </td> <td>1                  </td> <td>0.88                </td> <td>0.875          </td>\n",
       "        </tr>\n",
       "        <tr>\n",
       "            <td>5888124</td> <td>0               </td> <td>4              </td> <td>no           </td> <td>no            </td> <td>0         </td> <td>1        </td> <td>no                 </td> <td>4                 </td> <td>3.26               </td> <td>yes                 </td> <td>0                  </td> <td>0                   </td> <td>1              </td>\n",
       "        </tr>\n",
       "        <tr>\n",
       "            <td>5888125</td> <td>0               </td> <td>5              </td> <td>no           </td> <td>no            </td> <td>0         </td> <td>1        </td> <td>no                 </td> <td>5                 </td> <td>3.96               </td> <td>yes                 </td> <td>0                  </td> <td>0                   </td> <td>1              </td>\n",
       "        </tr>\n",
       "        <tr>\n",
       "            <td>5888126</td> <td>0               </td> <td>7              </td> <td>no           </td> <td>no            </td> <td>0         </td> <td>1        </td> <td>no                 </td> <td>7                 </td> <td>5.64               </td> <td>yes                 </td> <td>0                  </td> <td>0                   </td> <td>1              </td>\n",
       "        </tr>\n",
       "        <tr>\n",
       "            <td>5888127</td> <td>0               </td> <td>6              </td> <td>no           </td> <td>no            </td> <td>0         </td> <td>1        </td> <td>no                 </td> <td>6                 </td> <td>5.02               </td> <td>yes                 </td> <td>0                  </td> <td>0                   </td> <td>1              </td>\n",
       "        </tr>\n",
       "        <tr>\n",
       "            <td>5888128</td> <td>0               </td> <td>5              </td> <td>no           </td> <td>no            </td> <td>0         </td> <td>1        </td> <td>no                 </td> <td>5                 </td> <td>3.96               </td> <td>yes                 </td> <td>0                  </td> <td>0                   </td> <td>1              </td>\n",
       "        </tr>\n",
       "        <tr>\n",
       "            <td>5888129</td> <td>0               </td> <td>2              </td> <td>no           </td> <td>no            </td> <td>0         </td> <td>1        </td> <td>no                 </td> <td>2                 </td> <td>1.72               </td> <td>yes                 </td> <td>0                  </td> <td>0                   </td> <td>1              </td>\n",
       "        </tr>\n",
       "        <tr>\n",
       "            <td>5888130</td> <td>0               </td> <td>7              </td> <td>no           </td> <td>no            </td> <td>0         </td> <td>1        </td> <td>no                 </td> <td>7                 </td> <td>5.54               </td> <td>yes                 </td> <td>0                  </td> <td>0                   </td> <td>1              </td>\n",
       "        </tr>\n",
       "        <tr>\n",
       "            <td>5888131</td> <td>0               </td> <td>5              </td> <td>no           </td> <td>no            </td> <td>0         </td> <td>1        </td> <td>no                 </td> <td>5                 </td> <td>4.04               </td> <td>yes                 </td> <td>0                  </td> <td>0                   </td> <td>1              </td>\n",
       "        </tr>\n",
       "        <tr>\n",
       "            <td>5888132</td> <td>0               </td> <td>3              </td> <td>no           </td> <td>no            </td> <td>0         </td> <td>1        </td> <td>no                 </td> <td>3                 </td> <td>2.42               </td> <td>yes                 </td> <td>0                  </td> <td>0                   </td> <td>1              </td>\n",
       "        </tr>\n",
       "        <tr>\n",
       "            <td>5888133</td> <td>0               </td> <td>5              </td> <td>no           </td> <td>no            </td> <td>0         </td> <td>1        </td> <td>no                 </td> <td>5                 </td> <td>3.9                </td> <td>yes                 </td> <td>0                  </td> <td>0                   </td> <td>1              </td>\n",
       "        </tr>\n",
       "        <tr>\n",
       "            <td>5888134</td> <td>0               </td> <td>6              </td> <td>no           </td> <td>no            </td> <td>0         </td> <td>1        </td> <td>no                 </td> <td>6                 </td> <td>4.74               </td> <td>yes                 </td> <td>0                  </td> <td>0                   </td> <td>1              </td>\n",
       "        </tr>\n",
       "        <tr>\n",
       "            <td>5888135</td> <td>0               </td> <td>3              </td> <td>no           </td> <td>no            </td> <td>0         </td> <td>1        </td> <td>no                 </td> <td>3                 </td> <td>2.31               </td> <td>yes                 </td> <td>0                  </td> <td>0                   </td> <td>1              </td>\n",
       "        </tr>\n",
       "        <tr>\n",
       "            <td>5888136</td> <td>0               </td> <td>3              </td> <td>no           </td> <td>no            </td> <td>0.333     </td> <td>0.667    </td> <td>no                 </td> <td>2                 </td> <td>1.58               </td> <td>yes                 </td> <td>1                  </td> <td>0.76                </td> <td>1              </td>\n",
       "        </tr>\n",
       "        <tr>\n",
       "            <td>5888137</td> <td>0               </td> <td>7              </td> <td>no           </td> <td>no            </td> <td>0         </td> <td>1        </td> <td>no                 </td> <td>7                 </td> <td>5.67               </td> <td>yes                 </td> <td>0                  </td> <td>0                   </td> <td>1              </td>\n",
       "        </tr>\n",
       "        <tr>\n",
       "            <td>5888138</td> <td>0               </td> <td>6              </td> <td>no           </td> <td>no            </td> <td>0         </td> <td>1        </td> <td>no                 </td> <td>6                 </td> <td>4.88               </td> <td>yes                 </td> <td>0                  </td> <td>0                   </td> <td>1              </td>\n",
       "        </tr>\n",
       "        <tr>\n",
       "            <td>5888139</td> <td>0               </td> <td>5              </td> <td>no           </td> <td>no            </td> <td>0         </td> <td>1        </td> <td>no                 </td> <td>5                 </td> <td>4.18               </td> <td>yes                 </td> <td>0                  </td> <td>0                   </td> <td>1              </td>\n",
       "        </tr>\n",
       "        <tr>\n",
       "            <td>5888140</td> <td>0               </td> <td>7              </td> <td>no           </td> <td>no            </td> <td>0         </td> <td>1        </td> <td>no                 </td> <td>7                 </td> <td>5.46               </td> <td>yes                 </td> <td>0                  </td> <td>0                   </td> <td>1              </td>\n",
       "        </tr>\n",
       "        <tr>\n",
       "            <td>5888141</td> <td>0               </td> <td>6              </td> <td>no           </td> <td>no            </td> <td>0         </td> <td>1        </td> <td>no                 </td> <td>6                 </td> <td>4.89               </td> <td>yes                 </td> <td>0                  </td> <td>0                   </td> <td>1              </td>\n",
       "        </tr>\n",
       "        <tr>\n",
       "            <td>5888142</td> <td>0               </td> <td>5              </td> <td>no           </td> <td>no            </td> <td>0.2       </td> <td>0.8      </td> <td>no                 </td> <td>4                 </td> <td>3.16               </td> <td>yes                 </td> <td>1                  </td> <td>0.76                </td> <td>1              </td>\n",
       "        </tr>\n",
       "        <tr>\n",
       "            <td>5888143</td> <td>0               </td> <td>3              </td> <td>no           </td> <td>no            </td> <td>0         </td> <td>1        </td> <td>no                 </td> <td>3                 </td> <td>2.36               </td> <td>yes                 </td> <td>0                  </td> <td>0                   </td> <td>1              </td>\n",
       "        </tr>\n",
       "        <tr>\n",
       "            <td>5888144</td> <td>0               </td> <td>2              </td> <td>no           </td> <td>no            </td> <td>0         </td> <td>1        </td> <td>no                 </td> <td>2                 </td> <td>1.62               </td> <td>yes                 </td> <td>0                  </td> <td>0                   </td> <td>1              </td>\n",
       "        </tr>\n",
       "        <tr>\n",
       "            <td>5888146</td> <td>0               </td> <td>5              </td> <td>no           </td> <td>no            </td> <td>0         </td> <td>1        </td> <td>no                 </td> <td>5                 </td> <td>3.96               </td> <td>yes                 </td> <td>0                  </td> <td>0                   </td> <td>1              </td>\n",
       "        </tr>\n",
       "        <tr>\n",
       "            <td>5888147</td> <td>0               </td> <td>3              </td> <td>no           </td> <td>no            </td> <td>0         </td> <td>1        </td> <td>no                 </td> <td>3                 </td> <td>2.32               </td> <td>yes                 </td> <td>0                  </td> <td>0                   </td> <td>1              </td>\n",
       "        </tr>\n",
       "        <tr>\n",
       "            <td>5888148</td> <td>2               </td> <td>4              </td> <td>no           </td> <td>no            </td> <td>0         </td> <td>1        </td> <td>no                 </td> <td>4                 </td> <td>3.05               </td> <td>yes                 </td> <td>0                  </td> <td>0                   </td> <td>0.75           </td>\n",
       "        </tr>\n",
       "        <tr>\n",
       "            <td>5888149</td> <td>0               </td> <td>6              </td> <td>no           </td> <td>no            </td> <td>0         </td> <td>1        </td> <td>no                 </td> <td>6                 </td> <td>4.88               </td> <td>yes                 </td> <td>0                  </td> <td>0                   </td> <td>1              </td>\n",
       "        </tr>\n",
       "        <tr>\n",
       "            <td>5888150</td> <td>0               </td> <td>5              </td> <td>no           </td> <td>no            </td> <td>0         </td> <td>1        </td> <td>no                 </td> <td>5                 </td> <td>4.24               </td> <td>yes                 </td> <td>0                  </td> <td>0                   </td> <td>1              </td>\n",
       "        </tr>\n",
       "        <tr>\n",
       "            <td>5888151</td> <td>0               </td> <td>5              </td> <td>no           </td> <td>no            </td> <td>0         </td> <td>1        </td> <td>no                 </td> <td>5                 </td> <td>4.11               </td> <td>yes                 </td> <td>0                  </td> <td>0                   </td> <td>1              </td>\n",
       "        </tr>\n",
       "        <tr>\n",
       "            <td>5888152</td> <td>0               </td> <td>5              </td> <td>no           </td> <td>no            </td> <td>0         </td> <td>1        </td> <td>no                 </td> <td>5                 </td> <td>3.98               </td> <td>yes                 </td> <td>0                  </td> <td>0                   </td> <td>1              </td>\n",
       "        </tr>\n",
       "        <tr>\n",
       "            <td>5888153</td> <td>0               </td> <td>3              </td> <td>no           </td> <td>no            </td> <td>0         </td> <td>1        </td> <td>no                 </td> <td>3                 </td> <td>2.46               </td> <td>yes                 </td> <td>0                  </td> <td>0                   </td> <td>1              </td>\n",
       "        </tr>\n",
       "        <tr>\n",
       "            <td>5888154</td> <td>1               </td> <td>2              </td> <td>no           </td> <td>no            </td> <td>0         </td> <td>1        </td> <td>no                 </td> <td>2                 </td> <td>1.6                </td> <td>yes                 </td> <td>0                  </td> <td>0                   </td> <td>0.875          </td>\n",
       "        </tr>\n",
       "        <tr>\n",
       "            <td>5888155</td> <td>0               </td> <td>6              </td> <td>no           </td> <td>no            </td> <td>0         </td> <td>1        </td> <td>no                 </td> <td>6                 </td> <td>4.87               </td> <td>yes                 </td> <td>0                  </td> <td>0                   </td> <td>1              </td>\n",
       "        </tr>\n",
       "        <tr>\n",
       "            <td>5888156</td> <td>0               </td> <td>8              </td> <td>no           </td> <td>no            </td> <td>0         </td> <td>1        </td> <td>no                 </td> <td>8                 </td> <td>6.38               </td> <td>yes                 </td> <td>0                  </td> <td>0                   </td> <td>1              </td>\n",
       "        </tr>\n",
       "        <tr>\n",
       "            <td>5888157</td> <td>0               </td> <td>3              </td> <td>no           </td> <td>no            </td> <td>0         </td> <td>1        </td> <td>no                 </td> <td>3                 </td> <td>2.36               </td> <td>yes                 </td> <td>0                  </td> <td>0                   </td> <td>1              </td>\n",
       "        </tr>\n",
       "        <tr>\n",
       "            <td>5888158</td> <td>0               </td> <td>4              </td> <td>no           </td> <td>no            </td> <td>0         </td> <td>1        </td> <td>no                 </td> <td>4                 </td> <td>3.12               </td> <td>yes                 </td> <td>0                  </td> <td>0                   </td> <td>1              </td>\n",
       "        </tr>\n",
       "        <tr>\n",
       "            <td>5888159</td> <td>0               </td> <td>7              </td> <td>no           </td> <td>no            </td> <td>0         </td> <td>1        </td> <td>no                 </td> <td>7                 </td> <td>5.77               </td> <td>yes                 </td> <td>0                  </td> <td>0                   </td> <td>1              </td>\n",
       "        </tr>\n",
       "        <tr>\n",
       "            <td>5888160</td> <td>0               </td> <td>5              </td> <td>no           </td> <td>no            </td> <td>0         </td> <td>1        </td> <td>no                 </td> <td>5                 </td> <td>4.14               </td> <td>yes                 </td> <td>0                  </td> <td>0                   </td> <td>1              </td>\n",
       "        </tr>\n",
       "        <tr>\n",
       "            <td>5888161</td> <td>0               </td> <td>8              </td> <td>no           </td> <td>no            </td> <td>0         </td> <td>1        </td> <td>no                 </td> <td>8                 </td> <td>6.38               </td> <td>yes                 </td> <td>0                  </td> <td>0                   </td> <td>1              </td>\n",
       "        </tr>\n",
       "        <tr>\n",
       "            <td>5888162</td> <td>0               </td> <td>2              </td> <td>no           </td> <td>no            </td> <td>0         </td> <td>1        </td> <td>no                 </td> <td>2                 </td> <td>1.58               </td> <td>yes                 </td> <td>0                  </td> <td>0                   </td> <td>1              </td>\n",
       "        </tr>\n",
       "        <tr>\n",
       "            <td>5888163</td> <td>0               </td> <td>4              </td> <td>no           </td> <td>no            </td> <td>0         </td> <td>1        </td> <td>no                 </td> <td>4                 </td> <td>3.23               </td> <td>yes                 </td> <td>0                  </td> <td>0                   </td> <td>1              </td>\n",
       "        </tr>\n",
       "        <tr>\n",
       "            <td>5888164</td> <td>0               </td> <td>10             </td> <td>no           </td> <td>no            </td> <td>0         </td> <td>1        </td> <td>no                 </td> <td>10                </td> <td>7.9                </td> <td>yes                 </td> <td>0                  </td> <td>0                   </td> <td>1              </td>\n",
       "        </tr>\n",
       "        <tr>\n",
       "            <td>5888165</td> <td>0               </td> <td>5              </td> <td>no           </td> <td>no            </td> <td>0         </td> <td>1        </td> <td>no                 </td> <td>5                 </td> <td>3.9                </td> <td>yes                 </td> <td>0                  </td> <td>0                   </td> <td>1              </td>\n",
       "        </tr>\n",
       "        <tr>\n",
       "            <td>5888166</td> <td>0               </td> <td>5              </td> <td>no           </td> <td>no            </td> <td>0         </td> <td>1        </td> <td>no                 </td> <td>5                 </td> <td>4.04               </td> <td>yes                 </td> <td>0                  </td> <td>0                   </td> <td>1              </td>\n",
       "        </tr>\n",
       "        <tr>\n",
       "            <td>5888167</td> <td>0               </td> <td>3              </td> <td>no           </td> <td>no            </td> <td>0         </td> <td>1        </td> <td>no                 </td> <td>3                 </td> <td>2.46               </td> <td>yes                 </td> <td>0                  </td> <td>0                   </td> <td>1              </td>\n",
       "        </tr>\n",
       "        <tr>\n",
       "            <td>5888168</td> <td>0               </td> <td>5              </td> <td>no           </td> <td>no            </td> <td>0         </td> <td>1        </td> <td>no                 </td> <td>5                 </td> <td>3.9                </td> <td>yes                 </td> <td>0                  </td> <td>0                   </td> <td>1              </td>\n",
       "        </tr>\n",
       "        <tr>\n",
       "            <td>5888169</td> <td>0               </td> <td>6              </td> <td>no           </td> <td>no            </td> <td>0         </td> <td>1        </td> <td>no                 </td> <td>6                 </td> <td>4.78               </td> <td>yes                 </td> <td>0                  </td> <td>0                   </td> <td>1              </td>\n",
       "        </tr>\n",
       "        <tr>\n",
       "            <td>5888171</td> <td>0               </td> <td>5              </td> <td>no           </td> <td>no            </td> <td>0         </td> <td>1        </td> <td>no                 </td> <td>5                 </td> <td>4.14               </td> <td>yes                 </td> <td>0                  </td> <td>0                   </td> <td>1              </td>\n",
       "        </tr>\n",
       "        <tr>\n",
       "            <td>5888172</td> <td>0               </td> <td>9              </td> <td>no           </td> <td>no            </td> <td>0         </td> <td>1        </td> <td>no                 </td> <td>9                 </td> <td>6.95               </td> <td>yes                 </td> <td>0                  </td> <td>0                   </td> <td>1              </td>\n",
       "        </tr>\n",
       "        <tr>\n",
       "            <td>5888173</td> <td>0               </td> <td>3              </td> <td>no           </td> <td>no            </td> <td>0         </td> <td>1        </td> <td>no                 </td> <td>3                 </td> <td>2.38               </td> <td>yes                 </td> <td>0                  </td> <td>0                   </td> <td>1              </td>\n",
       "        </tr>\n",
       "        <tr>\n",
       "            <td>5888174</td> <td>0               </td> <td>9              </td> <td>no           </td> <td>no            </td> <td>0         </td> <td>1        </td> <td>no                 </td> <td>9                 </td> <td>7.08               </td> <td>yes                 </td> <td>0                  </td> <td>0                   </td> <td>1              </td>\n",
       "        </tr>\n",
       "        <tr>\n",
       "            <td>5888175</td> <td>1               </td> <td>3              </td> <td>no           </td> <td>no            </td> <td>0         </td> <td>1        </td> <td>no                 </td> <td>3                 </td> <td>2.36               </td> <td>yes                 </td> <td>0                  </td> <td>0                   </td> <td>0.875          </td>\n",
       "        </tr>\n",
       "        <tr>\n",
       "            <td>5888176</td> <td>0               </td> <td>2              </td> <td>no           </td> <td>no            </td> <td>0         </td> <td>1        </td> <td>no                 </td> <td>2                 </td> <td>1.56               </td> <td>yes                 </td> <td>0                  </td> <td>0                   </td> <td>1              </td>\n",
       "        </tr>\n",
       "        <tr>\n",
       "            <td>5888177</td> <td>0               </td> <td>6              </td> <td>no           </td> <td>no            </td> <td>0         </td> <td>1        </td> <td>no                 </td> <td>6                 </td> <td>4.83               </td> <td>yes                 </td> <td>0                  </td> <td>0                   </td> <td>1              </td>\n",
       "        </tr>\n",
       "        <tr>\n",
       "            <td>5888178</td> <td>0               </td> <td>3              </td> <td>no           </td> <td>no            </td> <td>0         </td> <td>1        </td> <td>no                 </td> <td>3                 </td> <td>2.34               </td> <td>yes                 </td> <td>0                  </td> <td>0                   </td> <td>1              </td>\n",
       "        </tr>\n",
       "        <tr>\n",
       "            <td>5888180</td> <td>0               </td> <td>0              </td> <td>no           </td> <td>nan           </td> <td>nan       </td> <td>nan      </td> <td>yes                </td> <td>0                 </td> <td>0                  </td> <td>no                  </td> <td>0                  </td> <td>0                   </td> <td>1              </td>\n",
       "        </tr>\n",
       "        <tr>\n",
       "            <td>5888181</td> <td>0               </td> <td>2              </td> <td>no           </td> <td>no            </td> <td>0         </td> <td>1        </td> <td>no                 </td> <td>2                 </td> <td>1.64               </td> <td>yes                 </td> <td>0                  </td> <td>0                   </td> <td>1              </td>\n",
       "        </tr>\n",
       "        <tr>\n",
       "            <td>5888182</td> <td>0               </td> <td>6              </td> <td>no           </td> <td>no            </td> <td>0         </td> <td>1        </td> <td>no                 </td> <td>6                 </td> <td>4.84               </td> <td>yes                 </td> <td>0                  </td> <td>0                   </td> <td>1              </td>\n",
       "        </tr>\n",
       "        <tr>\n",
       "            <td>5888184</td> <td>0               </td> <td>6              </td> <td>no           </td> <td>no            </td> <td>0         </td> <td>1        </td> <td>no                 </td> <td>6                 </td> <td>4.88               </td> <td>yes                 </td> <td>0                  </td> <td>0                   </td> <td>1              </td>\n",
       "        </tr>\n",
       "        <tr>\n",
       "            <td>5888185</td> <td>0               </td> <td>4              </td> <td>no           </td> <td>no            </td> <td>0         </td> <td>1        </td> <td>no                 </td> <td>4                 </td> <td>3.29               </td> <td>yes                 </td> <td>0                  </td> <td>0                   </td> <td>1              </td>\n",
       "        </tr>\n",
       "        <tr>\n",
       "            <td>5888186</td> <td>0               </td> <td>6              </td> <td>no           </td> <td>no            </td> <td>0         </td> <td>1        </td> <td>no                 </td> <td>6                 </td> <td>4.8                </td> <td>yes                 </td> <td>0                  </td> <td>0                   </td> <td>1              </td>\n",
       "        </tr>\n",
       "        <tr>\n",
       "            <td>5888187</td> <td>1               </td> <td>4              </td> <td>no           </td> <td>no            </td> <td>0         </td> <td>1        </td> <td>no                 </td> <td>4                 </td> <td>3.44               </td> <td>yes                 </td> <td>0                  </td> <td>0                   </td> <td>0.875          </td>\n",
       "        </tr>\n",
       "        <tr>\n",
       "            <td>5888188</td> <td>0               </td> <td>4              </td> <td>no           </td> <td>no            </td> <td>0         </td> <td>1        </td> <td>no                 </td> <td>4                 </td> <td>3.14               </td> <td>yes                 </td> <td>0                  </td> <td>0                   </td> <td>1              </td>\n",
       "        </tr>\n",
       "        <tr>\n",
       "            <td>5888189</td> <td>0               </td> <td>2              </td> <td>no           </td> <td>no            </td> <td>0         </td> <td>1        </td> <td>no                 </td> <td>2                 </td> <td>1.58               </td> <td>yes                 </td> <td>0                  </td> <td>0                   </td> <td>1              </td>\n",
       "        </tr>\n",
       "        <tr>\n",
       "            <td>5888190</td> <td>0               </td> <td>4              </td> <td>no           </td> <td>no            </td> <td>0         </td> <td>1        </td> <td>no                 </td> <td>4                 </td> <td>3.28               </td> <td>yes                 </td> <td>0                  </td> <td>0                   </td> <td>1              </td>\n",
       "        </tr>\n",
       "        <tr>\n",
       "            <td>5888191</td> <td>0               </td> <td>6              </td> <td>no           </td> <td>no            </td> <td>0         </td> <td>1        </td> <td>no                 </td> <td>6                 </td> <td>4.8                </td> <td>yes                 </td> <td>0                  </td> <td>0                   </td> <td>1              </td>\n",
       "        </tr>\n",
       "    </tbody>\n",
       "</table>\n",
       "<p>... (23900 rows omitted)</p>"
      ],
      "text/plain": [
       "<IPython.core.display.HTML object>"
      ]
     },
     "metadata": {},
     "output_type": "display_data"
    }
   ],
   "source": [
    "correct_label_exists.show(100)"
   ]
  },
  {
   "cell_type": "markdown",
   "id": "b0d05f83",
   "metadata": {},
   "source": [
    "Only taking cases where qualified reads are a positive number:"
   ]
  },
  {
   "cell_type": "code",
   "execution_count": 59,
   "id": "625d99dc",
   "metadata": {},
   "outputs": [
    {
     "data": {
      "text/html": [
       "<table border=\"1\" class=\"dataframe\">\n",
       "    <thead>\n",
       "        <tr>\n",
       "            <th>Case ID</th> <th>Expert Yes Votes</th> <th>Qualified Reads</th> <th>Correct Label</th> <th>Majority Label</th> <th>Difficulty</th> <th>Agreement</th> <th>First Choice Answer</th> <th>First Choice Votes</th> <th>First Choice Weight</th> <th>Second Choice Answer</th> <th>Second Choice Votes</th> <th>Second Choice Weight</th> <th>Expert Accuracy</th>\n",
       "        </tr>\n",
       "    </thead>\n",
       "    <tbody>\n",
       "        <tr>\n",
       "            <td>5888087</td> <td>2               </td> <td>2              </td> <td>no           </td> <td>no            </td> <td>0         </td> <td>1        </td> <td>no                 </td> <td>2                 </td> <td>1.54               </td> <td>yes                 </td> <td>0                  </td> <td>0                   </td> <td>0.75           </td>\n",
       "        </tr>\n",
       "        <tr>\n",
       "            <td>5888088</td> <td>0               </td> <td>3              </td> <td>no           </td> <td>no            </td> <td>0         </td> <td>1        </td> <td>no                 </td> <td>3                 </td> <td>2.34               </td> <td>yes                 </td> <td>0                  </td> <td>0                   </td> <td>1              </td>\n",
       "        </tr>\n",
       "        <tr>\n",
       "            <td>5888089</td> <td>0               </td> <td>2              </td> <td>no           </td> <td>no            </td> <td>0         </td> <td>1        </td> <td>no                 </td> <td>2                 </td> <td>1.7                </td> <td>yes                 </td> <td>0                  </td> <td>0                   </td> <td>1              </td>\n",
       "        </tr>\n",
       "        <tr>\n",
       "            <td>5888090</td> <td>0               </td> <td>1              </td> <td>no           </td> <td>no            </td> <td>0         </td> <td>1        </td> <td>no                 </td> <td>1                 </td> <td>0.82               </td> <td>yes                 </td> <td>0                  </td> <td>0                   </td> <td>1              </td>\n",
       "        </tr>\n",
       "        <tr>\n",
       "            <td>5888092</td> <td>0               </td> <td>4              </td> <td>no           </td> <td>no            </td> <td>0         </td> <td>1        </td> <td>no                 </td> <td>4                 </td> <td>3.3                </td> <td>yes                 </td> <td>0                  </td> <td>0                   </td> <td>1              </td>\n",
       "        </tr>\n",
       "        <tr>\n",
       "            <td>5888093</td> <td>0               </td> <td>6              </td> <td>no           </td> <td>no            </td> <td>0         </td> <td>1        </td> <td>no                 </td> <td>6                 </td> <td>4.94               </td> <td>yes                 </td> <td>0                  </td> <td>0                   </td> <td>1              </td>\n",
       "        </tr>\n",
       "        <tr>\n",
       "            <td>5888094</td> <td>0               </td> <td>2              </td> <td>no           </td> <td>no            </td> <td>0         </td> <td>1        </td> <td>no                 </td> <td>2                 </td> <td>1.56               </td> <td>yes                 </td> <td>0                  </td> <td>0                   </td> <td>1              </td>\n",
       "        </tr>\n",
       "        <tr>\n",
       "            <td>5888095</td> <td>0               </td> <td>4              </td> <td>no           </td> <td>no            </td> <td>0         </td> <td>1        </td> <td>no                 </td> <td>4                 </td> <td>3.34               </td> <td>yes                 </td> <td>0                  </td> <td>0                   </td> <td>1              </td>\n",
       "        </tr>\n",
       "        <tr>\n",
       "            <td>5888096</td> <td>0               </td> <td>3              </td> <td>no           </td> <td>no            </td> <td>0         </td> <td>1        </td> <td>no                 </td> <td>3                 </td> <td>2.56               </td> <td>yes                 </td> <td>0                  </td> <td>0                   </td> <td>1              </td>\n",
       "        </tr>\n",
       "        <tr>\n",
       "            <td>5888097</td> <td>0               </td> <td>4              </td> <td>no           </td> <td>no            </td> <td>0         </td> <td>1        </td> <td>no                 </td> <td>4                 </td> <td>3.16               </td> <td>yes                 </td> <td>0                  </td> <td>0                   </td> <td>1              </td>\n",
       "        </tr>\n",
       "    </tbody>\n",
       "</table>\n",
       "<p>... (23748 rows omitted)</p>"
      ],
      "text/plain": [
       "Case ID | Expert Yes Votes | Qualified Reads | Correct Label | Majority Label | Difficulty | Agreement | First Choice Answer | First Choice Votes | First Choice Weight | Second Choice Answer | Second Choice Votes | Second Choice Weight | Expert Accuracy\n",
       "5888087 | 2                | 2               | no            | no             | 0          | 1         | no                  | 2                  | 1.54                | yes                  | 0                   | 0                    | 0.75\n",
       "5888088 | 0                | 3               | no            | no             | 0          | 1         | no                  | 3                  | 2.34                | yes                  | 0                   | 0                    | 1\n",
       "5888089 | 0                | 2               | no            | no             | 0          | 1         | no                  | 2                  | 1.7                 | yes                  | 0                   | 0                    | 1\n",
       "5888090 | 0                | 1               | no            | no             | 0          | 1         | no                  | 1                  | 0.82                | yes                  | 0                   | 0                    | 1\n",
       "5888092 | 0                | 4               | no            | no             | 0          | 1         | no                  | 4                  | 3.3                 | yes                  | 0                   | 0                    | 1\n",
       "5888093 | 0                | 6               | no            | no             | 0          | 1         | no                  | 6                  | 4.94                | yes                  | 0                   | 0                    | 1\n",
       "5888094 | 0                | 2               | no            | no             | 0          | 1         | no                  | 2                  | 1.56                | yes                  | 0                   | 0                    | 1\n",
       "5888095 | 0                | 4               | no            | no             | 0          | 1         | no                  | 4                  | 3.34                | yes                  | 0                   | 0                    | 1\n",
       "5888096 | 0                | 3               | no            | no             | 0          | 1         | no                  | 3                  | 2.56                | yes                  | 0                   | 0                    | 1\n",
       "5888097 | 0                | 4               | no            | no             | 0          | 1         | no                  | 4                  | 3.16                | yes                  | 0                   | 0                    | 1\n",
       "... (23748 rows omitted)"
      ]
     },
     "execution_count": 59,
     "metadata": {},
     "output_type": "execute_result"
    }
   ],
   "source": [
    "correct_label_and_qualified_reads = correct_label_exists.where('Qualified Reads', are.above(0))\n",
    "correct_label_and_qualified_reads"
   ]
  },
  {
   "cell_type": "code",
   "execution_count": 60,
   "id": "af6af71d",
   "metadata": {},
   "outputs": [
    {
     "data": {
      "text/plain": [
       "{0.5,\n",
       " 0.54500000000000004,\n",
       " 0.55600000000000005,\n",
       " 0.57099999999999995,\n",
       " 0.58299999999999996,\n",
       " 0.59999999999999998,\n",
       " 0.625,\n",
       " 0.63600000000000001,\n",
       " 0.64300000000000002,\n",
       " 0.66700000000000004,\n",
       " 0.69199999999999995,\n",
       " 0.69999999999999996,\n",
       " 0.71399999999999997,\n",
       " 0.72699999999999998,\n",
       " 0.75,\n",
       " 0.76900000000000002,\n",
       " 0.77800000000000002,\n",
       " 0.80000000000000004,\n",
       " 0.81799999999999995,\n",
       " 0.83299999999999996,\n",
       " 0.84599999999999997,\n",
       " 0.85699999999999998,\n",
       " 0.875,\n",
       " 0.88900000000000001,\n",
       " 0.90000000000000002,\n",
       " 0.90900000000000003,\n",
       " 0.91700000000000004,\n",
       " 0.92300000000000004,\n",
       " 0.92900000000000005,\n",
       " 0.93799999999999994,\n",
       " 1.0}"
      ]
     },
     "execution_count": 60,
     "metadata": {},
     "output_type": "execute_result"
    }
   ],
   "source": [
    "set(correct_label_and_qualified_reads.column('Agreement'))"
   ]
  },
  {
   "cell_type": "markdown",
   "id": "4165eed5",
   "metadata": {},
   "source": [
    "<h2>Calculating a Comparison Score for Expert Accuracy vs Crowd Accuracy"
   ]
  },
  {
   "cell_type": "markdown",
   "id": "8e7f1f67",
   "metadata": {},
   "source": [
    "The comparison score will be calculated by subtracting crowd agreement rate from expert accuracy rate."
   ]
  },
  {
   "cell_type": "code",
   "execution_count": 102,
   "id": "7ee3f1d4",
   "metadata": {},
   "outputs": [
    {
     "data": {
      "text/plain": [
       "array([-0.25, 0.0, 0.0, ..., -0.25, -0.042000000000000037,\n",
       "       -0.17500000000000004], dtype=object)"
      ]
     },
     "execution_count": 102,
     "metadata": {},
     "output_type": "execute_result"
    }
   ],
   "source": [
    "comparison = correct_label_and_qualified_reads.column('Expert Accuracy') - correct_label_and_qualified_reads.column('Agreement')\n",
    "comparison"
   ]
  },
  {
   "cell_type": "code",
   "execution_count": 103,
   "id": "2c3eadc1",
   "metadata": {},
   "outputs": [
    {
     "data": {
      "text/plain": [
       "23758"
      ]
     },
     "execution_count": 103,
     "metadata": {},
     "output_type": "execute_result"
    }
   ],
   "source": [
    "len(comparison)"
   ]
  },
  {
   "cell_type": "code",
   "execution_count": 106,
   "id": "4ff7ca54",
   "metadata": {},
   "outputs": [
    {
     "data": {
      "text/html": [
       "<table border=\"1\" class=\"dataframe\">\n",
       "    <thead>\n",
       "        <tr>\n",
       "            <th>Case ID</th> <th>Expert Yes Votes</th> <th>Qualified Reads</th> <th>Correct Label</th> <th>Majority Label</th> <th>Difficulty</th> <th>Agreement</th> <th>First Choice Answer</th> <th>First Choice Votes</th> <th>First Choice Weight</th> <th>Second Choice Answer</th> <th>Second Choice Votes</th> <th>Second Choice Weight</th> <th>Expert Accuracy</th> <th>Comparison</th>\n",
       "        </tr>\n",
       "    </thead>\n",
       "    <tbody>\n",
       "        <tr>\n",
       "            <td>5888087</td> <td>2               </td> <td>2              </td> <td>no           </td> <td>no            </td> <td>0         </td> <td>1        </td> <td>no                 </td> <td>2                 </td> <td>1.54               </td> <td>yes                 </td> <td>0                  </td> <td>0                   </td> <td>0.75           </td> <td>-0.25     </td>\n",
       "        </tr>\n",
       "        <tr>\n",
       "            <td>5888088</td> <td>0               </td> <td>3              </td> <td>no           </td> <td>no            </td> <td>0         </td> <td>1        </td> <td>no                 </td> <td>3                 </td> <td>2.34               </td> <td>yes                 </td> <td>0                  </td> <td>0                   </td> <td>1              </td> <td>0         </td>\n",
       "        </tr>\n",
       "        <tr>\n",
       "            <td>5888089</td> <td>0               </td> <td>2              </td> <td>no           </td> <td>no            </td> <td>0         </td> <td>1        </td> <td>no                 </td> <td>2                 </td> <td>1.7                </td> <td>yes                 </td> <td>0                  </td> <td>0                   </td> <td>1              </td> <td>0         </td>\n",
       "        </tr>\n",
       "        <tr>\n",
       "            <td>5888090</td> <td>0               </td> <td>1              </td> <td>no           </td> <td>no            </td> <td>0         </td> <td>1        </td> <td>no                 </td> <td>1                 </td> <td>0.82               </td> <td>yes                 </td> <td>0                  </td> <td>0                   </td> <td>1              </td> <td>0         </td>\n",
       "        </tr>\n",
       "        <tr>\n",
       "            <td>5888092</td> <td>0               </td> <td>4              </td> <td>no           </td> <td>no            </td> <td>0         </td> <td>1        </td> <td>no                 </td> <td>4                 </td> <td>3.3                </td> <td>yes                 </td> <td>0                  </td> <td>0                   </td> <td>1              </td> <td>0         </td>\n",
       "        </tr>\n",
       "        <tr>\n",
       "            <td>5888093</td> <td>0               </td> <td>6              </td> <td>no           </td> <td>no            </td> <td>0         </td> <td>1        </td> <td>no                 </td> <td>6                 </td> <td>4.94               </td> <td>yes                 </td> <td>0                  </td> <td>0                   </td> <td>1              </td> <td>0         </td>\n",
       "        </tr>\n",
       "        <tr>\n",
       "            <td>5888094</td> <td>0               </td> <td>2              </td> <td>no           </td> <td>no            </td> <td>0         </td> <td>1        </td> <td>no                 </td> <td>2                 </td> <td>1.56               </td> <td>yes                 </td> <td>0                  </td> <td>0                   </td> <td>1              </td> <td>0         </td>\n",
       "        </tr>\n",
       "        <tr>\n",
       "            <td>5888095</td> <td>0               </td> <td>4              </td> <td>no           </td> <td>no            </td> <td>0         </td> <td>1        </td> <td>no                 </td> <td>4                 </td> <td>3.34               </td> <td>yes                 </td> <td>0                  </td> <td>0                   </td> <td>1              </td> <td>0         </td>\n",
       "        </tr>\n",
       "        <tr>\n",
       "            <td>5888096</td> <td>0               </td> <td>3              </td> <td>no           </td> <td>no            </td> <td>0         </td> <td>1        </td> <td>no                 </td> <td>3                 </td> <td>2.56               </td> <td>yes                 </td> <td>0                  </td> <td>0                   </td> <td>1              </td> <td>0         </td>\n",
       "        </tr>\n",
       "        <tr>\n",
       "            <td>5888097</td> <td>0               </td> <td>4              </td> <td>no           </td> <td>no            </td> <td>0         </td> <td>1        </td> <td>no                 </td> <td>4                 </td> <td>3.16               </td> <td>yes                 </td> <td>0                  </td> <td>0                   </td> <td>1              </td> <td>0         </td>\n",
       "        </tr>\n",
       "    </tbody>\n",
       "</table>\n",
       "<p>... (23748 rows omitted)</p>"
      ],
      "text/plain": [
       "Case ID | Expert Yes Votes | Qualified Reads | Correct Label | Majority Label | Difficulty | Agreement | First Choice Answer | First Choice Votes | First Choice Weight | Second Choice Answer | Second Choice Votes | Second Choice Weight | Expert Accuracy | Comparison\n",
       "5888087 | 2                | 2               | no            | no             | 0          | 1         | no                  | 2                  | 1.54                | yes                  | 0                   | 0                    | 0.75            | -0.25\n",
       "5888088 | 0                | 3               | no            | no             | 0          | 1         | no                  | 3                  | 2.34                | yes                  | 0                   | 0                    | 1               | 0\n",
       "5888089 | 0                | 2               | no            | no             | 0          | 1         | no                  | 2                  | 1.7                 | yes                  | 0                   | 0                    | 1               | 0\n",
       "5888090 | 0                | 1               | no            | no             | 0          | 1         | no                  | 1                  | 0.82                | yes                  | 0                   | 0                    | 1               | 0\n",
       "5888092 | 0                | 4               | no            | no             | 0          | 1         | no                  | 4                  | 3.3                 | yes                  | 0                   | 0                    | 1               | 0\n",
       "5888093 | 0                | 6               | no            | no             | 0          | 1         | no                  | 6                  | 4.94                | yes                  | 0                   | 0                    | 1               | 0\n",
       "5888094 | 0                | 2               | no            | no             | 0          | 1         | no                  | 2                  | 1.56                | yes                  | 0                   | 0                    | 1               | 0\n",
       "5888095 | 0                | 4               | no            | no             | 0          | 1         | no                  | 4                  | 3.34                | yes                  | 0                   | 0                    | 1               | 0\n",
       "5888096 | 0                | 3               | no            | no             | 0          | 1         | no                  | 3                  | 2.56                | yes                  | 0                   | 0                    | 1               | 0\n",
       "5888097 | 0                | 4               | no            | no             | 0          | 1         | no                  | 4                  | 3.16                | yes                  | 0                   | 0                    | 1               | 0\n",
       "... (23748 rows omitted)"
      ]
     },
     "execution_count": 106,
     "metadata": {},
     "output_type": "execute_result"
    }
   ],
   "source": [
    "results_with_comparison = correct_label_and_qualified_reads.with_column('Comparison', comparison)\n",
    "results_with_comparison"
   ]
  },
  {
   "cell_type": "code",
   "execution_count": 97,
   "id": "0a3f6118",
   "metadata": {},
   "outputs": [
    {
     "data": {
      "text/html": [
       "<table border=\"1\" class=\"dataframe\">\n",
       "    <thead>\n",
       "        <tr>\n",
       "            <th>Expert Accuracy</th> <th>Agreement</th> <th>Comparison</th>\n",
       "        </tr>\n",
       "    </thead>\n",
       "    <tbody>\n",
       "        <tr>\n",
       "            <td>0.75           </td> <td>1        </td> <td>-0.25     </td>\n",
       "        </tr>\n",
       "        <tr>\n",
       "            <td>1              </td> <td>1        </td> <td>0         </td>\n",
       "        </tr>\n",
       "        <tr>\n",
       "            <td>1              </td> <td>1        </td> <td>0         </td>\n",
       "        </tr>\n",
       "        <tr>\n",
       "            <td>1              </td> <td>1        </td> <td>0         </td>\n",
       "        </tr>\n",
       "        <tr>\n",
       "            <td>1              </td> <td>1        </td> <td>0         </td>\n",
       "        </tr>\n",
       "        <tr>\n",
       "            <td>1              </td> <td>1        </td> <td>0         </td>\n",
       "        </tr>\n",
       "        <tr>\n",
       "            <td>1              </td> <td>1        </td> <td>0         </td>\n",
       "        </tr>\n",
       "        <tr>\n",
       "            <td>1              </td> <td>1        </td> <td>0         </td>\n",
       "        </tr>\n",
       "        <tr>\n",
       "            <td>1              </td> <td>1        </td> <td>0         </td>\n",
       "        </tr>\n",
       "        <tr>\n",
       "            <td>1              </td> <td>1        </td> <td>0         </td>\n",
       "        </tr>\n",
       "    </tbody>\n",
       "</table>\n",
       "<p>... (23748 rows omitted)</p>"
      ],
      "text/plain": [
       "Expert Accuracy | Agreement | Comparison\n",
       "0.75            | 1         | -0.25\n",
       "1               | 1         | 0\n",
       "1               | 1         | 0\n",
       "1               | 1         | 0\n",
       "1               | 1         | 0\n",
       "1               | 1         | 0\n",
       "1               | 1         | 0\n",
       "1               | 1         | 0\n",
       "1               | 1         | 0\n",
       "1               | 1         | 0\n",
       "... (23748 rows omitted)"
      ]
     },
     "execution_count": 97,
     "metadata": {},
     "output_type": "execute_result"
    }
   ],
   "source": [
    "comparison_tbl = results_with_comparison.select('Expert Accuracy', 'Agreement', 'Comparison')\n",
    "comparison_tbl"
   ]
  },
  {
   "cell_type": "code",
   "execution_count": 133,
   "id": "e5d1321e",
   "metadata": {},
   "outputs": [],
   "source": [
    "t1 = comparison_tbl.where('Comparison', 0)"
   ]
  },
  {
   "cell_type": "code",
   "execution_count": 134,
   "id": "bcf5233a",
   "metadata": {},
   "outputs": [
    {
     "data": {
      "text/plain": [
       "{0.625, 0.75, 0.875, 1.0}"
      ]
     },
     "execution_count": 134,
     "metadata": {},
     "output_type": "execute_result"
    }
   ],
   "source": [
    "set(t1.column('Agreement'))"
   ]
  },
  {
   "cell_type": "code",
   "execution_count": 135,
   "id": "af7dfb0a",
   "metadata": {},
   "outputs": [
    {
     "data": {
      "text/plain": [
       "{0.625, 0.75, 0.875, 1.0}"
      ]
     },
     "execution_count": 135,
     "metadata": {},
     "output_type": "execute_result"
    }
   ],
   "source": [
    "set(t1.column('Expert Accuracy'))"
   ]
  },
  {
   "cell_type": "markdown",
   "id": "7b2a1b02",
   "metadata": {},
   "source": [
    "<h2>Analysis</h2>"
   ]
  },
  {
   "cell_type": "markdown",
   "id": "6ef5f820",
   "metadata": {},
   "source": [
    "Interpretation of the comparison number:\n",
    "\n",
    "0 means the expert accuracy and the crowd accuracy were the same.\n",
    "\n",
    "Positive numbers mean expert accuracy rate was higher than crowd.\n",
    "\n",
    "Negative numbers mean crowd accuracy rate was higher than experts."
   ]
  },
  {
   "cell_type": "code",
   "execution_count": 98,
   "id": "2851cd3e",
   "metadata": {},
   "outputs": [
    {
     "data": {
      "image/png": "[encoded data removed]",
      "text/plain": [
       "<Figure size 432x288 with 1 Axes>"
      ]
     },
     "metadata": {},
     "output_type": "display_data"
    }
   ],
   "source": [
    "comparison_tbl.hist('Comparison', bins=np.arange(-0.45, 0.46, 0.1))"
   ]
  },
  {
   "cell_type": "code",
   "execution_count": 136,
   "id": "b0bc5433",
   "metadata": {},
   "outputs": [
    {
     "data": {
      "text/plain": [
       "0.20847714454078625"
      ]
     },
     "execution_count": 136,
     "metadata": {},
     "output_type": "execute_result"
    }
   ],
   "source": [
    "same_accuracy_rate = (len(comparison) - np.count_nonzero(comparison)) / len(comparison)\n",
    "same_accuracy_rate"
   ]
  },
  {
   "cell_type": "code",
   "execution_count": 137,
   "id": "18e825fd",
   "metadata": {},
   "outputs": [
    {
     "data": {
      "text/plain": [
       "0.2392878188399697"
      ]
     },
     "execution_count": 137,
     "metadata": {},
     "output_type": "execute_result"
    }
   ],
   "source": [
    "experts_higher_rate = np.count_nonzero(comparison > 0) / len(comparison)\n",
    "experts_higher_rate"
   ]
  },
  {
   "cell_type": "code",
   "execution_count": 138,
   "id": "029c5d00",
   "metadata": {},
   "outputs": [
    {
     "data": {
      "text/plain": [
       "0.552235036619244"
      ]
     },
     "execution_count": 138,
     "metadata": {},
     "output_type": "execute_result"
    }
   ],
   "source": [
    "crowd_higher_rate = np.count_nonzero(comparison < 0) / len(comparison)\n",
    "crowd_higher_rate"
   ]
  },
  {
   "cell_type": "code",
   "execution_count": 139,
   "id": "4e06c725",
   "metadata": {},
   "outputs": [
    {
     "data": {
      "text/plain": [
       "1.0"
      ]
     },
     "execution_count": 139,
     "metadata": {},
     "output_type": "execute_result"
    }
   ],
   "source": [
    "same_accuracy_rate + experts_higher_rate + crowd_higher_rate"
   ]
  },
  {
   "cell_type": "markdown",
   "id": "f130daa9",
   "metadata": {},
   "source": [
    "Numbers of interest that arise out of this comparison:\n",
    "    \n",
    "<strong>Equal accuracy rate:</strong> 20.8% of the time both the crowd and the experts had the same accuracy rate.\n",
    "\n",
    "<strong>Expert accuracy rate higher:</strong> 23.9% of cases have the expert accuracy rate higher than the crowd's.\n",
    "\n",
    "<strong>Crowd accuracy rate higher:</strong> 55.2% of cases have the crowd with the higher accuracy rate over the experts.\n",
    "\n",
    "In these numbers overall, the crowd accuracy rate is <i>at least as good as</i> the expert accuracy rate 76.1% of the time."
   ]
  },
  {
   "cell_type": "markdown",
   "id": "83457b89",
   "metadata": {},
   "source": [
    "<h2>Comparing Cases In More Detail</h2>"
   ]
  },
  {
   "cell_type": "markdown",
   "id": "0b60ae35",
   "metadata": {},
   "source": [
    "<h3>Expert Vote Unanimous</h3>\n",
    "\n",
    "How does the comparison look specifically on cases where the experts were unanimous?"
   ]
  },
  {
   "cell_type": "code",
   "execution_count": 99,
   "id": "85a18982",
   "metadata": {},
   "outputs": [
    {
     "data": {
      "text/html": [
       "<table border=\"1\" class=\"dataframe\">\n",
       "    <thead>\n",
       "        <tr>\n",
       "            <th>Expert Accuracy</th> <th>Agreement</th> <th>Comparison</th>\n",
       "        </tr>\n",
       "    </thead>\n",
       "    <tbody>\n",
       "        <tr>\n",
       "            <td>1              </td> <td>1        </td> <td>0         </td>\n",
       "        </tr>\n",
       "        <tr>\n",
       "            <td>1              </td> <td>1        </td> <td>0         </td>\n",
       "        </tr>\n",
       "        <tr>\n",
       "            <td>1              </td> <td>1        </td> <td>0         </td>\n",
       "        </tr>\n",
       "        <tr>\n",
       "            <td>1              </td> <td>1        </td> <td>0         </td>\n",
       "        </tr>\n",
       "        <tr>\n",
       "            <td>1              </td> <td>1        </td> <td>0         </td>\n",
       "        </tr>\n",
       "        <tr>\n",
       "            <td>1              </td> <td>1        </td> <td>0         </td>\n",
       "        </tr>\n",
       "        <tr>\n",
       "            <td>1              </td> <td>1        </td> <td>0         </td>\n",
       "        </tr>\n",
       "        <tr>\n",
       "            <td>1              </td> <td>1        </td> <td>0         </td>\n",
       "        </tr>\n",
       "        <tr>\n",
       "            <td>1              </td> <td>1        </td> <td>0         </td>\n",
       "        </tr>\n",
       "        <tr>\n",
       "            <td>1              </td> <td>1        </td> <td>0         </td>\n",
       "        </tr>\n",
       "    </tbody>\n",
       "</table>\n",
       "<p>... (5939 rows omitted)</p>"
      ],
      "text/plain": [
       "Expert Accuracy | Agreement | Comparison\n",
       "1               | 1         | 0\n",
       "1               | 1         | 0\n",
       "1               | 1         | 0\n",
       "1               | 1         | 0\n",
       "1               | 1         | 0\n",
       "1               | 1         | 0\n",
       "1               | 1         | 0\n",
       "1               | 1         | 0\n",
       "1               | 1         | 0\n",
       "1               | 1         | 0\n",
       "... (5939 rows omitted)"
      ]
     },
     "execution_count": 99,
     "metadata": {},
     "output_type": "execute_result"
    }
   ],
   "source": [
    "experts_unanimous = comparison_tbl.where('Expert Accuracy', 1)\n",
    "experts_unanimous"
   ]
  },
  {
   "cell_type": "code",
   "execution_count": 100,
   "id": "5aabddc8",
   "metadata": {},
   "outputs": [
    {
     "data": {
      "image/png": "[encoded data removed]",
      "text/plain": [
       "<Figure size 432x288 with 1 Axes>"
      ]
     },
     "metadata": {},
     "output_type": "display_data"
    }
   ],
   "source": [
    "experts_unanimous.hist('Comparison', bins=np.arange(-0.45, 0.46, 0.1))"
   ]
  },
  {
   "cell_type": "code",
   "execution_count": 101,
   "id": "f80b912d",
   "metadata": {},
   "outputs": [
    {
     "data": {
      "text/plain": [
       "5949"
      ]
     },
     "execution_count": 101,
     "metadata": {},
     "output_type": "execute_result"
    }
   ],
   "source": [
    "experts_unanimous.num_rows"
   ]
  },
  {
   "cell_type": "code",
   "execution_count": 94,
   "id": "a879cb7a",
   "metadata": {},
   "outputs": [
    {
     "data": {
      "text/plain": [
       "1474"
      ]
     },
     "execution_count": 94,
     "metadata": {},
     "output_type": "execute_result"
    }
   ],
   "source": [
    "np.count_nonzero(experts_unanimous.column('Comparison'))"
   ]
  },
  {
   "cell_type": "code",
   "execution_count": 95,
   "id": "0ed6da86",
   "metadata": {},
   "outputs": [
    {
     "data": {
      "text/plain": [
       "0.24777273491343083"
      ]
     },
     "execution_count": 95,
     "metadata": {},
     "output_type": "execute_result"
    }
   ],
   "source": [
    "1474/5949"
   ]
  },
  {
   "cell_type": "markdown",
   "id": "1a612bfd",
   "metadata": {},
   "source": [
    "In cases where the experts were unanimous with their labeling, the crowd chose the wrong label 25% of the time, or equivalently, the crowd chose the right label 75% of the time."
   ]
  },
  {
   "cell_type": "markdown",
   "id": "a14206b6",
   "metadata": {},
   "source": [
    "<h3>Slim Majority in Expert Votes</h3>"
   ]
  },
  {
   "cell_type": "markdown",
   "id": "e792b921",
   "metadata": {},
   "source": [
    "What about more difficult cases where the experts were as close as possible to a tie? In terms of our expert accuracy rate, this kind of case has the value 5/8."
   ]
  },
  {
   "cell_type": "code",
   "execution_count": 108,
   "id": "7a199d27",
   "metadata": {},
   "outputs": [
    {
     "data": {
      "text/html": [
       "<table border=\"1\" class=\"dataframe\">\n",
       "    <thead>\n",
       "        <tr>\n",
       "            <th>Expert Accuracy</th> <th>Agreement</th> <th>Comparison</th>\n",
       "        </tr>\n",
       "    </thead>\n",
       "    <tbody>\n",
       "        <tr>\n",
       "            <td>0.625          </td> <td>1        </td> <td>-0.375    </td>\n",
       "        </tr>\n",
       "        <tr>\n",
       "            <td>0.625          </td> <td>0.857    </td> <td>-0.232    </td>\n",
       "        </tr>\n",
       "        <tr>\n",
       "            <td>0.625          </td> <td>0.75     </td> <td>-0.125    </td>\n",
       "        </tr>\n",
       "        <tr>\n",
       "            <td>0.625          </td> <td>1        </td> <td>-0.375    </td>\n",
       "        </tr>\n",
       "        <tr>\n",
       "            <td>0.625          </td> <td>0.857    </td> <td>-0.232    </td>\n",
       "        </tr>\n",
       "        <tr>\n",
       "            <td>0.625          </td> <td>0.6      </td> <td>0.025     </td>\n",
       "        </tr>\n",
       "        <tr>\n",
       "            <td>0.625          </td> <td>1        </td> <td>-0.375    </td>\n",
       "        </tr>\n",
       "        <tr>\n",
       "            <td>0.625          </td> <td>1        </td> <td>-0.375    </td>\n",
       "        </tr>\n",
       "        <tr>\n",
       "            <td>0.625          </td> <td>1        </td> <td>-0.375    </td>\n",
       "        </tr>\n",
       "        <tr>\n",
       "            <td>0.625          </td> <td>0.8      </td> <td>-0.175    </td>\n",
       "        </tr>\n",
       "    </tbody>\n",
       "</table>\n",
       "<p>... (5924 rows omitted)</p>"
      ],
      "text/plain": [
       "Expert Accuracy | Agreement | Comparison\n",
       "0.625           | 1         | -0.375\n",
       "0.625           | 0.857     | -0.232\n",
       "0.625           | 0.75      | -0.125\n",
       "0.625           | 1         | -0.375\n",
       "0.625           | 0.857     | -0.232\n",
       "0.625           | 0.6       | 0.025\n",
       "0.625           | 1         | -0.375\n",
       "0.625           | 1         | -0.375\n",
       "0.625           | 1         | -0.375\n",
       "0.625           | 0.8       | -0.175\n",
       "... (5924 rows omitted)"
      ]
     },
     "execution_count": 108,
     "metadata": {},
     "output_type": "execute_result"
    }
   ],
   "source": [
    "experts_5_votes = comparison_tbl.where('Expert Accuracy', 5/8)\n",
    "experts_5_votes"
   ]
  },
  {
   "cell_type": "code",
   "execution_count": 115,
   "id": "546d2e39",
   "metadata": {},
   "outputs": [
    {
     "data": {
      "image/png": "[encoded data removed]",
      "text/plain": [
       "<Figure size 432x288 with 1 Axes>"
      ]
     },
     "metadata": {},
     "output_type": "display_data"
    }
   ],
   "source": [
    "experts_5_votes.hist('Comparison', bins=np.arange(-0.45, 0.46, 0.1))"
   ]
  },
  {
   "cell_type": "code",
   "execution_count": 110,
   "id": "d8d82137",
   "metadata": {},
   "outputs": [
    {
     "data": {
      "text/plain": [
       "5934"
      ]
     },
     "execution_count": 110,
     "metadata": {},
     "output_type": "execute_result"
    }
   ],
   "source": [
    "experts_5_votes.num_rows"
   ]
  },
  {
   "cell_type": "code",
   "execution_count": 112,
   "id": "5291ef0b",
   "metadata": {},
   "outputs": [
    {
     "data": {
      "text/plain": [
       "5085"
      ]
     },
     "execution_count": 112,
     "metadata": {},
     "output_type": "execute_result"
    }
   ],
   "source": [
    "np.count_nonzero(experts_5_votes.column('Comparison') < 0)"
   ]
  },
  {
   "cell_type": "code",
   "execution_count": 113,
   "id": "6b71f902",
   "metadata": {},
   "outputs": [
    {
     "data": {
      "text/plain": [
       "0.8569261880687563"
      ]
     },
     "execution_count": 113,
     "metadata": {},
     "output_type": "execute_result"
    }
   ],
   "source": [
    "5085/5934"
   ]
  },
  {
   "cell_type": "markdown",
   "id": "61de2103",
   "metadata": {},
   "source": [
    "In cases where the expert vote had only the slim 5/8 majority, the crowd chose the correct label 85.7% of the time!"
   ]
  },
  {
   "cell_type": "markdown",
   "id": "b75f61ca",
   "metadata": {},
   "source": [
    "<h2>Expert Vote Tied, Correct Label Undefined</h2>"
   ]
  },
  {
   "cell_type": "markdown",
   "id": "23c68548",
   "metadata": {},
   "source": [
    "By the way we've defined a correct label, we simply don't have one in the difficult cases where the expert vote came out tied. But it's still interesting to consider the question of how the crowd votes tended to turn out in these cases. Were they also split? Or, was there often a notably higher amount of agreement among the crowd votes?"
   ]
  },
  {
   "cell_type": "code",
   "execution_count": 142,
   "id": "e68c7bed",
   "metadata": {},
   "outputs": [
    {
     "data": {
      "text/html": [
       "<table border=\"1\" class=\"dataframe\">\n",
       "    <thead>\n",
       "        <tr>\n",
       "            <th>Case ID</th> <th>Expert Yes Votes</th> <th>Qualified Reads</th> <th>Correct Label</th> <th>Majority Label</th> <th>Difficulty</th> <th>Agreement</th> <th>First Choice Answer</th> <th>First Choice Votes</th> <th>First Choice Weight</th> <th>Second Choice Answer</th> <th>Second Choice Votes</th> <th>Second Choice Weight</th>\n",
       "        </tr>\n",
       "    </thead>\n",
       "    <tbody>\n",
       "        <tr>\n",
       "            <td>5888091</td> <td>4               </td> <td>7              </td> <td>nan          </td> <td>yes           </td> <td>nan       </td> <td>0.571    </td> <td>yes                </td> <td>4                 </td> <td>3.28               </td> <td>no                  </td> <td>3                  </td> <td>2.32                </td>\n",
       "        </tr>\n",
       "        <tr>\n",
       "            <td>5888782</td> <td>4               </td> <td>5              </td> <td>nan          </td> <td>no            </td> <td>nan       </td> <td>1        </td> <td>no                 </td> <td>5                 </td> <td>3.94               </td> <td>yes                 </td> <td>0                  </td> <td>0                   </td>\n",
       "        </tr>\n",
       "        <tr>\n",
       "            <td>5891822</td> <td>4               </td> <td>5              </td> <td>nan          </td> <td>yes           </td> <td>nan       </td> <td>0.8      </td> <td>yes                </td> <td>4                 </td> <td>3.1                </td> <td>no                  </td> <td>1                  </td> <td>0.76                </td>\n",
       "        </tr>\n",
       "        <tr>\n",
       "            <td>5891960</td> <td>4               </td> <td>7              </td> <td>nan          </td> <td>no            </td> <td>nan       </td> <td>1        </td> <td>no                 </td> <td>7                 </td> <td>5.53               </td> <td>yes                 </td> <td>0                  </td> <td>0                   </td>\n",
       "        </tr>\n",
       "        <tr>\n",
       "            <td>5891979</td> <td>4               </td> <td>8              </td> <td>nan          </td> <td>no            </td> <td>nan       </td> <td>0.625    </td> <td>no                 </td> <td>5                 </td> <td>3.92               </td> <td>yes                 </td> <td>3                  </td> <td>2.38                </td>\n",
       "        </tr>\n",
       "        <tr>\n",
       "            <td>5892075</td> <td>4               </td> <td>8              </td> <td>nan          </td> <td>yes           </td> <td>nan       </td> <td>0.625    </td> <td>yes                </td> <td>5                 </td> <td>3.88               </td> <td>no                  </td> <td>3                  </td> <td>2.32                </td>\n",
       "        </tr>\n",
       "        <tr>\n",
       "            <td>5892087</td> <td>4               </td> <td>2              </td> <td>nan          </td> <td>yes           </td> <td>nan       </td> <td>0.5      </td> <td>yes                </td> <td>1                 </td> <td>0.84               </td> <td>no                  </td> <td>1                  </td> <td>0.88                </td>\n",
       "        </tr>\n",
       "        <tr>\n",
       "            <td>5892132</td> <td>4               </td> <td>11             </td> <td>nan          </td> <td>yes           </td> <td>nan       </td> <td>0.545    </td> <td>yes                </td> <td>6                 </td> <td>4.7                </td> <td>no                  </td> <td>5                  </td> <td>3.84                </td>\n",
       "        </tr>\n",
       "        <tr>\n",
       "            <td>5892139</td> <td>4               </td> <td>10             </td> <td>nan          </td> <td>yes           </td> <td>nan       </td> <td>0.7      </td> <td>yes                </td> <td>7                 </td> <td>5.64               </td> <td>no                  </td> <td>3                  </td> <td>2.38                </td>\n",
       "        </tr>\n",
       "        <tr>\n",
       "            <td>5892162</td> <td>4               </td> <td>8              </td> <td>nan          </td> <td>yes           </td> <td>nan       </td> <td>1        </td> <td>yes                </td> <td>8                 </td> <td>6.46               </td> <td>no                  </td> <td>0                  </td> <td>0                   </td>\n",
       "        </tr>\n",
       "    </tbody>\n",
       "</table>\n",
       "<p>... (2990 rows omitted)</p>"
      ],
      "text/plain": [
       "Case ID | Expert Yes Votes | Qualified Reads | Correct Label | Majority Label | Difficulty | Agreement | First Choice Answer | First Choice Votes | First Choice Weight | Second Choice Answer | Second Choice Votes | Second Choice Weight\n",
       "5888091 | 4                | 7               | nan           | yes            | nan        | 0.571     | yes                 | 4                  | 3.28                | no                   | 3                   | 2.32\n",
       "5888782 | 4                | 5               | nan           | no             | nan        | 1         | no                  | 5                  | 3.94                | yes                  | 0                   | 0\n",
       "5891822 | 4                | 5               | nan           | yes            | nan        | 0.8       | yes                 | 4                  | 3.1                 | no                   | 1                   | 0.76\n",
       "5891960 | 4                | 7               | nan           | no             | nan        | 1         | no                  | 7                  | 5.53                | yes                  | 0                   | 0\n",
       "5891979 | 4                | 8               | nan           | no             | nan        | 0.625     | no                  | 5                  | 3.92                | yes                  | 3                   | 2.38\n",
       "5892075 | 4                | 8               | nan           | yes            | nan        | 0.625     | yes                 | 5                  | 3.88                | no                   | 3                   | 2.32\n",
       "5892087 | 4                | 2               | nan           | yes            | nan        | 0.5       | yes                 | 1                  | 0.84                | no                   | 1                   | 0.88\n",
       "5892132 | 4                | 11              | nan           | yes            | nan        | 0.545     | yes                 | 6                  | 4.7                 | no                   | 5                   | 3.84\n",
       "5892139 | 4                | 10              | nan           | yes            | nan        | 0.7       | yes                 | 7                  | 5.64                | no                   | 3                   | 2.38\n",
       "5892162 | 4                | 8               | nan           | yes            | nan        | 1         | yes                 | 8                  | 6.46                | no                   | 0                   | 0\n",
       "... (2990 rows omitted)"
      ]
     },
     "execution_count": 142,
     "metadata": {},
     "output_type": "execute_result"
    }
   ],
   "source": [
    "no_correct_label = results.where('Expert Yes Votes', 4)\n",
    "no_correct_label"
   ]
  },
  {
   "cell_type": "code",
   "execution_count": 144,
   "id": "4a7d7360",
   "metadata": {},
   "outputs": [
    {
     "data": {
      "text/plain": [
       "{1, 2, 3, 4, 5, 6, 7, 8, 9, 10, 11, 12, 13, 14, 15, 16, 18}"
      ]
     },
     "execution_count": 144,
     "metadata": {},
     "output_type": "execute_result"
    }
   ],
   "source": [
    "set(no_correct_label.column('Qualified Reads'))"
   ]
  },
  {
   "cell_type": "code",
   "execution_count": null,
   "id": "417103b0",
   "metadata": {},
   "outputs": [],
   "source": []
  }
 ],
 "metadata": {
  "kernelspec": {
   "display_name": "Python 3 (ipykernel)",
   "language": "python",
   "name": "python3"
  },
  "language_info": {
   "codemirror_mode": {
    "name": "ipython",
    "version": 3
   },
   "file_extension": ".py",
   "mimetype": "text/x-python",
   "name": "python",
   "nbconvert_exporter": "python",
   "pygments_lexer": "ipython3",
   "version": "3.9.7"
  }
 },
 "nbformat": 4,
 "nbformat_minor": 5
}
