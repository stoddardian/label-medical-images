{
 "cells": [
  {
   "cell_type": "code",
   "execution_count": 46,
   "id": "02307e6f",
   "metadata": {},
   "outputs": [],
   "source": [
    "from datascience import *\n",
    "import numpy as np\n",
    "import matplotlib\n",
    "%matplotlib inline\n",
    "import matplotlib.pyplot as plt\n",
    "plt.style.use('fivethirtyeight')"
   ]
  },
  {
   "cell_type": "code",
   "execution_count": 47,
   "id": "09ecc01b",
   "metadata": {},
   "outputs": [
    {
     "data": {
      "text/html": [
       "<table border=\"1\" class=\"dataframe\">\n",
       "    <thead>\n",
       "        <tr>\n",
       "            <th>Case ID</th> <th>Expert Yes Votes</th> <th>Qualified Reads</th> <th>Correct Label</th> <th>Majority Label</th> <th>Difficulty</th> <th>Agreement</th> <th>First Choice Answer</th> <th>First Choice Votes</th> <th>First Choice Weight</th> <th>Second Choice Answer</th> <th>Second Choice Votes</th> <th>Second Choice Weight</th>\n",
       "        </tr>\n",
       "    </thead>\n",
       "    <tbody>\n",
       "        <tr>\n",
       "            <td>5888087</td> <td>2               </td> <td>2              </td> <td>no           </td> <td>no            </td> <td>0         </td> <td>1        </td> <td>no                 </td> <td>2                 </td> <td>1.54               </td> <td>yes                 </td> <td>0                  </td> <td>0                   </td>\n",
       "        </tr>\n",
       "        <tr>\n",
       "            <td>5888088</td> <td>0               </td> <td>3              </td> <td>no           </td> <td>no            </td> <td>0         </td> <td>1        </td> <td>no                 </td> <td>3                 </td> <td>2.34               </td> <td>yes                 </td> <td>0                  </td> <td>0                   </td>\n",
       "        </tr>\n",
       "        <tr>\n",
       "            <td>5888089</td> <td>0               </td> <td>2              </td> <td>no           </td> <td>no            </td> <td>0         </td> <td>1        </td> <td>no                 </td> <td>2                 </td> <td>1.7                </td> <td>yes                 </td> <td>0                  </td> <td>0                   </td>\n",
       "        </tr>\n",
       "        <tr>\n",
       "            <td>5888090</td> <td>0               </td> <td>1              </td> <td>no           </td> <td>no            </td> <td>0         </td> <td>1        </td> <td>no                 </td> <td>1                 </td> <td>0.82               </td> <td>yes                 </td> <td>0                  </td> <td>0                   </td>\n",
       "        </tr>\n",
       "        <tr>\n",
       "            <td>5888091</td> <td>4               </td> <td>7              </td> <td>nan          </td> <td>yes           </td> <td>nan       </td> <td>0.571    </td> <td>yes                </td> <td>4                 </td> <td>3.28               </td> <td>no                  </td> <td>3                  </td> <td>2.32                </td>\n",
       "        </tr>\n",
       "        <tr>\n",
       "            <td>5888092</td> <td>0               </td> <td>4              </td> <td>no           </td> <td>no            </td> <td>0         </td> <td>1        </td> <td>no                 </td> <td>4                 </td> <td>3.3                </td> <td>yes                 </td> <td>0                  </td> <td>0                   </td>\n",
       "        </tr>\n",
       "        <tr>\n",
       "            <td>5888093</td> <td>0               </td> <td>6              </td> <td>no           </td> <td>no            </td> <td>0         </td> <td>1        </td> <td>no                 </td> <td>6                 </td> <td>4.94               </td> <td>yes                 </td> <td>0                  </td> <td>0                   </td>\n",
       "        </tr>\n",
       "        <tr>\n",
       "            <td>5888094</td> <td>0               </td> <td>2              </td> <td>no           </td> <td>no            </td> <td>0         </td> <td>1        </td> <td>no                 </td> <td>2                 </td> <td>1.56               </td> <td>yes                 </td> <td>0                  </td> <td>0                   </td>\n",
       "        </tr>\n",
       "        <tr>\n",
       "            <td>5888095</td> <td>0               </td> <td>4              </td> <td>no           </td> <td>no            </td> <td>0         </td> <td>1        </td> <td>no                 </td> <td>4                 </td> <td>3.34               </td> <td>yes                 </td> <td>0                  </td> <td>0                   </td>\n",
       "        </tr>\n",
       "        <tr>\n",
       "            <td>5888096</td> <td>0               </td> <td>3              </td> <td>no           </td> <td>no            </td> <td>0         </td> <td>1        </td> <td>no                 </td> <td>3                 </td> <td>2.56               </td> <td>yes                 </td> <td>0                  </td> <td>0                   </td>\n",
       "        </tr>\n",
       "    </tbody>\n",
       "</table>\n",
       "<p>... (26990 rows omitted)</p>"
      ],
      "text/plain": [
       "Case ID | Expert Yes Votes | Qualified Reads | Correct Label | Majority Label | Difficulty | Agreement | First Choice Answer | First Choice Votes | First Choice Weight | Second Choice Answer | Second Choice Votes | Second Choice Weight\n",
       "5888087 | 2                | 2               | no            | no             | 0          | 1         | no                  | 2                  | 1.54                | yes                  | 0                   | 0\n",
       "5888088 | 0                | 3               | no            | no             | 0          | 1         | no                  | 3                  | 2.34                | yes                  | 0                   | 0\n",
       "5888089 | 0                | 2               | no            | no             | 0          | 1         | no                  | 2                  | 1.7                 | yes                  | 0                   | 0\n",
       "5888090 | 0                | 1               | no            | no             | 0          | 1         | no                  | 1                  | 0.82                | yes                  | 0                   | 0\n",
       "5888091 | 4                | 7               | nan           | yes            | nan        | 0.571     | yes                 | 4                  | 3.28                | no                   | 3                   | 2.32\n",
       "5888092 | 0                | 4               | no            | no             | 0          | 1         | no                  | 4                  | 3.3                 | yes                  | 0                   | 0\n",
       "5888093 | 0                | 6               | no            | no             | 0          | 1         | no                  | 6                  | 4.94                | yes                  | 0                   | 0\n",
       "5888094 | 0                | 2               | no            | no             | 0          | 1         | no                  | 2                  | 1.56                | yes                  | 0                   | 0\n",
       "5888095 | 0                | 4               | no            | no             | 0          | 1         | no                  | 4                  | 3.34                | yes                  | 0                   | 0\n",
       "5888096 | 0                | 3               | no            | no             | 0          | 1         | no                  | 3                  | 2.56                | yes                  | 0                   | 0\n",
       "... (26990 rows omitted)"
      ]
     },
     "execution_count": 47,
     "metadata": {},
     "output_type": "execute_result"
    }
   ],
   "source": [
    "results = Table.read_table('results_trimmed.csv')\n",
    "results"
   ]
  },
  {
   "cell_type": "markdown",
   "id": "4980b8bc",
   "metadata": {},
   "source": [
    "<h2>Creating Accuracy Ratings</h2>\n",
    "\n",
    "It will be necessary to have a number for expert accuracy in the cases where there was a majority vote, to compare against crowd accuracy.\n",
    "\n",
    "As for crowd accuracy for these cases, we will do a simple calculation from the 'Difficulty' column, which by its definition amounts to a crowd in-accuracy rating:\n",
    " \n",
    "\"Difficulty: Qualified Reads without the Correct Label divided by total Qualified Reads.\""
   ]
  },
  {
   "cell_type": "code",
   "execution_count": 48,
   "id": "bbfa8655",
   "metadata": {},
   "outputs": [],
   "source": [
    "def calc_expert_accuracy(num):\n",
    "    '''Calculate accuracy rating, from the number of Yes votes, based on a majority vote out of 8. \n",
    "    The case where (num < 4) means the majority vote was No.'''\n",
    "    if num > 4:\n",
    "        return num/8\n",
    "    elif num < 4:\n",
    "        return (8-num)/8\n",
    "    elif num == 4:\n",
    "        return None"
   ]
  },
  {
   "cell_type": "code",
   "execution_count": 49,
   "id": "a957265e",
   "metadata": {},
   "outputs": [
    {
     "data": {
      "text/plain": [
       "array([0.75, 1.0, 1.0, ..., None, 0.625, 0.625], dtype=object)"
      ]
     },
     "execution_count": 49,
     "metadata": {},
     "output_type": "execute_result"
    }
   ],
   "source": [
    "exp_accuracy = results.apply(calc_expert_accuracy, 'Expert Yes Votes')\n",
    "exp_accuracy"
   ]
  },
  {
   "cell_type": "code",
   "execution_count": 50,
   "id": "cf83357c",
   "metadata": {},
   "outputs": [
    {
     "data": {
      "text/html": [
       "<table border=\"1\" class=\"dataframe\">\n",
       "    <thead>\n",
       "        <tr>\n",
       "            <th>Case ID</th> <th>Expert Yes Votes</th> <th>Qualified Reads</th> <th>Correct Label</th> <th>Majority Label</th> <th>Difficulty</th> <th>Agreement</th> <th>First Choice Answer</th> <th>First Choice Votes</th> <th>First Choice Weight</th> <th>Second Choice Answer</th> <th>Second Choice Votes</th> <th>Second Choice Weight</th> <th>Expert Accuracy</th>\n",
       "        </tr>\n",
       "    </thead>\n",
       "    <tbody>\n",
       "        <tr>\n",
       "            <td>5888087</td> <td>2               </td> <td>2              </td> <td>no           </td> <td>no            </td> <td>0         </td> <td>1        </td> <td>no                 </td> <td>2                 </td> <td>1.54               </td> <td>yes                 </td> <td>0                  </td> <td>0                   </td> <td>0.75           </td>\n",
       "        </tr>\n",
       "        <tr>\n",
       "            <td>5888088</td> <td>0               </td> <td>3              </td> <td>no           </td> <td>no            </td> <td>0         </td> <td>1        </td> <td>no                 </td> <td>3                 </td> <td>2.34               </td> <td>yes                 </td> <td>0                  </td> <td>0                   </td> <td>1              </td>\n",
       "        </tr>\n",
       "        <tr>\n",
       "            <td>5888089</td> <td>0               </td> <td>2              </td> <td>no           </td> <td>no            </td> <td>0         </td> <td>1        </td> <td>no                 </td> <td>2                 </td> <td>1.7                </td> <td>yes                 </td> <td>0                  </td> <td>0                   </td> <td>1              </td>\n",
       "        </tr>\n",
       "        <tr>\n",
       "            <td>5888090</td> <td>0               </td> <td>1              </td> <td>no           </td> <td>no            </td> <td>0         </td> <td>1        </td> <td>no                 </td> <td>1                 </td> <td>0.82               </td> <td>yes                 </td> <td>0                  </td> <td>0                   </td> <td>1              </td>\n",
       "        </tr>\n",
       "        <tr>\n",
       "            <td>5888091</td> <td>4               </td> <td>7              </td> <td>nan          </td> <td>yes           </td> <td>nan       </td> <td>0.571    </td> <td>yes                </td> <td>4                 </td> <td>3.28               </td> <td>no                  </td> <td>3                  </td> <td>2.32                </td> <td>None           </td>\n",
       "        </tr>\n",
       "        <tr>\n",
       "            <td>5888092</td> <td>0               </td> <td>4              </td> <td>no           </td> <td>no            </td> <td>0         </td> <td>1        </td> <td>no                 </td> <td>4                 </td> <td>3.3                </td> <td>yes                 </td> <td>0                  </td> <td>0                   </td> <td>1              </td>\n",
       "        </tr>\n",
       "        <tr>\n",
       "            <td>5888093</td> <td>0               </td> <td>6              </td> <td>no           </td> <td>no            </td> <td>0         </td> <td>1        </td> <td>no                 </td> <td>6                 </td> <td>4.94               </td> <td>yes                 </td> <td>0                  </td> <td>0                   </td> <td>1              </td>\n",
       "        </tr>\n",
       "        <tr>\n",
       "            <td>5888094</td> <td>0               </td> <td>2              </td> <td>no           </td> <td>no            </td> <td>0         </td> <td>1        </td> <td>no                 </td> <td>2                 </td> <td>1.56               </td> <td>yes                 </td> <td>0                  </td> <td>0                   </td> <td>1              </td>\n",
       "        </tr>\n",
       "        <tr>\n",
       "            <td>5888095</td> <td>0               </td> <td>4              </td> <td>no           </td> <td>no            </td> <td>0         </td> <td>1        </td> <td>no                 </td> <td>4                 </td> <td>3.34               </td> <td>yes                 </td> <td>0                  </td> <td>0                   </td> <td>1              </td>\n",
       "        </tr>\n",
       "        <tr>\n",
       "            <td>5888096</td> <td>0               </td> <td>3              </td> <td>no           </td> <td>no            </td> <td>0         </td> <td>1        </td> <td>no                 </td> <td>3                 </td> <td>2.56               </td> <td>yes                 </td> <td>0                  </td> <td>0                   </td> <td>1              </td>\n",
       "        </tr>\n",
       "    </tbody>\n",
       "</table>\n",
       "<p>... (26990 rows omitted)</p>"
      ],
      "text/plain": [
       "Case ID | Expert Yes Votes | Qualified Reads | Correct Label | Majority Label | Difficulty | Agreement | First Choice Answer | First Choice Votes | First Choice Weight | Second Choice Answer | Second Choice Votes | Second Choice Weight | Expert Accuracy\n",
       "5888087 | 2                | 2               | no            | no             | 0          | 1         | no                  | 2                  | 1.54                | yes                  | 0                   | 0                    | 0.75\n",
       "5888088 | 0                | 3               | no            | no             | 0          | 1         | no                  | 3                  | 2.34                | yes                  | 0                   | 0                    | 1\n",
       "5888089 | 0                | 2               | no            | no             | 0          | 1         | no                  | 2                  | 1.7                 | yes                  | 0                   | 0                    | 1\n",
       "5888090 | 0                | 1               | no            | no             | 0          | 1         | no                  | 1                  | 0.82                | yes                  | 0                   | 0                    | 1\n",
       "5888091 | 4                | 7               | nan           | yes            | nan        | 0.571     | yes                 | 4                  | 3.28                | no                   | 3                   | 2.32                 | None\n",
       "5888092 | 0                | 4               | no            | no             | 0          | 1         | no                  | 4                  | 3.3                 | yes                  | 0                   | 0                    | 1\n",
       "5888093 | 0                | 6               | no            | no             | 0          | 1         | no                  | 6                  | 4.94                | yes                  | 0                   | 0                    | 1\n",
       "5888094 | 0                | 2               | no            | no             | 0          | 1         | no                  | 2                  | 1.56                | yes                  | 0                   | 0                    | 1\n",
       "5888095 | 0                | 4               | no            | no             | 0          | 1         | no                  | 4                  | 3.34                | yes                  | 0                   | 0                    | 1\n",
       "5888096 | 0                | 3               | no            | no             | 0          | 1         | no                  | 3                  | 2.56                | yes                  | 0                   | 0                    | 1\n",
       "... (26990 rows omitted)"
      ]
     },
     "execution_count": 50,
     "metadata": {},
     "output_type": "execute_result"
    }
   ],
   "source": [
    "results_with_accuracy = results.with_column('Expert Accuracy', exp_accuracy)\n",
    "results_with_accuracy"
   ]
  },
  {
   "cell_type": "code",
   "execution_count": 51,
   "id": "55fd2bd5",
   "metadata": {},
   "outputs": [
    {
     "data": {
      "text/plain": [
       "array([ 1. ,  1. ,  1. , ...,  nan,  nan,  0.8])"
      ]
     },
     "execution_count": 51,
     "metadata": {},
     "output_type": "execute_result"
    }
   ],
   "source": [
    "crowd_accuracy = 1 - results.column('Difficulty')\n",
    "crowd_accuracy"
   ]
  },
  {
   "cell_type": "code",
   "execution_count": 52,
   "id": "5b8d31bf",
   "metadata": {},
   "outputs": [
    {
     "data": {
      "text/html": [
       "<table border=\"1\" class=\"dataframe\">\n",
       "    <thead>\n",
       "        <tr>\n",
       "            <th>Case ID</th> <th>Expert Yes Votes</th> <th>Qualified Reads</th> <th>Correct Label</th> <th>Majority Label</th> <th>Difficulty</th> <th>Agreement</th> <th>First Choice Answer</th> <th>First Choice Votes</th> <th>First Choice Weight</th> <th>Second Choice Answer</th> <th>Second Choice Votes</th> <th>Second Choice Weight</th> <th>Expert Accuracy</th> <th>Crowd Accuracy</th>\n",
       "        </tr>\n",
       "    </thead>\n",
       "    <tbody>\n",
       "        <tr>\n",
       "            <td>5888087</td> <td>2               </td> <td>2              </td> <td>no           </td> <td>no            </td> <td>0         </td> <td>1        </td> <td>no                 </td> <td>2                 </td> <td>1.54               </td> <td>yes                 </td> <td>0                  </td> <td>0                   </td> <td>0.75           </td> <td>1             </td>\n",
       "        </tr>\n",
       "        <tr>\n",
       "            <td>5888088</td> <td>0               </td> <td>3              </td> <td>no           </td> <td>no            </td> <td>0         </td> <td>1        </td> <td>no                 </td> <td>3                 </td> <td>2.34               </td> <td>yes                 </td> <td>0                  </td> <td>0                   </td> <td>1              </td> <td>1             </td>\n",
       "        </tr>\n",
       "        <tr>\n",
       "            <td>5888089</td> <td>0               </td> <td>2              </td> <td>no           </td> <td>no            </td> <td>0         </td> <td>1        </td> <td>no                 </td> <td>2                 </td> <td>1.7                </td> <td>yes                 </td> <td>0                  </td> <td>0                   </td> <td>1              </td> <td>1             </td>\n",
       "        </tr>\n",
       "        <tr>\n",
       "            <td>5888090</td> <td>0               </td> <td>1              </td> <td>no           </td> <td>no            </td> <td>0         </td> <td>1        </td> <td>no                 </td> <td>1                 </td> <td>0.82               </td> <td>yes                 </td> <td>0                  </td> <td>0                   </td> <td>1              </td> <td>1             </td>\n",
       "        </tr>\n",
       "        <tr>\n",
       "            <td>5888091</td> <td>4               </td> <td>7              </td> <td>nan          </td> <td>yes           </td> <td>nan       </td> <td>0.571    </td> <td>yes                </td> <td>4                 </td> <td>3.28               </td> <td>no                  </td> <td>3                  </td> <td>2.32                </td> <td>None           </td> <td>nan           </td>\n",
       "        </tr>\n",
       "        <tr>\n",
       "            <td>5888092</td> <td>0               </td> <td>4              </td> <td>no           </td> <td>no            </td> <td>0         </td> <td>1        </td> <td>no                 </td> <td>4                 </td> <td>3.3                </td> <td>yes                 </td> <td>0                  </td> <td>0                   </td> <td>1              </td> <td>1             </td>\n",
       "        </tr>\n",
       "        <tr>\n",
       "            <td>5888093</td> <td>0               </td> <td>6              </td> <td>no           </td> <td>no            </td> <td>0         </td> <td>1        </td> <td>no                 </td> <td>6                 </td> <td>4.94               </td> <td>yes                 </td> <td>0                  </td> <td>0                   </td> <td>1              </td> <td>1             </td>\n",
       "        </tr>\n",
       "        <tr>\n",
       "            <td>5888094</td> <td>0               </td> <td>2              </td> <td>no           </td> <td>no            </td> <td>0         </td> <td>1        </td> <td>no                 </td> <td>2                 </td> <td>1.56               </td> <td>yes                 </td> <td>0                  </td> <td>0                   </td> <td>1              </td> <td>1             </td>\n",
       "        </tr>\n",
       "        <tr>\n",
       "            <td>5888095</td> <td>0               </td> <td>4              </td> <td>no           </td> <td>no            </td> <td>0         </td> <td>1        </td> <td>no                 </td> <td>4                 </td> <td>3.34               </td> <td>yes                 </td> <td>0                  </td> <td>0                   </td> <td>1              </td> <td>1             </td>\n",
       "        </tr>\n",
       "        <tr>\n",
       "            <td>5888096</td> <td>0               </td> <td>3              </td> <td>no           </td> <td>no            </td> <td>0         </td> <td>1        </td> <td>no                 </td> <td>3                 </td> <td>2.56               </td> <td>yes                 </td> <td>0                  </td> <td>0                   </td> <td>1              </td> <td>1             </td>\n",
       "        </tr>\n",
       "    </tbody>\n",
       "</table>\n",
       "<p>... (26990 rows omitted)</p>"
      ],
      "text/plain": [
       "Case ID | Expert Yes Votes | Qualified Reads | Correct Label | Majority Label | Difficulty | Agreement | First Choice Answer | First Choice Votes | First Choice Weight | Second Choice Answer | Second Choice Votes | Second Choice Weight | Expert Accuracy | Crowd Accuracy\n",
       "5888087 | 2                | 2               | no            | no             | 0          | 1         | no                  | 2                  | 1.54                | yes                  | 0                   | 0                    | 0.75            | 1\n",
       "5888088 | 0                | 3               | no            | no             | 0          | 1         | no                  | 3                  | 2.34                | yes                  | 0                   | 0                    | 1               | 1\n",
       "5888089 | 0                | 2               | no            | no             | 0          | 1         | no                  | 2                  | 1.7                 | yes                  | 0                   | 0                    | 1               | 1\n",
       "5888090 | 0                | 1               | no            | no             | 0          | 1         | no                  | 1                  | 0.82                | yes                  | 0                   | 0                    | 1               | 1\n",
       "5888091 | 4                | 7               | nan           | yes            | nan        | 0.571     | yes                 | 4                  | 3.28                | no                   | 3                   | 2.32                 | None            | nan\n",
       "5888092 | 0                | 4               | no            | no             | 0          | 1         | no                  | 4                  | 3.3                 | yes                  | 0                   | 0                    | 1               | 1\n",
       "5888093 | 0                | 6               | no            | no             | 0          | 1         | no                  | 6                  | 4.94                | yes                  | 0                   | 0                    | 1               | 1\n",
       "5888094 | 0                | 2               | no            | no             | 0          | 1         | no                  | 2                  | 1.56                | yes                  | 0                   | 0                    | 1               | 1\n",
       "5888095 | 0                | 4               | no            | no             | 0          | 1         | no                  | 4                  | 3.34                | yes                  | 0                   | 0                    | 1               | 1\n",
       "5888096 | 0                | 3               | no            | no             | 0          | 1         | no                  | 3                  | 2.56                | yes                  | 0                   | 0                    | 1               | 1\n",
       "... (26990 rows omitted)"
      ]
     },
     "execution_count": 52,
     "metadata": {},
     "output_type": "execute_result"
    }
   ],
   "source": [
    "results_with_accuracy = results_with_accuracy.with_column('Crowd Accuracy', crowd_accuracy)\n",
    "results_with_accuracy"
   ]
  },
  {
   "cell_type": "markdown",
   "id": "24779ca7",
   "metadata": {},
   "source": [
    "<h3>Data Cleaning</h3>\n",
    "\n",
    "Before we can compare the expert accuracy score with the crowd accuracy score, some more issues need to be cleaned up in the data. First, we need just the rows where the correct label is defined."
   ]
  },
  {
   "cell_type": "code",
   "execution_count": 53,
   "id": "9b0f8905",
   "metadata": {},
   "outputs": [
    {
     "data": {
      "text/html": [
       "<table border=\"1\" class=\"dataframe\">\n",
       "    <thead>\n",
       "        <tr>\n",
       "            <th>Case ID</th> <th>Expert Yes Votes</th> <th>Qualified Reads</th> <th>Correct Label</th> <th>Majority Label</th> <th>Difficulty</th> <th>Agreement</th> <th>First Choice Answer</th> <th>First Choice Votes</th> <th>First Choice Weight</th> <th>Second Choice Answer</th> <th>Second Choice Votes</th> <th>Second Choice Weight</th> <th>Expert Accuracy</th> <th>Crowd Accuracy</th>\n",
       "        </tr>\n",
       "    </thead>\n",
       "    <tbody>\n",
       "        <tr>\n",
       "            <td>5888087</td> <td>2               </td> <td>2              </td> <td>no           </td> <td>no            </td> <td>0         </td> <td>1        </td> <td>no                 </td> <td>2                 </td> <td>1.54               </td> <td>yes                 </td> <td>0                  </td> <td>0                   </td> <td>0.75           </td> <td>1             </td>\n",
       "        </tr>\n",
       "        <tr>\n",
       "            <td>5888088</td> <td>0               </td> <td>3              </td> <td>no           </td> <td>no            </td> <td>0         </td> <td>1        </td> <td>no                 </td> <td>3                 </td> <td>2.34               </td> <td>yes                 </td> <td>0                  </td> <td>0                   </td> <td>1              </td> <td>1             </td>\n",
       "        </tr>\n",
       "        <tr>\n",
       "            <td>5888089</td> <td>0               </td> <td>2              </td> <td>no           </td> <td>no            </td> <td>0         </td> <td>1        </td> <td>no                 </td> <td>2                 </td> <td>1.7                </td> <td>yes                 </td> <td>0                  </td> <td>0                   </td> <td>1              </td> <td>1             </td>\n",
       "        </tr>\n",
       "        <tr>\n",
       "            <td>5888090</td> <td>0               </td> <td>1              </td> <td>no           </td> <td>no            </td> <td>0         </td> <td>1        </td> <td>no                 </td> <td>1                 </td> <td>0.82               </td> <td>yes                 </td> <td>0                  </td> <td>0                   </td> <td>1              </td> <td>1             </td>\n",
       "        </tr>\n",
       "        <tr>\n",
       "            <td>5888092</td> <td>0               </td> <td>4              </td> <td>no           </td> <td>no            </td> <td>0         </td> <td>1        </td> <td>no                 </td> <td>4                 </td> <td>3.3                </td> <td>yes                 </td> <td>0                  </td> <td>0                   </td> <td>1              </td> <td>1             </td>\n",
       "        </tr>\n",
       "        <tr>\n",
       "            <td>5888093</td> <td>0               </td> <td>6              </td> <td>no           </td> <td>no            </td> <td>0         </td> <td>1        </td> <td>no                 </td> <td>6                 </td> <td>4.94               </td> <td>yes                 </td> <td>0                  </td> <td>0                   </td> <td>1              </td> <td>1             </td>\n",
       "        </tr>\n",
       "        <tr>\n",
       "            <td>5888094</td> <td>0               </td> <td>2              </td> <td>no           </td> <td>no            </td> <td>0         </td> <td>1        </td> <td>no                 </td> <td>2                 </td> <td>1.56               </td> <td>yes                 </td> <td>0                  </td> <td>0                   </td> <td>1              </td> <td>1             </td>\n",
       "        </tr>\n",
       "        <tr>\n",
       "            <td>5888095</td> <td>0               </td> <td>4              </td> <td>no           </td> <td>no            </td> <td>0         </td> <td>1        </td> <td>no                 </td> <td>4                 </td> <td>3.34               </td> <td>yes                 </td> <td>0                  </td> <td>0                   </td> <td>1              </td> <td>1             </td>\n",
       "        </tr>\n",
       "        <tr>\n",
       "            <td>5888096</td> <td>0               </td> <td>3              </td> <td>no           </td> <td>no            </td> <td>0         </td> <td>1        </td> <td>no                 </td> <td>3                 </td> <td>2.56               </td> <td>yes                 </td> <td>0                  </td> <td>0                   </td> <td>1              </td> <td>1             </td>\n",
       "        </tr>\n",
       "        <tr>\n",
       "            <td>5888097</td> <td>0               </td> <td>4              </td> <td>no           </td> <td>no            </td> <td>0         </td> <td>1        </td> <td>no                 </td> <td>4                 </td> <td>3.16               </td> <td>yes                 </td> <td>0                  </td> <td>0                   </td> <td>1              </td> <td>1             </td>\n",
       "        </tr>\n",
       "    </tbody>\n",
       "</table>\n",
       "<p>... (23990 rows omitted)</p>"
      ],
      "text/plain": [
       "Case ID | Expert Yes Votes | Qualified Reads | Correct Label | Majority Label | Difficulty | Agreement | First Choice Answer | First Choice Votes | First Choice Weight | Second Choice Answer | Second Choice Votes | Second Choice Weight | Expert Accuracy | Crowd Accuracy\n",
       "5888087 | 2                | 2               | no            | no             | 0          | 1         | no                  | 2                  | 1.54                | yes                  | 0                   | 0                    | 0.75            | 1\n",
       "5888088 | 0                | 3               | no            | no             | 0          | 1         | no                  | 3                  | 2.34                | yes                  | 0                   | 0                    | 1               | 1\n",
       "5888089 | 0                | 2               | no            | no             | 0          | 1         | no                  | 2                  | 1.7                 | yes                  | 0                   | 0                    | 1               | 1\n",
       "5888090 | 0                | 1               | no            | no             | 0          | 1         | no                  | 1                  | 0.82                | yes                  | 0                   | 0                    | 1               | 1\n",
       "5888092 | 0                | 4               | no            | no             | 0          | 1         | no                  | 4                  | 3.3                 | yes                  | 0                   | 0                    | 1               | 1\n",
       "5888093 | 0                | 6               | no            | no             | 0          | 1         | no                  | 6                  | 4.94                | yes                  | 0                   | 0                    | 1               | 1\n",
       "5888094 | 0                | 2               | no            | no             | 0          | 1         | no                  | 2                  | 1.56                | yes                  | 0                   | 0                    | 1               | 1\n",
       "5888095 | 0                | 4               | no            | no             | 0          | 1         | no                  | 4                  | 3.34                | yes                  | 0                   | 0                    | 1               | 1\n",
       "5888096 | 0                | 3               | no            | no             | 0          | 1         | no                  | 3                  | 2.56                | yes                  | 0                   | 0                    | 1               | 1\n",
       "5888097 | 0                | 4               | no            | no             | 0          | 1         | no                  | 4                  | 3.16                | yes                  | 0                   | 0                    | 1               | 1\n",
       "... (23990 rows omitted)"
      ]
     },
     "execution_count": 53,
     "metadata": {},
     "output_type": "execute_result"
    }
   ],
   "source": [
    "correct_label_exists = results_with_accuracy.where('Correct Label', are.not_equal_to('nan'))\n",
    "correct_label_exists"
   ]
  },
  {
   "cell_type": "markdown",
   "id": "d199aea8",
   "metadata": {},
   "source": [
    "And then, we will discover that there are some cases that have no crowd vote recorded. So we'll need to get rid of those too."
   ]
  },
  {
   "cell_type": "code",
   "execution_count": 54,
   "id": "bafe3e2a",
   "metadata": {},
   "outputs": [
    {
     "data": {
      "text/plain": [
       "array([-0.25, 0.0, 0.0, ..., 0.29200000000000004, nan, -0.17500000000000004], dtype=object)"
      ]
     },
     "execution_count": 54,
     "metadata": {},
     "output_type": "execute_result"
    }
   ],
   "source": [
    "experts_vs_crowd = correct_label_exists.column('Expert Accuracy') - correct_label_exists.column('Crowd Accuracy')\n",
    "experts_vs_crowd"
   ]
  },
  {
   "cell_type": "markdown",
   "id": "5161e627",
   "metadata": {},
   "source": [
    "To clean this up, we will reduce the table to include only cases where qualified reads are a positive number:"
   ]
  },
  {
   "cell_type": "code",
   "execution_count": 55,
   "id": "66b59e04",
   "metadata": {},
   "outputs": [
    {
     "data": {
      "text/html": [
       "<table border=\"1\" class=\"dataframe\">\n",
       "    <thead>\n",
       "        <tr>\n",
       "            <th>Case ID</th> <th>Expert Yes Votes</th> <th>Qualified Reads</th> <th>Correct Label</th> <th>Majority Label</th> <th>Difficulty</th> <th>Agreement</th> <th>First Choice Answer</th> <th>First Choice Votes</th> <th>First Choice Weight</th> <th>Second Choice Answer</th> <th>Second Choice Votes</th> <th>Second Choice Weight</th> <th>Expert Accuracy</th> <th>Crowd Accuracy</th>\n",
       "        </tr>\n",
       "    </thead>\n",
       "    <tbody>\n",
       "        <tr>\n",
       "            <td>5888087</td> <td>2               </td> <td>2              </td> <td>no           </td> <td>no            </td> <td>0         </td> <td>1        </td> <td>no                 </td> <td>2                 </td> <td>1.54               </td> <td>yes                 </td> <td>0                  </td> <td>0                   </td> <td>0.75           </td> <td>1             </td>\n",
       "        </tr>\n",
       "        <tr>\n",
       "            <td>5888088</td> <td>0               </td> <td>3              </td> <td>no           </td> <td>no            </td> <td>0         </td> <td>1        </td> <td>no                 </td> <td>3                 </td> <td>2.34               </td> <td>yes                 </td> <td>0                  </td> <td>0                   </td> <td>1              </td> <td>1             </td>\n",
       "        </tr>\n",
       "        <tr>\n",
       "            <td>5888089</td> <td>0               </td> <td>2              </td> <td>no           </td> <td>no            </td> <td>0         </td> <td>1        </td> <td>no                 </td> <td>2                 </td> <td>1.7                </td> <td>yes                 </td> <td>0                  </td> <td>0                   </td> <td>1              </td> <td>1             </td>\n",
       "        </tr>\n",
       "        <tr>\n",
       "            <td>5888090</td> <td>0               </td> <td>1              </td> <td>no           </td> <td>no            </td> <td>0         </td> <td>1        </td> <td>no                 </td> <td>1                 </td> <td>0.82               </td> <td>yes                 </td> <td>0                  </td> <td>0                   </td> <td>1              </td> <td>1             </td>\n",
       "        </tr>\n",
       "        <tr>\n",
       "            <td>5888092</td> <td>0               </td> <td>4              </td> <td>no           </td> <td>no            </td> <td>0         </td> <td>1        </td> <td>no                 </td> <td>4                 </td> <td>3.3                </td> <td>yes                 </td> <td>0                  </td> <td>0                   </td> <td>1              </td> <td>1             </td>\n",
       "        </tr>\n",
       "        <tr>\n",
       "            <td>5888093</td> <td>0               </td> <td>6              </td> <td>no           </td> <td>no            </td> <td>0         </td> <td>1        </td> <td>no                 </td> <td>6                 </td> <td>4.94               </td> <td>yes                 </td> <td>0                  </td> <td>0                   </td> <td>1              </td> <td>1             </td>\n",
       "        </tr>\n",
       "        <tr>\n",
       "            <td>5888094</td> <td>0               </td> <td>2              </td> <td>no           </td> <td>no            </td> <td>0         </td> <td>1        </td> <td>no                 </td> <td>2                 </td> <td>1.56               </td> <td>yes                 </td> <td>0                  </td> <td>0                   </td> <td>1              </td> <td>1             </td>\n",
       "        </tr>\n",
       "        <tr>\n",
       "            <td>5888095</td> <td>0               </td> <td>4              </td> <td>no           </td> <td>no            </td> <td>0         </td> <td>1        </td> <td>no                 </td> <td>4                 </td> <td>3.34               </td> <td>yes                 </td> <td>0                  </td> <td>0                   </td> <td>1              </td> <td>1             </td>\n",
       "        </tr>\n",
       "        <tr>\n",
       "            <td>5888096</td> <td>0               </td> <td>3              </td> <td>no           </td> <td>no            </td> <td>0         </td> <td>1        </td> <td>no                 </td> <td>3                 </td> <td>2.56               </td> <td>yes                 </td> <td>0                  </td> <td>0                   </td> <td>1              </td> <td>1             </td>\n",
       "        </tr>\n",
       "        <tr>\n",
       "            <td>5888097</td> <td>0               </td> <td>4              </td> <td>no           </td> <td>no            </td> <td>0         </td> <td>1        </td> <td>no                 </td> <td>4                 </td> <td>3.16               </td> <td>yes                 </td> <td>0                  </td> <td>0                   </td> <td>1              </td> <td>1             </td>\n",
       "        </tr>\n",
       "    </tbody>\n",
       "</table>\n",
       "<p>... (23748 rows omitted)</p>"
      ],
      "text/plain": [
       "Case ID | Expert Yes Votes | Qualified Reads | Correct Label | Majority Label | Difficulty | Agreement | First Choice Answer | First Choice Votes | First Choice Weight | Second Choice Answer | Second Choice Votes | Second Choice Weight | Expert Accuracy | Crowd Accuracy\n",
       "5888087 | 2                | 2               | no            | no             | 0          | 1         | no                  | 2                  | 1.54                | yes                  | 0                   | 0                    | 0.75            | 1\n",
       "5888088 | 0                | 3               | no            | no             | 0          | 1         | no                  | 3                  | 2.34                | yes                  | 0                   | 0                    | 1               | 1\n",
       "5888089 | 0                | 2               | no            | no             | 0          | 1         | no                  | 2                  | 1.7                 | yes                  | 0                   | 0                    | 1               | 1\n",
       "5888090 | 0                | 1               | no            | no             | 0          | 1         | no                  | 1                  | 0.82                | yes                  | 0                   | 0                    | 1               | 1\n",
       "5888092 | 0                | 4               | no            | no             | 0          | 1         | no                  | 4                  | 3.3                 | yes                  | 0                   | 0                    | 1               | 1\n",
       "5888093 | 0                | 6               | no            | no             | 0          | 1         | no                  | 6                  | 4.94                | yes                  | 0                   | 0                    | 1               | 1\n",
       "5888094 | 0                | 2               | no            | no             | 0          | 1         | no                  | 2                  | 1.56                | yes                  | 0                   | 0                    | 1               | 1\n",
       "5888095 | 0                | 4               | no            | no             | 0          | 1         | no                  | 4                  | 3.34                | yes                  | 0                   | 0                    | 1               | 1\n",
       "5888096 | 0                | 3               | no            | no             | 0          | 1         | no                  | 3                  | 2.56                | yes                  | 0                   | 0                    | 1               | 1\n",
       "5888097 | 0                | 4               | no            | no             | 0          | 1         | no                  | 4                  | 3.16                | yes                  | 0                   | 0                    | 1               | 1\n",
       "... (23748 rows omitted)"
      ]
     },
     "execution_count": 55,
     "metadata": {},
     "output_type": "execute_result"
    }
   ],
   "source": [
    "correct_label_and_qualified_reads = correct_label_exists.where('Qualified Reads', are.above(0))\n",
    "correct_label_and_qualified_reads"
   ]
  },
  {
   "cell_type": "markdown",
   "id": "7d5140e1",
   "metadata": {},
   "source": [
    "<h2>Calculating a Value to Compare Expert Accuracy vs Crowd Accuracy</h2>\n",
    "\n",
    "We will consider the difference between expert accuracy rate and crowd accuracy rate as a useful number to compare them."
   ]
  },
  {
   "cell_type": "code",
   "execution_count": 56,
   "id": "bb62ea06",
   "metadata": {},
   "outputs": [
    {
     "data": {
      "text/plain": [
       "array([-0.25, 0.0, 0.0, ..., 0.75, 0.29200000000000004,\n",
       "       -0.17500000000000004], dtype=object)"
      ]
     },
     "execution_count": 56,
     "metadata": {},
     "output_type": "execute_result"
    }
   ],
   "source": [
    "difference = correct_label_and_qualified_reads.column('Expert Accuracy') - correct_label_and_qualified_reads.column('Crowd Accuracy')\n",
    "difference"
   ]
  },
  {
   "cell_type": "code",
   "execution_count": 57,
   "id": "d50fd0f3",
   "metadata": {},
   "outputs": [
    {
     "data": {
      "text/html": [
       "<table border=\"1\" class=\"dataframe\">\n",
       "    <thead>\n",
       "        <tr>\n",
       "            <th>Case ID</th> <th>Expert Yes Votes</th> <th>Qualified Reads</th> <th>Correct Label</th> <th>Majority Label</th> <th>Difficulty</th> <th>Agreement</th> <th>First Choice Answer</th> <th>First Choice Votes</th> <th>First Choice Weight</th> <th>Second Choice Answer</th> <th>Second Choice Votes</th> <th>Second Choice Weight</th> <th>Expert Accuracy</th> <th>Crowd Accuracy</th> <th>Difference</th>\n",
       "        </tr>\n",
       "    </thead>\n",
       "    <tbody>\n",
       "        <tr>\n",
       "            <td>5888087</td> <td>2               </td> <td>2              </td> <td>no           </td> <td>no            </td> <td>0         </td> <td>1        </td> <td>no                 </td> <td>2                 </td> <td>1.54               </td> <td>yes                 </td> <td>0                  </td> <td>0                   </td> <td>0.75           </td> <td>1             </td> <td>-0.25     </td>\n",
       "        </tr>\n",
       "        <tr>\n",
       "            <td>5888088</td> <td>0               </td> <td>3              </td> <td>no           </td> <td>no            </td> <td>0         </td> <td>1        </td> <td>no                 </td> <td>3                 </td> <td>2.34               </td> <td>yes                 </td> <td>0                  </td> <td>0                   </td> <td>1              </td> <td>1             </td> <td>0         </td>\n",
       "        </tr>\n",
       "        <tr>\n",
       "            <td>5888089</td> <td>0               </td> <td>2              </td> <td>no           </td> <td>no            </td> <td>0         </td> <td>1        </td> <td>no                 </td> <td>2                 </td> <td>1.7                </td> <td>yes                 </td> <td>0                  </td> <td>0                   </td> <td>1              </td> <td>1             </td> <td>0         </td>\n",
       "        </tr>\n",
       "        <tr>\n",
       "            <td>5888090</td> <td>0               </td> <td>1              </td> <td>no           </td> <td>no            </td> <td>0         </td> <td>1        </td> <td>no                 </td> <td>1                 </td> <td>0.82               </td> <td>yes                 </td> <td>0                  </td> <td>0                   </td> <td>1              </td> <td>1             </td> <td>0         </td>\n",
       "        </tr>\n",
       "        <tr>\n",
       "            <td>5888092</td> <td>0               </td> <td>4              </td> <td>no           </td> <td>no            </td> <td>0         </td> <td>1        </td> <td>no                 </td> <td>4                 </td> <td>3.3                </td> <td>yes                 </td> <td>0                  </td> <td>0                   </td> <td>1              </td> <td>1             </td> <td>0         </td>\n",
       "        </tr>\n",
       "        <tr>\n",
       "            <td>5888093</td> <td>0               </td> <td>6              </td> <td>no           </td> <td>no            </td> <td>0         </td> <td>1        </td> <td>no                 </td> <td>6                 </td> <td>4.94               </td> <td>yes                 </td> <td>0                  </td> <td>0                   </td> <td>1              </td> <td>1             </td> <td>0         </td>\n",
       "        </tr>\n",
       "        <tr>\n",
       "            <td>5888094</td> <td>0               </td> <td>2              </td> <td>no           </td> <td>no            </td> <td>0         </td> <td>1        </td> <td>no                 </td> <td>2                 </td> <td>1.56               </td> <td>yes                 </td> <td>0                  </td> <td>0                   </td> <td>1              </td> <td>1             </td> <td>0         </td>\n",
       "        </tr>\n",
       "        <tr>\n",
       "            <td>5888095</td> <td>0               </td> <td>4              </td> <td>no           </td> <td>no            </td> <td>0         </td> <td>1        </td> <td>no                 </td> <td>4                 </td> <td>3.34               </td> <td>yes                 </td> <td>0                  </td> <td>0                   </td> <td>1              </td> <td>1             </td> <td>0         </td>\n",
       "        </tr>\n",
       "        <tr>\n",
       "            <td>5888096</td> <td>0               </td> <td>3              </td> <td>no           </td> <td>no            </td> <td>0         </td> <td>1        </td> <td>no                 </td> <td>3                 </td> <td>2.56               </td> <td>yes                 </td> <td>0                  </td> <td>0                   </td> <td>1              </td> <td>1             </td> <td>0         </td>\n",
       "        </tr>\n",
       "        <tr>\n",
       "            <td>5888097</td> <td>0               </td> <td>4              </td> <td>no           </td> <td>no            </td> <td>0         </td> <td>1        </td> <td>no                 </td> <td>4                 </td> <td>3.16               </td> <td>yes                 </td> <td>0                  </td> <td>0                   </td> <td>1              </td> <td>1             </td> <td>0         </td>\n",
       "        </tr>\n",
       "    </tbody>\n",
       "</table>\n",
       "<p>... (23748 rows omitted)</p>"
      ],
      "text/plain": [
       "Case ID | Expert Yes Votes | Qualified Reads | Correct Label | Majority Label | Difficulty | Agreement | First Choice Answer | First Choice Votes | First Choice Weight | Second Choice Answer | Second Choice Votes | Second Choice Weight | Expert Accuracy | Crowd Accuracy | Difference\n",
       "5888087 | 2                | 2               | no            | no             | 0          | 1         | no                  | 2                  | 1.54                | yes                  | 0                   | 0                    | 0.75            | 1              | -0.25\n",
       "5888088 | 0                | 3               | no            | no             | 0          | 1         | no                  | 3                  | 2.34                | yes                  | 0                   | 0                    | 1               | 1              | 0\n",
       "5888089 | 0                | 2               | no            | no             | 0          | 1         | no                  | 2                  | 1.7                 | yes                  | 0                   | 0                    | 1               | 1              | 0\n",
       "5888090 | 0                | 1               | no            | no             | 0          | 1         | no                  | 1                  | 0.82                | yes                  | 0                   | 0                    | 1               | 1              | 0\n",
       "5888092 | 0                | 4               | no            | no             | 0          | 1         | no                  | 4                  | 3.3                 | yes                  | 0                   | 0                    | 1               | 1              | 0\n",
       "5888093 | 0                | 6               | no            | no             | 0          | 1         | no                  | 6                  | 4.94                | yes                  | 0                   | 0                    | 1               | 1              | 0\n",
       "5888094 | 0                | 2               | no            | no             | 0          | 1         | no                  | 2                  | 1.56                | yes                  | 0                   | 0                    | 1               | 1              | 0\n",
       "5888095 | 0                | 4               | no            | no             | 0          | 1         | no                  | 4                  | 3.34                | yes                  | 0                   | 0                    | 1               | 1              | 0\n",
       "5888096 | 0                | 3               | no            | no             | 0          | 1         | no                  | 3                  | 2.56                | yes                  | 0                   | 0                    | 1               | 1              | 0\n",
       "5888097 | 0                | 4               | no            | no             | 0          | 1         | no                  | 4                  | 3.16                | yes                  | 0                   | 0                    | 1               | 1              | 0\n",
       "... (23748 rows omitted)"
      ]
     },
     "execution_count": 57,
     "metadata": {},
     "output_type": "execute_result"
    }
   ],
   "source": [
    "results_with_difference = correct_label_and_qualified_reads.with_column('Difference', difference)\n",
    "results_with_difference"
   ]
  },
  {
   "cell_type": "code",
   "execution_count": 58,
   "id": "835dc7d7",
   "metadata": {},
   "outputs": [
    {
     "data": {
      "text/html": [
       "<table border=\"1\" class=\"dataframe\">\n",
       "    <thead>\n",
       "        <tr>\n",
       "            <th>Case ID</th> <th>Expert Accuracy</th> <th>Crowd Accuracy</th> <th>Difference</th>\n",
       "        </tr>\n",
       "    </thead>\n",
       "    <tbody>\n",
       "        <tr>\n",
       "            <td>5888087</td> <td>0.75           </td> <td>1             </td> <td>-0.25     </td>\n",
       "        </tr>\n",
       "        <tr>\n",
       "            <td>5888088</td> <td>1              </td> <td>1             </td> <td>0         </td>\n",
       "        </tr>\n",
       "        <tr>\n",
       "            <td>5888089</td> <td>1              </td> <td>1             </td> <td>0         </td>\n",
       "        </tr>\n",
       "        <tr>\n",
       "            <td>5888090</td> <td>1              </td> <td>1             </td> <td>0         </td>\n",
       "        </tr>\n",
       "        <tr>\n",
       "            <td>5888092</td> <td>1              </td> <td>1             </td> <td>0         </td>\n",
       "        </tr>\n",
       "        <tr>\n",
       "            <td>5888093</td> <td>1              </td> <td>1             </td> <td>0         </td>\n",
       "        </tr>\n",
       "        <tr>\n",
       "            <td>5888094</td> <td>1              </td> <td>1             </td> <td>0         </td>\n",
       "        </tr>\n",
       "        <tr>\n",
       "            <td>5888095</td> <td>1              </td> <td>1             </td> <td>0         </td>\n",
       "        </tr>\n",
       "        <tr>\n",
       "            <td>5888096</td> <td>1              </td> <td>1             </td> <td>0         </td>\n",
       "        </tr>\n",
       "        <tr>\n",
       "            <td>5888097</td> <td>1              </td> <td>1             </td> <td>0         </td>\n",
       "        </tr>\n",
       "    </tbody>\n",
       "</table>\n",
       "<p>... (23748 rows omitted)</p>"
      ],
      "text/plain": [
       "Case ID | Expert Accuracy | Crowd Accuracy | Difference\n",
       "5888087 | 0.75            | 1              | -0.25\n",
       "5888088 | 1               | 1              | 0\n",
       "5888089 | 1               | 1              | 0\n",
       "5888090 | 1               | 1              | 0\n",
       "5888092 | 1               | 1              | 0\n",
       "5888093 | 1               | 1              | 0\n",
       "5888094 | 1               | 1              | 0\n",
       "5888095 | 1               | 1              | 0\n",
       "5888096 | 1               | 1              | 0\n",
       "5888097 | 1               | 1              | 0\n",
       "... (23748 rows omitted)"
      ]
     },
     "execution_count": 58,
     "metadata": {},
     "output_type": "execute_result"
    }
   ],
   "source": [
    "difference_tbl = results_with_difference.select('Case ID', 'Expert Accuracy', 'Crowd Accuracy', 'Difference')\n",
    "difference_tbl"
   ]
  },
  {
   "cell_type": "markdown",
   "id": "baaedff6",
   "metadata": {},
   "source": [
    "Checking that the numbers make sense. When the Difference value is 0, that should mean that the expert accuracy and the crowd accuracy were the same. And below, we do see the same values existing in these cases for both accuracy ratings."
   ]
  },
  {
   "cell_type": "code",
   "execution_count": 59,
   "id": "922c3ffa",
   "metadata": {},
   "outputs": [],
   "source": [
    "t1 = difference_tbl.where('Difference', 0)"
   ]
  },
  {
   "cell_type": "code",
   "execution_count": 60,
   "id": "e6ae457e",
   "metadata": {},
   "outputs": [
    {
     "data": {
      "text/plain": [
       "{0.625, 0.75, 0.875, 1.0}"
      ]
     },
     "execution_count": 60,
     "metadata": {},
     "output_type": "execute_result"
    }
   ],
   "source": [
    "set(t1.column('Crowd Accuracy'))"
   ]
  },
  {
   "cell_type": "code",
   "execution_count": 61,
   "id": "11eb048e",
   "metadata": {},
   "outputs": [
    {
     "data": {
      "text/plain": [
       "{0.625, 0.75, 0.875, 1.0}"
      ]
     },
     "execution_count": 61,
     "metadata": {},
     "output_type": "execute_result"
    }
   ],
   "source": [
    "set(t1.column('Expert Accuracy'))"
   ]
  },
  {
   "cell_type": "markdown",
   "id": "c0d1777a",
   "metadata": {},
   "source": [
    "<h2>Comparing Accuracy Ratings</h2>\n",
    "\n",
    "The difference number was calculated as (expert accuracy - crowd accuracy).\n",
    "\n",
    "Interpretation of the difference number:\n",
    "\n",
    "- 0 means the expert accuracy and the crowd accuracy were the same.\n",
    "- Positive numbers mean expert accuracy rate was higher than crowd.\n",
    "- Negative numbers mean crowd accuracy rate was higher than experts."
   ]
  },
  {
   "cell_type": "code",
   "execution_count": 62,
   "id": "30f0742e",
   "metadata": {},
   "outputs": [
    {
     "data": {
      "image/png": "[encoded data removed]",
      "text/plain": [
       "<Figure size 432x288 with 1 Axes>"
      ]
     },
     "metadata": {},
     "output_type": "display_data"
    }
   ],
   "source": [
    "difference_tbl.hist('Difference', bins=np.arange(-0.45, 0.46, 0.1))"
   ]
  },
  {
   "cell_type": "code",
   "execution_count": 63,
   "id": "5350b5c9",
   "metadata": {},
   "outputs": [
    {
     "data": {
      "text/plain": [
       "0.19563936358279316"
      ]
     },
     "execution_count": 63,
     "metadata": {},
     "output_type": "execute_result"
    }
   ],
   "source": [
    "same_accuracy_rate = (len(difference) - np.count_nonzero(difference)) / len(difference)\n",
    "same_accuracy_rate"
   ]
  },
  {
   "cell_type": "code",
   "execution_count": 64,
   "id": "bdff00c0",
   "metadata": {},
   "outputs": [
    {
     "data": {
      "text/plain": [
       "0.37448438420742486"
      ]
     },
     "execution_count": 64,
     "metadata": {},
     "output_type": "execute_result"
    }
   ],
   "source": [
    "experts_higher_rate = np.count_nonzero(difference > 0) / len(difference)\n",
    "experts_higher_rate"
   ]
  },
  {
   "cell_type": "code",
   "execution_count": 65,
   "id": "d16d8707",
   "metadata": {},
   "outputs": [
    {
     "data": {
      "text/plain": [
       "0.429876252209782"
      ]
     },
     "execution_count": 65,
     "metadata": {},
     "output_type": "execute_result"
    }
   ],
   "source": [
    "crowd_higher_rate = np.count_nonzero(difference < 0) / len(difference)\n",
    "crowd_higher_rate"
   ]
  },
  {
   "cell_type": "code",
   "execution_count": 66,
   "id": "72db1eaf",
   "metadata": {},
   "outputs": [
    {
     "data": {
      "text/plain": [
       "1.0"
      ]
     },
     "execution_count": 66,
     "metadata": {},
     "output_type": "execute_result"
    }
   ],
   "source": [
    "same_accuracy_rate + experts_higher_rate + crowd_higher_rate"
   ]
  },
  {
   "cell_type": "markdown",
   "id": "a0c489f4",
   "metadata": {},
   "source": [
    "Numbers of interest that arise out of this comparison:\n",
    "    \n",
    "<strong>Equal accuracy rate:</strong> 19.6% of the time both the crowd and the experts had the same accuracy rate.\n",
    "\n",
    "<strong>Expert accuracy rate higher:</strong> 37.4% of cases have the expert accuracy rate higher than the crowd's.\n",
    "\n",
    "<strong>Crowd accuracy rate higher:</strong> 43.0% of cases have the crowd with the higher accuracy rate over the experts.\n",
    "\n",
    "In these numbers overall, the crowd accuracy rate is <i>at least as good as</i> the expert accuracy rate 62.6% of the time."
   ]
  },
  {
   "cell_type": "markdown",
   "id": "6f0c8d16",
   "metadata": {},
   "source": [
    "<h2>Comparing Cases In More Detail</h2>"
   ]
  },
  {
   "cell_type": "markdown",
   "id": "c36ff696",
   "metadata": {},
   "source": [
    "<h3>Expert Vote Unanimous</h3>\n",
    "\n",
    "How does the comparison look specifically on cases where the experts were unanimous?"
   ]
  },
  {
   "cell_type": "code",
   "execution_count": 67,
   "id": "d1199d50",
   "metadata": {},
   "outputs": [
    {
     "data": {
      "text/html": [
       "<table border=\"1\" class=\"dataframe\">\n",
       "    <thead>\n",
       "        <tr>\n",
       "            <th>Case ID</th> <th>Expert Accuracy</th> <th>Crowd Accuracy</th> <th>Difference</th>\n",
       "        </tr>\n",
       "    </thead>\n",
       "    <tbody>\n",
       "        <tr>\n",
       "            <td>5888088</td> <td>1              </td> <td>1             </td> <td>0         </td>\n",
       "        </tr>\n",
       "        <tr>\n",
       "            <td>5888089</td> <td>1              </td> <td>1             </td> <td>0         </td>\n",
       "        </tr>\n",
       "        <tr>\n",
       "            <td>5888090</td> <td>1              </td> <td>1             </td> <td>0         </td>\n",
       "        </tr>\n",
       "        <tr>\n",
       "            <td>5888092</td> <td>1              </td> <td>1             </td> <td>0         </td>\n",
       "        </tr>\n",
       "        <tr>\n",
       "            <td>5888093</td> <td>1              </td> <td>1             </td> <td>0         </td>\n",
       "        </tr>\n",
       "        <tr>\n",
       "            <td>5888094</td> <td>1              </td> <td>1             </td> <td>0         </td>\n",
       "        </tr>\n",
       "        <tr>\n",
       "            <td>5888095</td> <td>1              </td> <td>1             </td> <td>0         </td>\n",
       "        </tr>\n",
       "        <tr>\n",
       "            <td>5888096</td> <td>1              </td> <td>1             </td> <td>0         </td>\n",
       "        </tr>\n",
       "        <tr>\n",
       "            <td>5888097</td> <td>1              </td> <td>1             </td> <td>0         </td>\n",
       "        </tr>\n",
       "        <tr>\n",
       "            <td>5888098</td> <td>1              </td> <td>1             </td> <td>0         </td>\n",
       "        </tr>\n",
       "    </tbody>\n",
       "</table>\n",
       "<p>... (5939 rows omitted)</p>"
      ],
      "text/plain": [
       "Case ID | Expert Accuracy | Crowd Accuracy | Difference\n",
       "5888088 | 1               | 1              | 0\n",
       "5888089 | 1               | 1              | 0\n",
       "5888090 | 1               | 1              | 0\n",
       "5888092 | 1               | 1              | 0\n",
       "5888093 | 1               | 1              | 0\n",
       "5888094 | 1               | 1              | 0\n",
       "5888095 | 1               | 1              | 0\n",
       "5888096 | 1               | 1              | 0\n",
       "5888097 | 1               | 1              | 0\n",
       "5888098 | 1               | 1              | 0\n",
       "... (5939 rows omitted)"
      ]
     },
     "execution_count": 67,
     "metadata": {},
     "output_type": "execute_result"
    }
   ],
   "source": [
    "experts_unanimous = difference_tbl.where('Expert Accuracy', 1)\n",
    "experts_unanimous"
   ]
  },
  {
   "cell_type": "code",
   "execution_count": 68,
   "id": "724ed8a3",
   "metadata": {},
   "outputs": [
    {
     "data": {
      "image/png": "[encoded data removed]",
      "text/plain": [
       "<Figure size 432x288 with 1 Axes>"
      ]
     },
     "metadata": {},
     "output_type": "display_data"
    }
   ],
   "source": [
    "experts_unanimous.hist('Difference', bins=np.arange(-0.45, 0.46, 0.1))"
   ]
  },
  {
   "cell_type": "code",
   "execution_count": 69,
   "id": "4a498b70",
   "metadata": {},
   "outputs": [
    {
     "data": {
      "text/plain": [
       "5949"
      ]
     },
     "execution_count": 69,
     "metadata": {},
     "output_type": "execute_result"
    }
   ],
   "source": [
    "experts_unanimous.num_rows"
   ]
  },
  {
   "cell_type": "code",
   "execution_count": 70,
   "id": "4b8e16f6",
   "metadata": {},
   "outputs": [
    {
     "data": {
      "text/plain": [
       "1638"
      ]
     },
     "execution_count": 70,
     "metadata": {},
     "output_type": "execute_result"
    }
   ],
   "source": [
    "np.count_nonzero(experts_unanimous.column('Difference'))"
   ]
  },
  {
   "cell_type": "code",
   "execution_count": 71,
   "id": "e3d2e945",
   "metadata": {},
   "outputs": [
    {
     "data": {
      "text/plain": [
       "0.2753403933434191"
      ]
     },
     "execution_count": 71,
     "metadata": {},
     "output_type": "execute_result"
    }
   ],
   "source": [
    "1638/5949"
   ]
  },
  {
   "cell_type": "markdown",
   "id": "67f810a1",
   "metadata": {},
   "source": [
    "In cases where the experts were unanimous with their labeling, by definition their accuracy is 100%. We can look at the difference of accuracy to get a sense of how closely the crowd labeling followed along. \n",
    "\n",
    "27.5% of the time in this case, the expert accuracy was higher than that of the crowd, meaning the crowd chose incorrectly. Equivalently, the crowd did choose the correct label 72.5% of the time."
   ]
  },
  {
   "cell_type": "markdown",
   "id": "dd5c6cd0",
   "metadata": {},
   "source": [
    "<h3>Slim Majority in Expert Votes</h3>\n",
    "\n",
    "What about more difficult cases where the experts were as close as possible to a tie? In terms of our expert accuracy rate, this kind of case has the value 5/8."
   ]
  },
  {
   "cell_type": "code",
   "execution_count": 72,
   "id": "3cbe45c9",
   "metadata": {},
   "outputs": [
    {
     "data": {
      "text/html": [
       "<table border=\"1\" class=\"dataframe\">\n",
       "    <thead>\n",
       "        <tr>\n",
       "            <th>Case ID</th> <th>Expert Accuracy</th> <th>Crowd Accuracy</th> <th>Difference</th>\n",
       "        </tr>\n",
       "    </thead>\n",
       "    <tbody>\n",
       "        <tr>\n",
       "            <td>5888290</td> <td>0.625          </td> <td>1             </td> <td>-0.375    </td>\n",
       "        </tr>\n",
       "        <tr>\n",
       "            <td>5888500</td> <td>0.625          </td> <td>0.857         </td> <td>-0.232    </td>\n",
       "        </tr>\n",
       "        <tr>\n",
       "            <td>5888517</td> <td>0.625          </td> <td>0.25          </td> <td>0.375     </td>\n",
       "        </tr>\n",
       "        <tr>\n",
       "            <td>5891621</td> <td>0.625          </td> <td>0             </td> <td>0.625     </td>\n",
       "        </tr>\n",
       "        <tr>\n",
       "            <td>5891813</td> <td>0.625          </td> <td>0.857         </td> <td>-0.232    </td>\n",
       "        </tr>\n",
       "        <tr>\n",
       "            <td>5891821</td> <td>0.625          </td> <td>0.4           </td> <td>0.225     </td>\n",
       "        </tr>\n",
       "        <tr>\n",
       "            <td>5891836</td> <td>0.625          </td> <td>1             </td> <td>-0.375    </td>\n",
       "        </tr>\n",
       "        <tr>\n",
       "            <td>5891849</td> <td>0.625          </td> <td>0             </td> <td>0.625     </td>\n",
       "        </tr>\n",
       "        <tr>\n",
       "            <td>5891914</td> <td>0.625          </td> <td>0             </td> <td>0.625     </td>\n",
       "        </tr>\n",
       "        <tr>\n",
       "            <td>5891922</td> <td>0.625          </td> <td>0.8           </td> <td>-0.175    </td>\n",
       "        </tr>\n",
       "    </tbody>\n",
       "</table>\n",
       "<p>... (5924 rows omitted)</p>"
      ],
      "text/plain": [
       "Case ID | Expert Accuracy | Crowd Accuracy | Difference\n",
       "5888290 | 0.625           | 1              | -0.375\n",
       "5888500 | 0.625           | 0.857          | -0.232\n",
       "5888517 | 0.625           | 0.25           | 0.375\n",
       "5891621 | 0.625           | 0              | 0.625\n",
       "5891813 | 0.625           | 0.857          | -0.232\n",
       "5891821 | 0.625           | 0.4            | 0.225\n",
       "5891836 | 0.625           | 1              | -0.375\n",
       "5891849 | 0.625           | 0              | 0.625\n",
       "5891914 | 0.625           | 0              | 0.625\n",
       "5891922 | 0.625           | 0.8            | -0.175\n",
       "... (5924 rows omitted)"
      ]
     },
     "execution_count": 72,
     "metadata": {},
     "output_type": "execute_result"
    }
   ],
   "source": [
    "experts_5_votes = difference_tbl.where('Expert Accuracy', 5/8)\n",
    "experts_5_votes"
   ]
  },
  {
   "cell_type": "code",
   "execution_count": 73,
   "id": "1f983ffa",
   "metadata": {},
   "outputs": [
    {
     "data": {
      "image/png": "[encoded data removed]",
      "text/plain": [
       "<Figure size 432x288 with 1 Axes>"
      ]
     },
     "metadata": {},
     "output_type": "display_data"
    }
   ],
   "source": [
    "experts_5_votes.hist('Difference', bins=np.arange(-0.45, 0.46, 0.1))"
   ]
  },
  {
   "cell_type": "code",
   "execution_count": 74,
   "id": "10636466",
   "metadata": {},
   "outputs": [
    {
     "data": {
      "text/plain": [
       "5934"
      ]
     },
     "execution_count": 74,
     "metadata": {},
     "output_type": "execute_result"
    }
   ],
   "source": [
    "experts_5_votes.num_rows"
   ]
  },
  {
   "cell_type": "code",
   "execution_count": 75,
   "id": "89836ccd",
   "metadata": {},
   "outputs": [
    {
     "data": {
      "text/plain": [
       "3402"
      ]
     },
     "execution_count": 75,
     "metadata": {},
     "output_type": "execute_result"
    }
   ],
   "source": [
    "np.count_nonzero(experts_5_votes.column('Difference') < 0)"
   ]
  },
  {
   "cell_type": "code",
   "execution_count": 76,
   "id": "ed3057f8",
   "metadata": {},
   "outputs": [
    {
     "data": {
      "text/plain": [
       "0.5733063700707786"
      ]
     },
     "execution_count": 76,
     "metadata": {},
     "output_type": "execute_result"
    }
   ],
   "source": [
    "3402/5934"
   ]
  },
  {
   "cell_type": "markdown",
   "id": "b96e9870",
   "metadata": {},
   "source": [
    "In these slim expert majority cases, the crowd actually outperformed. 57.3% of the time, the crowd accuracy rating was higher than the expert accuracy rating."
   ]
  },
  {
   "cell_type": "markdown",
   "id": "ded52bb1",
   "metadata": {},
   "source": [
    "<h2>Expert Vote Tied, Correct Label Undefined</h2>\n",
    "\n",
    "By the way we've defined a correct label, we simply don't have one in the difficult cases where the expert vote came out tied. But it's still interesting to consider the question of how the crowd votes tended to turn out in these cases. Were they also split? Or, was there a notably higher amount of agreement among the crowd votes?"
   ]
  },
  {
   "cell_type": "code",
   "execution_count": 77,
   "id": "21f4dacd",
   "metadata": {},
   "outputs": [
    {
     "data": {
      "text/html": [
       "<table border=\"1\" class=\"dataframe\">\n",
       "    <thead>\n",
       "        <tr>\n",
       "            <th>Case ID</th> <th>Expert Yes Votes</th> <th>Qualified Reads</th> <th>Correct Label</th> <th>Majority Label</th> <th>Difficulty</th> <th>Agreement</th> <th>First Choice Answer</th> <th>First Choice Votes</th> <th>First Choice Weight</th> <th>Second Choice Answer</th> <th>Second Choice Votes</th> <th>Second Choice Weight</th>\n",
       "        </tr>\n",
       "    </thead>\n",
       "    <tbody>\n",
       "        <tr>\n",
       "            <td>5888091</td> <td>4               </td> <td>7              </td> <td>nan          </td> <td>yes           </td> <td>nan       </td> <td>0.571    </td> <td>yes                </td> <td>4                 </td> <td>3.28               </td> <td>no                  </td> <td>3                  </td> <td>2.32                </td>\n",
       "        </tr>\n",
       "        <tr>\n",
       "            <td>5888782</td> <td>4               </td> <td>5              </td> <td>nan          </td> <td>no            </td> <td>nan       </td> <td>1        </td> <td>no                 </td> <td>5                 </td> <td>3.94               </td> <td>yes                 </td> <td>0                  </td> <td>0                   </td>\n",
       "        </tr>\n",
       "        <tr>\n",
       "            <td>5891822</td> <td>4               </td> <td>5              </td> <td>nan          </td> <td>yes           </td> <td>nan       </td> <td>0.8      </td> <td>yes                </td> <td>4                 </td> <td>3.1                </td> <td>no                  </td> <td>1                  </td> <td>0.76                </td>\n",
       "        </tr>\n",
       "        <tr>\n",
       "            <td>5891960</td> <td>4               </td> <td>7              </td> <td>nan          </td> <td>no            </td> <td>nan       </td> <td>1        </td> <td>no                 </td> <td>7                 </td> <td>5.53               </td> <td>yes                 </td> <td>0                  </td> <td>0                   </td>\n",
       "        </tr>\n",
       "        <tr>\n",
       "            <td>5891979</td> <td>4               </td> <td>8              </td> <td>nan          </td> <td>no            </td> <td>nan       </td> <td>0.625    </td> <td>no                 </td> <td>5                 </td> <td>3.92               </td> <td>yes                 </td> <td>3                  </td> <td>2.38                </td>\n",
       "        </tr>\n",
       "        <tr>\n",
       "            <td>5892075</td> <td>4               </td> <td>8              </td> <td>nan          </td> <td>yes           </td> <td>nan       </td> <td>0.625    </td> <td>yes                </td> <td>5                 </td> <td>3.88               </td> <td>no                  </td> <td>3                  </td> <td>2.32                </td>\n",
       "        </tr>\n",
       "        <tr>\n",
       "            <td>5892087</td> <td>4               </td> <td>2              </td> <td>nan          </td> <td>yes           </td> <td>nan       </td> <td>0.5      </td> <td>yes                </td> <td>1                 </td> <td>0.84               </td> <td>no                  </td> <td>1                  </td> <td>0.88                </td>\n",
       "        </tr>\n",
       "        <tr>\n",
       "            <td>5892132</td> <td>4               </td> <td>11             </td> <td>nan          </td> <td>yes           </td> <td>nan       </td> <td>0.545    </td> <td>yes                </td> <td>6                 </td> <td>4.7                </td> <td>no                  </td> <td>5                  </td> <td>3.84                </td>\n",
       "        </tr>\n",
       "        <tr>\n",
       "            <td>5892139</td> <td>4               </td> <td>10             </td> <td>nan          </td> <td>yes           </td> <td>nan       </td> <td>0.7      </td> <td>yes                </td> <td>7                 </td> <td>5.64               </td> <td>no                  </td> <td>3                  </td> <td>2.38                </td>\n",
       "        </tr>\n",
       "        <tr>\n",
       "            <td>5892162</td> <td>4               </td> <td>8              </td> <td>nan          </td> <td>yes           </td> <td>nan       </td> <td>1        </td> <td>yes                </td> <td>8                 </td> <td>6.46               </td> <td>no                  </td> <td>0                  </td> <td>0                   </td>\n",
       "        </tr>\n",
       "    </tbody>\n",
       "</table>\n",
       "<p>... (2990 rows omitted)</p>"
      ],
      "text/plain": [
       "Case ID | Expert Yes Votes | Qualified Reads | Correct Label | Majority Label | Difficulty | Agreement | First Choice Answer | First Choice Votes | First Choice Weight | Second Choice Answer | Second Choice Votes | Second Choice Weight\n",
       "5888091 | 4                | 7               | nan           | yes            | nan        | 0.571     | yes                 | 4                  | 3.28                | no                   | 3                   | 2.32\n",
       "5888782 | 4                | 5               | nan           | no             | nan        | 1         | no                  | 5                  | 3.94                | yes                  | 0                   | 0\n",
       "5891822 | 4                | 5               | nan           | yes            | nan        | 0.8       | yes                 | 4                  | 3.1                 | no                   | 1                   | 0.76\n",
       "5891960 | 4                | 7               | nan           | no             | nan        | 1         | no                  | 7                  | 5.53                | yes                  | 0                   | 0\n",
       "5891979 | 4                | 8               | nan           | no             | nan        | 0.625     | no                  | 5                  | 3.92                | yes                  | 3                   | 2.38\n",
       "5892075 | 4                | 8               | nan           | yes            | nan        | 0.625     | yes                 | 5                  | 3.88                | no                   | 3                   | 2.32\n",
       "5892087 | 4                | 2               | nan           | yes            | nan        | 0.5       | yes                 | 1                  | 0.84                | no                   | 1                   | 0.88\n",
       "5892132 | 4                | 11              | nan           | yes            | nan        | 0.545     | yes                 | 6                  | 4.7                 | no                   | 5                   | 3.84\n",
       "5892139 | 4                | 10              | nan           | yes            | nan        | 0.7       | yes                 | 7                  | 5.64                | no                   | 3                   | 2.38\n",
       "5892162 | 4                | 8               | nan           | yes            | nan        | 1         | yes                 | 8                  | 6.46                | no                   | 0                   | 0\n",
       "... (2990 rows omitted)"
      ]
     },
     "execution_count": 77,
     "metadata": {},
     "output_type": "execute_result"
    }
   ],
   "source": [
    "no_correct_label = results.where('Expert Yes Votes', 4)\n",
    "no_correct_label"
   ]
  },
  {
   "cell_type": "code",
   "execution_count": 78,
   "id": "28834e7a",
   "metadata": {},
   "outputs": [
    {
     "data": {
      "image/png": "[encoded data removed]",
      "text/plain": [
       "<Figure size 432x288 with 1 Axes>"
      ]
     },
     "metadata": {},
     "output_type": "display_data"
    }
   ],
   "source": [
    "no_correct_label.hist('Agreement')"
   ]
  },
  {
   "cell_type": "code",
   "execution_count": 79,
   "id": "f22cc582",
   "metadata": {},
   "outputs": [
    {
     "data": {
      "text/plain": [
       "4"
      ]
     },
     "execution_count": 79,
     "metadata": {},
     "output_type": "execute_result"
    }
   ],
   "source": [
    "np.count_nonzero(no_correct_label.column('Qualified Reads') == 1)"
   ]
  },
  {
   "cell_type": "code",
   "execution_count": 80,
   "id": "41ba7db9",
   "metadata": {},
   "outputs": [
    {
     "data": {
      "text/plain": [
       "0.338"
      ]
     },
     "execution_count": 80,
     "metadata": {},
     "output_type": "execute_result"
    }
   ],
   "source": [
    "np.count_nonzero(no_correct_label.column('Agreement') == 1) / no_correct_label.num_rows"
   ]
  },
  {
   "cell_type": "code",
   "execution_count": 81,
   "id": "7336d6ea",
   "metadata": {},
   "outputs": [
    {
     "data": {
      "text/plain": [
       "0.652"
      ]
     },
     "execution_count": 81,
     "metadata": {},
     "output_type": "execute_result"
    }
   ],
   "source": [
    "np.count_nonzero(no_correct_label.column('Agreement') > 0.75) / no_correct_label.num_rows"
   ]
  },
  {
   "cell_type": "markdown",
   "id": "fcfe3886",
   "metadata": {},
   "source": [
    "In 33.8% of these cases, the crowd vote was unanimous. <i>(This is not accounted for by there being only one qualified read, as that situation occurs in only a negligible amount of the data.)</i>\n",
    "\n",
    "In 65.2% of these cases, the crowd had a large majority vote, leaning at least 75% in one direction.\n",
    "\n",
    "From here, we might want to compare back to cases where we do have a defined correct label. How well did the crowd actually do in those cases where they voted with unanimous agreement? Or with a large majority like at least 75%?"
   ]
  },
  {
   "cell_type": "code",
   "execution_count": 82,
   "id": "df53039f",
   "metadata": {},
   "outputs": [
    {
     "data": {
      "text/html": [
       "<table border=\"1\" class=\"dataframe\">\n",
       "    <thead>\n",
       "        <tr>\n",
       "            <th>Case ID</th> <th>Expert Yes Votes</th> <th>Qualified Reads</th> <th>Correct Label</th> <th>Majority Label</th> <th>Difficulty</th> <th>Agreement</th> <th>First Choice Answer</th> <th>First Choice Votes</th> <th>First Choice Weight</th> <th>Second Choice Answer</th> <th>Second Choice Votes</th> <th>Second Choice Weight</th> <th>Expert Accuracy</th> <th>Crowd Accuracy</th> <th>Difference</th>\n",
       "        </tr>\n",
       "    </thead>\n",
       "    <tbody>\n",
       "        <tr>\n",
       "            <td>5888087</td> <td>2               </td> <td>2              </td> <td>no           </td> <td>no            </td> <td>0         </td> <td>1        </td> <td>no                 </td> <td>2                 </td> <td>1.54               </td> <td>yes                 </td> <td>0                  </td> <td>0                   </td> <td>0.75           </td> <td>1             </td> <td>-0.25     </td>\n",
       "        </tr>\n",
       "        <tr>\n",
       "            <td>5888103</td> <td>2               </td> <td>1              </td> <td>no           </td> <td>no            </td> <td>0         </td> <td>1        </td> <td>no                 </td> <td>1                 </td> <td>0.82               </td> <td>yes                 </td> <td>0                  </td> <td>0                   </td> <td>0.75           </td> <td>1             </td> <td>-0.25     </td>\n",
       "        </tr>\n",
       "        <tr>\n",
       "            <td>5888148</td> <td>2               </td> <td>4              </td> <td>no           </td> <td>no            </td> <td>0         </td> <td>1        </td> <td>no                 </td> <td>4                 </td> <td>3.05               </td> <td>yes                 </td> <td>0                  </td> <td>0                   </td> <td>0.75           </td> <td>1             </td> <td>-0.25     </td>\n",
       "        </tr>\n",
       "        <tr>\n",
       "            <td>5888154</td> <td>1               </td> <td>2              </td> <td>no           </td> <td>no            </td> <td>0         </td> <td>1        </td> <td>no                 </td> <td>2                 </td> <td>1.6                </td> <td>yes                 </td> <td>0                  </td> <td>0                   </td> <td>0.875          </td> <td>1             </td> <td>-0.125    </td>\n",
       "        </tr>\n",
       "        <tr>\n",
       "            <td>5888175</td> <td>1               </td> <td>3              </td> <td>no           </td> <td>no            </td> <td>0         </td> <td>1        </td> <td>no                 </td> <td>3                 </td> <td>2.36               </td> <td>yes                 </td> <td>0                  </td> <td>0                   </td> <td>0.875          </td> <td>1             </td> <td>-0.125    </td>\n",
       "        </tr>\n",
       "        <tr>\n",
       "            <td>5888187</td> <td>1               </td> <td>4              </td> <td>no           </td> <td>no            </td> <td>0         </td> <td>1        </td> <td>no                 </td> <td>4                 </td> <td>3.44               </td> <td>yes                 </td> <td>0                  </td> <td>0                   </td> <td>0.875          </td> <td>1             </td> <td>-0.125    </td>\n",
       "        </tr>\n",
       "        <tr>\n",
       "            <td>5888201</td> <td>1               </td> <td>5              </td> <td>no           </td> <td>no            </td> <td>0         </td> <td>1        </td> <td>no                 </td> <td>5                 </td> <td>3.98               </td> <td>yes                 </td> <td>0                  </td> <td>0                   </td> <td>0.875          </td> <td>1             </td> <td>-0.125    </td>\n",
       "        </tr>\n",
       "        <tr>\n",
       "            <td>5888223</td> <td>2               </td> <td>7              </td> <td>no           </td> <td>no            </td> <td>0         </td> <td>1        </td> <td>no                 </td> <td>7                 </td> <td>5.6                </td> <td>yes                 </td> <td>0                  </td> <td>0                   </td> <td>0.75           </td> <td>1             </td> <td>-0.25     </td>\n",
       "        </tr>\n",
       "        <tr>\n",
       "            <td>5888258</td> <td>1               </td> <td>5              </td> <td>no           </td> <td>no            </td> <td>0         </td> <td>1        </td> <td>no                 </td> <td>5                 </td> <td>3.93               </td> <td>yes                 </td> <td>0                  </td> <td>0                   </td> <td>0.875          </td> <td>1             </td> <td>-0.125    </td>\n",
       "        </tr>\n",
       "        <tr>\n",
       "            <td>5888269</td> <td>2               </td> <td>3              </td> <td>no           </td> <td>no            </td> <td>0         </td> <td>1        </td> <td>no                 </td> <td>3                 </td> <td>2.42               </td> <td>yes                 </td> <td>0                  </td> <td>0                   </td> <td>0.75           </td> <td>1             </td> <td>-0.25     </td>\n",
       "        </tr>\n",
       "    </tbody>\n",
       "</table>\n",
       "<p>... (16560 rows omitted)</p>"
      ],
      "text/plain": [
       "Case ID | Expert Yes Votes | Qualified Reads | Correct Label | Majority Label | Difficulty | Agreement | First Choice Answer | First Choice Votes | First Choice Weight | Second Choice Answer | Second Choice Votes | Second Choice Weight | Expert Accuracy | Crowd Accuracy | Difference\n",
       "5888087 | 2                | 2               | no            | no             | 0          | 1         | no                  | 2                  | 1.54                | yes                  | 0                   | 0                    | 0.75            | 1              | -0.25\n",
       "5888103 | 2                | 1               | no            | no             | 0          | 1         | no                  | 1                  | 0.82                | yes                  | 0                   | 0                    | 0.75            | 1              | -0.25\n",
       "5888148 | 2                | 4               | no            | no             | 0          | 1         | no                  | 4                  | 3.05                | yes                  | 0                   | 0                    | 0.75            | 1              | -0.25\n",
       "5888154 | 1                | 2               | no            | no             | 0          | 1         | no                  | 2                  | 1.6                 | yes                  | 0                   | 0                    | 0.875           | 1              | -0.125\n",
       "5888175 | 1                | 3               | no            | no             | 0          | 1         | no                  | 3                  | 2.36                | yes                  | 0                   | 0                    | 0.875           | 1              | -0.125\n",
       "5888187 | 1                | 4               | no            | no             | 0          | 1         | no                  | 4                  | 3.44                | yes                  | 0                   | 0                    | 0.875           | 1              | -0.125\n",
       "5888201 | 1                | 5               | no            | no             | 0          | 1         | no                  | 5                  | 3.98                | yes                  | 0                   | 0                    | 0.875           | 1              | -0.125\n",
       "5888223 | 2                | 7               | no            | no             | 0          | 1         | no                  | 7                  | 5.6                 | yes                  | 0                   | 0                    | 0.75            | 1              | -0.25\n",
       "5888258 | 1                | 5               | no            | no             | 0          | 1         | no                  | 5                  | 3.93                | yes                  | 0                   | 0                    | 0.875           | 1              | -0.125\n",
       "5888269 | 2                | 3               | no            | no             | 0          | 1         | no                  | 3                  | 2.42                | yes                  | 0                   | 0                    | 0.75            | 1              | -0.25\n",
       "... (16560 rows omitted)"
      ]
     },
     "execution_count": 82,
     "metadata": {},
     "output_type": "execute_result"
    }
   ],
   "source": [
    "high_agreement = results_with_difference.where('Agreement', are.above_or_equal_to(0.75)).where('Correct Label' != 'nan')\n",
    "high_agreement"
   ]
  },
  {
   "cell_type": "code",
   "execution_count": 83,
   "id": "b69ac731",
   "metadata": {},
   "outputs": [
    {
     "data": {
      "image/png": "[encoded data removed]",
      "text/plain": [
       "<Figure size 432x288 with 1 Axes>"
      ]
     },
     "metadata": {},
     "output_type": "display_data"
    }
   ],
   "source": [
    "high_agreement.hist('Difference')"
   ]
  },
  {
   "cell_type": "code",
   "execution_count": 84,
   "id": "0b8caf5a",
   "metadata": {},
   "outputs": [
    {
     "data": {
      "text/plain": [
       "0.5937839468919734"
      ]
     },
     "execution_count": 84,
     "metadata": {},
     "output_type": "execute_result"
    }
   ],
   "source": [
    "np.count_nonzero( high_agreement.column('Difference') < 0 ) / high_agreement.num_rows"
   ]
  },
  {
   "cell_type": "code",
   "execution_count": 85,
   "id": "92176213",
   "metadata": {},
   "outputs": [
    {
     "data": {
      "image/png": "[encoded data removed]",
      "text/plain": [
       "<Figure size 432x288 with 1 Axes>"
      ]
     },
     "metadata": {},
     "output_type": "display_data"
    }
   ],
   "source": [
    "high_agreement.hist('Difficulty')"
   ]
  },
  {
   "cell_type": "code",
   "execution_count": 86,
   "id": "e85901d7",
   "metadata": {},
   "outputs": [
    {
     "data": {
      "text/plain": [
       "0.6403741701870851"
      ]
     },
     "execution_count": 86,
     "metadata": {},
     "output_type": "execute_result"
    }
   ],
   "source": [
    "1 - (np.count_nonzero(high_agreement.column('Difficulty') > 0) / high_agreement.num_rows)"
   ]
  },
  {
   "cell_type": "markdown",
   "id": "bea79628",
   "metadata": {},
   "source": [
    "When the crowd voted with at least a 75% majority, in cases with a correct label defined: \n",
    "\n",
    "- they chose the correct label 64.0% of the time\n",
    "- their accuracy rating was higher than the experts 59.4% of the time"
   ]
  },
  {
   "cell_type": "code",
   "execution_count": 87,
   "id": "0be52603",
   "metadata": {},
   "outputs": [
    {
     "data": {
      "text/html": [
       "<table border=\"1\" class=\"dataframe\">\n",
       "    <thead>\n",
       "        <tr>\n",
       "            <th>Case ID</th> <th>Expert Yes Votes</th> <th>Qualified Reads</th> <th>Correct Label</th> <th>Majority Label</th> <th>Difficulty</th> <th>Agreement</th> <th>First Choice Answer</th> <th>First Choice Votes</th> <th>First Choice Weight</th> <th>Second Choice Answer</th> <th>Second Choice Votes</th> <th>Second Choice Weight</th> <th>Expert Accuracy</th> <th>Crowd Accuracy</th> <th>Difference</th>\n",
       "        </tr>\n",
       "    </thead>\n",
       "    <tbody>\n",
       "        <tr>\n",
       "            <td>5888087</td> <td>2               </td> <td>2              </td> <td>no           </td> <td>no            </td> <td>0         </td> <td>1        </td> <td>no                 </td> <td>2                 </td> <td>1.54               </td> <td>yes                 </td> <td>0                  </td> <td>0                   </td> <td>0.75           </td> <td>1             </td> <td>-0.25     </td>\n",
       "        </tr>\n",
       "        <tr>\n",
       "            <td>5888103</td> <td>2               </td> <td>1              </td> <td>no           </td> <td>no            </td> <td>0         </td> <td>1        </td> <td>no                 </td> <td>1                 </td> <td>0.82               </td> <td>yes                 </td> <td>0                  </td> <td>0                   </td> <td>0.75           </td> <td>1             </td> <td>-0.25     </td>\n",
       "        </tr>\n",
       "        <tr>\n",
       "            <td>5888148</td> <td>2               </td> <td>4              </td> <td>no           </td> <td>no            </td> <td>0         </td> <td>1        </td> <td>no                 </td> <td>4                 </td> <td>3.05               </td> <td>yes                 </td> <td>0                  </td> <td>0                   </td> <td>0.75           </td> <td>1             </td> <td>-0.25     </td>\n",
       "        </tr>\n",
       "        <tr>\n",
       "            <td>5888154</td> <td>1               </td> <td>2              </td> <td>no           </td> <td>no            </td> <td>0         </td> <td>1        </td> <td>no                 </td> <td>2                 </td> <td>1.6                </td> <td>yes                 </td> <td>0                  </td> <td>0                   </td> <td>0.875          </td> <td>1             </td> <td>-0.125    </td>\n",
       "        </tr>\n",
       "        <tr>\n",
       "            <td>5888175</td> <td>1               </td> <td>3              </td> <td>no           </td> <td>no            </td> <td>0         </td> <td>1        </td> <td>no                 </td> <td>3                 </td> <td>2.36               </td> <td>yes                 </td> <td>0                  </td> <td>0                   </td> <td>0.875          </td> <td>1             </td> <td>-0.125    </td>\n",
       "        </tr>\n",
       "        <tr>\n",
       "            <td>5888187</td> <td>1               </td> <td>4              </td> <td>no           </td> <td>no            </td> <td>0         </td> <td>1        </td> <td>no                 </td> <td>4                 </td> <td>3.44               </td> <td>yes                 </td> <td>0                  </td> <td>0                   </td> <td>0.875          </td> <td>1             </td> <td>-0.125    </td>\n",
       "        </tr>\n",
       "        <tr>\n",
       "            <td>5888201</td> <td>1               </td> <td>5              </td> <td>no           </td> <td>no            </td> <td>0         </td> <td>1        </td> <td>no                 </td> <td>5                 </td> <td>3.98               </td> <td>yes                 </td> <td>0                  </td> <td>0                   </td> <td>0.875          </td> <td>1             </td> <td>-0.125    </td>\n",
       "        </tr>\n",
       "        <tr>\n",
       "            <td>5888223</td> <td>2               </td> <td>7              </td> <td>no           </td> <td>no            </td> <td>0         </td> <td>1        </td> <td>no                 </td> <td>7                 </td> <td>5.6                </td> <td>yes                 </td> <td>0                  </td> <td>0                   </td> <td>0.75           </td> <td>1             </td> <td>-0.25     </td>\n",
       "        </tr>\n",
       "        <tr>\n",
       "            <td>5888258</td> <td>1               </td> <td>5              </td> <td>no           </td> <td>no            </td> <td>0         </td> <td>1        </td> <td>no                 </td> <td>5                 </td> <td>3.93               </td> <td>yes                 </td> <td>0                  </td> <td>0                   </td> <td>0.875          </td> <td>1             </td> <td>-0.125    </td>\n",
       "        </tr>\n",
       "        <tr>\n",
       "            <td>5888269</td> <td>2               </td> <td>3              </td> <td>no           </td> <td>no            </td> <td>0         </td> <td>1        </td> <td>no                 </td> <td>3                 </td> <td>2.42               </td> <td>yes                 </td> <td>0                  </td> <td>0                   </td> <td>0.75           </td> <td>1             </td> <td>-0.25     </td>\n",
       "        </tr>\n",
       "    </tbody>\n",
       "</table>\n",
       "<p>... (12724 rows omitted)</p>"
      ],
      "text/plain": [
       "Case ID | Expert Yes Votes | Qualified Reads | Correct Label | Majority Label | Difficulty | Agreement | First Choice Answer | First Choice Votes | First Choice Weight | Second Choice Answer | Second Choice Votes | Second Choice Weight | Expert Accuracy | Crowd Accuracy | Difference\n",
       "5888087 | 2                | 2               | no            | no             | 0          | 1         | no                  | 2                  | 1.54                | yes                  | 0                   | 0                    | 0.75            | 1              | -0.25\n",
       "5888103 | 2                | 1               | no            | no             | 0          | 1         | no                  | 1                  | 0.82                | yes                  | 0                   | 0                    | 0.75            | 1              | -0.25\n",
       "5888148 | 2                | 4               | no            | no             | 0          | 1         | no                  | 4                  | 3.05                | yes                  | 0                   | 0                    | 0.75            | 1              | -0.25\n",
       "5888154 | 1                | 2               | no            | no             | 0          | 1         | no                  | 2                  | 1.6                 | yes                  | 0                   | 0                    | 0.875           | 1              | -0.125\n",
       "5888175 | 1                | 3               | no            | no             | 0          | 1         | no                  | 3                  | 2.36                | yes                  | 0                   | 0                    | 0.875           | 1              | -0.125\n",
       "5888187 | 1                | 4               | no            | no             | 0          | 1         | no                  | 4                  | 3.44                | yes                  | 0                   | 0                    | 0.875           | 1              | -0.125\n",
       "5888201 | 1                | 5               | no            | no             | 0          | 1         | no                  | 5                  | 3.98                | yes                  | 0                   | 0                    | 0.875           | 1              | -0.125\n",
       "5888223 | 2                | 7               | no            | no             | 0          | 1         | no                  | 7                  | 5.6                 | yes                  | 0                   | 0                    | 0.75            | 1              | -0.25\n",
       "5888258 | 1                | 5               | no            | no             | 0          | 1         | no                  | 5                  | 3.93                | yes                  | 0                   | 0                    | 0.875           | 1              | -0.125\n",
       "5888269 | 2                | 3               | no            | no             | 0          | 1         | no                  | 3                  | 2.42                | yes                  | 0                   | 0                    | 0.75            | 1              | -0.25\n",
       "... (12724 rows omitted)"
      ]
     },
     "execution_count": 87,
     "metadata": {},
     "output_type": "execute_result"
    }
   ],
   "source": [
    "crowd_unanimous = high_agreement.where('Agreement', 1)\n",
    "crowd_unanimous"
   ]
  },
  {
   "cell_type": "code",
   "execution_count": 88,
   "id": "ff8e53e3",
   "metadata": {},
   "outputs": [
    {
     "data": {
      "image/png": "[encoded data removed]",
      "text/plain": [
       "<Figure size 432x288 with 1 Axes>"
      ]
     },
     "metadata": {},
     "output_type": "display_data"
    }
   ],
   "source": [
    "crowd_unanimous.hist('Difficulty')"
   ]
  },
  {
   "cell_type": "code",
   "execution_count": 89,
   "id": "d39f1eb6",
   "metadata": {},
   "outputs": [
    {
     "data": {
      "image/png": "[encoded data removed]",
      "text/plain": [
       "<Figure size 432x288 with 1 Axes>"
      ]
     },
     "metadata": {},
     "output_type": "display_data"
    }
   ],
   "source": [
    "crowd_unanimous.hist('Difference')"
   ]
  },
  {
   "cell_type": "code",
   "execution_count": 90,
   "id": "c3b97ea8",
   "metadata": {},
   "outputs": [
    {
     "data": {
      "text/plain": [
       "0.8332809800534003"
      ]
     },
     "execution_count": 90,
     "metadata": {},
     "output_type": "execute_result"
    }
   ],
   "source": [
    "crowd_unanimous.where('Difficulty', 0).num_rows / crowd_unanimous.num_rows"
   ]
  },
  {
   "cell_type": "code",
   "execution_count": 91,
   "id": "eddfb62e",
   "metadata": {},
   "outputs": [
    {
     "data": {
      "text/plain": [
       "0.6544683524422805"
      ]
     },
     "execution_count": 91,
     "metadata": {},
     "output_type": "execute_result"
    }
   ],
   "source": [
    "crowd_unanimous.where('Difference', are.below(0)).num_rows / crowd_unanimous.num_rows"
   ]
  },
  {
   "cell_type": "markdown",
   "id": "f02e7ca0",
   "metadata": {},
   "source": [
    "When the crowd voted unanimously, in cases with a correct label defined:\n",
    "\n",
    "- they chose the correct label 83.3% of the time\n",
    "- crowd accuracy was higher than expert accuracy 65.4% of the time"
   ]
  },
  {
   "cell_type": "markdown",
   "id": "1f27b3fc",
   "metadata": {},
   "source": [
    "<h2>Comparison Conclusions</h2>\n",
    "\n",
    "As we saw in a first pass at the comparison of accuracy rates, the crowd accuracy rating in this data is at least as good as the expert accuracy rating in 62.5% of all cases.\n",
    "\n",
    "In considering some specific sub-sets of cases, the crowd accuracy rating has been more likely than not to be higher than the expert accuracy rating in each sub-set we've considered where that is possible. The exception is the case where the expert vote was unanimous, and by definition we consider expert accuracy to be 100%.\n",
    "\n",
    "<strong>This suggests, in general, that the crowd aggregate opinion is worth taking seriously, and if that idea is justified, then it can be extended to cases where the expert vote was deadlocked.</strong>"
   ]
  },
  {
   "cell_type": "code",
   "execution_count": null,
   "id": "71fe89a3",
   "metadata": {},
   "outputs": [],
   "source": []
  }
 ],
 "metadata": {
  "kernelspec": {
   "display_name": "Python 3 (ipykernel)",
   "language": "python",
   "name": "python3"
  },
  "language_info": {
   "codemirror_mode": {
    "name": "ipython",
    "version": 3
   },
   "file_extension": ".py",
   "mimetype": "text/x-python",
   "name": "python",
   "nbconvert_exporter": "python",
   "pygments_lexer": "ipython3",
   "version": "3.9.7"
  }
 },
 "nbformat": 4,
 "nbformat_minor": 5
}
