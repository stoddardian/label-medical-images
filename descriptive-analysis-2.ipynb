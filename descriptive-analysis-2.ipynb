{
 "cells": [
  {
   "cell_type": "code",
   "execution_count": 16,
   "id": "02307e6f",
   "metadata": {},
   "outputs": [],
   "source": [
    "from datascience import *\n",
    "import numpy as np\n",
    "import matplotlib\n",
    "%matplotlib inline\n",
    "import matplotlib.pyplot as plt\n",
    "plt.style.use('fivethirtyeight')"
   ]
  },
  {
   "cell_type": "code",
   "execution_count": 17,
   "id": "09ecc01b",
   "metadata": {},
   "outputs": [
    {
     "data": {
      "text/html": [
       "<table border=\"1\" class=\"dataframe\">\n",
       "    <thead>\n",
       "        <tr>\n",
       "            <th>Case ID</th> <th>Expert Yes Votes</th> <th>Qualified Reads</th> <th>Correct Label</th> <th>Majority Label</th> <th>Difficulty</th> <th>Agreement</th> <th>First Choice Answer</th> <th>First Choice Votes</th> <th>First Choice Weight</th> <th>Second Choice Answer</th> <th>Second Choice Votes</th> <th>Second Choice Weight</th>\n",
       "        </tr>\n",
       "    </thead>\n",
       "    <tbody>\n",
       "        <tr>\n",
       "            <td>5888087</td> <td>2               </td> <td>2              </td> <td>no           </td> <td>no            </td> <td>0         </td> <td>1        </td> <td>no                 </td> <td>2                 </td> <td>1.54               </td> <td>yes                 </td> <td>0                  </td> <td>0                   </td>\n",
       "        </tr>\n",
       "        <tr>\n",
       "            <td>5888088</td> <td>0               </td> <td>3              </td> <td>no           </td> <td>no            </td> <td>0         </td> <td>1        </td> <td>no                 </td> <td>3                 </td> <td>2.34               </td> <td>yes                 </td> <td>0                  </td> <td>0                   </td>\n",
       "        </tr>\n",
       "        <tr>\n",
       "            <td>5888089</td> <td>0               </td> <td>2              </td> <td>no           </td> <td>no            </td> <td>0         </td> <td>1        </td> <td>no                 </td> <td>2                 </td> <td>1.7                </td> <td>yes                 </td> <td>0                  </td> <td>0                   </td>\n",
       "        </tr>\n",
       "        <tr>\n",
       "            <td>5888090</td> <td>0               </td> <td>1              </td> <td>no           </td> <td>no            </td> <td>0         </td> <td>1        </td> <td>no                 </td> <td>1                 </td> <td>0.82               </td> <td>yes                 </td> <td>0                  </td> <td>0                   </td>\n",
       "        </tr>\n",
       "        <tr>\n",
       "            <td>5888091</td> <td>4               </td> <td>7              </td> <td>nan          </td> <td>yes           </td> <td>nan       </td> <td>0.571    </td> <td>yes                </td> <td>4                 </td> <td>3.28               </td> <td>no                  </td> <td>3                  </td> <td>2.32                </td>\n",
       "        </tr>\n",
       "        <tr>\n",
       "            <td>5888092</td> <td>0               </td> <td>4              </td> <td>no           </td> <td>no            </td> <td>0         </td> <td>1        </td> <td>no                 </td> <td>4                 </td> <td>3.3                </td> <td>yes                 </td> <td>0                  </td> <td>0                   </td>\n",
       "        </tr>\n",
       "        <tr>\n",
       "            <td>5888093</td> <td>0               </td> <td>6              </td> <td>no           </td> <td>no            </td> <td>0         </td> <td>1        </td> <td>no                 </td> <td>6                 </td> <td>4.94               </td> <td>yes                 </td> <td>0                  </td> <td>0                   </td>\n",
       "        </tr>\n",
       "        <tr>\n",
       "            <td>5888094</td> <td>0               </td> <td>2              </td> <td>no           </td> <td>no            </td> <td>0         </td> <td>1        </td> <td>no                 </td> <td>2                 </td> <td>1.56               </td> <td>yes                 </td> <td>0                  </td> <td>0                   </td>\n",
       "        </tr>\n",
       "        <tr>\n",
       "            <td>5888095</td> <td>0               </td> <td>4              </td> <td>no           </td> <td>no            </td> <td>0         </td> <td>1        </td> <td>no                 </td> <td>4                 </td> <td>3.34               </td> <td>yes                 </td> <td>0                  </td> <td>0                   </td>\n",
       "        </tr>\n",
       "        <tr>\n",
       "            <td>5888096</td> <td>0               </td> <td>3              </td> <td>no           </td> <td>no            </td> <td>0         </td> <td>1        </td> <td>no                 </td> <td>3                 </td> <td>2.56               </td> <td>yes                 </td> <td>0                  </td> <td>0                   </td>\n",
       "        </tr>\n",
       "    </tbody>\n",
       "</table>\n",
       "<p>... (26990 rows omitted)</p>"
      ],
      "text/plain": [
       "Case ID | Expert Yes Votes | Qualified Reads | Correct Label | Majority Label | Difficulty | Agreement | First Choice Answer | First Choice Votes | First Choice Weight | Second Choice Answer | Second Choice Votes | Second Choice Weight\n",
       "5888087 | 2                | 2               | no            | no             | 0          | 1         | no                  | 2                  | 1.54                | yes                  | 0                   | 0\n",
       "5888088 | 0                | 3               | no            | no             | 0          | 1         | no                  | 3                  | 2.34                | yes                  | 0                   | 0\n",
       "5888089 | 0                | 2               | no            | no             | 0          | 1         | no                  | 2                  | 1.7                 | yes                  | 0                   | 0\n",
       "5888090 | 0                | 1               | no            | no             | 0          | 1         | no                  | 1                  | 0.82                | yes                  | 0                   | 0\n",
       "5888091 | 4                | 7               | nan           | yes            | nan        | 0.571     | yes                 | 4                  | 3.28                | no                   | 3                   | 2.32\n",
       "5888092 | 0                | 4               | no            | no             | 0          | 1         | no                  | 4                  | 3.3                 | yes                  | 0                   | 0\n",
       "5888093 | 0                | 6               | no            | no             | 0          | 1         | no                  | 6                  | 4.94                | yes                  | 0                   | 0\n",
       "5888094 | 0                | 2               | no            | no             | 0          | 1         | no                  | 2                  | 1.56                | yes                  | 0                   | 0\n",
       "5888095 | 0                | 4               | no            | no             | 0          | 1         | no                  | 4                  | 3.34                | yes                  | 0                   | 0\n",
       "5888096 | 0                | 3               | no            | no             | 0          | 1         | no                  | 3                  | 2.56                | yes                  | 0                   | 0\n",
       "... (26990 rows omitted)"
      ]
     },
     "execution_count": 17,
     "metadata": {},
     "output_type": "execute_result"
    }
   ],
   "source": [
    "results = Table.read_table('results_trimmed.csv')\n",
    "results"
   ]
  },
  {
   "cell_type": "markdown",
   "id": "4980b8bc",
   "metadata": {},
   "source": [
    "<h2>Creating Accuracy Ratings</h2>\n",
    "\n",
    "It will be necessary to have a number for expert accuracy in the cases where there was a majority vote, to compare against crowd accuracy.\n",
    "\n",
    "As for crowd accuracy for these cases, we will do a simple calculation from the 'Difficulty' column, which by its definition amounts to a crowd in-accuracy rating:\n",
    " \n",
    "\"Difficulty: Qualified Reads without the Correct Label divided by total Qualified Reads.\""
   ]
  },
  {
   "cell_type": "code",
   "execution_count": 18,
   "id": "bbfa8655",
   "metadata": {},
   "outputs": [],
   "source": [
    "def calc_expert_accuracy(num):\n",
    "    '''Calculate accuracy rating, from the number of Yes votes, based on a majority vote out of 8. \n",
    "    The case where (num < 4) means the majority vote was No.'''\n",
    "    if num > 4:\n",
    "        return num/8\n",
    "    elif num < 4:\n",
    "        return (8-num)/8\n",
    "    elif num == 4:\n",
    "        return None"
   ]
  },
  {
   "cell_type": "code",
   "execution_count": 19,
   "id": "7e982c43",
   "metadata": {},
   "outputs": [
    {
     "data": {
      "text/plain": [
       "array([0.75, 1.0, 1.0, ..., None, 0.625, 0.625], dtype=object)"
      ]
     },
     "execution_count": 19,
     "metadata": {},
     "output_type": "execute_result"
    }
   ],
   "source": [
    "exp_accuracy = results.apply(calc_expert_accuracy, 'Expert Yes Votes')\n",
    "exp_accuracy"
   ]
  },
  {
   "cell_type": "code",
   "execution_count": 20,
   "id": "cf83357c",
   "metadata": {},
   "outputs": [
    {
     "data": {
      "text/html": [
       "<table border=\"1\" class=\"dataframe\">\n",
       "    <thead>\n",
       "        <tr>\n",
       "            <th>Case ID</th> <th>Expert Yes Votes</th> <th>Qualified Reads</th> <th>Correct Label</th> <th>Majority Label</th> <th>Difficulty</th> <th>Agreement</th> <th>First Choice Answer</th> <th>First Choice Votes</th> <th>First Choice Weight</th> <th>Second Choice Answer</th> <th>Second Choice Votes</th> <th>Second Choice Weight</th> <th>Expert Accuracy</th>\n",
       "        </tr>\n",
       "    </thead>\n",
       "    <tbody>\n",
       "        <tr>\n",
       "            <td>5888087</td> <td>2               </td> <td>2              </td> <td>no           </td> <td>no            </td> <td>0         </td> <td>1        </td> <td>no                 </td> <td>2                 </td> <td>1.54               </td> <td>yes                 </td> <td>0                  </td> <td>0                   </td> <td>0.75           </td>\n",
       "        </tr>\n",
       "        <tr>\n",
       "            <td>5888088</td> <td>0               </td> <td>3              </td> <td>no           </td> <td>no            </td> <td>0         </td> <td>1        </td> <td>no                 </td> <td>3                 </td> <td>2.34               </td> <td>yes                 </td> <td>0                  </td> <td>0                   </td> <td>1              </td>\n",
       "        </tr>\n",
       "        <tr>\n",
       "            <td>5888089</td> <td>0               </td> <td>2              </td> <td>no           </td> <td>no            </td> <td>0         </td> <td>1        </td> <td>no                 </td> <td>2                 </td> <td>1.7                </td> <td>yes                 </td> <td>0                  </td> <td>0                   </td> <td>1              </td>\n",
       "        </tr>\n",
       "        <tr>\n",
       "            <td>5888090</td> <td>0               </td> <td>1              </td> <td>no           </td> <td>no            </td> <td>0         </td> <td>1        </td> <td>no                 </td> <td>1                 </td> <td>0.82               </td> <td>yes                 </td> <td>0                  </td> <td>0                   </td> <td>1              </td>\n",
       "        </tr>\n",
       "        <tr>\n",
       "            <td>5888091</td> <td>4               </td> <td>7              </td> <td>nan          </td> <td>yes           </td> <td>nan       </td> <td>0.571    </td> <td>yes                </td> <td>4                 </td> <td>3.28               </td> <td>no                  </td> <td>3                  </td> <td>2.32                </td> <td>None           </td>\n",
       "        </tr>\n",
       "        <tr>\n",
       "            <td>5888092</td> <td>0               </td> <td>4              </td> <td>no           </td> <td>no            </td> <td>0         </td> <td>1        </td> <td>no                 </td> <td>4                 </td> <td>3.3                </td> <td>yes                 </td> <td>0                  </td> <td>0                   </td> <td>1              </td>\n",
       "        </tr>\n",
       "        <tr>\n",
       "            <td>5888093</td> <td>0               </td> <td>6              </td> <td>no           </td> <td>no            </td> <td>0         </td> <td>1        </td> <td>no                 </td> <td>6                 </td> <td>4.94               </td> <td>yes                 </td> <td>0                  </td> <td>0                   </td> <td>1              </td>\n",
       "        </tr>\n",
       "        <tr>\n",
       "            <td>5888094</td> <td>0               </td> <td>2              </td> <td>no           </td> <td>no            </td> <td>0         </td> <td>1        </td> <td>no                 </td> <td>2                 </td> <td>1.56               </td> <td>yes                 </td> <td>0                  </td> <td>0                   </td> <td>1              </td>\n",
       "        </tr>\n",
       "        <tr>\n",
       "            <td>5888095</td> <td>0               </td> <td>4              </td> <td>no           </td> <td>no            </td> <td>0         </td> <td>1        </td> <td>no                 </td> <td>4                 </td> <td>3.34               </td> <td>yes                 </td> <td>0                  </td> <td>0                   </td> <td>1              </td>\n",
       "        </tr>\n",
       "        <tr>\n",
       "            <td>5888096</td> <td>0               </td> <td>3              </td> <td>no           </td> <td>no            </td> <td>0         </td> <td>1        </td> <td>no                 </td> <td>3                 </td> <td>2.56               </td> <td>yes                 </td> <td>0                  </td> <td>0                   </td> <td>1              </td>\n",
       "        </tr>\n",
       "    </tbody>\n",
       "</table>\n",
       "<p>... (26990 rows omitted)</p>"
      ],
      "text/plain": [
       "Case ID | Expert Yes Votes | Qualified Reads | Correct Label | Majority Label | Difficulty | Agreement | First Choice Answer | First Choice Votes | First Choice Weight | Second Choice Answer | Second Choice Votes | Second Choice Weight | Expert Accuracy\n",
       "5888087 | 2                | 2               | no            | no             | 0          | 1         | no                  | 2                  | 1.54                | yes                  | 0                   | 0                    | 0.75\n",
       "5888088 | 0                | 3               | no            | no             | 0          | 1         | no                  | 3                  | 2.34                | yes                  | 0                   | 0                    | 1\n",
       "5888089 | 0                | 2               | no            | no             | 0          | 1         | no                  | 2                  | 1.7                 | yes                  | 0                   | 0                    | 1\n",
       "5888090 | 0                | 1               | no            | no             | 0          | 1         | no                  | 1                  | 0.82                | yes                  | 0                   | 0                    | 1\n",
       "5888091 | 4                | 7               | nan           | yes            | nan        | 0.571     | yes                 | 4                  | 3.28                | no                   | 3                   | 2.32                 | None\n",
       "5888092 | 0                | 4               | no            | no             | 0          | 1         | no                  | 4                  | 3.3                 | yes                  | 0                   | 0                    | 1\n",
       "5888093 | 0                | 6               | no            | no             | 0          | 1         | no                  | 6                  | 4.94                | yes                  | 0                   | 0                    | 1\n",
       "5888094 | 0                | 2               | no            | no             | 0          | 1         | no                  | 2                  | 1.56                | yes                  | 0                   | 0                    | 1\n",
       "5888095 | 0                | 4               | no            | no             | 0          | 1         | no                  | 4                  | 3.34                | yes                  | 0                   | 0                    | 1\n",
       "5888096 | 0                | 3               | no            | no             | 0          | 1         | no                  | 3                  | 2.56                | yes                  | 0                   | 0                    | 1\n",
       "... (26990 rows omitted)"
      ]
     },
     "execution_count": 20,
     "metadata": {},
     "output_type": "execute_result"
    }
   ],
   "source": [
    "results_with_accuracy = results.with_column('Expert Accuracy', exp_accuracy)\n",
    "results_with_accuracy"
   ]
  },
  {
   "cell_type": "code",
   "execution_count": 21,
   "id": "55fd2bd5",
   "metadata": {},
   "outputs": [
    {
     "data": {
      "text/plain": [
       "array([ 1. ,  1. ,  1. , ...,  nan,  nan,  0.8])"
      ]
     },
     "execution_count": 21,
     "metadata": {},
     "output_type": "execute_result"
    }
   ],
   "source": [
    "crowd_accuracy = 1 - results.column('Difficulty')\n",
    "crowd_accuracy"
   ]
  },
  {
   "cell_type": "code",
   "execution_count": 22,
   "id": "5b8d31bf",
   "metadata": {},
   "outputs": [
    {
     "data": {
      "text/html": [
       "<table border=\"1\" class=\"dataframe\">\n",
       "    <thead>\n",
       "        <tr>\n",
       "            <th>Case ID</th> <th>Expert Yes Votes</th> <th>Qualified Reads</th> <th>Correct Label</th> <th>Majority Label</th> <th>Difficulty</th> <th>Agreement</th> <th>First Choice Answer</th> <th>First Choice Votes</th> <th>First Choice Weight</th> <th>Second Choice Answer</th> <th>Second Choice Votes</th> <th>Second Choice Weight</th> <th>Expert Accuracy</th> <th>Crowd Accuracy</th>\n",
       "        </tr>\n",
       "    </thead>\n",
       "    <tbody>\n",
       "        <tr>\n",
       "            <td>5888087</td> <td>2               </td> <td>2              </td> <td>no           </td> <td>no            </td> <td>0         </td> <td>1        </td> <td>no                 </td> <td>2                 </td> <td>1.54               </td> <td>yes                 </td> <td>0                  </td> <td>0                   </td> <td>0.75           </td> <td>1             </td>\n",
       "        </tr>\n",
       "        <tr>\n",
       "            <td>5888088</td> <td>0               </td> <td>3              </td> <td>no           </td> <td>no            </td> <td>0         </td> <td>1        </td> <td>no                 </td> <td>3                 </td> <td>2.34               </td> <td>yes                 </td> <td>0                  </td> <td>0                   </td> <td>1              </td> <td>1             </td>\n",
       "        </tr>\n",
       "        <tr>\n",
       "            <td>5888089</td> <td>0               </td> <td>2              </td> <td>no           </td> <td>no            </td> <td>0         </td> <td>1        </td> <td>no                 </td> <td>2                 </td> <td>1.7                </td> <td>yes                 </td> <td>0                  </td> <td>0                   </td> <td>1              </td> <td>1             </td>\n",
       "        </tr>\n",
       "        <tr>\n",
       "            <td>5888090</td> <td>0               </td> <td>1              </td> <td>no           </td> <td>no            </td> <td>0         </td> <td>1        </td> <td>no                 </td> <td>1                 </td> <td>0.82               </td> <td>yes                 </td> <td>0                  </td> <td>0                   </td> <td>1              </td> <td>1             </td>\n",
       "        </tr>\n",
       "        <tr>\n",
       "            <td>5888091</td> <td>4               </td> <td>7              </td> <td>nan          </td> <td>yes           </td> <td>nan       </td> <td>0.571    </td> <td>yes                </td> <td>4                 </td> <td>3.28               </td> <td>no                  </td> <td>3                  </td> <td>2.32                </td> <td>None           </td> <td>nan           </td>\n",
       "        </tr>\n",
       "        <tr>\n",
       "            <td>5888092</td> <td>0               </td> <td>4              </td> <td>no           </td> <td>no            </td> <td>0         </td> <td>1        </td> <td>no                 </td> <td>4                 </td> <td>3.3                </td> <td>yes                 </td> <td>0                  </td> <td>0                   </td> <td>1              </td> <td>1             </td>\n",
       "        </tr>\n",
       "        <tr>\n",
       "            <td>5888093</td> <td>0               </td> <td>6              </td> <td>no           </td> <td>no            </td> <td>0         </td> <td>1        </td> <td>no                 </td> <td>6                 </td> <td>4.94               </td> <td>yes                 </td> <td>0                  </td> <td>0                   </td> <td>1              </td> <td>1             </td>\n",
       "        </tr>\n",
       "        <tr>\n",
       "            <td>5888094</td> <td>0               </td> <td>2              </td> <td>no           </td> <td>no            </td> <td>0         </td> <td>1        </td> <td>no                 </td> <td>2                 </td> <td>1.56               </td> <td>yes                 </td> <td>0                  </td> <td>0                   </td> <td>1              </td> <td>1             </td>\n",
       "        </tr>\n",
       "        <tr>\n",
       "            <td>5888095</td> <td>0               </td> <td>4              </td> <td>no           </td> <td>no            </td> <td>0         </td> <td>1        </td> <td>no                 </td> <td>4                 </td> <td>3.34               </td> <td>yes                 </td> <td>0                  </td> <td>0                   </td> <td>1              </td> <td>1             </td>\n",
       "        </tr>\n",
       "        <tr>\n",
       "            <td>5888096</td> <td>0               </td> <td>3              </td> <td>no           </td> <td>no            </td> <td>0         </td> <td>1        </td> <td>no                 </td> <td>3                 </td> <td>2.56               </td> <td>yes                 </td> <td>0                  </td> <td>0                   </td> <td>1              </td> <td>1             </td>\n",
       "        </tr>\n",
       "    </tbody>\n",
       "</table>\n",
       "<p>... (26990 rows omitted)</p>"
      ],
      "text/plain": [
       "Case ID | Expert Yes Votes | Qualified Reads | Correct Label | Majority Label | Difficulty | Agreement | First Choice Answer | First Choice Votes | First Choice Weight | Second Choice Answer | Second Choice Votes | Second Choice Weight | Expert Accuracy | Crowd Accuracy\n",
       "5888087 | 2                | 2               | no            | no             | 0          | 1         | no                  | 2                  | 1.54                | yes                  | 0                   | 0                    | 0.75            | 1\n",
       "5888088 | 0                | 3               | no            | no             | 0          | 1         | no                  | 3                  | 2.34                | yes                  | 0                   | 0                    | 1               | 1\n",
       "5888089 | 0                | 2               | no            | no             | 0          | 1         | no                  | 2                  | 1.7                 | yes                  | 0                   | 0                    | 1               | 1\n",
       "5888090 | 0                | 1               | no            | no             | 0          | 1         | no                  | 1                  | 0.82                | yes                  | 0                   | 0                    | 1               | 1\n",
       "5888091 | 4                | 7               | nan           | yes            | nan        | 0.571     | yes                 | 4                  | 3.28                | no                   | 3                   | 2.32                 | None            | nan\n",
       "5888092 | 0                | 4               | no            | no             | 0          | 1         | no                  | 4                  | 3.3                 | yes                  | 0                   | 0                    | 1               | 1\n",
       "5888093 | 0                | 6               | no            | no             | 0          | 1         | no                  | 6                  | 4.94                | yes                  | 0                   | 0                    | 1               | 1\n",
       "5888094 | 0                | 2               | no            | no             | 0          | 1         | no                  | 2                  | 1.56                | yes                  | 0                   | 0                    | 1               | 1\n",
       "5888095 | 0                | 4               | no            | no             | 0          | 1         | no                  | 4                  | 3.34                | yes                  | 0                   | 0                    | 1               | 1\n",
       "5888096 | 0                | 3               | no            | no             | 0          | 1         | no                  | 3                  | 2.56                | yes                  | 0                   | 0                    | 1               | 1\n",
       "... (26990 rows omitted)"
      ]
     },
     "execution_count": 22,
     "metadata": {},
     "output_type": "execute_result"
    }
   ],
   "source": [
    "results_with_accuracy = results_with_accuracy.with_column('Crowd Accuracy', crowd_accuracy)\n",
    "results_with_accuracy"
   ]
  },
  {
   "cell_type": "markdown",
   "id": "24779ca7",
   "metadata": {},
   "source": [
    "<h3>Data Cleaning</h3>\n",
    "\n",
    "Before we can compare the expert accuracy score with the crowd accuracy score, some more issues need to be cleaned up in the data. First, we need just the rows where the correct label is defined."
   ]
  },
  {
   "cell_type": "code",
   "execution_count": 23,
   "id": "9b0f8905",
   "metadata": {},
   "outputs": [
    {
     "data": {
      "text/html": [
       "<table border=\"1\" class=\"dataframe\">\n",
       "    <thead>\n",
       "        <tr>\n",
       "            <th>Case ID</th> <th>Expert Yes Votes</th> <th>Qualified Reads</th> <th>Correct Label</th> <th>Majority Label</th> <th>Difficulty</th> <th>Agreement</th> <th>First Choice Answer</th> <th>First Choice Votes</th> <th>First Choice Weight</th> <th>Second Choice Answer</th> <th>Second Choice Votes</th> <th>Second Choice Weight</th> <th>Expert Accuracy</th> <th>Crowd Accuracy</th>\n",
       "        </tr>\n",
       "    </thead>\n",
       "    <tbody>\n",
       "        <tr>\n",
       "            <td>5888087</td> <td>2               </td> <td>2              </td> <td>no           </td> <td>no            </td> <td>0         </td> <td>1        </td> <td>no                 </td> <td>2                 </td> <td>1.54               </td> <td>yes                 </td> <td>0                  </td> <td>0                   </td> <td>0.75           </td> <td>1             </td>\n",
       "        </tr>\n",
       "        <tr>\n",
       "            <td>5888088</td> <td>0               </td> <td>3              </td> <td>no           </td> <td>no            </td> <td>0         </td> <td>1        </td> <td>no                 </td> <td>3                 </td> <td>2.34               </td> <td>yes                 </td> <td>0                  </td> <td>0                   </td> <td>1              </td> <td>1             </td>\n",
       "        </tr>\n",
       "        <tr>\n",
       "            <td>5888089</td> <td>0               </td> <td>2              </td> <td>no           </td> <td>no            </td> <td>0         </td> <td>1        </td> <td>no                 </td> <td>2                 </td> <td>1.7                </td> <td>yes                 </td> <td>0                  </td> <td>0                   </td> <td>1              </td> <td>1             </td>\n",
       "        </tr>\n",
       "        <tr>\n",
       "            <td>5888090</td> <td>0               </td> <td>1              </td> <td>no           </td> <td>no            </td> <td>0         </td> <td>1        </td> <td>no                 </td> <td>1                 </td> <td>0.82               </td> <td>yes                 </td> <td>0                  </td> <td>0                   </td> <td>1              </td> <td>1             </td>\n",
       "        </tr>\n",
       "        <tr>\n",
       "            <td>5888092</td> <td>0               </td> <td>4              </td> <td>no           </td> <td>no            </td> <td>0         </td> <td>1        </td> <td>no                 </td> <td>4                 </td> <td>3.3                </td> <td>yes                 </td> <td>0                  </td> <td>0                   </td> <td>1              </td> <td>1             </td>\n",
       "        </tr>\n",
       "        <tr>\n",
       "            <td>5888093</td> <td>0               </td> <td>6              </td> <td>no           </td> <td>no            </td> <td>0         </td> <td>1        </td> <td>no                 </td> <td>6                 </td> <td>4.94               </td> <td>yes                 </td> <td>0                  </td> <td>0                   </td> <td>1              </td> <td>1             </td>\n",
       "        </tr>\n",
       "        <tr>\n",
       "            <td>5888094</td> <td>0               </td> <td>2              </td> <td>no           </td> <td>no            </td> <td>0         </td> <td>1        </td> <td>no                 </td> <td>2                 </td> <td>1.56               </td> <td>yes                 </td> <td>0                  </td> <td>0                   </td> <td>1              </td> <td>1             </td>\n",
       "        </tr>\n",
       "        <tr>\n",
       "            <td>5888095</td> <td>0               </td> <td>4              </td> <td>no           </td> <td>no            </td> <td>0         </td> <td>1        </td> <td>no                 </td> <td>4                 </td> <td>3.34               </td> <td>yes                 </td> <td>0                  </td> <td>0                   </td> <td>1              </td> <td>1             </td>\n",
       "        </tr>\n",
       "        <tr>\n",
       "            <td>5888096</td> <td>0               </td> <td>3              </td> <td>no           </td> <td>no            </td> <td>0         </td> <td>1        </td> <td>no                 </td> <td>3                 </td> <td>2.56               </td> <td>yes                 </td> <td>0                  </td> <td>0                   </td> <td>1              </td> <td>1             </td>\n",
       "        </tr>\n",
       "        <tr>\n",
       "            <td>5888097</td> <td>0               </td> <td>4              </td> <td>no           </td> <td>no            </td> <td>0         </td> <td>1        </td> <td>no                 </td> <td>4                 </td> <td>3.16               </td> <td>yes                 </td> <td>0                  </td> <td>0                   </td> <td>1              </td> <td>1             </td>\n",
       "        </tr>\n",
       "    </tbody>\n",
       "</table>\n",
       "<p>... (23990 rows omitted)</p>"
      ],
      "text/plain": [
       "Case ID | Expert Yes Votes | Qualified Reads | Correct Label | Majority Label | Difficulty | Agreement | First Choice Answer | First Choice Votes | First Choice Weight | Second Choice Answer | Second Choice Votes | Second Choice Weight | Expert Accuracy | Crowd Accuracy\n",
       "5888087 | 2                | 2               | no            | no             | 0          | 1         | no                  | 2                  | 1.54                | yes                  | 0                   | 0                    | 0.75            | 1\n",
       "5888088 | 0                | 3               | no            | no             | 0          | 1         | no                  | 3                  | 2.34                | yes                  | 0                   | 0                    | 1               | 1\n",
       "5888089 | 0                | 2               | no            | no             | 0          | 1         | no                  | 2                  | 1.7                 | yes                  | 0                   | 0                    | 1               | 1\n",
       "5888090 | 0                | 1               | no            | no             | 0          | 1         | no                  | 1                  | 0.82                | yes                  | 0                   | 0                    | 1               | 1\n",
       "5888092 | 0                | 4               | no            | no             | 0          | 1         | no                  | 4                  | 3.3                 | yes                  | 0                   | 0                    | 1               | 1\n",
       "5888093 | 0                | 6               | no            | no             | 0          | 1         | no                  | 6                  | 4.94                | yes                  | 0                   | 0                    | 1               | 1\n",
       "5888094 | 0                | 2               | no            | no             | 0          | 1         | no                  | 2                  | 1.56                | yes                  | 0                   | 0                    | 1               | 1\n",
       "5888095 | 0                | 4               | no            | no             | 0          | 1         | no                  | 4                  | 3.34                | yes                  | 0                   | 0                    | 1               | 1\n",
       "5888096 | 0                | 3               | no            | no             | 0          | 1         | no                  | 3                  | 2.56                | yes                  | 0                   | 0                    | 1               | 1\n",
       "5888097 | 0                | 4               | no            | no             | 0          | 1         | no                  | 4                  | 3.16                | yes                  | 0                   | 0                    | 1               | 1\n",
       "... (23990 rows omitted)"
      ]
     },
     "execution_count": 23,
     "metadata": {},
     "output_type": "execute_result"
    }
   ],
   "source": [
    "correct_label_exists = results_with_accuracy.where('Correct Label', are.not_equal_to('nan'))\n",
    "correct_label_exists"
   ]
  },
  {
   "cell_type": "markdown",
   "id": "d199aea8",
   "metadata": {},
   "source": [
    "And then, we will discover that there are some cases that have no crowd vote recorded. So we'll need to get rid of those too."
   ]
  },
  {
   "cell_type": "code",
   "execution_count": 24,
   "id": "31825d8e",
   "metadata": {},
   "outputs": [
    {
     "data": {
      "text/plain": [
       "{0.0,\n",
       " 0.099999999999999978,\n",
       " 0.25,\n",
       " 0.5,\n",
       " 0.66700000000000004,\n",
       " 0.75,\n",
       " 0.80000000000000004,\n",
       " 0.83299999999999996,\n",
       " 0.85699999999999998,\n",
       " 1.0,\n",
       " nan,\n",
       " nan,\n",
       " nan,\n",
       " nan,\n",
       " nan,\n",
       " nan,\n",
       " nan,\n",
       " nan,\n",
       " nan,\n",
       " nan,\n",
       " nan,\n",
       " nan,\n",
       " 0.375,\n",
       " nan,\n",
       " nan,\n",
       " 0.875,\n",
       " nan,\n",
       " 0.63600000000000001,\n",
       " nan,\n",
       " nan,\n",
       " nan,\n",
       " nan,\n",
       " nan,\n",
       " nan,\n",
       " 0.90900000000000003,\n",
       " nan,\n",
       " nan,\n",
       " nan,\n",
       " nan,\n",
       " nan,\n",
       " nan,\n",
       " nan,\n",
       " 0.71399999999999997,\n",
       " 0.77800000000000002,\n",
       " nan,\n",
       " nan,\n",
       " nan,\n",
       " nan,\n",
       " nan,\n",
       " nan,\n",
       " nan,\n",
       " nan,\n",
       " nan,\n",
       " nan,\n",
       " nan,\n",
       " nan,\n",
       " nan,\n",
       " nan,\n",
       " 0.33299999999999996,\n",
       " 0.58299999999999996,\n",
       " nan,\n",
       " nan,\n",
       " nan,\n",
       " nan,\n",
       " nan,\n",
       " nan,\n",
       " nan,\n",
       " nan,\n",
       " nan,\n",
       " nan,\n",
       " nan,\n",
       " nan,\n",
       " nan,\n",
       " nan,\n",
       " nan,\n",
       " nan,\n",
       " nan,\n",
       " nan,\n",
       " nan,\n",
       " nan,\n",
       " 0.57099999999999995,\n",
       " nan,\n",
       " nan,\n",
       " nan,\n",
       " nan,\n",
       " nan,\n",
       " nan,\n",
       " nan,\n",
       " nan,\n",
       " nan,\n",
       " nan,\n",
       " 0.625,\n",
       " nan,\n",
       " nan,\n",
       " nan,\n",
       " 0.81800000000000006,\n",
       " nan,\n",
       " nan,\n",
       " nan,\n",
       " nan,\n",
       " nan,\n",
       " nan,\n",
       " nan,\n",
       " nan,\n",
       " nan,\n",
       " nan,\n",
       " nan,\n",
       " nan,\n",
       " nan,\n",
       " nan,\n",
       " nan,\n",
       " nan,\n",
       " 0.55600000000000005,\n",
       " nan,\n",
       " nan,\n",
       " nan,\n",
       " nan,\n",
       " nan,\n",
       " nan,\n",
       " 0.11099999999999999,\n",
       " 0.30000000000000004,\n",
       " nan,\n",
       " nan,\n",
       " nan,\n",
       " nan,\n",
       " nan,\n",
       " nan,\n",
       " nan,\n",
       " nan,\n",
       " nan,\n",
       " nan,\n",
       " nan,\n",
       " 0.18200000000000005,\n",
       " 0.27300000000000002,\n",
       " 0.36399999999999999,\n",
       " 0.40000000000000002,\n",
       " 0.45499999999999996,\n",
       " 0.59999999999999998,\n",
       " 0.72699999999999998,\n",
       " 0.84599999999999997,\n",
       " 0.90000000000000002,\n",
       " nan,\n",
       " nan,\n",
       " nan,\n",
       " nan,\n",
       " nan,\n",
       " nan,\n",
       " nan,\n",
       " nan,\n",
       " nan,\n",
       " nan,\n",
       " nan,\n",
       " nan,\n",
       " nan,\n",
       " nan,\n",
       " nan,\n",
       " nan,\n",
       " 0.125,\n",
       " 0.19999999999999996,\n",
       " 0.69999999999999996,\n",
       " 0.88900000000000001,\n",
       " nan,\n",
       " nan,\n",
       " nan,\n",
       " nan,\n",
       " 0.44399999999999995,\n",
       " nan,\n",
       " nan,\n",
       " nan,\n",
       " nan,\n",
       " nan,\n",
       " nan,\n",
       " nan,\n",
       " nan,\n",
       " nan,\n",
       " 0.76900000000000002,\n",
       " 0.93799999999999994,\n",
       " nan,\n",
       " nan,\n",
       " nan,\n",
       " nan,\n",
       " nan,\n",
       " nan,\n",
       " nan,\n",
       " nan,\n",
       " nan,\n",
       " nan,\n",
       " nan,\n",
       " nan,\n",
       " nan,\n",
       " nan,\n",
       " nan,\n",
       " nan,\n",
       " nan,\n",
       " nan,\n",
       " nan,\n",
       " nan,\n",
       " nan,\n",
       " nan,\n",
       " nan,\n",
       " nan,\n",
       " 0.42900000000000005,\n",
       " 0.92900000000000005,\n",
       " nan,\n",
       " nan,\n",
       " nan,\n",
       " nan,\n",
       " nan,\n",
       " nan,\n",
       " nan,\n",
       " nan,\n",
       " nan,\n",
       " nan,\n",
       " 0.09099999999999997,\n",
       " 0.54499999999999993,\n",
       " 0.92300000000000004,\n",
       " nan,\n",
       " nan,\n",
       " nan,\n",
       " nan,\n",
       " nan,\n",
       " nan,\n",
       " nan,\n",
       " nan,\n",
       " nan,\n",
       " nan,\n",
       " nan,\n",
       " nan,\n",
       " nan,\n",
       " 0.16700000000000004,\n",
       " 0.41700000000000004,\n",
       " 0.91700000000000004,\n",
       " nan,\n",
       " nan,\n",
       " nan,\n",
       " nan,\n",
       " nan,\n",
       " nan,\n",
       " nan,\n",
       " nan,\n",
       " nan,\n",
       " nan,\n",
       " nan,\n",
       " 0.22199999999999998,\n",
       " 0.28600000000000003,\n",
       " nan,\n",
       " nan,\n",
       " nan,\n",
       " nan,\n",
       " nan,\n",
       " nan,\n",
       " nan,\n",
       " nan,\n",
       " nan,\n",
       " nan,\n",
       " nan,\n",
       " nan,\n",
       " nan,\n",
       " nan,\n",
       " nan,\n",
       " nan,\n",
       " nan,\n",
       " nan,\n",
       " nan,\n",
       " nan,\n",
       " nan,\n",
       " 0.14300000000000002,\n",
       " 0.64300000000000002,\n",
       " nan,\n",
       " nan,\n",
       " nan,\n",
       " nan,\n",
       " nan,\n",
       " nan,\n",
       " nan,\n",
       " nan,\n",
       " nan,\n",
       " nan,\n",
       " nan,\n",
       " nan,\n",
       " nan,\n",
       " nan,\n",
       " nan,\n",
       " nan,\n",
       " nan,\n",
       " nan,\n",
       " nan,\n",
       " nan,\n",
       " nan,\n",
       " nan,\n",
       " nan,\n",
       " nan,\n",
       " nan,\n",
       " nan,\n",
       " 0.69199999999999995}"
      ]
     },
     "execution_count": 24,
     "metadata": {},
     "output_type": "execute_result"
    }
   ],
   "source": [
    "set(correct_label_exists.column('Crowd Accuracy'))"
   ]
  },
  {
   "cell_type": "code",
   "execution_count": 25,
   "id": "bafe3e2a",
   "metadata": {},
   "outputs": [
    {
     "data": {
      "text/plain": [
       "array([-0.25, 0.0, 0.0, ..., 0.29200000000000004, nan, -0.17500000000000004], dtype=object)"
      ]
     },
     "execution_count": 25,
     "metadata": {},
     "output_type": "execute_result"
    }
   ],
   "source": [
    "experts_vs_crowd = correct_label_exists.column('Expert Accuracy') - correct_label_exists.column('Crowd Accuracy')\n",
    "experts_vs_crowd"
   ]
  },
  {
   "cell_type": "code",
   "execution_count": 26,
   "id": "dfec3d02",
   "metadata": {},
   "outputs": [
    {
     "data": {
      "text/html": [
       "<table border=\"1\" class=\"dataframe\">\n",
       "    <thead>\n",
       "        <tr>\n",
       "            <th>Case ID</th> <th>Expert Yes Votes</th> <th>Qualified Reads</th> <th>Correct Label</th> <th>Majority Label</th> <th>Difficulty</th> <th>Agreement</th> <th>First Choice Answer</th> <th>First Choice Votes</th> <th>First Choice Weight</th> <th>Second Choice Answer</th> <th>Second Choice Votes</th> <th>Second Choice Weight</th> <th>Expert Accuracy</th> <th>Crowd Accuracy</th>\n",
       "        </tr>\n",
       "    </thead>\n",
       "    <tbody>\n",
       "        <tr>\n",
       "            <td>5888087</td> <td>2               </td> <td>2              </td> <td>no           </td> <td>no            </td> <td>0         </td> <td>1        </td> <td>no                 </td> <td>2                 </td> <td>1.54               </td> <td>yes                 </td> <td>0                  </td> <td>0                   </td> <td>0.75           </td> <td>1             </td>\n",
       "        </tr>\n",
       "        <tr>\n",
       "            <td>5888088</td> <td>0               </td> <td>3              </td> <td>no           </td> <td>no            </td> <td>0         </td> <td>1        </td> <td>no                 </td> <td>3                 </td> <td>2.34               </td> <td>yes                 </td> <td>0                  </td> <td>0                   </td> <td>1              </td> <td>1             </td>\n",
       "        </tr>\n",
       "        <tr>\n",
       "            <td>5888089</td> <td>0               </td> <td>2              </td> <td>no           </td> <td>no            </td> <td>0         </td> <td>1        </td> <td>no                 </td> <td>2                 </td> <td>1.7                </td> <td>yes                 </td> <td>0                  </td> <td>0                   </td> <td>1              </td> <td>1             </td>\n",
       "        </tr>\n",
       "        <tr>\n",
       "            <td>5888090</td> <td>0               </td> <td>1              </td> <td>no           </td> <td>no            </td> <td>0         </td> <td>1        </td> <td>no                 </td> <td>1                 </td> <td>0.82               </td> <td>yes                 </td> <td>0                  </td> <td>0                   </td> <td>1              </td> <td>1             </td>\n",
       "        </tr>\n",
       "        <tr>\n",
       "            <td>5888092</td> <td>0               </td> <td>4              </td> <td>no           </td> <td>no            </td> <td>0         </td> <td>1        </td> <td>no                 </td> <td>4                 </td> <td>3.3                </td> <td>yes                 </td> <td>0                  </td> <td>0                   </td> <td>1              </td> <td>1             </td>\n",
       "        </tr>\n",
       "        <tr>\n",
       "            <td>5888093</td> <td>0               </td> <td>6              </td> <td>no           </td> <td>no            </td> <td>0         </td> <td>1        </td> <td>no                 </td> <td>6                 </td> <td>4.94               </td> <td>yes                 </td> <td>0                  </td> <td>0                   </td> <td>1              </td> <td>1             </td>\n",
       "        </tr>\n",
       "        <tr>\n",
       "            <td>5888094</td> <td>0               </td> <td>2              </td> <td>no           </td> <td>no            </td> <td>0         </td> <td>1        </td> <td>no                 </td> <td>2                 </td> <td>1.56               </td> <td>yes                 </td> <td>0                  </td> <td>0                   </td> <td>1              </td> <td>1             </td>\n",
       "        </tr>\n",
       "        <tr>\n",
       "            <td>5888095</td> <td>0               </td> <td>4              </td> <td>no           </td> <td>no            </td> <td>0         </td> <td>1        </td> <td>no                 </td> <td>4                 </td> <td>3.34               </td> <td>yes                 </td> <td>0                  </td> <td>0                   </td> <td>1              </td> <td>1             </td>\n",
       "        </tr>\n",
       "        <tr>\n",
       "            <td>5888096</td> <td>0               </td> <td>3              </td> <td>no           </td> <td>no            </td> <td>0         </td> <td>1        </td> <td>no                 </td> <td>3                 </td> <td>2.56               </td> <td>yes                 </td> <td>0                  </td> <td>0                   </td> <td>1              </td> <td>1             </td>\n",
       "        </tr>\n",
       "        <tr>\n",
       "            <td>5888097</td> <td>0               </td> <td>4              </td> <td>no           </td> <td>no            </td> <td>0         </td> <td>1        </td> <td>no                 </td> <td>4                 </td> <td>3.16               </td> <td>yes                 </td> <td>0                  </td> <td>0                   </td> <td>1              </td> <td>1             </td>\n",
       "        </tr>\n",
       "        <tr>\n",
       "            <td>5888098</td> <td>0               </td> <td>1              </td> <td>no           </td> <td>no            </td> <td>0         </td> <td>1        </td> <td>no                 </td> <td>1                 </td> <td>0.82               </td> <td>yes                 </td> <td>0                  </td> <td>0                   </td> <td>1              </td> <td>1             </td>\n",
       "        </tr>\n",
       "        <tr>\n",
       "            <td>5888099</td> <td>0               </td> <td>5              </td> <td>no           </td> <td>no            </td> <td>0         </td> <td>1        </td> <td>no                 </td> <td>5                 </td> <td>4.05               </td> <td>yes                 </td> <td>0                  </td> <td>0                   </td> <td>1              </td> <td>1             </td>\n",
       "        </tr>\n",
       "        <tr>\n",
       "            <td>5888100</td> <td>0               </td> <td>7              </td> <td>no           </td> <td>no            </td> <td>0.143     </td> <td>0.857    </td> <td>no                 </td> <td>6                 </td> <td>4.92               </td> <td>yes                 </td> <td>1                  </td> <td>0.8                 </td> <td>1              </td> <td>0.857         </td>\n",
       "        </tr>\n",
       "        <tr>\n",
       "            <td>5888101</td> <td>1               </td> <td>3              </td> <td>no           </td> <td>no            </td> <td>0.333     </td> <td>0.667    </td> <td>no                 </td> <td>2                 </td> <td>1.6                </td> <td>yes                 </td> <td>1                  </td> <td>0.76                </td> <td>0.875          </td> <td>0.667         </td>\n",
       "        </tr>\n",
       "        <tr>\n",
       "            <td>5888102</td> <td>0               </td> <td>6              </td> <td>no           </td> <td>no            </td> <td>0         </td> <td>1        </td> <td>no                 </td> <td>6                 </td> <td>4.66               </td> <td>yes                 </td> <td>0                  </td> <td>0                   </td> <td>1              </td> <td>1             </td>\n",
       "        </tr>\n",
       "        <tr>\n",
       "            <td>5888103</td> <td>2               </td> <td>1              </td> <td>no           </td> <td>no            </td> <td>0         </td> <td>1        </td> <td>no                 </td> <td>1                 </td> <td>0.82               </td> <td>yes                 </td> <td>0                  </td> <td>0                   </td> <td>0.75           </td> <td>1             </td>\n",
       "        </tr>\n",
       "        <tr>\n",
       "            <td>5888104</td> <td>0               </td> <td>6              </td> <td>no           </td> <td>no            </td> <td>0         </td> <td>1        </td> <td>no                 </td> <td>6                 </td> <td>4.7                </td> <td>yes                 </td> <td>0                  </td> <td>0                   </td> <td>1              </td> <td>1             </td>\n",
       "        </tr>\n",
       "        <tr>\n",
       "            <td>5888105</td> <td>0               </td> <td>3              </td> <td>no           </td> <td>no            </td> <td>0         </td> <td>1        </td> <td>no                 </td> <td>3                 </td> <td>2.42               </td> <td>yes                 </td> <td>0                  </td> <td>0                   </td> <td>1              </td> <td>1             </td>\n",
       "        </tr>\n",
       "        <tr>\n",
       "            <td>5888106</td> <td>0               </td> <td>2              </td> <td>no           </td> <td>no            </td> <td>0         </td> <td>1        </td> <td>no                 </td> <td>2                 </td> <td>1.6                </td> <td>yes                 </td> <td>0                  </td> <td>0                   </td> <td>1              </td> <td>1             </td>\n",
       "        </tr>\n",
       "        <tr>\n",
       "            <td>5888107</td> <td>0               </td> <td>1              </td> <td>no           </td> <td>no            </td> <td>0         </td> <td>1        </td> <td>no                 </td> <td>1                 </td> <td>0.76               </td> <td>yes                 </td> <td>0                  </td> <td>0                   </td> <td>1              </td> <td>1             </td>\n",
       "        </tr>\n",
       "        <tr>\n",
       "            <td>5888108</td> <td>0               </td> <td>6              </td> <td>no           </td> <td>no            </td> <td>0         </td> <td>1        </td> <td>no                 </td> <td>6                 </td> <td>4.9                </td> <td>yes                 </td> <td>0                  </td> <td>0                   </td> <td>1              </td> <td>1             </td>\n",
       "        </tr>\n",
       "        <tr>\n",
       "            <td>5888109</td> <td>0               </td> <td>1              </td> <td>no           </td> <td>no            </td> <td>0         </td> <td>1        </td> <td>no                 </td> <td>1                 </td> <td>0.8                </td> <td>yes                 </td> <td>0                  </td> <td>0                   </td> <td>1              </td> <td>1             </td>\n",
       "        </tr>\n",
       "        <tr>\n",
       "            <td>5888110</td> <td>0               </td> <td>1              </td> <td>no           </td> <td>no            </td> <td>0         </td> <td>1        </td> <td>no                 </td> <td>1                 </td> <td>0.76               </td> <td>yes                 </td> <td>0                  </td> <td>0                   </td> <td>1              </td> <td>1             </td>\n",
       "        </tr>\n",
       "        <tr>\n",
       "            <td>5888111</td> <td>0               </td> <td>4              </td> <td>no           </td> <td>no            </td> <td>0         </td> <td>1        </td> <td>no                 </td> <td>4                 </td> <td>3.2                </td> <td>yes                 </td> <td>0                  </td> <td>0                   </td> <td>1              </td> <td>1             </td>\n",
       "        </tr>\n",
       "        <tr>\n",
       "            <td>5888112</td> <td>0               </td> <td>7              </td> <td>no           </td> <td>no            </td> <td>0         </td> <td>1        </td> <td>no                 </td> <td>7                 </td> <td>5.68               </td> <td>yes                 </td> <td>0                  </td> <td>0                   </td> <td>1              </td> <td>1             </td>\n",
       "        </tr>\n",
       "        <tr>\n",
       "            <td>5888113</td> <td>0               </td> <td>3              </td> <td>no           </td> <td>no            </td> <td>0.333     </td> <td>0.667    </td> <td>no                 </td> <td>2                 </td> <td>1.78               </td> <td>yes                 </td> <td>1                  </td> <td>0.76                </td> <td>1              </td> <td>0.667         </td>\n",
       "        </tr>\n",
       "        <tr>\n",
       "            <td>5888114</td> <td>0               </td> <td>5              </td> <td>no           </td> <td>no            </td> <td>0         </td> <td>1        </td> <td>no                 </td> <td>5                 </td> <td>4.02               </td> <td>yes                 </td> <td>0                  </td> <td>0                   </td> <td>1              </td> <td>1             </td>\n",
       "        </tr>\n",
       "        <tr>\n",
       "            <td>5888115</td> <td>0               </td> <td>3              </td> <td>no           </td> <td>no            </td> <td>0         </td> <td>1        </td> <td>no                 </td> <td>3                 </td> <td>2.38               </td> <td>yes                 </td> <td>0                  </td> <td>0                   </td> <td>1              </td> <td>1             </td>\n",
       "        </tr>\n",
       "        <tr>\n",
       "            <td>5888116</td> <td>0               </td> <td>5              </td> <td>no           </td> <td>no            </td> <td>0         </td> <td>1        </td> <td>no                 </td> <td>5                 </td> <td>3.98               </td> <td>yes                 </td> <td>0                  </td> <td>0                   </td> <td>1              </td> <td>1             </td>\n",
       "        </tr>\n",
       "        <tr>\n",
       "            <td>5888117</td> <td>0               </td> <td>0              </td> <td>no           </td> <td>nan           </td> <td>nan       </td> <td>nan      </td> <td>yes                </td> <td>0                 </td> <td>0                  </td> <td>no                  </td> <td>0                  </td> <td>0                   </td> <td>1              </td> <td>nan           </td>\n",
       "        </tr>\n",
       "        <tr>\n",
       "            <td>5888118</td> <td>0               </td> <td>4              </td> <td>no           </td> <td>no            </td> <td>0         </td> <td>1        </td> <td>no                 </td> <td>4                 </td> <td>3.08               </td> <td>yes                 </td> <td>0                  </td> <td>0                   </td> <td>1              </td> <td>1             </td>\n",
       "        </tr>\n",
       "        <tr>\n",
       "            <td>5888119</td> <td>0               </td> <td>6              </td> <td>no           </td> <td>no            </td> <td>0         </td> <td>1        </td> <td>no                 </td> <td>6                 </td> <td>4.76               </td> <td>yes                 </td> <td>0                  </td> <td>0                   </td> <td>1              </td> <td>1             </td>\n",
       "        </tr>\n",
       "        <tr>\n",
       "            <td>5888120</td> <td>0               </td> <td>8              </td> <td>no           </td> <td>no            </td> <td>0         </td> <td>1        </td> <td>no                 </td> <td>8                 </td> <td>6.52               </td> <td>yes                 </td> <td>0                  </td> <td>0                   </td> <td>1              </td> <td>1             </td>\n",
       "        </tr>\n",
       "        <tr>\n",
       "            <td>5888121</td> <td>0               </td> <td>7              </td> <td>no           </td> <td>no            </td> <td>0.143     </td> <td>0.857    </td> <td>no                 </td> <td>6                 </td> <td>4.78               </td> <td>yes                 </td> <td>1                  </td> <td>0.78                </td> <td>1              </td> <td>0.857         </td>\n",
       "        </tr>\n",
       "        <tr>\n",
       "            <td>5888122</td> <td>0               </td> <td>4              </td> <td>no           </td> <td>no            </td> <td>0         </td> <td>1        </td> <td>no                 </td> <td>4                 </td> <td>3.28               </td> <td>yes                 </td> <td>0                  </td> <td>0                   </td> <td>1              </td> <td>1             </td>\n",
       "        </tr>\n",
       "        <tr>\n",
       "            <td>5888123</td> <td>1               </td> <td>2              </td> <td>no           </td> <td>yes           </td> <td>0.5       </td> <td>0.5      </td> <td>yes                </td> <td>1                 </td> <td>0.8                </td> <td>no                  </td> <td>1                  </td> <td>0.88                </td> <td>0.875          </td> <td>0.5           </td>\n",
       "        </tr>\n",
       "        <tr>\n",
       "            <td>5888124</td> <td>0               </td> <td>4              </td> <td>no           </td> <td>no            </td> <td>0         </td> <td>1        </td> <td>no                 </td> <td>4                 </td> <td>3.26               </td> <td>yes                 </td> <td>0                  </td> <td>0                   </td> <td>1              </td> <td>1             </td>\n",
       "        </tr>\n",
       "        <tr>\n",
       "            <td>5888125</td> <td>0               </td> <td>5              </td> <td>no           </td> <td>no            </td> <td>0         </td> <td>1        </td> <td>no                 </td> <td>5                 </td> <td>3.96               </td> <td>yes                 </td> <td>0                  </td> <td>0                   </td> <td>1              </td> <td>1             </td>\n",
       "        </tr>\n",
       "        <tr>\n",
       "            <td>5888126</td> <td>0               </td> <td>7              </td> <td>no           </td> <td>no            </td> <td>0         </td> <td>1        </td> <td>no                 </td> <td>7                 </td> <td>5.64               </td> <td>yes                 </td> <td>0                  </td> <td>0                   </td> <td>1              </td> <td>1             </td>\n",
       "        </tr>\n",
       "        <tr>\n",
       "            <td>5888127</td> <td>0               </td> <td>6              </td> <td>no           </td> <td>no            </td> <td>0         </td> <td>1        </td> <td>no                 </td> <td>6                 </td> <td>5.02               </td> <td>yes                 </td> <td>0                  </td> <td>0                   </td> <td>1              </td> <td>1             </td>\n",
       "        </tr>\n",
       "        <tr>\n",
       "            <td>5888128</td> <td>0               </td> <td>5              </td> <td>no           </td> <td>no            </td> <td>0         </td> <td>1        </td> <td>no                 </td> <td>5                 </td> <td>3.96               </td> <td>yes                 </td> <td>0                  </td> <td>0                   </td> <td>1              </td> <td>1             </td>\n",
       "        </tr>\n",
       "        <tr>\n",
       "            <td>5888129</td> <td>0               </td> <td>2              </td> <td>no           </td> <td>no            </td> <td>0         </td> <td>1        </td> <td>no                 </td> <td>2                 </td> <td>1.72               </td> <td>yes                 </td> <td>0                  </td> <td>0                   </td> <td>1              </td> <td>1             </td>\n",
       "        </tr>\n",
       "        <tr>\n",
       "            <td>5888130</td> <td>0               </td> <td>7              </td> <td>no           </td> <td>no            </td> <td>0         </td> <td>1        </td> <td>no                 </td> <td>7                 </td> <td>5.54               </td> <td>yes                 </td> <td>0                  </td> <td>0                   </td> <td>1              </td> <td>1             </td>\n",
       "        </tr>\n",
       "        <tr>\n",
       "            <td>5888131</td> <td>0               </td> <td>5              </td> <td>no           </td> <td>no            </td> <td>0         </td> <td>1        </td> <td>no                 </td> <td>5                 </td> <td>4.04               </td> <td>yes                 </td> <td>0                  </td> <td>0                   </td> <td>1              </td> <td>1             </td>\n",
       "        </tr>\n",
       "        <tr>\n",
       "            <td>5888132</td> <td>0               </td> <td>3              </td> <td>no           </td> <td>no            </td> <td>0         </td> <td>1        </td> <td>no                 </td> <td>3                 </td> <td>2.42               </td> <td>yes                 </td> <td>0                  </td> <td>0                   </td> <td>1              </td> <td>1             </td>\n",
       "        </tr>\n",
       "        <tr>\n",
       "            <td>5888133</td> <td>0               </td> <td>5              </td> <td>no           </td> <td>no            </td> <td>0         </td> <td>1        </td> <td>no                 </td> <td>5                 </td> <td>3.9                </td> <td>yes                 </td> <td>0                  </td> <td>0                   </td> <td>1              </td> <td>1             </td>\n",
       "        </tr>\n",
       "        <tr>\n",
       "            <td>5888134</td> <td>0               </td> <td>6              </td> <td>no           </td> <td>no            </td> <td>0         </td> <td>1        </td> <td>no                 </td> <td>6                 </td> <td>4.74               </td> <td>yes                 </td> <td>0                  </td> <td>0                   </td> <td>1              </td> <td>1             </td>\n",
       "        </tr>\n",
       "        <tr>\n",
       "            <td>5888135</td> <td>0               </td> <td>3              </td> <td>no           </td> <td>no            </td> <td>0         </td> <td>1        </td> <td>no                 </td> <td>3                 </td> <td>2.31               </td> <td>yes                 </td> <td>0                  </td> <td>0                   </td> <td>1              </td> <td>1             </td>\n",
       "        </tr>\n",
       "        <tr>\n",
       "            <td>5888136</td> <td>0               </td> <td>3              </td> <td>no           </td> <td>no            </td> <td>0.333     </td> <td>0.667    </td> <td>no                 </td> <td>2                 </td> <td>1.58               </td> <td>yes                 </td> <td>1                  </td> <td>0.76                </td> <td>1              </td> <td>0.667         </td>\n",
       "        </tr>\n",
       "        <tr>\n",
       "            <td>5888137</td> <td>0               </td> <td>7              </td> <td>no           </td> <td>no            </td> <td>0         </td> <td>1        </td> <td>no                 </td> <td>7                 </td> <td>5.67               </td> <td>yes                 </td> <td>0                  </td> <td>0                   </td> <td>1              </td> <td>1             </td>\n",
       "        </tr>\n",
       "        <tr>\n",
       "            <td>5888138</td> <td>0               </td> <td>6              </td> <td>no           </td> <td>no            </td> <td>0         </td> <td>1        </td> <td>no                 </td> <td>6                 </td> <td>4.88               </td> <td>yes                 </td> <td>0                  </td> <td>0                   </td> <td>1              </td> <td>1             </td>\n",
       "        </tr>\n",
       "        <tr>\n",
       "            <td>5888139</td> <td>0               </td> <td>5              </td> <td>no           </td> <td>no            </td> <td>0         </td> <td>1        </td> <td>no                 </td> <td>5                 </td> <td>4.18               </td> <td>yes                 </td> <td>0                  </td> <td>0                   </td> <td>1              </td> <td>1             </td>\n",
       "        </tr>\n",
       "        <tr>\n",
       "            <td>5888140</td> <td>0               </td> <td>7              </td> <td>no           </td> <td>no            </td> <td>0         </td> <td>1        </td> <td>no                 </td> <td>7                 </td> <td>5.46               </td> <td>yes                 </td> <td>0                  </td> <td>0                   </td> <td>1              </td> <td>1             </td>\n",
       "        </tr>\n",
       "        <tr>\n",
       "            <td>5888141</td> <td>0               </td> <td>6              </td> <td>no           </td> <td>no            </td> <td>0         </td> <td>1        </td> <td>no                 </td> <td>6                 </td> <td>4.89               </td> <td>yes                 </td> <td>0                  </td> <td>0                   </td> <td>1              </td> <td>1             </td>\n",
       "        </tr>\n",
       "        <tr>\n",
       "            <td>5888142</td> <td>0               </td> <td>5              </td> <td>no           </td> <td>no            </td> <td>0.2       </td> <td>0.8      </td> <td>no                 </td> <td>4                 </td> <td>3.16               </td> <td>yes                 </td> <td>1                  </td> <td>0.76                </td> <td>1              </td> <td>0.8           </td>\n",
       "        </tr>\n",
       "        <tr>\n",
       "            <td>5888143</td> <td>0               </td> <td>3              </td> <td>no           </td> <td>no            </td> <td>0         </td> <td>1        </td> <td>no                 </td> <td>3                 </td> <td>2.36               </td> <td>yes                 </td> <td>0                  </td> <td>0                   </td> <td>1              </td> <td>1             </td>\n",
       "        </tr>\n",
       "        <tr>\n",
       "            <td>5888144</td> <td>0               </td> <td>2              </td> <td>no           </td> <td>no            </td> <td>0         </td> <td>1        </td> <td>no                 </td> <td>2                 </td> <td>1.62               </td> <td>yes                 </td> <td>0                  </td> <td>0                   </td> <td>1              </td> <td>1             </td>\n",
       "        </tr>\n",
       "        <tr>\n",
       "            <td>5888146</td> <td>0               </td> <td>5              </td> <td>no           </td> <td>no            </td> <td>0         </td> <td>1        </td> <td>no                 </td> <td>5                 </td> <td>3.96               </td> <td>yes                 </td> <td>0                  </td> <td>0                   </td> <td>1              </td> <td>1             </td>\n",
       "        </tr>\n",
       "        <tr>\n",
       "            <td>5888147</td> <td>0               </td> <td>3              </td> <td>no           </td> <td>no            </td> <td>0         </td> <td>1        </td> <td>no                 </td> <td>3                 </td> <td>2.32               </td> <td>yes                 </td> <td>0                  </td> <td>0                   </td> <td>1              </td> <td>1             </td>\n",
       "        </tr>\n",
       "        <tr>\n",
       "            <td>5888148</td> <td>2               </td> <td>4              </td> <td>no           </td> <td>no            </td> <td>0         </td> <td>1        </td> <td>no                 </td> <td>4                 </td> <td>3.05               </td> <td>yes                 </td> <td>0                  </td> <td>0                   </td> <td>0.75           </td> <td>1             </td>\n",
       "        </tr>\n",
       "        <tr>\n",
       "            <td>5888149</td> <td>0               </td> <td>6              </td> <td>no           </td> <td>no            </td> <td>0         </td> <td>1        </td> <td>no                 </td> <td>6                 </td> <td>4.88               </td> <td>yes                 </td> <td>0                  </td> <td>0                   </td> <td>1              </td> <td>1             </td>\n",
       "        </tr>\n",
       "        <tr>\n",
       "            <td>5888150</td> <td>0               </td> <td>5              </td> <td>no           </td> <td>no            </td> <td>0         </td> <td>1        </td> <td>no                 </td> <td>5                 </td> <td>4.24               </td> <td>yes                 </td> <td>0                  </td> <td>0                   </td> <td>1              </td> <td>1             </td>\n",
       "        </tr>\n",
       "        <tr>\n",
       "            <td>5888151</td> <td>0               </td> <td>5              </td> <td>no           </td> <td>no            </td> <td>0         </td> <td>1        </td> <td>no                 </td> <td>5                 </td> <td>4.11               </td> <td>yes                 </td> <td>0                  </td> <td>0                   </td> <td>1              </td> <td>1             </td>\n",
       "        </tr>\n",
       "        <tr>\n",
       "            <td>5888152</td> <td>0               </td> <td>5              </td> <td>no           </td> <td>no            </td> <td>0         </td> <td>1        </td> <td>no                 </td> <td>5                 </td> <td>3.98               </td> <td>yes                 </td> <td>0                  </td> <td>0                   </td> <td>1              </td> <td>1             </td>\n",
       "        </tr>\n",
       "        <tr>\n",
       "            <td>5888153</td> <td>0               </td> <td>3              </td> <td>no           </td> <td>no            </td> <td>0         </td> <td>1        </td> <td>no                 </td> <td>3                 </td> <td>2.46               </td> <td>yes                 </td> <td>0                  </td> <td>0                   </td> <td>1              </td> <td>1             </td>\n",
       "        </tr>\n",
       "        <tr>\n",
       "            <td>5888154</td> <td>1               </td> <td>2              </td> <td>no           </td> <td>no            </td> <td>0         </td> <td>1        </td> <td>no                 </td> <td>2                 </td> <td>1.6                </td> <td>yes                 </td> <td>0                  </td> <td>0                   </td> <td>0.875          </td> <td>1             </td>\n",
       "        </tr>\n",
       "        <tr>\n",
       "            <td>5888155</td> <td>0               </td> <td>6              </td> <td>no           </td> <td>no            </td> <td>0         </td> <td>1        </td> <td>no                 </td> <td>6                 </td> <td>4.87               </td> <td>yes                 </td> <td>0                  </td> <td>0                   </td> <td>1              </td> <td>1             </td>\n",
       "        </tr>\n",
       "        <tr>\n",
       "            <td>5888156</td> <td>0               </td> <td>8              </td> <td>no           </td> <td>no            </td> <td>0         </td> <td>1        </td> <td>no                 </td> <td>8                 </td> <td>6.38               </td> <td>yes                 </td> <td>0                  </td> <td>0                   </td> <td>1              </td> <td>1             </td>\n",
       "        </tr>\n",
       "        <tr>\n",
       "            <td>5888157</td> <td>0               </td> <td>3              </td> <td>no           </td> <td>no            </td> <td>0         </td> <td>1        </td> <td>no                 </td> <td>3                 </td> <td>2.36               </td> <td>yes                 </td> <td>0                  </td> <td>0                   </td> <td>1              </td> <td>1             </td>\n",
       "        </tr>\n",
       "        <tr>\n",
       "            <td>5888158</td> <td>0               </td> <td>4              </td> <td>no           </td> <td>no            </td> <td>0         </td> <td>1        </td> <td>no                 </td> <td>4                 </td> <td>3.12               </td> <td>yes                 </td> <td>0                  </td> <td>0                   </td> <td>1              </td> <td>1             </td>\n",
       "        </tr>\n",
       "        <tr>\n",
       "            <td>5888159</td> <td>0               </td> <td>7              </td> <td>no           </td> <td>no            </td> <td>0         </td> <td>1        </td> <td>no                 </td> <td>7                 </td> <td>5.77               </td> <td>yes                 </td> <td>0                  </td> <td>0                   </td> <td>1              </td> <td>1             </td>\n",
       "        </tr>\n",
       "        <tr>\n",
       "            <td>5888160</td> <td>0               </td> <td>5              </td> <td>no           </td> <td>no            </td> <td>0         </td> <td>1        </td> <td>no                 </td> <td>5                 </td> <td>4.14               </td> <td>yes                 </td> <td>0                  </td> <td>0                   </td> <td>1              </td> <td>1             </td>\n",
       "        </tr>\n",
       "        <tr>\n",
       "            <td>5888161</td> <td>0               </td> <td>8              </td> <td>no           </td> <td>no            </td> <td>0         </td> <td>1        </td> <td>no                 </td> <td>8                 </td> <td>6.38               </td> <td>yes                 </td> <td>0                  </td> <td>0                   </td> <td>1              </td> <td>1             </td>\n",
       "        </tr>\n",
       "        <tr>\n",
       "            <td>5888162</td> <td>0               </td> <td>2              </td> <td>no           </td> <td>no            </td> <td>0         </td> <td>1        </td> <td>no                 </td> <td>2                 </td> <td>1.58               </td> <td>yes                 </td> <td>0                  </td> <td>0                   </td> <td>1              </td> <td>1             </td>\n",
       "        </tr>\n",
       "        <tr>\n",
       "            <td>5888163</td> <td>0               </td> <td>4              </td> <td>no           </td> <td>no            </td> <td>0         </td> <td>1        </td> <td>no                 </td> <td>4                 </td> <td>3.23               </td> <td>yes                 </td> <td>0                  </td> <td>0                   </td> <td>1              </td> <td>1             </td>\n",
       "        </tr>\n",
       "        <tr>\n",
       "            <td>5888164</td> <td>0               </td> <td>10             </td> <td>no           </td> <td>no            </td> <td>0         </td> <td>1        </td> <td>no                 </td> <td>10                </td> <td>7.9                </td> <td>yes                 </td> <td>0                  </td> <td>0                   </td> <td>1              </td> <td>1             </td>\n",
       "        </tr>\n",
       "        <tr>\n",
       "            <td>5888165</td> <td>0               </td> <td>5              </td> <td>no           </td> <td>no            </td> <td>0         </td> <td>1        </td> <td>no                 </td> <td>5                 </td> <td>3.9                </td> <td>yes                 </td> <td>0                  </td> <td>0                   </td> <td>1              </td> <td>1             </td>\n",
       "        </tr>\n",
       "        <tr>\n",
       "            <td>5888166</td> <td>0               </td> <td>5              </td> <td>no           </td> <td>no            </td> <td>0         </td> <td>1        </td> <td>no                 </td> <td>5                 </td> <td>4.04               </td> <td>yes                 </td> <td>0                  </td> <td>0                   </td> <td>1              </td> <td>1             </td>\n",
       "        </tr>\n",
       "        <tr>\n",
       "            <td>5888167</td> <td>0               </td> <td>3              </td> <td>no           </td> <td>no            </td> <td>0         </td> <td>1        </td> <td>no                 </td> <td>3                 </td> <td>2.46               </td> <td>yes                 </td> <td>0                  </td> <td>0                   </td> <td>1              </td> <td>1             </td>\n",
       "        </tr>\n",
       "        <tr>\n",
       "            <td>5888168</td> <td>0               </td> <td>5              </td> <td>no           </td> <td>no            </td> <td>0         </td> <td>1        </td> <td>no                 </td> <td>5                 </td> <td>3.9                </td> <td>yes                 </td> <td>0                  </td> <td>0                   </td> <td>1              </td> <td>1             </td>\n",
       "        </tr>\n",
       "        <tr>\n",
       "            <td>5888169</td> <td>0               </td> <td>6              </td> <td>no           </td> <td>no            </td> <td>0         </td> <td>1        </td> <td>no                 </td> <td>6                 </td> <td>4.78               </td> <td>yes                 </td> <td>0                  </td> <td>0                   </td> <td>1              </td> <td>1             </td>\n",
       "        </tr>\n",
       "        <tr>\n",
       "            <td>5888171</td> <td>0               </td> <td>5              </td> <td>no           </td> <td>no            </td> <td>0         </td> <td>1        </td> <td>no                 </td> <td>5                 </td> <td>4.14               </td> <td>yes                 </td> <td>0                  </td> <td>0                   </td> <td>1              </td> <td>1             </td>\n",
       "        </tr>\n",
       "        <tr>\n",
       "            <td>5888172</td> <td>0               </td> <td>9              </td> <td>no           </td> <td>no            </td> <td>0         </td> <td>1        </td> <td>no                 </td> <td>9                 </td> <td>6.95               </td> <td>yes                 </td> <td>0                  </td> <td>0                   </td> <td>1              </td> <td>1             </td>\n",
       "        </tr>\n",
       "        <tr>\n",
       "            <td>5888173</td> <td>0               </td> <td>3              </td> <td>no           </td> <td>no            </td> <td>0         </td> <td>1        </td> <td>no                 </td> <td>3                 </td> <td>2.38               </td> <td>yes                 </td> <td>0                  </td> <td>0                   </td> <td>1              </td> <td>1             </td>\n",
       "        </tr>\n",
       "        <tr>\n",
       "            <td>5888174</td> <td>0               </td> <td>9              </td> <td>no           </td> <td>no            </td> <td>0         </td> <td>1        </td> <td>no                 </td> <td>9                 </td> <td>7.08               </td> <td>yes                 </td> <td>0                  </td> <td>0                   </td> <td>1              </td> <td>1             </td>\n",
       "        </tr>\n",
       "        <tr>\n",
       "            <td>5888175</td> <td>1               </td> <td>3              </td> <td>no           </td> <td>no            </td> <td>0         </td> <td>1        </td> <td>no                 </td> <td>3                 </td> <td>2.36               </td> <td>yes                 </td> <td>0                  </td> <td>0                   </td> <td>0.875          </td> <td>1             </td>\n",
       "        </tr>\n",
       "        <tr>\n",
       "            <td>5888176</td> <td>0               </td> <td>2              </td> <td>no           </td> <td>no            </td> <td>0         </td> <td>1        </td> <td>no                 </td> <td>2                 </td> <td>1.56               </td> <td>yes                 </td> <td>0                  </td> <td>0                   </td> <td>1              </td> <td>1             </td>\n",
       "        </tr>\n",
       "        <tr>\n",
       "            <td>5888177</td> <td>0               </td> <td>6              </td> <td>no           </td> <td>no            </td> <td>0         </td> <td>1        </td> <td>no                 </td> <td>6                 </td> <td>4.83               </td> <td>yes                 </td> <td>0                  </td> <td>0                   </td> <td>1              </td> <td>1             </td>\n",
       "        </tr>\n",
       "        <tr>\n",
       "            <td>5888178</td> <td>0               </td> <td>3              </td> <td>no           </td> <td>no            </td> <td>0         </td> <td>1        </td> <td>no                 </td> <td>3                 </td> <td>2.34               </td> <td>yes                 </td> <td>0                  </td> <td>0                   </td> <td>1              </td> <td>1             </td>\n",
       "        </tr>\n",
       "        <tr>\n",
       "            <td>5888180</td> <td>0               </td> <td>0              </td> <td>no           </td> <td>nan           </td> <td>nan       </td> <td>nan      </td> <td>yes                </td> <td>0                 </td> <td>0                  </td> <td>no                  </td> <td>0                  </td> <td>0                   </td> <td>1              </td> <td>nan           </td>\n",
       "        </tr>\n",
       "        <tr>\n",
       "            <td>5888181</td> <td>0               </td> <td>2              </td> <td>no           </td> <td>no            </td> <td>0         </td> <td>1        </td> <td>no                 </td> <td>2                 </td> <td>1.64               </td> <td>yes                 </td> <td>0                  </td> <td>0                   </td> <td>1              </td> <td>1             </td>\n",
       "        </tr>\n",
       "        <tr>\n",
       "            <td>5888182</td> <td>0               </td> <td>6              </td> <td>no           </td> <td>no            </td> <td>0         </td> <td>1        </td> <td>no                 </td> <td>6                 </td> <td>4.84               </td> <td>yes                 </td> <td>0                  </td> <td>0                   </td> <td>1              </td> <td>1             </td>\n",
       "        </tr>\n",
       "        <tr>\n",
       "            <td>5888184</td> <td>0               </td> <td>6              </td> <td>no           </td> <td>no            </td> <td>0         </td> <td>1        </td> <td>no                 </td> <td>6                 </td> <td>4.88               </td> <td>yes                 </td> <td>0                  </td> <td>0                   </td> <td>1              </td> <td>1             </td>\n",
       "        </tr>\n",
       "        <tr>\n",
       "            <td>5888185</td> <td>0               </td> <td>4              </td> <td>no           </td> <td>no            </td> <td>0         </td> <td>1        </td> <td>no                 </td> <td>4                 </td> <td>3.29               </td> <td>yes                 </td> <td>0                  </td> <td>0                   </td> <td>1              </td> <td>1             </td>\n",
       "        </tr>\n",
       "        <tr>\n",
       "            <td>5888186</td> <td>0               </td> <td>6              </td> <td>no           </td> <td>no            </td> <td>0         </td> <td>1        </td> <td>no                 </td> <td>6                 </td> <td>4.8                </td> <td>yes                 </td> <td>0                  </td> <td>0                   </td> <td>1              </td> <td>1             </td>\n",
       "        </tr>\n",
       "        <tr>\n",
       "            <td>5888187</td> <td>1               </td> <td>4              </td> <td>no           </td> <td>no            </td> <td>0         </td> <td>1        </td> <td>no                 </td> <td>4                 </td> <td>3.44               </td> <td>yes                 </td> <td>0                  </td> <td>0                   </td> <td>0.875          </td> <td>1             </td>\n",
       "        </tr>\n",
       "        <tr>\n",
       "            <td>5888188</td> <td>0               </td> <td>4              </td> <td>no           </td> <td>no            </td> <td>0         </td> <td>1        </td> <td>no                 </td> <td>4                 </td> <td>3.14               </td> <td>yes                 </td> <td>0                  </td> <td>0                   </td> <td>1              </td> <td>1             </td>\n",
       "        </tr>\n",
       "        <tr>\n",
       "            <td>5888189</td> <td>0               </td> <td>2              </td> <td>no           </td> <td>no            </td> <td>0         </td> <td>1        </td> <td>no                 </td> <td>2                 </td> <td>1.58               </td> <td>yes                 </td> <td>0                  </td> <td>0                   </td> <td>1              </td> <td>1             </td>\n",
       "        </tr>\n",
       "        <tr>\n",
       "            <td>5888190</td> <td>0               </td> <td>4              </td> <td>no           </td> <td>no            </td> <td>0         </td> <td>1        </td> <td>no                 </td> <td>4                 </td> <td>3.28               </td> <td>yes                 </td> <td>0                  </td> <td>0                   </td> <td>1              </td> <td>1             </td>\n",
       "        </tr>\n",
       "        <tr>\n",
       "            <td>5888191</td> <td>0               </td> <td>6              </td> <td>no           </td> <td>no            </td> <td>0         </td> <td>1        </td> <td>no                 </td> <td>6                 </td> <td>4.8                </td> <td>yes                 </td> <td>0                  </td> <td>0                   </td> <td>1              </td> <td>1             </td>\n",
       "        </tr>\n",
       "    </tbody>\n",
       "</table>\n",
       "<p>... (23900 rows omitted)</p>"
      ],
      "text/plain": [
       "<IPython.core.display.HTML object>"
      ]
     },
     "metadata": {},
     "output_type": "display_data"
    }
   ],
   "source": [
    "correct_label_exists.show(100)"
   ]
  },
  {
   "cell_type": "markdown",
   "id": "5161e627",
   "metadata": {},
   "source": [
    "To clean this up, we will reduce the table to include only cases where qualified reads are a positive number:"
   ]
  },
  {
   "cell_type": "code",
   "execution_count": 27,
   "id": "66b59e04",
   "metadata": {},
   "outputs": [
    {
     "data": {
      "text/html": [
       "<table border=\"1\" class=\"dataframe\">\n",
       "    <thead>\n",
       "        <tr>\n",
       "            <th>Case ID</th> <th>Expert Yes Votes</th> <th>Qualified Reads</th> <th>Correct Label</th> <th>Majority Label</th> <th>Difficulty</th> <th>Agreement</th> <th>First Choice Answer</th> <th>First Choice Votes</th> <th>First Choice Weight</th> <th>Second Choice Answer</th> <th>Second Choice Votes</th> <th>Second Choice Weight</th> <th>Expert Accuracy</th> <th>Crowd Accuracy</th>\n",
       "        </tr>\n",
       "    </thead>\n",
       "    <tbody>\n",
       "        <tr>\n",
       "            <td>5888087</td> <td>2               </td> <td>2              </td> <td>no           </td> <td>no            </td> <td>0         </td> <td>1        </td> <td>no                 </td> <td>2                 </td> <td>1.54               </td> <td>yes                 </td> <td>0                  </td> <td>0                   </td> <td>0.75           </td> <td>1             </td>\n",
       "        </tr>\n",
       "        <tr>\n",
       "            <td>5888088</td> <td>0               </td> <td>3              </td> <td>no           </td> <td>no            </td> <td>0         </td> <td>1        </td> <td>no                 </td> <td>3                 </td> <td>2.34               </td> <td>yes                 </td> <td>0                  </td> <td>0                   </td> <td>1              </td> <td>1             </td>\n",
       "        </tr>\n",
       "        <tr>\n",
       "            <td>5888089</td> <td>0               </td> <td>2              </td> <td>no           </td> <td>no            </td> <td>0         </td> <td>1        </td> <td>no                 </td> <td>2                 </td> <td>1.7                </td> <td>yes                 </td> <td>0                  </td> <td>0                   </td> <td>1              </td> <td>1             </td>\n",
       "        </tr>\n",
       "        <tr>\n",
       "            <td>5888090</td> <td>0               </td> <td>1              </td> <td>no           </td> <td>no            </td> <td>0         </td> <td>1        </td> <td>no                 </td> <td>1                 </td> <td>0.82               </td> <td>yes                 </td> <td>0                  </td> <td>0                   </td> <td>1              </td> <td>1             </td>\n",
       "        </tr>\n",
       "        <tr>\n",
       "            <td>5888092</td> <td>0               </td> <td>4              </td> <td>no           </td> <td>no            </td> <td>0         </td> <td>1        </td> <td>no                 </td> <td>4                 </td> <td>3.3                </td> <td>yes                 </td> <td>0                  </td> <td>0                   </td> <td>1              </td> <td>1             </td>\n",
       "        </tr>\n",
       "        <tr>\n",
       "            <td>5888093</td> <td>0               </td> <td>6              </td> <td>no           </td> <td>no            </td> <td>0         </td> <td>1        </td> <td>no                 </td> <td>6                 </td> <td>4.94               </td> <td>yes                 </td> <td>0                  </td> <td>0                   </td> <td>1              </td> <td>1             </td>\n",
       "        </tr>\n",
       "        <tr>\n",
       "            <td>5888094</td> <td>0               </td> <td>2              </td> <td>no           </td> <td>no            </td> <td>0         </td> <td>1        </td> <td>no                 </td> <td>2                 </td> <td>1.56               </td> <td>yes                 </td> <td>0                  </td> <td>0                   </td> <td>1              </td> <td>1             </td>\n",
       "        </tr>\n",
       "        <tr>\n",
       "            <td>5888095</td> <td>0               </td> <td>4              </td> <td>no           </td> <td>no            </td> <td>0         </td> <td>1        </td> <td>no                 </td> <td>4                 </td> <td>3.34               </td> <td>yes                 </td> <td>0                  </td> <td>0                   </td> <td>1              </td> <td>1             </td>\n",
       "        </tr>\n",
       "        <tr>\n",
       "            <td>5888096</td> <td>0               </td> <td>3              </td> <td>no           </td> <td>no            </td> <td>0         </td> <td>1        </td> <td>no                 </td> <td>3                 </td> <td>2.56               </td> <td>yes                 </td> <td>0                  </td> <td>0                   </td> <td>1              </td> <td>1             </td>\n",
       "        </tr>\n",
       "        <tr>\n",
       "            <td>5888097</td> <td>0               </td> <td>4              </td> <td>no           </td> <td>no            </td> <td>0         </td> <td>1        </td> <td>no                 </td> <td>4                 </td> <td>3.16               </td> <td>yes                 </td> <td>0                  </td> <td>0                   </td> <td>1              </td> <td>1             </td>\n",
       "        </tr>\n",
       "    </tbody>\n",
       "</table>\n",
       "<p>... (23748 rows omitted)</p>"
      ],
      "text/plain": [
       "Case ID | Expert Yes Votes | Qualified Reads | Correct Label | Majority Label | Difficulty | Agreement | First Choice Answer | First Choice Votes | First Choice Weight | Second Choice Answer | Second Choice Votes | Second Choice Weight | Expert Accuracy | Crowd Accuracy\n",
       "5888087 | 2                | 2               | no            | no             | 0          | 1         | no                  | 2                  | 1.54                | yes                  | 0                   | 0                    | 0.75            | 1\n",
       "5888088 | 0                | 3               | no            | no             | 0          | 1         | no                  | 3                  | 2.34                | yes                  | 0                   | 0                    | 1               | 1\n",
       "5888089 | 0                | 2               | no            | no             | 0          | 1         | no                  | 2                  | 1.7                 | yes                  | 0                   | 0                    | 1               | 1\n",
       "5888090 | 0                | 1               | no            | no             | 0          | 1         | no                  | 1                  | 0.82                | yes                  | 0                   | 0                    | 1               | 1\n",
       "5888092 | 0                | 4               | no            | no             | 0          | 1         | no                  | 4                  | 3.3                 | yes                  | 0                   | 0                    | 1               | 1\n",
       "5888093 | 0                | 6               | no            | no             | 0          | 1         | no                  | 6                  | 4.94                | yes                  | 0                   | 0                    | 1               | 1\n",
       "5888094 | 0                | 2               | no            | no             | 0          | 1         | no                  | 2                  | 1.56                | yes                  | 0                   | 0                    | 1               | 1\n",
       "5888095 | 0                | 4               | no            | no             | 0          | 1         | no                  | 4                  | 3.34                | yes                  | 0                   | 0                    | 1               | 1\n",
       "5888096 | 0                | 3               | no            | no             | 0          | 1         | no                  | 3                  | 2.56                | yes                  | 0                   | 0                    | 1               | 1\n",
       "5888097 | 0                | 4               | no            | no             | 0          | 1         | no                  | 4                  | 3.16                | yes                  | 0                   | 0                    | 1               | 1\n",
       "... (23748 rows omitted)"
      ]
     },
     "execution_count": 27,
     "metadata": {},
     "output_type": "execute_result"
    }
   ],
   "source": [
    "correct_label_and_qualified_reads = correct_label_exists.where('Qualified Reads', are.above(0))\n",
    "correct_label_and_qualified_reads"
   ]
  },
  {
   "cell_type": "code",
   "execution_count": 28,
   "id": "0a48e8ef",
   "metadata": {},
   "outputs": [
    {
     "data": {
      "text/plain": [
       "{0.0,\n",
       " 0.09099999999999997,\n",
       " 0.099999999999999978,\n",
       " 0.11099999999999999,\n",
       " 0.125,\n",
       " 0.14300000000000002,\n",
       " 0.16700000000000004,\n",
       " 0.18200000000000005,\n",
       " 0.19999999999999996,\n",
       " 0.22199999999999998,\n",
       " 0.25,\n",
       " 0.27300000000000002,\n",
       " 0.28600000000000003,\n",
       " 0.30000000000000004,\n",
       " 0.33299999999999996,\n",
       " 0.36399999999999999,\n",
       " 0.375,\n",
       " 0.40000000000000002,\n",
       " 0.41700000000000004,\n",
       " 0.42900000000000005,\n",
       " 0.44399999999999995,\n",
       " 0.45499999999999996,\n",
       " 0.5,\n",
       " 0.54499999999999993,\n",
       " 0.55600000000000005,\n",
       " 0.57099999999999995,\n",
       " 0.58299999999999996,\n",
       " 0.59999999999999998,\n",
       " 0.625,\n",
       " 0.63600000000000001,\n",
       " 0.64300000000000002,\n",
       " 0.66700000000000004,\n",
       " 0.69199999999999995,\n",
       " 0.69999999999999996,\n",
       " 0.71399999999999997,\n",
       " 0.72699999999999998,\n",
       " 0.75,\n",
       " 0.76900000000000002,\n",
       " 0.77800000000000002,\n",
       " 0.80000000000000004,\n",
       " 0.81800000000000006,\n",
       " 0.83299999999999996,\n",
       " 0.84599999999999997,\n",
       " 0.85699999999999998,\n",
       " 0.875,\n",
       " 0.88900000000000001,\n",
       " 0.90000000000000002,\n",
       " 0.90900000000000003,\n",
       " 0.91700000000000004,\n",
       " 0.92300000000000004,\n",
       " 0.92900000000000005,\n",
       " 0.93799999999999994,\n",
       " 1.0}"
      ]
     },
     "execution_count": 28,
     "metadata": {},
     "output_type": "execute_result"
    }
   ],
   "source": [
    "set(correct_label_and_qualified_reads.column('Crowd Accuracy'))"
   ]
  },
  {
   "cell_type": "markdown",
   "id": "7d5140e1",
   "metadata": {},
   "source": [
    "<h2>Calculating a Comparison Score for Expert Accuracy vs Crowd Accuracy</h2>\n",
    "\n",
    "The comparison score will be calculated by subtracting crowd accuracy rate from expert accuracy rate."
   ]
  },
  {
   "cell_type": "code",
   "execution_count": 29,
   "id": "bb62ea06",
   "metadata": {},
   "outputs": [
    {
     "data": {
      "text/plain": [
       "array([-0.25, 0.0, 0.0, ..., 0.75, 0.29200000000000004,\n",
       "       -0.17500000000000004], dtype=object)"
      ]
     },
     "execution_count": 29,
     "metadata": {},
     "output_type": "execute_result"
    }
   ],
   "source": [
    "comparison = correct_label_and_qualified_reads.column('Expert Accuracy') - correct_label_and_qualified_reads.column('Crowd Accuracy')\n",
    "comparison"
   ]
  },
  {
   "cell_type": "code",
   "execution_count": 30,
   "id": "d50fd0f3",
   "metadata": {},
   "outputs": [
    {
     "data": {
      "text/html": [
       "<table border=\"1\" class=\"dataframe\">\n",
       "    <thead>\n",
       "        <tr>\n",
       "            <th>Case ID</th> <th>Expert Yes Votes</th> <th>Qualified Reads</th> <th>Correct Label</th> <th>Majority Label</th> <th>Difficulty</th> <th>Agreement</th> <th>First Choice Answer</th> <th>First Choice Votes</th> <th>First Choice Weight</th> <th>Second Choice Answer</th> <th>Second Choice Votes</th> <th>Second Choice Weight</th> <th>Expert Accuracy</th> <th>Crowd Accuracy</th> <th>Comparison</th>\n",
       "        </tr>\n",
       "    </thead>\n",
       "    <tbody>\n",
       "        <tr>\n",
       "            <td>5888087</td> <td>2               </td> <td>2              </td> <td>no           </td> <td>no            </td> <td>0         </td> <td>1        </td> <td>no                 </td> <td>2                 </td> <td>1.54               </td> <td>yes                 </td> <td>0                  </td> <td>0                   </td> <td>0.75           </td> <td>1             </td> <td>-0.25     </td>\n",
       "        </tr>\n",
       "        <tr>\n",
       "            <td>5888088</td> <td>0               </td> <td>3              </td> <td>no           </td> <td>no            </td> <td>0         </td> <td>1        </td> <td>no                 </td> <td>3                 </td> <td>2.34               </td> <td>yes                 </td> <td>0                  </td> <td>0                   </td> <td>1              </td> <td>1             </td> <td>0         </td>\n",
       "        </tr>\n",
       "        <tr>\n",
       "            <td>5888089</td> <td>0               </td> <td>2              </td> <td>no           </td> <td>no            </td> <td>0         </td> <td>1        </td> <td>no                 </td> <td>2                 </td> <td>1.7                </td> <td>yes                 </td> <td>0                  </td> <td>0                   </td> <td>1              </td> <td>1             </td> <td>0         </td>\n",
       "        </tr>\n",
       "        <tr>\n",
       "            <td>5888090</td> <td>0               </td> <td>1              </td> <td>no           </td> <td>no            </td> <td>0         </td> <td>1        </td> <td>no                 </td> <td>1                 </td> <td>0.82               </td> <td>yes                 </td> <td>0                  </td> <td>0                   </td> <td>1              </td> <td>1             </td> <td>0         </td>\n",
       "        </tr>\n",
       "        <tr>\n",
       "            <td>5888092</td> <td>0               </td> <td>4              </td> <td>no           </td> <td>no            </td> <td>0         </td> <td>1        </td> <td>no                 </td> <td>4                 </td> <td>3.3                </td> <td>yes                 </td> <td>0                  </td> <td>0                   </td> <td>1              </td> <td>1             </td> <td>0         </td>\n",
       "        </tr>\n",
       "        <tr>\n",
       "            <td>5888093</td> <td>0               </td> <td>6              </td> <td>no           </td> <td>no            </td> <td>0         </td> <td>1        </td> <td>no                 </td> <td>6                 </td> <td>4.94               </td> <td>yes                 </td> <td>0                  </td> <td>0                   </td> <td>1              </td> <td>1             </td> <td>0         </td>\n",
       "        </tr>\n",
       "        <tr>\n",
       "            <td>5888094</td> <td>0               </td> <td>2              </td> <td>no           </td> <td>no            </td> <td>0         </td> <td>1        </td> <td>no                 </td> <td>2                 </td> <td>1.56               </td> <td>yes                 </td> <td>0                  </td> <td>0                   </td> <td>1              </td> <td>1             </td> <td>0         </td>\n",
       "        </tr>\n",
       "        <tr>\n",
       "            <td>5888095</td> <td>0               </td> <td>4              </td> <td>no           </td> <td>no            </td> <td>0         </td> <td>1        </td> <td>no                 </td> <td>4                 </td> <td>3.34               </td> <td>yes                 </td> <td>0                  </td> <td>0                   </td> <td>1              </td> <td>1             </td> <td>0         </td>\n",
       "        </tr>\n",
       "        <tr>\n",
       "            <td>5888096</td> <td>0               </td> <td>3              </td> <td>no           </td> <td>no            </td> <td>0         </td> <td>1        </td> <td>no                 </td> <td>3                 </td> <td>2.56               </td> <td>yes                 </td> <td>0                  </td> <td>0                   </td> <td>1              </td> <td>1             </td> <td>0         </td>\n",
       "        </tr>\n",
       "        <tr>\n",
       "            <td>5888097</td> <td>0               </td> <td>4              </td> <td>no           </td> <td>no            </td> <td>0         </td> <td>1        </td> <td>no                 </td> <td>4                 </td> <td>3.16               </td> <td>yes                 </td> <td>0                  </td> <td>0                   </td> <td>1              </td> <td>1             </td> <td>0         </td>\n",
       "        </tr>\n",
       "    </tbody>\n",
       "</table>\n",
       "<p>... (23748 rows omitted)</p>"
      ],
      "text/plain": [
       "Case ID | Expert Yes Votes | Qualified Reads | Correct Label | Majority Label | Difficulty | Agreement | First Choice Answer | First Choice Votes | First Choice Weight | Second Choice Answer | Second Choice Votes | Second Choice Weight | Expert Accuracy | Crowd Accuracy | Comparison\n",
       "5888087 | 2                | 2               | no            | no             | 0          | 1         | no                  | 2                  | 1.54                | yes                  | 0                   | 0                    | 0.75            | 1              | -0.25\n",
       "5888088 | 0                | 3               | no            | no             | 0          | 1         | no                  | 3                  | 2.34                | yes                  | 0                   | 0                    | 1               | 1              | 0\n",
       "5888089 | 0                | 2               | no            | no             | 0          | 1         | no                  | 2                  | 1.7                 | yes                  | 0                   | 0                    | 1               | 1              | 0\n",
       "5888090 | 0                | 1               | no            | no             | 0          | 1         | no                  | 1                  | 0.82                | yes                  | 0                   | 0                    | 1               | 1              | 0\n",
       "5888092 | 0                | 4               | no            | no             | 0          | 1         | no                  | 4                  | 3.3                 | yes                  | 0                   | 0                    | 1               | 1              | 0\n",
       "5888093 | 0                | 6               | no            | no             | 0          | 1         | no                  | 6                  | 4.94                | yes                  | 0                   | 0                    | 1               | 1              | 0\n",
       "5888094 | 0                | 2               | no            | no             | 0          | 1         | no                  | 2                  | 1.56                | yes                  | 0                   | 0                    | 1               | 1              | 0\n",
       "5888095 | 0                | 4               | no            | no             | 0          | 1         | no                  | 4                  | 3.34                | yes                  | 0                   | 0                    | 1               | 1              | 0\n",
       "5888096 | 0                | 3               | no            | no             | 0          | 1         | no                  | 3                  | 2.56                | yes                  | 0                   | 0                    | 1               | 1              | 0\n",
       "5888097 | 0                | 4               | no            | no             | 0          | 1         | no                  | 4                  | 3.16                | yes                  | 0                   | 0                    | 1               | 1              | 0\n",
       "... (23748 rows omitted)"
      ]
     },
     "execution_count": 30,
     "metadata": {},
     "output_type": "execute_result"
    }
   ],
   "source": [
    "results_with_comparison = correct_label_and_qualified_reads.with_column('Comparison', comparison)\n",
    "results_with_comparison"
   ]
  },
  {
   "cell_type": "code",
   "execution_count": 31,
   "id": "835dc7d7",
   "metadata": {},
   "outputs": [
    {
     "data": {
      "text/html": [
       "<table border=\"1\" class=\"dataframe\">\n",
       "    <thead>\n",
       "        <tr>\n",
       "            <th>Expert Accuracy</th> <th>Crowd Accuracy</th> <th>Comparison</th>\n",
       "        </tr>\n",
       "    </thead>\n",
       "    <tbody>\n",
       "        <tr>\n",
       "            <td>0.75           </td> <td>1             </td> <td>-0.25     </td>\n",
       "        </tr>\n",
       "        <tr>\n",
       "            <td>1              </td> <td>1             </td> <td>0         </td>\n",
       "        </tr>\n",
       "        <tr>\n",
       "            <td>1              </td> <td>1             </td> <td>0         </td>\n",
       "        </tr>\n",
       "        <tr>\n",
       "            <td>1              </td> <td>1             </td> <td>0         </td>\n",
       "        </tr>\n",
       "        <tr>\n",
       "            <td>1              </td> <td>1             </td> <td>0         </td>\n",
       "        </tr>\n",
       "        <tr>\n",
       "            <td>1              </td> <td>1             </td> <td>0         </td>\n",
       "        </tr>\n",
       "        <tr>\n",
       "            <td>1              </td> <td>1             </td> <td>0         </td>\n",
       "        </tr>\n",
       "        <tr>\n",
       "            <td>1              </td> <td>1             </td> <td>0         </td>\n",
       "        </tr>\n",
       "        <tr>\n",
       "            <td>1              </td> <td>1             </td> <td>0         </td>\n",
       "        </tr>\n",
       "        <tr>\n",
       "            <td>1              </td> <td>1             </td> <td>0         </td>\n",
       "        </tr>\n",
       "    </tbody>\n",
       "</table>\n",
       "<p>... (23748 rows omitted)</p>"
      ],
      "text/plain": [
       "Expert Accuracy | Crowd Accuracy | Comparison\n",
       "0.75            | 1              | -0.25\n",
       "1               | 1              | 0\n",
       "1               | 1              | 0\n",
       "1               | 1              | 0\n",
       "1               | 1              | 0\n",
       "1               | 1              | 0\n",
       "1               | 1              | 0\n",
       "1               | 1              | 0\n",
       "1               | 1              | 0\n",
       "1               | 1              | 0\n",
       "... (23748 rows omitted)"
      ]
     },
     "execution_count": 31,
     "metadata": {},
     "output_type": "execute_result"
    }
   ],
   "source": [
    "comparison_tbl = results_with_comparison.select('Expert Accuracy', 'Crowd Accuracy', 'Comparison')\n",
    "comparison_tbl"
   ]
  },
  {
   "cell_type": "markdown",
   "id": "b17a0403",
   "metadata": {},
   "source": [
    "Checking that the numbers make sense. When the Comparison value is 0, that should mean that the expert accuracy and the crowd accuracy were the same. And below, we do see the same values existing in these cases for both accuracy ratings."
   ]
  },
  {
   "cell_type": "code",
   "execution_count": 32,
   "id": "922c3ffa",
   "metadata": {},
   "outputs": [],
   "source": [
    "t1 = comparison_tbl.where('Comparison', 0)"
   ]
  },
  {
   "cell_type": "code",
   "execution_count": 33,
   "id": "e6ae457e",
   "metadata": {},
   "outputs": [
    {
     "data": {
      "text/plain": [
       "{0.625, 0.75, 0.875, 1.0}"
      ]
     },
     "execution_count": 33,
     "metadata": {},
     "output_type": "execute_result"
    }
   ],
   "source": [
    "set(t1.column('Crowd Accuracy'))"
   ]
  },
  {
   "cell_type": "code",
   "execution_count": 34,
   "id": "11eb048e",
   "metadata": {},
   "outputs": [
    {
     "data": {
      "text/plain": [
       "{0.625, 0.75, 0.875, 1.0}"
      ]
     },
     "execution_count": 34,
     "metadata": {},
     "output_type": "execute_result"
    }
   ],
   "source": [
    "set(t1.column('Expert Accuracy'))"
   ]
  },
  {
   "cell_type": "markdown",
   "id": "c0d1777a",
   "metadata": {},
   "source": [
    "<h2>Comparing Accuracy Ratings</h2>\n",
    "\n",
    "Interpretation of the comparison number:\n",
    "\n",
    "- 0 means the expert accuracy and the crowd accuracy were the same.\n",
    "- Positive numbers mean expert accuracy rate was higher than crowd.\n",
    "- Negative numbers mean crowd accuracy rate was higher than experts."
   ]
  },
  {
   "cell_type": "code",
   "execution_count": 35,
   "id": "30f0742e",
   "metadata": {},
   "outputs": [
    {
     "data": {
      "image/png": "[encoded data removed]",
      "text/plain": [
       "<Figure size 432x288 with 1 Axes>"
      ]
     },
     "metadata": {},
     "output_type": "display_data"
    }
   ],
   "source": [
    "comparison_tbl.hist('Comparison', bins=np.arange(-0.45, 0.46, 0.1))"
   ]
  },
  {
   "cell_type": "code",
   "execution_count": 36,
   "id": "5350b5c9",
   "metadata": {},
   "outputs": [
    {
     "data": {
      "text/plain": [
       "0.19563936358279316"
      ]
     },
     "execution_count": 36,
     "metadata": {},
     "output_type": "execute_result"
    }
   ],
   "source": [
    "same_accuracy_rate = (len(comparison) - np.count_nonzero(comparison)) / len(comparison)\n",
    "same_accuracy_rate"
   ]
  },
  {
   "cell_type": "code",
   "execution_count": 37,
   "id": "bdff00c0",
   "metadata": {},
   "outputs": [
    {
     "data": {
      "text/plain": [
       "0.37448438420742486"
      ]
     },
     "execution_count": 37,
     "metadata": {},
     "output_type": "execute_result"
    }
   ],
   "source": [
    "experts_higher_rate = np.count_nonzero(comparison > 0) / len(comparison)\n",
    "experts_higher_rate"
   ]
  },
  {
   "cell_type": "code",
   "execution_count": 38,
   "id": "d16d8707",
   "metadata": {},
   "outputs": [
    {
     "data": {
      "text/plain": [
       "0.429876252209782"
      ]
     },
     "execution_count": 38,
     "metadata": {},
     "output_type": "execute_result"
    }
   ],
   "source": [
    "crowd_higher_rate = np.count_nonzero(comparison < 0) / len(comparison)\n",
    "crowd_higher_rate"
   ]
  },
  {
   "cell_type": "code",
   "execution_count": 39,
   "id": "72db1eaf",
   "metadata": {},
   "outputs": [
    {
     "data": {
      "text/plain": [
       "1.0"
      ]
     },
     "execution_count": 39,
     "metadata": {},
     "output_type": "execute_result"
    }
   ],
   "source": [
    "same_accuracy_rate + experts_higher_rate + crowd_higher_rate"
   ]
  },
  {
   "cell_type": "markdown",
   "id": "a0c489f4",
   "metadata": {},
   "source": [
    "Numbers of interest that arise out of this comparison:\n",
    "    \n",
    "<strong>Equal accuracy rate:</strong> 19.6% of the time both the crowd and the experts had the same accuracy rate.\n",
    "\n",
    "<strong>Expert accuracy rate higher:</strong> 37.4% of cases have the expert accuracy rate higher than the crowd's.\n",
    "\n",
    "<strong>Crowd accuracy rate higher:</strong> 43.0% of cases have the crowd with the higher accuracy rate over the experts.\n",
    "\n",
    "In these numbers overall, the crowd accuracy rate is <i>at least as good as</i> the expert accuracy rate 62.6% of the time."
   ]
  },
  {
   "cell_type": "markdown",
   "id": "6f0c8d16",
   "metadata": {},
   "source": [
    "<h2>Comparing Cases In More Detail</h2>"
   ]
  },
  {
   "cell_type": "markdown",
   "id": "c36ff696",
   "metadata": {},
   "source": [
    "<h3>Expert Vote Unanimous</h3>\n",
    "\n",
    "How does the comparison look specifically on cases where the experts were unanimous?"
   ]
  },
  {
   "cell_type": "code",
   "execution_count": 40,
   "id": "d1199d50",
   "metadata": {},
   "outputs": [
    {
     "data": {
      "text/html": [
       "<table border=\"1\" class=\"dataframe\">\n",
       "    <thead>\n",
       "        <tr>\n",
       "            <th>Expert Accuracy</th> <th>Crowd Accuracy</th> <th>Comparison</th>\n",
       "        </tr>\n",
       "    </thead>\n",
       "    <tbody>\n",
       "        <tr>\n",
       "            <td>1              </td> <td>1             </td> <td>0         </td>\n",
       "        </tr>\n",
       "        <tr>\n",
       "            <td>1              </td> <td>1             </td> <td>0         </td>\n",
       "        </tr>\n",
       "        <tr>\n",
       "            <td>1              </td> <td>1             </td> <td>0         </td>\n",
       "        </tr>\n",
       "        <tr>\n",
       "            <td>1              </td> <td>1             </td> <td>0         </td>\n",
       "        </tr>\n",
       "        <tr>\n",
       "            <td>1              </td> <td>1             </td> <td>0         </td>\n",
       "        </tr>\n",
       "        <tr>\n",
       "            <td>1              </td> <td>1             </td> <td>0         </td>\n",
       "        </tr>\n",
       "        <tr>\n",
       "            <td>1              </td> <td>1             </td> <td>0         </td>\n",
       "        </tr>\n",
       "        <tr>\n",
       "            <td>1              </td> <td>1             </td> <td>0         </td>\n",
       "        </tr>\n",
       "        <tr>\n",
       "            <td>1              </td> <td>1             </td> <td>0         </td>\n",
       "        </tr>\n",
       "        <tr>\n",
       "            <td>1              </td> <td>1             </td> <td>0         </td>\n",
       "        </tr>\n",
       "    </tbody>\n",
       "</table>\n",
       "<p>... (5939 rows omitted)</p>"
      ],
      "text/plain": [
       "Expert Accuracy | Crowd Accuracy | Comparison\n",
       "1               | 1              | 0\n",
       "1               | 1              | 0\n",
       "1               | 1              | 0\n",
       "1               | 1              | 0\n",
       "1               | 1              | 0\n",
       "1               | 1              | 0\n",
       "1               | 1              | 0\n",
       "1               | 1              | 0\n",
       "1               | 1              | 0\n",
       "1               | 1              | 0\n",
       "... (5939 rows omitted)"
      ]
     },
     "execution_count": 40,
     "metadata": {},
     "output_type": "execute_result"
    }
   ],
   "source": [
    "experts_unanimous = comparison_tbl.where('Expert Accuracy', 1)\n",
    "experts_unanimous"
   ]
  },
  {
   "cell_type": "code",
   "execution_count": 41,
   "id": "724ed8a3",
   "metadata": {},
   "outputs": [
    {
     "data": {
      "image/png": "[encoded data removed]",
      "text/plain": [
       "<Figure size 432x288 with 1 Axes>"
      ]
     },
     "metadata": {},
     "output_type": "display_data"
    }
   ],
   "source": [
    "experts_unanimous.hist('Comparison', bins=np.arange(-0.45, 0.46, 0.1))"
   ]
  },
  {
   "cell_type": "code",
   "execution_count": 42,
   "id": "4a498b70",
   "metadata": {},
   "outputs": [
    {
     "data": {
      "text/plain": [
       "5949"
      ]
     },
     "execution_count": 42,
     "metadata": {},
     "output_type": "execute_result"
    }
   ],
   "source": [
    "experts_unanimous.num_rows"
   ]
  },
  {
   "cell_type": "code",
   "execution_count": 43,
   "id": "4b8e16f6",
   "metadata": {},
   "outputs": [
    {
     "data": {
      "text/plain": [
       "1638"
      ]
     },
     "execution_count": 43,
     "metadata": {},
     "output_type": "execute_result"
    }
   ],
   "source": [
    "np.count_nonzero(experts_unanimous.column('Comparison'))"
   ]
  },
  {
   "cell_type": "code",
   "execution_count": 44,
   "id": "e3d2e945",
   "metadata": {},
   "outputs": [
    {
     "data": {
      "text/plain": [
       "0.2753403933434191"
      ]
     },
     "execution_count": 44,
     "metadata": {},
     "output_type": "execute_result"
    }
   ],
   "source": [
    "1638/5949"
   ]
  },
  {
   "cell_type": "markdown",
   "id": "67f810a1",
   "metadata": {},
   "source": [
    "In cases where the experts were unanimous with their labeling, by definition their accuracy is 100%. We can look at the comparison score to get a sense of how closely the crowd labeling followed along. \n",
    "\n",
    "27.5% of the time in this case, the expert accuracy was higher than that of the crowd, meaning the crowd chose incorrectly. Equivalently, the crowd did choose the correct label 72.5% of the time."
   ]
  },
  {
   "cell_type": "markdown",
   "id": "dd5c6cd0",
   "metadata": {},
   "source": [
    "<h3>Slim Majority in Expert Votes</h3>\n",
    "\n",
    "What about more difficult cases where the experts were as close as possible to a tie? In terms of our expert accuracy rate, this kind of case has the value 5/8."
   ]
  },
  {
   "cell_type": "code",
   "execution_count": 45,
   "id": "3cbe45c9",
   "metadata": {},
   "outputs": [
    {
     "data": {
      "text/html": [
       "<table border=\"1\" class=\"dataframe\">\n",
       "    <thead>\n",
       "        <tr>\n",
       "            <th>Expert Accuracy</th> <th>Crowd Accuracy</th> <th>Comparison</th>\n",
       "        </tr>\n",
       "    </thead>\n",
       "    <tbody>\n",
       "        <tr>\n",
       "            <td>0.625          </td> <td>1             </td> <td>-0.375    </td>\n",
       "        </tr>\n",
       "        <tr>\n",
       "            <td>0.625          </td> <td>0.857         </td> <td>-0.232    </td>\n",
       "        </tr>\n",
       "        <tr>\n",
       "            <td>0.625          </td> <td>0.25          </td> <td>0.375     </td>\n",
       "        </tr>\n",
       "        <tr>\n",
       "            <td>0.625          </td> <td>0             </td> <td>0.625     </td>\n",
       "        </tr>\n",
       "        <tr>\n",
       "            <td>0.625          </td> <td>0.857         </td> <td>-0.232    </td>\n",
       "        </tr>\n",
       "        <tr>\n",
       "            <td>0.625          </td> <td>0.4           </td> <td>0.225     </td>\n",
       "        </tr>\n",
       "        <tr>\n",
       "            <td>0.625          </td> <td>1             </td> <td>-0.375    </td>\n",
       "        </tr>\n",
       "        <tr>\n",
       "            <td>0.625          </td> <td>0             </td> <td>0.625     </td>\n",
       "        </tr>\n",
       "        <tr>\n",
       "            <td>0.625          </td> <td>0             </td> <td>0.625     </td>\n",
       "        </tr>\n",
       "        <tr>\n",
       "            <td>0.625          </td> <td>0.8           </td> <td>-0.175    </td>\n",
       "        </tr>\n",
       "    </tbody>\n",
       "</table>\n",
       "<p>... (5924 rows omitted)</p>"
      ],
      "text/plain": [
       "Expert Accuracy | Crowd Accuracy | Comparison\n",
       "0.625           | 1              | -0.375\n",
       "0.625           | 0.857          | -0.232\n",
       "0.625           | 0.25           | 0.375\n",
       "0.625           | 0              | 0.625\n",
       "0.625           | 0.857          | -0.232\n",
       "0.625           | 0.4            | 0.225\n",
       "0.625           | 1              | -0.375\n",
       "0.625           | 0              | 0.625\n",
       "0.625           | 0              | 0.625\n",
       "0.625           | 0.8            | -0.175\n",
       "... (5924 rows omitted)"
      ]
     },
     "execution_count": 45,
     "metadata": {},
     "output_type": "execute_result"
    }
   ],
   "source": [
    "experts_5_votes = comparison_tbl.where('Expert Accuracy', 5/8)\n",
    "experts_5_votes"
   ]
  },
  {
   "cell_type": "code",
   "execution_count": 46,
   "id": "1f983ffa",
   "metadata": {},
   "outputs": [
    {
     "data": {
      "image/png": "[encoded data removed]",
      "text/plain": [
       "<Figure size 432x288 with 1 Axes>"
      ]
     },
     "metadata": {},
     "output_type": "display_data"
    }
   ],
   "source": [
    "experts_5_votes.hist('Comparison', bins=np.arange(-0.45, 0.46, 0.1))"
   ]
  },
  {
   "cell_type": "code",
   "execution_count": 47,
   "id": "10636466",
   "metadata": {},
   "outputs": [
    {
     "data": {
      "text/plain": [
       "5934"
      ]
     },
     "execution_count": 47,
     "metadata": {},
     "output_type": "execute_result"
    }
   ],
   "source": [
    "experts_5_votes.num_rows"
   ]
  },
  {
   "cell_type": "code",
   "execution_count": 48,
   "id": "89836ccd",
   "metadata": {},
   "outputs": [
    {
     "data": {
      "text/plain": [
       "3402"
      ]
     },
     "execution_count": 48,
     "metadata": {},
     "output_type": "execute_result"
    }
   ],
   "source": [
    "np.count_nonzero(experts_5_votes.column('Comparison') < 0)"
   ]
  },
  {
   "cell_type": "code",
   "execution_count": 49,
   "id": "ed3057f8",
   "metadata": {},
   "outputs": [
    {
     "data": {
      "text/plain": [
       "0.5733063700707786"
      ]
     },
     "execution_count": 49,
     "metadata": {},
     "output_type": "execute_result"
    }
   ],
   "source": [
    "3402/5934"
   ]
  },
  {
   "cell_type": "markdown",
   "id": "b96e9870",
   "metadata": {},
   "source": [
    "In these slim expert majority cases, the crowd actually outperformed. 57.3% of the time, the crowd accuracy rating was higher than the expert accuracy rating."
   ]
  },
  {
   "cell_type": "markdown",
   "id": "ded52bb1",
   "metadata": {},
   "source": [
    "<h2>Expert Vote Tied, Correct Label Undefined</h2>\n",
    "\n",
    "By the way we've defined a correct label, we simply don't have one in the difficult cases where the expert vote came out tied. But it's still interesting to consider the question of how the crowd votes tended to turn out in these cases. Were they also split? Or, was there a notably higher amount of agreement among the crowd votes?"
   ]
  },
  {
   "cell_type": "code",
   "execution_count": 50,
   "id": "21f4dacd",
   "metadata": {},
   "outputs": [
    {
     "data": {
      "text/html": [
       "<table border=\"1\" class=\"dataframe\">\n",
       "    <thead>\n",
       "        <tr>\n",
       "            <th>Case ID</th> <th>Expert Yes Votes</th> <th>Qualified Reads</th> <th>Correct Label</th> <th>Majority Label</th> <th>Difficulty</th> <th>Agreement</th> <th>First Choice Answer</th> <th>First Choice Votes</th> <th>First Choice Weight</th> <th>Second Choice Answer</th> <th>Second Choice Votes</th> <th>Second Choice Weight</th>\n",
       "        </tr>\n",
       "    </thead>\n",
       "    <tbody>\n",
       "        <tr>\n",
       "            <td>5888091</td> <td>4               </td> <td>7              </td> <td>nan          </td> <td>yes           </td> <td>nan       </td> <td>0.571    </td> <td>yes                </td> <td>4                 </td> <td>3.28               </td> <td>no                  </td> <td>3                  </td> <td>2.32                </td>\n",
       "        </tr>\n",
       "        <tr>\n",
       "            <td>5888782</td> <td>4               </td> <td>5              </td> <td>nan          </td> <td>no            </td> <td>nan       </td> <td>1        </td> <td>no                 </td> <td>5                 </td> <td>3.94               </td> <td>yes                 </td> <td>0                  </td> <td>0                   </td>\n",
       "        </tr>\n",
       "        <tr>\n",
       "            <td>5891822</td> <td>4               </td> <td>5              </td> <td>nan          </td> <td>yes           </td> <td>nan       </td> <td>0.8      </td> <td>yes                </td> <td>4                 </td> <td>3.1                </td> <td>no                  </td> <td>1                  </td> <td>0.76                </td>\n",
       "        </tr>\n",
       "        <tr>\n",
       "            <td>5891960</td> <td>4               </td> <td>7              </td> <td>nan          </td> <td>no            </td> <td>nan       </td> <td>1        </td> <td>no                 </td> <td>7                 </td> <td>5.53               </td> <td>yes                 </td> <td>0                  </td> <td>0                   </td>\n",
       "        </tr>\n",
       "        <tr>\n",
       "            <td>5891979</td> <td>4               </td> <td>8              </td> <td>nan          </td> <td>no            </td> <td>nan       </td> <td>0.625    </td> <td>no                 </td> <td>5                 </td> <td>3.92               </td> <td>yes                 </td> <td>3                  </td> <td>2.38                </td>\n",
       "        </tr>\n",
       "        <tr>\n",
       "            <td>5892075</td> <td>4               </td> <td>8              </td> <td>nan          </td> <td>yes           </td> <td>nan       </td> <td>0.625    </td> <td>yes                </td> <td>5                 </td> <td>3.88               </td> <td>no                  </td> <td>3                  </td> <td>2.32                </td>\n",
       "        </tr>\n",
       "        <tr>\n",
       "            <td>5892087</td> <td>4               </td> <td>2              </td> <td>nan          </td> <td>yes           </td> <td>nan       </td> <td>0.5      </td> <td>yes                </td> <td>1                 </td> <td>0.84               </td> <td>no                  </td> <td>1                  </td> <td>0.88                </td>\n",
       "        </tr>\n",
       "        <tr>\n",
       "            <td>5892132</td> <td>4               </td> <td>11             </td> <td>nan          </td> <td>yes           </td> <td>nan       </td> <td>0.545    </td> <td>yes                </td> <td>6                 </td> <td>4.7                </td> <td>no                  </td> <td>5                  </td> <td>3.84                </td>\n",
       "        </tr>\n",
       "        <tr>\n",
       "            <td>5892139</td> <td>4               </td> <td>10             </td> <td>nan          </td> <td>yes           </td> <td>nan       </td> <td>0.7      </td> <td>yes                </td> <td>7                 </td> <td>5.64               </td> <td>no                  </td> <td>3                  </td> <td>2.38                </td>\n",
       "        </tr>\n",
       "        <tr>\n",
       "            <td>5892162</td> <td>4               </td> <td>8              </td> <td>nan          </td> <td>yes           </td> <td>nan       </td> <td>1        </td> <td>yes                </td> <td>8                 </td> <td>6.46               </td> <td>no                  </td> <td>0                  </td> <td>0                   </td>\n",
       "        </tr>\n",
       "    </tbody>\n",
       "</table>\n",
       "<p>... (2990 rows omitted)</p>"
      ],
      "text/plain": [
       "Case ID | Expert Yes Votes | Qualified Reads | Correct Label | Majority Label | Difficulty | Agreement | First Choice Answer | First Choice Votes | First Choice Weight | Second Choice Answer | Second Choice Votes | Second Choice Weight\n",
       "5888091 | 4                | 7               | nan           | yes            | nan        | 0.571     | yes                 | 4                  | 3.28                | no                   | 3                   | 2.32\n",
       "5888782 | 4                | 5               | nan           | no             | nan        | 1         | no                  | 5                  | 3.94                | yes                  | 0                   | 0\n",
       "5891822 | 4                | 5               | nan           | yes            | nan        | 0.8       | yes                 | 4                  | 3.1                 | no                   | 1                   | 0.76\n",
       "5891960 | 4                | 7               | nan           | no             | nan        | 1         | no                  | 7                  | 5.53                | yes                  | 0                   | 0\n",
       "5891979 | 4                | 8               | nan           | no             | nan        | 0.625     | no                  | 5                  | 3.92                | yes                  | 3                   | 2.38\n",
       "5892075 | 4                | 8               | nan           | yes            | nan        | 0.625     | yes                 | 5                  | 3.88                | no                   | 3                   | 2.32\n",
       "5892087 | 4                | 2               | nan           | yes            | nan        | 0.5       | yes                 | 1                  | 0.84                | no                   | 1                   | 0.88\n",
       "5892132 | 4                | 11              | nan           | yes            | nan        | 0.545     | yes                 | 6                  | 4.7                 | no                   | 5                   | 3.84\n",
       "5892139 | 4                | 10              | nan           | yes            | nan        | 0.7       | yes                 | 7                  | 5.64                | no                   | 3                   | 2.38\n",
       "5892162 | 4                | 8               | nan           | yes            | nan        | 1         | yes                 | 8                  | 6.46                | no                   | 0                   | 0\n",
       "... (2990 rows omitted)"
      ]
     },
     "execution_count": 50,
     "metadata": {},
     "output_type": "execute_result"
    }
   ],
   "source": [
    "no_correct_label = results.where('Expert Yes Votes', 4)\n",
    "no_correct_label"
   ]
  },
  {
   "cell_type": "code",
   "execution_count": 51,
   "id": "04170ec2",
   "metadata": {},
   "outputs": [
    {
     "data": {
      "text/plain": [
       "{1, 2, 3, 4, 5, 6, 7, 8, 9, 10, 11, 12, 13, 14, 15, 16, 18}"
      ]
     },
     "execution_count": 51,
     "metadata": {},
     "output_type": "execute_result"
    }
   ],
   "source": [
    "set(no_correct_label.column('Qualified Reads'))"
   ]
  },
  {
   "cell_type": "code",
   "execution_count": 52,
   "id": "28834e7a",
   "metadata": {},
   "outputs": [
    {
     "data": {
      "image/png": "[encoded data removed]",
      "text/plain": [
       "<Figure size 432x288 with 1 Axes>"
      ]
     },
     "metadata": {},
     "output_type": "display_data"
    }
   ],
   "source": [
    "no_correct_label.hist('Agreement')"
   ]
  },
  {
   "cell_type": "code",
   "execution_count": 53,
   "id": "f22cc582",
   "metadata": {},
   "outputs": [
    {
     "data": {
      "text/plain": [
       "4"
      ]
     },
     "execution_count": 53,
     "metadata": {},
     "output_type": "execute_result"
    }
   ],
   "source": [
    "np.count_nonzero(no_correct_label.column('Qualified Reads') == 1)"
   ]
  },
  {
   "cell_type": "code",
   "execution_count": 54,
   "id": "41ba7db9",
   "metadata": {},
   "outputs": [
    {
     "data": {
      "text/plain": [
       "0.338"
      ]
     },
     "execution_count": 54,
     "metadata": {},
     "output_type": "execute_result"
    }
   ],
   "source": [
    "np.count_nonzero(no_correct_label.column('Agreement') == 1) / no_correct_label.num_rows"
   ]
  },
  {
   "cell_type": "code",
   "execution_count": 55,
   "id": "7336d6ea",
   "metadata": {},
   "outputs": [
    {
     "data": {
      "text/plain": [
       "0.652"
      ]
     },
     "execution_count": 55,
     "metadata": {},
     "output_type": "execute_result"
    }
   ],
   "source": [
    "np.count_nonzero(no_correct_label.column('Agreement') > 0.75) / no_correct_label.num_rows"
   ]
  },
  {
   "cell_type": "markdown",
   "id": "fcfe3886",
   "metadata": {},
   "source": [
    "In 33.8% of these cases, the crowd vote was unanimous. <i>(This is not accounted for by there being only one qualified read, as that situation occurs in only a negligible amount of the data.)</i>\n",
    "\n",
    "In 65.2% of these cases, the crowd had a large majority vote, leaning at least 75% in one direction.\n",
    "\n",
    "From here, we might want to compare back to cases where we do have a defined correct label. How well did the crowd actually do in those cases where they voted with unanimous agreement? Or with a large majority like at least 75%?"
   ]
  },
  {
   "cell_type": "code",
   "execution_count": 60,
   "id": "32932640",
   "metadata": {},
   "outputs": [
    {
     "data": {
      "text/html": [
       "<table border=\"1\" class=\"dataframe\">\n",
       "    <thead>\n",
       "        <tr>\n",
       "            <th>Case ID</th> <th>Expert Yes Votes</th> <th>Qualified Reads</th> <th>Correct Label</th> <th>Majority Label</th> <th>Difficulty</th> <th>Agreement</th> <th>First Choice Answer</th> <th>First Choice Votes</th> <th>First Choice Weight</th> <th>Second Choice Answer</th> <th>Second Choice Votes</th> <th>Second Choice Weight</th> <th>Expert Accuracy</th> <th>Crowd Accuracy</th> <th>Comparison</th>\n",
       "        </tr>\n",
       "    </thead>\n",
       "    <tbody>\n",
       "        <tr>\n",
       "            <td>5888087</td> <td>2               </td> <td>2              </td> <td>no           </td> <td>no            </td> <td>0         </td> <td>1        </td> <td>no                 </td> <td>2                 </td> <td>1.54               </td> <td>yes                 </td> <td>0                  </td> <td>0                   </td> <td>0.75           </td> <td>1             </td> <td>-0.25     </td>\n",
       "        </tr>\n",
       "        <tr>\n",
       "            <td>5888103</td> <td>2               </td> <td>1              </td> <td>no           </td> <td>no            </td> <td>0         </td> <td>1        </td> <td>no                 </td> <td>1                 </td> <td>0.82               </td> <td>yes                 </td> <td>0                  </td> <td>0                   </td> <td>0.75           </td> <td>1             </td> <td>-0.25     </td>\n",
       "        </tr>\n",
       "        <tr>\n",
       "            <td>5888148</td> <td>2               </td> <td>4              </td> <td>no           </td> <td>no            </td> <td>0         </td> <td>1        </td> <td>no                 </td> <td>4                 </td> <td>3.05               </td> <td>yes                 </td> <td>0                  </td> <td>0                   </td> <td>0.75           </td> <td>1             </td> <td>-0.25     </td>\n",
       "        </tr>\n",
       "        <tr>\n",
       "            <td>5888154</td> <td>1               </td> <td>2              </td> <td>no           </td> <td>no            </td> <td>0         </td> <td>1        </td> <td>no                 </td> <td>2                 </td> <td>1.6                </td> <td>yes                 </td> <td>0                  </td> <td>0                   </td> <td>0.875          </td> <td>1             </td> <td>-0.125    </td>\n",
       "        </tr>\n",
       "        <tr>\n",
       "            <td>5888175</td> <td>1               </td> <td>3              </td> <td>no           </td> <td>no            </td> <td>0         </td> <td>1        </td> <td>no                 </td> <td>3                 </td> <td>2.36               </td> <td>yes                 </td> <td>0                  </td> <td>0                   </td> <td>0.875          </td> <td>1             </td> <td>-0.125    </td>\n",
       "        </tr>\n",
       "        <tr>\n",
       "            <td>5888187</td> <td>1               </td> <td>4              </td> <td>no           </td> <td>no            </td> <td>0         </td> <td>1        </td> <td>no                 </td> <td>4                 </td> <td>3.44               </td> <td>yes                 </td> <td>0                  </td> <td>0                   </td> <td>0.875          </td> <td>1             </td> <td>-0.125    </td>\n",
       "        </tr>\n",
       "        <tr>\n",
       "            <td>5888201</td> <td>1               </td> <td>5              </td> <td>no           </td> <td>no            </td> <td>0         </td> <td>1        </td> <td>no                 </td> <td>5                 </td> <td>3.98               </td> <td>yes                 </td> <td>0                  </td> <td>0                   </td> <td>0.875          </td> <td>1             </td> <td>-0.125    </td>\n",
       "        </tr>\n",
       "        <tr>\n",
       "            <td>5888223</td> <td>2               </td> <td>7              </td> <td>no           </td> <td>no            </td> <td>0         </td> <td>1        </td> <td>no                 </td> <td>7                 </td> <td>5.6                </td> <td>yes                 </td> <td>0                  </td> <td>0                   </td> <td>0.75           </td> <td>1             </td> <td>-0.25     </td>\n",
       "        </tr>\n",
       "        <tr>\n",
       "            <td>5888258</td> <td>1               </td> <td>5              </td> <td>no           </td> <td>no            </td> <td>0         </td> <td>1        </td> <td>no                 </td> <td>5                 </td> <td>3.93               </td> <td>yes                 </td> <td>0                  </td> <td>0                   </td> <td>0.875          </td> <td>1             </td> <td>-0.125    </td>\n",
       "        </tr>\n",
       "        <tr>\n",
       "            <td>5888269</td> <td>2               </td> <td>3              </td> <td>no           </td> <td>no            </td> <td>0         </td> <td>1        </td> <td>no                 </td> <td>3                 </td> <td>2.42               </td> <td>yes                 </td> <td>0                  </td> <td>0                   </td> <td>0.75           </td> <td>1             </td> <td>-0.25     </td>\n",
       "        </tr>\n",
       "    </tbody>\n",
       "</table>\n",
       "<p>... (16560 rows omitted)</p>"
      ],
      "text/plain": [
       "Case ID | Expert Yes Votes | Qualified Reads | Correct Label | Majority Label | Difficulty | Agreement | First Choice Answer | First Choice Votes | First Choice Weight | Second Choice Answer | Second Choice Votes | Second Choice Weight | Expert Accuracy | Crowd Accuracy | Comparison\n",
       "5888087 | 2                | 2               | no            | no             | 0          | 1         | no                  | 2                  | 1.54                | yes                  | 0                   | 0                    | 0.75            | 1              | -0.25\n",
       "5888103 | 2                | 1               | no            | no             | 0          | 1         | no                  | 1                  | 0.82                | yes                  | 0                   | 0                    | 0.75            | 1              | -0.25\n",
       "5888148 | 2                | 4               | no            | no             | 0          | 1         | no                  | 4                  | 3.05                | yes                  | 0                   | 0                    | 0.75            | 1              | -0.25\n",
       "5888154 | 1                | 2               | no            | no             | 0          | 1         | no                  | 2                  | 1.6                 | yes                  | 0                   | 0                    | 0.875           | 1              | -0.125\n",
       "5888175 | 1                | 3               | no            | no             | 0          | 1         | no                  | 3                  | 2.36                | yes                  | 0                   | 0                    | 0.875           | 1              | -0.125\n",
       "5888187 | 1                | 4               | no            | no             | 0          | 1         | no                  | 4                  | 3.44                | yes                  | 0                   | 0                    | 0.875           | 1              | -0.125\n",
       "5888201 | 1                | 5               | no            | no             | 0          | 1         | no                  | 5                  | 3.98                | yes                  | 0                   | 0                    | 0.875           | 1              | -0.125\n",
       "5888223 | 2                | 7               | no            | no             | 0          | 1         | no                  | 7                  | 5.6                 | yes                  | 0                   | 0                    | 0.75            | 1              | -0.25\n",
       "5888258 | 1                | 5               | no            | no             | 0          | 1         | no                  | 5                  | 3.93                | yes                  | 0                   | 0                    | 0.875           | 1              | -0.125\n",
       "5888269 | 2                | 3               | no            | no             | 0          | 1         | no                  | 3                  | 2.42                | yes                  | 0                   | 0                    | 0.75            | 1              | -0.25\n",
       "... (16560 rows omitted)"
      ]
     },
     "execution_count": 60,
     "metadata": {},
     "output_type": "execute_result"
    }
   ],
   "source": [
    "high_agreement = results_with_comparison.where('Agreement', are.above_or_equal_to(0.75)).where('Correct Label' != 'nan')\n",
    "high_agreement"
   ]
  },
  {
   "cell_type": "code",
   "execution_count": 61,
   "id": "99a65375",
   "metadata": {},
   "outputs": [
    {
     "data": {
      "image/png": "[encoded data removed]",
      "text/plain": [
       "<Figure size 432x288 with 1 Axes>"
      ]
     },
     "metadata": {},
     "output_type": "display_data"
    }
   ],
   "source": [
    "high_agreement.hist('Comparison')"
   ]
  },
  {
   "cell_type": "code",
   "execution_count": 62,
   "id": "e1eb4dec",
   "metadata": {},
   "outputs": [
    {
     "data": {
      "text/plain": [
       "0.5937839468919734"
      ]
     },
     "execution_count": 62,
     "metadata": {},
     "output_type": "execute_result"
    }
   ],
   "source": [
    "np.count_nonzero( high_agreement.column('Comparison') < 0 ) / high_agreement.num_rows"
   ]
  },
  {
   "cell_type": "code",
   "execution_count": 63,
   "id": "0dbfb68b",
   "metadata": {},
   "outputs": [
    {
     "data": {
      "image/png": "[encoded data removed]",
      "text/plain": [
       "<Figure size 432x288 with 1 Axes>"
      ]
     },
     "metadata": {},
     "output_type": "display_data"
    }
   ],
   "source": [
    "high_agreement.hist('Difficulty')"
   ]
  },
  {
   "cell_type": "code",
   "execution_count": 65,
   "id": "ee6fb1bc",
   "metadata": {},
   "outputs": [
    {
     "data": {
      "text/plain": [
       "0.6403741701870851"
      ]
     },
     "execution_count": 65,
     "metadata": {},
     "output_type": "execute_result"
    }
   ],
   "source": [
    "1 - (np.count_nonzero(high_agreement.column('Difficulty') > 0) / high_agreement.num_rows)"
   ]
  },
  {
   "cell_type": "markdown",
   "id": "9b3380a0",
   "metadata": {},
   "source": [
    "When the crowd voted with at least a 75% majority, in cases with a correct label defined: \n",
    "\n",
    "- they chose the correct label 64.0% of the time\n",
    "- their accuracy rating was higher than the experts 59.4% of the time"
   ]
  },
  {
   "cell_type": "code",
   "execution_count": 66,
   "id": "7d9529ab",
   "metadata": {},
   "outputs": [
    {
     "data": {
      "text/html": [
       "<table border=\"1\" class=\"dataframe\">\n",
       "    <thead>\n",
       "        <tr>\n",
       "            <th>Case ID</th> <th>Expert Yes Votes</th> <th>Qualified Reads</th> <th>Correct Label</th> <th>Majority Label</th> <th>Difficulty</th> <th>Agreement</th> <th>First Choice Answer</th> <th>First Choice Votes</th> <th>First Choice Weight</th> <th>Second Choice Answer</th> <th>Second Choice Votes</th> <th>Second Choice Weight</th> <th>Expert Accuracy</th> <th>Crowd Accuracy</th> <th>Comparison</th>\n",
       "        </tr>\n",
       "    </thead>\n",
       "    <tbody>\n",
       "        <tr>\n",
       "            <td>5888087</td> <td>2               </td> <td>2              </td> <td>no           </td> <td>no            </td> <td>0         </td> <td>1        </td> <td>no                 </td> <td>2                 </td> <td>1.54               </td> <td>yes                 </td> <td>0                  </td> <td>0                   </td> <td>0.75           </td> <td>1             </td> <td>-0.25     </td>\n",
       "        </tr>\n",
       "        <tr>\n",
       "            <td>5888103</td> <td>2               </td> <td>1              </td> <td>no           </td> <td>no            </td> <td>0         </td> <td>1        </td> <td>no                 </td> <td>1                 </td> <td>0.82               </td> <td>yes                 </td> <td>0                  </td> <td>0                   </td> <td>0.75           </td> <td>1             </td> <td>-0.25     </td>\n",
       "        </tr>\n",
       "        <tr>\n",
       "            <td>5888148</td> <td>2               </td> <td>4              </td> <td>no           </td> <td>no            </td> <td>0         </td> <td>1        </td> <td>no                 </td> <td>4                 </td> <td>3.05               </td> <td>yes                 </td> <td>0                  </td> <td>0                   </td> <td>0.75           </td> <td>1             </td> <td>-0.25     </td>\n",
       "        </tr>\n",
       "        <tr>\n",
       "            <td>5888154</td> <td>1               </td> <td>2              </td> <td>no           </td> <td>no            </td> <td>0         </td> <td>1        </td> <td>no                 </td> <td>2                 </td> <td>1.6                </td> <td>yes                 </td> <td>0                  </td> <td>0                   </td> <td>0.875          </td> <td>1             </td> <td>-0.125    </td>\n",
       "        </tr>\n",
       "        <tr>\n",
       "            <td>5888175</td> <td>1               </td> <td>3              </td> <td>no           </td> <td>no            </td> <td>0         </td> <td>1        </td> <td>no                 </td> <td>3                 </td> <td>2.36               </td> <td>yes                 </td> <td>0                  </td> <td>0                   </td> <td>0.875          </td> <td>1             </td> <td>-0.125    </td>\n",
       "        </tr>\n",
       "        <tr>\n",
       "            <td>5888187</td> <td>1               </td> <td>4              </td> <td>no           </td> <td>no            </td> <td>0         </td> <td>1        </td> <td>no                 </td> <td>4                 </td> <td>3.44               </td> <td>yes                 </td> <td>0                  </td> <td>0                   </td> <td>0.875          </td> <td>1             </td> <td>-0.125    </td>\n",
       "        </tr>\n",
       "        <tr>\n",
       "            <td>5888201</td> <td>1               </td> <td>5              </td> <td>no           </td> <td>no            </td> <td>0         </td> <td>1        </td> <td>no                 </td> <td>5                 </td> <td>3.98               </td> <td>yes                 </td> <td>0                  </td> <td>0                   </td> <td>0.875          </td> <td>1             </td> <td>-0.125    </td>\n",
       "        </tr>\n",
       "        <tr>\n",
       "            <td>5888223</td> <td>2               </td> <td>7              </td> <td>no           </td> <td>no            </td> <td>0         </td> <td>1        </td> <td>no                 </td> <td>7                 </td> <td>5.6                </td> <td>yes                 </td> <td>0                  </td> <td>0                   </td> <td>0.75           </td> <td>1             </td> <td>-0.25     </td>\n",
       "        </tr>\n",
       "        <tr>\n",
       "            <td>5888258</td> <td>1               </td> <td>5              </td> <td>no           </td> <td>no            </td> <td>0         </td> <td>1        </td> <td>no                 </td> <td>5                 </td> <td>3.93               </td> <td>yes                 </td> <td>0                  </td> <td>0                   </td> <td>0.875          </td> <td>1             </td> <td>-0.125    </td>\n",
       "        </tr>\n",
       "        <tr>\n",
       "            <td>5888269</td> <td>2               </td> <td>3              </td> <td>no           </td> <td>no            </td> <td>0         </td> <td>1        </td> <td>no                 </td> <td>3                 </td> <td>2.42               </td> <td>yes                 </td> <td>0                  </td> <td>0                   </td> <td>0.75           </td> <td>1             </td> <td>-0.25     </td>\n",
       "        </tr>\n",
       "    </tbody>\n",
       "</table>\n",
       "<p>... (12724 rows omitted)</p>"
      ],
      "text/plain": [
       "Case ID | Expert Yes Votes | Qualified Reads | Correct Label | Majority Label | Difficulty | Agreement | First Choice Answer | First Choice Votes | First Choice Weight | Second Choice Answer | Second Choice Votes | Second Choice Weight | Expert Accuracy | Crowd Accuracy | Comparison\n",
       "5888087 | 2                | 2               | no            | no             | 0          | 1         | no                  | 2                  | 1.54                | yes                  | 0                   | 0                    | 0.75            | 1              | -0.25\n",
       "5888103 | 2                | 1               | no            | no             | 0          | 1         | no                  | 1                  | 0.82                | yes                  | 0                   | 0                    | 0.75            | 1              | -0.25\n",
       "5888148 | 2                | 4               | no            | no             | 0          | 1         | no                  | 4                  | 3.05                | yes                  | 0                   | 0                    | 0.75            | 1              | -0.25\n",
       "5888154 | 1                | 2               | no            | no             | 0          | 1         | no                  | 2                  | 1.6                 | yes                  | 0                   | 0                    | 0.875           | 1              | -0.125\n",
       "5888175 | 1                | 3               | no            | no             | 0          | 1         | no                  | 3                  | 2.36                | yes                  | 0                   | 0                    | 0.875           | 1              | -0.125\n",
       "5888187 | 1                | 4               | no            | no             | 0          | 1         | no                  | 4                  | 3.44                | yes                  | 0                   | 0                    | 0.875           | 1              | -0.125\n",
       "5888201 | 1                | 5               | no            | no             | 0          | 1         | no                  | 5                  | 3.98                | yes                  | 0                   | 0                    | 0.875           | 1              | -0.125\n",
       "5888223 | 2                | 7               | no            | no             | 0          | 1         | no                  | 7                  | 5.6                 | yes                  | 0                   | 0                    | 0.75            | 1              | -0.25\n",
       "5888258 | 1                | 5               | no            | no             | 0          | 1         | no                  | 5                  | 3.93                | yes                  | 0                   | 0                    | 0.875           | 1              | -0.125\n",
       "5888269 | 2                | 3               | no            | no             | 0          | 1         | no                  | 3                  | 2.42                | yes                  | 0                   | 0                    | 0.75            | 1              | -0.25\n",
       "... (12724 rows omitted)"
      ]
     },
     "execution_count": 66,
     "metadata": {},
     "output_type": "execute_result"
    }
   ],
   "source": [
    "crowd_unanimous = high_agreement.where('Agreement', 1)\n",
    "crowd_unanimous"
   ]
  },
  {
   "cell_type": "code",
   "execution_count": 67,
   "id": "cee22784",
   "metadata": {},
   "outputs": [
    {
     "data": {
      "image/png": "[encoded data removed]",
      "text/plain": [
       "<Figure size 432x288 with 1 Axes>"
      ]
     },
     "metadata": {},
     "output_type": "display_data"
    }
   ],
   "source": [
    "crowd_unanimous.hist('Difficulty')"
   ]
  },
  {
   "cell_type": "code",
   "execution_count": 68,
   "id": "e288cd03",
   "metadata": {},
   "outputs": [
    {
     "data": {
      "image/png": "[encoded data removed]",
      "text/plain": [
       "<Figure size 432x288 with 1 Axes>"
      ]
     },
     "metadata": {},
     "output_type": "display_data"
    }
   ],
   "source": [
    "crowd_unanimous.hist('Comparison')"
   ]
  },
  {
   "cell_type": "code",
   "execution_count": 75,
   "id": "9fb6463d",
   "metadata": {},
   "outputs": [
    {
     "data": {
      "text/plain": [
       "0.8332809800534003"
      ]
     },
     "execution_count": 75,
     "metadata": {},
     "output_type": "execute_result"
    }
   ],
   "source": [
    "crowd_unanimous.where('Difficulty', 0).num_rows / crowd_unanimous.num_rows"
   ]
  },
  {
   "cell_type": "code",
   "execution_count": 76,
   "id": "fa9eab1e",
   "metadata": {},
   "outputs": [
    {
     "data": {
      "text/plain": [
       "0.6544683524422805"
      ]
     },
     "execution_count": 76,
     "metadata": {},
     "output_type": "execute_result"
    }
   ],
   "source": [
    "crowd_unanimous.where('Comparison', are.below(0)).num_rows / crowd_unanimous.num_rows"
   ]
  },
  {
   "cell_type": "markdown",
   "id": "ab8a23d7",
   "metadata": {},
   "source": [
    "When the crowd voted unanimously, in cases with a correct label defined:\n",
    "\n",
    "- they chose the correct label 83.3% of the time\n",
    "- crowd accuracy was higher than expert accuracy 65.4% of the time"
   ]
  },
  {
   "cell_type": "markdown",
   "id": "aceddc9d",
   "metadata": {},
   "source": [
    "<h2>Overall Accuracy Comparison</h2>\n",
    "\n",
    "As we saw in a first pass at the comparison numbers, the crowd accuracy rating in this data is at least as good as the expert accuracy rating in 62.5% of cases.\n",
    "\n",
    "From digging down a little deeper, the crowd accuracy rating has been more likely than not to be higher than the expert accuracy rating in each sub-set of cases we've considered where that is possible. The exception is the case where the expert vote was unanimous, and by definition we consider expert accuracy to be 100%.\n",
    "\n",
    "This suggests in general that the crowd aggregate opinion is worth taking seriously, and if that idea is justified, then it can be extended to cases where the expert vote was deadlocked."
   ]
  },
  {
   "cell_type": "code",
   "execution_count": null,
   "id": "4ee22965",
   "metadata": {},
   "outputs": [],
   "source": []
  }
 ],
 "metadata": {
  "kernelspec": {
   "display_name": "Python 3 (ipykernel)",
   "language": "python",
   "name": "python3"
  },
  "language_info": {
   "codemirror_mode": {
    "name": "ipython",
    "version": 3
   },
   "file_extension": ".py",
   "mimetype": "text/x-python",
   "name": "python",
   "nbconvert_exporter": "python",
   "pygments_lexer": "ipython3",
   "version": "3.9.7"
  }
 },
 "nbformat": 4,
 "nbformat_minor": 5
}
